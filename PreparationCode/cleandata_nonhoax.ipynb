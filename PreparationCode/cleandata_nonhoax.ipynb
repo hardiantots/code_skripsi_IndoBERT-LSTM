{
 "cells": [
  {
   "cell_type": "code",
   "execution_count": 52,
   "metadata": {},
   "outputs": [],
   "source": [
    "import pandas as pd\n",
    "import numpy as np\n",
    "import regex as re\n",
    "from nltk.corpus import stopwords\n",
    "from nltk.tokenize import word_tokenize"
   ]
  },
  {
   "cell_type": "markdown",
   "metadata": {},
   "source": [
    "### Clean narasi pada data non-hoax"
   ]
  },
  {
   "cell_type": "code",
   "execution_count": 53,
   "metadata": {},
   "outputs": [],
   "source": [
    "df_nonhoax_kesehatan = pd.read_csv(r'../detik_kesehatan.csv')\n",
    "df_nonhoax_pemerintahan = pd.read_csv(r'../detik_pemerintahan.csv')\n",
    "df_nonhoax_politik = pd.read_csv(r'../detik_politik.csv')"
   ]
  },
  {
   "cell_type": "code",
   "execution_count": 54,
   "metadata": {},
   "outputs": [],
   "source": [
    "df_nonhoax_PP = pd.concat([df_nonhoax_pemerintahan, df_nonhoax_politik])"
   ]
  },
  {
   "cell_type": "code",
   "execution_count": 55,
   "metadata": {},
   "outputs": [
    {
     "data": {
      "text/plain": [
       "(6135, 5)"
      ]
     },
     "execution_count": 55,
     "metadata": {},
     "output_type": "execute_result"
    }
   ],
   "source": [
    "df_nonhoax_kesehatan.shape"
   ]
  },
  {
   "cell_type": "code",
   "execution_count": 56,
   "metadata": {},
   "outputs": [
    {
     "data": {
      "text/plain": [
       "(15925, 5)"
      ]
     },
     "execution_count": 56,
     "metadata": {},
     "output_type": "execute_result"
    }
   ],
   "source": [
    "df_nonhoax_PP.shape"
   ]
  },
  {
   "cell_type": "code",
   "execution_count": 57,
   "metadata": {},
   "outputs": [],
   "source": [
    "df_nonhoax_kesehatan = df_nonhoax_kesehatan.drop_duplicates()\n",
    "df_nonhoax_PP = df_nonhoax_PP.drop_duplicates()"
   ]
  },
  {
   "cell_type": "code",
   "execution_count": 58,
   "metadata": {},
   "outputs": [
    {
     "name": "stdout",
     "output_type": "stream",
     "text": [
      "(5467, 5)\n"
     ]
    },
    {
     "data": {
      "text/html": [
       "<div>\n",
       "<style scoped>\n",
       "    .dataframe tbody tr th:only-of-type {\n",
       "        vertical-align: middle;\n",
       "    }\n",
       "\n",
       "    .dataframe tbody tr th {\n",
       "        vertical-align: top;\n",
       "    }\n",
       "\n",
       "    .dataframe thead th {\n",
       "        text-align: right;\n",
       "    }\n",
       "</style>\n",
       "<table border=\"1\" class=\"dataframe\">\n",
       "  <thead>\n",
       "    <tr style=\"text-align: right;\">\n",
       "      <th></th>\n",
       "      <th>Title</th>\n",
       "      <th>Link</th>\n",
       "      <th>Time</th>\n",
       "      <th>Narasi</th>\n",
       "      <th>Klasifikasi Berita</th>\n",
       "    </tr>\n",
       "  </thead>\n",
       "  <tbody>\n",
       "    <tr>\n",
       "      <th>0</th>\n",
       "      <td>7 Manfaat Brem Madiun Bagi Kesehatan Tubuh</td>\n",
       "      <td>https://www.detik.com/jatim/kuliner/d-7365589/7-manfaat-brem-madiun-bagi-kesehatan-tubuh</td>\n",
       "      <td>Jumat, 31 Mei  2024 07:00 WIB</td>\n",
       "      <td>['Jalan-jalan ke Madiun, jangan lupa membeli brem. Sebagai warisan kuliner tradisional khas Madiun, brem memang sudah lama melegenda, bahkan menjadi ikon Kampung Pesilat. Di balik rasanya yang khas, brem Madiun ternyata mempunyai banyak manfaat loh.', 'Berwarna putih pucat cenderung kekuningan, kue kering yang terbuat dari sari beras ketan ini adalah incaran utama wisatawan yang ingin membawa pulang sepotong kenangan dari Madiun. Rasa asam dan manis yang berpadu jadi satu menjadikan penganan ini unik.', 'Meskipun terlihat kering dan keras, saat masuk ke dalam mulut, brem akan meleleh dengan cepat bersamaan dengan munculnya sensasi dingin di lidah. Selain rasanya yang unik, rupanya brem memiliki banyak manfaat untuk tubuh. Apa saja? Simak penjelasannya di bawah ini ya!', ' ADVERTISEMENT ', ' SCROLL TO CONTINUE WITH CONTENT ', 'Sebagai produk atau makanan fermentasi, brem memiliki banyak khasiat. Telah diulas di berbagai buku sains dan kesehatan, berikut detikJatim rangkum manfaat brem Madiun.', 'Fermentasi brem bisa mengenalkan bakteri yang bermanfaat kepada sistem pencernaan sehingga dapat membantu melancarkan pencernaan. Bakteri baik ini akan membantu menyerap dan memecah makanan di dalam usus.', 'Dengan memakan brem, kadar patogen penyebab penyakit juga akan berkurang. Selain itu, kekebalan tubuh dan penyerapan nutrisi makanan akan menjadi lebih baik.', 'Kandungan alkohol yang terdapat di dalam brem bisa membuat aliran darah dalam tubuh menjadi lancar. Sehingga risiko penyakit yang berkaitan dengan aliran darah seperti stroke dan serangan jantung dapat berkurang. Timbunan lemak dan plak pada pembuluh darah juga dapat dibersihkan dengan kandungan yang ada di dalam brem.', 'Saat dikonsumsi dengan tidak berlebihan, kandungan alkohol dalam brem akan melancarkan aliran darah. Hal ini disebabkan fungsi arteri darah yang meningkat. Sehingga hormon metabolisme dalam tubuh akan diproduksi lebih optimal.', 'Dehidro epiandosteron diketahui sangat baik untuk melancarkan darah. Sehingga, masalah pembekuan darah yang sering dialami terutama oleh orang berusia lanjut dapat berkurang. Selain itu, kadar asam di dalam darah juga dapat berkurang.', 'Jika dikonsumsi dalam jumlah yang sesuai, risiko munculnya jerawat yang mengganggu penampilan juga dapat dikurangi. Hal ini dikarenakan kandungan dalam brem dapat mempercepat regenerasi sel kulit mati, serta memproduksi sel-sel kulit sehat yang baru.', 'Kandungan zat gula alami dalam brem menjadi alasan kenapa makanan ini dapat menjadi sumber tenaga. Jika merasa lelah, penganan ini dapat dicoba untuk mengembalikan stamina.', 'Kolesterol dalam tubuh harus dijaga kadarnya karena menjadi penyebab berbagai penyakit mematikan. Dengan mengonsumsi brem, kadar kolesterol jahat dalam tubuh dapat berkurang sehingga risiko penyakit seperti stroke, serangan jantung, dan diabetes bisa diminimalisasi.', '', 'Artikel ini ditulis oleh Ardian Dwi Kurnia, peserta Magang Bersertifikat Kampus Merdeka di detikcom.']</td>\n",
       "      <td>Non-Hoax</td>\n",
       "    </tr>\n",
       "    <tr>\n",
       "      <th>1</th>\n",
       "      <td>Tata Cara dan Syarat Pindah Faskes BPJS Kesehatan</td>\n",
       "      <td>https://www.detik.com/jogja/bisnis/d-7367703/tata-cara-dan-syarat-pindah-faskes-bpjs-kesehatan</td>\n",
       "      <td>Jumat, 31 Mei  2024 17:14 WIB</td>\n",
       "      <td>['Tidak sedikit peserta BPJS Kesehatan yang ingin mengajukan pindah faskes dikarenakan kondisi tertentu. Sebagai salah satu panduan, berikut akan dipaparkan tata cara dan syarat pindah faskes BPJS Kesehatan.', 'Secara umum, faskes adalah akronim dari fasilitas kesehatan. Saat masyarakat mendaftarkan diri sebagai peserta BPJS Kesehatan, biasanya akan dihadapkan pada pilihan untuk memilih faskes terdekat yang ada di sekitar wilayah tempat tinggal.', 'Namun, tidak jarang ada sebagian dari mereka yang memutuskan untuk pindah faskes BPJS Kesehatan dikarenakan alasan tertentu. Terkait dengan hal ini, Badan Penyelenggara Jaminan Sosial (BPJS) Kesehatan memberikan kesempatan bagi peserta untuk mengajukan pemindahan faskes mereka.', ' ADVERTISEMENT ', ' SCROLL TO CONTINUE WITH CONTENT ', 'Lantas bagaimana tata cara dan syarat pindah faskes BPJS Kesehatan? Bagi detikers yang ingin mengetahui informasinya, detikJogja telah merangkum penjelasannya secara lengkap. Berikut tata cara dan syarat pindah faskes BPJS Kesehatan.', 'Sebelum mengetahui tentang syarat dan cara pindah faskes BPJS Kesehatan, perlu bagi detikers untuk memahami terkait apa itu yang dimaksud dengan faskes. Menurut Peraturan Menteri Kesehatan Republik Indonesia Nomor 71 Tahun 2013 tentang Pelayanan Kesehatan pada Jaminan Kesehatan Nasional, fasilitas kesehatan atau yang dikenal sebagai istilah faskes adalah fasilitas pelayanan kesehatan yang ditawarkan untuk menyelenggarakan upaya pelayanan kesehatan perseorangan.', 'Faskes ini dihadirkan oleh pemerintah untuk masyarakat sebagai upaya promotif, preventif, kuratif, hingga rehabilitatif di bidang kesehatan. Secara umum faskes terdiri dari pelayanan kesehatan tingkat pertama dan rujukan.', 'Kemudian pelayanan kesehatan tingkat pertama dapat diartikan sebagai pelayanan kesehatan perorangan yang bersifat primer atau non spesialistik. Biasanya pelayanan kesehatan tingkat pertama termasuk dalam pelayanan rawat jalan maupun inap.', 'Berbeda dengan pelayanan kesehatan rujukan tingkat lanjutan yang dapat dimaknai sebagai pelayanan kesehatan perorangan yang bersifat spesialistik maupun sub spesialistik. Berbeda dengan pelayanan kesehatan tingkat pertama, pada pelayanan kesehatan rujukan tingkat lanjutan tersedia rawat jalan tingkat lanjutan, rawat inap tingkat lanjutan, hingga rawat inap di ruangan perawatan khusus.', 'Sebagai informasi, fasilitas kesehatan atau faskes BPJS Kesehatan dapat dipilih oleh peserta sesuai dengan wilayah domisili masing-masing. Namun, hanya faskes tingkat pertama saja yang dapat dipilih dan dilakukan perubahan.', 'Berdasarkan informasi yang dibagikan melalui Panduan Layanan Bagi Peserta Jaminan Kesehatan Nasional Kartu Indonesia Sehat (JKN-KIS) yang diterbitkan secara resmi oleh BPJS Kesehatan RI, terdapat sejumlah syarat untuk melakukan perubahan faskes. Berikut uraiannya:', 'Apabila peserta ingin melakukan perubahan faskes kurang dari tiga bulan, maka terdapat syarat-syarat yang harus dipenuhi. Berikut beberapa di antaranya:', 'Lantas bagaimana cara pindah faskes BPJS Kesehatan? Mengenai hal ini, terdapat empat cara yang bisa dilakukan oleh peserta apabila ingin mengajukan pemindahan faskes BPJS Kesehatan. Berikut akan diuraikan beberapa caranya:', 'Cara pindah faskes BPJS Kesehatan yang pertama dengan menghubungi layanan resmi BPJS Kesehatan bernama Pandawa. Kanal layanan ini tersedia di WhatsApp dan melayani secara online dalam 24 jam. Berikut cara pindah faskes BPJS Kesehatan melalui Pandawa:', 'Selanjutnya terkait proses pemindahan faskes BPJS Kesehatan juga dapat dilakukan oleh peserta melalui layanan Call Center 165 BPJS Kesehatan. Berikut langkah-langkah yang bisa dilakukan:', 'Kemudian ada cara pindah faskes BPJS Kesehatan yang juga dapat dilakukan secara online. Cara tersebut dapat dilakukan melalui aplikasi JKN Mobile. Merujuk dari laman resmi IPB University, ikuti langkah-langkah berikut untuk mengubah faskes tingkat pertama melalui JKN Mobile:', 'Langkah selanjutnya untuk mengubah faskes BPJS Kesehatan adalah dengan mengunjungi kantor BPJS Kesehatan terdekat secara langsung. Sebelum berangkat menuju lokasi, pastikan peserta untuk menyiapkan dokumen yang diperlukan. Misalnya saja yang telah diuraikan dalam syarat-syarat sebelumnya.', 'Kemudian ikuti langkah-langkah berikut untuk pindah faskes BPJS Kesehatan di kantornya secara langsung:', 'Demikian penjelasan mengenai tata cara dan syarat pindah faskes BPJS Kesehatan. Semoga informasi ini membantu.']</td>\n",
       "      <td>Non-Hoax</td>\n",
       "    </tr>\n",
       "    <tr>\n",
       "      <th>2</th>\n",
       "      <td>7 Manfaat Ikan Patin untuk Kesehatan, Salah Satunya Cegah Kolesterol</td>\n",
       "      <td>https://health.detik.com/berita-detikhealth/d-7360988/7-manfaat-ikan-patin-untuk-kesehatan-salah-satunya-cegah-kolesterol</td>\n",
       "      <td>Selasa, 28 Mei  2024 10:42 WIB</td>\n",
       "      <td>['Ada banyak ikan jenis air tawar yang umum dikonsumsi masyarakat Indonesia, salah satunya adalah ikan patin. Ikan yang satu ini disebut mengandung vitamin dan protein tinggi, sehingga sangat baik untuk kesehatan.', 'Sedikit informasi, ikan patin (Pangasius sp) dapat ditemukan di sungai-sungai besar. Ikan yang juga bisa hidup di air payau ini sudah banyak dibudidayakan oleh masyarakat.', 'Dalam buku Rantai Pasok Produk Perikanan oleh Zuriat, dkk, ikan patin punya bentuk tubuh agak pipih dan tidak memiliki sisik. Panjang tubuh ikan patin dapat mencapai 120 cm.', ' ADVERTISEMENT ', ' SCROLL TO CONTINUE WITH CONTENT ', 'Penasaran, apa saja manfaat mengkonsumsi ikan patin untuk kesehatan? Simak penjelasannya dalam artikel ini.', 'Ikan patin merupakan salah satu jenis ikan air tawar yang kaya akan nutrisi, seperti vitamin, mineral, dan zat besi. Mengutip situs Your Everyday Fish, berikut kandungan nutrisi pada 100 gram ikan patin:', 'Rutin mengkonsumsi ikan patin ternyata dapat memberikan sejumlah khasiat bagi tubuh, lho. Daripada penasaran, berikut sejumlah manfaat ikan patin untuk kesehatan.', 'Ikan patin merupakan sumber protein tanpa lemak yang baik untuk tubuh. Dengan mengkonsumsi ikan patin secara rutin, hal ini dapat membantu pertumbuhan dan perbaikan otot. Namun, jangan lupa untuk diimbangi dengan olahraga rutin serta menjaga pola makan sehat.', 'Apakah detikers tengah menjalani program diet? Jika iya, cobalah masukkan ikan patin sebagai menu diet harian. Sebab, patin termasuk jenis ikan yang rendah kalori dan mengandung sedikit lemak jenuh, sehingga baik dikonsumsi bagi orang yang sedang menurunkan berat badan.', 'Manfaat lain dari ikan patin adalah dapat menjaga kesehatan tulang. Hal ini berkat kandungan kalsium, protein, dan vitamin B12 yang mampu mencegah kerusakan tulang sekaligus membantu dalam pembentukan dan pemeliharaan jaringan tulang.', 'Mengkonsumsi ikan patin secara rutin diyakini dapat mencegah kolesterol tinggi. Sebab, ikan patin kaya akan asam lemak omega-3, terutama EPA dan DHA.', 'Asam lemak tersebut dikenal memiliki manfaat bagi kesehatan jantung karena dapat menurunkan kadar kolesterol jahat (LDL) dalam darah, sehingga turut mengurangi risiko penyakit jantung dan gangguan kardiovaskular.', 'Selain dapat mencegah kolesterol, kandungan omega-3 pada ikan patin juga dapat meningkatkan fungsi otak. Bagi anak-anak, mengkonsumsi ikan patin sangat baik karena dapat meningkatkan kecerdasan dan memori otak.', 'Sedangkan bagi orang dewasa dan lansia, ikan patin dapat mencegah sejumlah penyakit yang dapat menyerang otak, seperti demensia dan alzheimer.', 'Ikan patin termasuk jenis ikan yang mengandung antioksidan tinggi. Soalnya, ikan patin mengandung vitamin seperti vitamin D dan vitamin B12 yang bertindak sebagai antioksidan di dalam tubuh.', 'Manfaat yang terakhir dari ikan patin adalah dapat meredakan tekanan darah tinggi atau hipertensi. Soalnya, ikan patin mengandung arginine yang diyakini mampu melebarkan pembuluh darah, sehingga dapat menurunkan tekanan darah sekaligus mengurangi risiko penyakit akibat hipertensi.', 'Agar bisa mencukupi kebutuhan nutrisi sehari-hari, kombinasikan menu ikan patin dengan berbagai sayuran dan buah-buahan. Selain itu, imbangi juga dengan rutin berolahraga setiap hari agar bisa merasakan manfaatnya.', 'Itu dia tujuh manfaat ikan patin untuk kesehatan. Semoga artikel ini dapat menambah informasi detikers.']</td>\n",
       "      <td>Non-Hoax</td>\n",
       "    </tr>\n",
       "    <tr>\n",
       "      <th>3</th>\n",
       "      <td>Berapa Kali BPJS Kesehatan Dapat Digunakan dalam Sebulan?</td>\n",
       "      <td>https://finance.detik.com/moneter/d-7364031/berapa-kali-bpjs-kesehatan-dapat-digunakan-dalam-sebulan</td>\n",
       "      <td>Rabu, 29 Mei  2024 19:30 WIB</td>\n",
       "      <td>['BPJS Kesehatan adalah Lembaga yang dikelola pemerintah untuk memberikan jaminan kesehatan kepada masyarakat.', 'Nantinya peserta aktif BPJS Kesehatan akan mendapatkan akses layanan kesehatan di rumah sakit atau fasilitas kesehatan yang bekerjasama dengan BPJS Kesehatan.', 'Namun berapa kali kita bisa menggunakan BPJS dalam satu bulan? Berikut penjelasan lengkapnya.', '     ADVERTISEMENT   ', '     SCROLL TO CONTINUE WITH CONTENT   ', 'Biaya berobat dan layanan kesehatan lainnya akan disubsidi BPJS Kesehatan jika orang tersebut merupakan peserta BPJS. Ini juga berlaku untuk fasilitas kesehatan (faskes) yang tersedia. Adapun faskes yang tersedia mulai dari tingkat pertama hingga lanjutan, berikut penjelasannya.', 'Merupakan tempat pelayanan pertama yang harus didatangi pasien BPJS jika ingin berobat. Faskes I meliputi puskesmas, klinik, atau dokter umum.', 'Faskes I juga termasuk FKTP milik TNI/Polri, rumah sakit kelas D Pratama atau yang setara, dan fasilitas kesehatan penunjang seperti apotek dan laboratorium.', 'Peserta dapat mengakses Faskes II setelah mendapatkan rujukan dari faskes tingkat 1. Faskes II meliputi perawatan dokter spesialis pada berbagai bidang medis.', 'Faskes Lanjutan atau FKTL merupakan perawatan tertinggi yang tersedia bagi peserta BPJS Kesehatan. Peserta di FKTL menerima perawatan lanjutan dari dokter subspesialis, baik di rumah sakit umum, rumah sakit khusus, maupun klinik utama.', 'Pada tingkat ini, perbedaan fasilitas kesehatan sangat penting karena memungkinkan peserta mendapatkan akses ke tenaga medis dengan keahlian spesifik di bidang tertentu.', 'Sebelumnya, untuk mengakses faskes II dan lanjutan, peserta BPJS akan menggunakan sistem rujukan melalui faskes tingkat sebelumnya. Oleh karena itu, pasien BPJS diwajibkan mendatangi Faskes I terlebih dahulu.', 'Kemudian setiap peserta BPJS terdaftar pada Faskes I di daerahnya masing-masing. Dan jika berada di Faskes I daerahnya, peserta BPJS Kesehatan dapat berobat sesuai kebutuhan dengan BPJS Kesehatan kapan saja.', 'Akan tetapi lain jika peserta mengunjungi Faskes I di tempat lain, peserta hanya bisa menggunakan BPJS kesehatan sebanyak tiga kali dalam sebulan jika mengakses Faskes I yang bukan tempat terdaftarnya.', 'Oleh karena itu, jika peserta BPJS akan pindah atau menempati tempat tinggal lain dalam jangka waktu yang lumayan lama, lebih baik memindahkan lokasi Faskes I yang telah terdaftar. Ini bisa dilakukan secara online atau mengunjungi kantor BPJS setempat.', 'Berikut adalah langkah-langkah yang bisa dilakukan untuk berobat atau mengakses layanan kesehatan pada Faskes tingkat I.', 'Itu dia ulasan mengenai BPJS Kesehatan yang bisa digunakan setiap saat dan tiga kali sebulan jika Faskes tingkat 1 berbeda dengan yang didaftarkan. Semoga bermanfaat.']</td>\n",
       "      <td>Non-Hoax</td>\n",
       "    </tr>\n",
       "    <tr>\n",
       "      <th>4</th>\n",
       "      <td>3 Warga yang Pakai Air dari Toren Berisi Mayat di Tangsel Dicek Kesehatan</td>\n",
       "      <td>https://news.detik.com/berita/d-7365975/3-warga-yang-pakai-air-dari-toren-berisi-mayat-di-tangsel-dicek-kesehatan</td>\n",
       "      <td>Kamis, 30 Mei  2024 18:06 WIB</td>\n",
       "      <td>['Mayat pria berinisial DK alias Devoy ditemukan membusuk dalam toren di Pondok Aren, Tangerang Selatan, membuat air warga terkontaminasi. Petugas Puskesmas Pondok Aren mengecek kesehatan warga yang menggunakan air itu.', 'Petugas Puskesmas Pondok Aren dr Faris Hilman mengatakan pemeriksaan dilakukan secara umum. Sebanyak tiga orang diperiksa dari dua rumah berbeda.', '\"Kondisi secara umum warga yang air di rumahnya terkontaminasi mayat yang ditemukan beberapa hari lalu. Dari pernyataan warga, tidak ada untuk konsumsi minum dari toren tersebut. Jadi alhamdulillah jauh lebih aman, dan risikonya jadi minimal,\" ujar dr Faris kepada detikcom di Gang Samid Sian, Pondok Aren, Tangerang Selatan, Kamis (30/5/2024).', ' ADVERTISEMENT ', ' SCROLL TO CONTINUE WITH CONTENT ', 'Faris melanjutkan potensi warga terkena penyakit karena air terkontaminasi bisa saja terjadi. Namun warga yang telah diperiksa mengaku tidak mengalami keluhan apa pun sampai saat ini.', '\"Iya, karena itu adalah air yang terkontaminasi, penggunaan air tercemar sama seperti itu. Mungkin masih bisa berisiko untuk gangguan di kulit, cuma sejauh ini dalam tiga hari tidak menggunakan air itu lagi nggak ada keluhan apa-apa,\" jelas dia.', '\"Jadi aman ya, untuk kondisi lain ada yang buat kumur-kumur, itu akan dipantau dilihat apakah ada keluhan kurang lebih seminggu ke depan,\" sambungnya.', 'Faris menyebut sisa warga yang belum diperiksa sebanyak 10 orang. Kebetulan ketika petugas Puskesmas datang, penghuni rumah kebanyakan sedang beraktivitas di luar.', '\"Ini tadi kami berkomunikasi dengan tiga orang. Karena warga lainnya masih aktivitas. Itu dari dua rumah. Satu rumah kosong ditinggal kerja,\" ucapnya.', 'Lantas bagaimana dengan pemeriksaan warga lainnya? Faris menuturkan warga yang belum diperiksa bisa datang ke puskesmas, termasuk jika mereka yang sudah diperiksa tiba-tiba ada keluhan dalam beberapa waktu ke depan.', '\"Kalau untuk pemeriksaan, tergantung kebutuhan, tergantung kondisi masyarakat. Jadi kami di puskesmas akan standby 24 jam untuk UGD-nya. Misalkan ada keluhan, bisa ke puskesmas untuk diperiksa lebih lanjut,\" ungkapnya.', '\"Memang kalau kita ke sini bisa, tapi semua peralatan yang lebih lengkap ada di puskesmas. Kalau untuk lebih lanjut, mending ke puskesmas,\" tandas dia.', '', \"Simak Video 'Fakta-fakta Penemuan Mayat dalam Toren di Tangsel':\", '', '[Gambas:Video 20detik]', '']</td>\n",
       "      <td>Non-Hoax</td>\n",
       "    </tr>\n",
       "  </tbody>\n",
       "</table>\n",
       "</div>"
      ],
      "text/plain": [
       "                                                                       Title  \\\n",
       "0                                 7 Manfaat Brem Madiun Bagi Kesehatan Tubuh   \n",
       "1                          Tata Cara dan Syarat Pindah Faskes BPJS Kesehatan   \n",
       "2       7 Manfaat Ikan Patin untuk Kesehatan, Salah Satunya Cegah Kolesterol   \n",
       "3                  Berapa Kali BPJS Kesehatan Dapat Digunakan dalam Sebulan?   \n",
       "4  3 Warga yang Pakai Air dari Toren Berisi Mayat di Tangsel Dicek Kesehatan   \n",
       "\n",
       "                                                                                                                        Link  \\\n",
       "0                                   https://www.detik.com/jatim/kuliner/d-7365589/7-manfaat-brem-madiun-bagi-kesehatan-tubuh   \n",
       "1                             https://www.detik.com/jogja/bisnis/d-7367703/tata-cara-dan-syarat-pindah-faskes-bpjs-kesehatan   \n",
       "2  https://health.detik.com/berita-detikhealth/d-7360988/7-manfaat-ikan-patin-untuk-kesehatan-salah-satunya-cegah-kolesterol   \n",
       "3                       https://finance.detik.com/moneter/d-7364031/berapa-kali-bpjs-kesehatan-dapat-digunakan-dalam-sebulan   \n",
       "4          https://news.detik.com/berita/d-7365975/3-warga-yang-pakai-air-dari-toren-berisi-mayat-di-tangsel-dicek-kesehatan   \n",
       "\n",
       "                             Time  \\\n",
       "0   Jumat, 31 Mei  2024 07:00 WIB   \n",
       "1   Jumat, 31 Mei  2024 17:14 WIB   \n",
       "2  Selasa, 28 Mei  2024 10:42 WIB   \n",
       "3    Rabu, 29 Mei  2024 19:30 WIB   \n",
       "4   Kamis, 30 Mei  2024 18:06 WIB   \n",
       "\n",
       "                                                                                                                                                                                                                                                                                                                                                                                                                                                                                                                                                                                                                                                                                                                                                                                                                                                                                                                                                                                                                                                                                                                                                                                                                                                                                                                                                                                                                                                                                                                                                                                                                                                                                                                                                                                                                                                                                                                                                                                                                                                                                                                                                                                                                                                                                                                                                                                                                                                                                                                                                                                                                                                                                                                                                                                                                                                                                                                                                                                                                                                                                                                                                                                                                                                                                                                                                                                                                                                                                                                                                                                                                                                                                                                                                                                                                                                                                                                                                                                                                                                                                                                                                                                                                                                                                                                                                                                                                                                                                                                                                                                                                                                Narasi  \\\n",
       "0                                                                                                                                                                                                                                                                                                                                                                                                                                                                                                                                                                                                                                                                                                                                                                                                                                                                                                                                                                                                                                                                                                                                                                                                                                                                                                                                                                                                                                                                                                                                                    ['Jalan-jalan ke Madiun, jangan lupa membeli brem. Sebagai warisan kuliner tradisional khas Madiun, brem memang sudah lama melegenda, bahkan menjadi ikon Kampung Pesilat. Di balik rasanya yang khas, brem Madiun ternyata mempunyai banyak manfaat loh.', 'Berwarna putih pucat cenderung kekuningan, kue kering yang terbuat dari sari beras ketan ini adalah incaran utama wisatawan yang ingin membawa pulang sepotong kenangan dari Madiun. Rasa asam dan manis yang berpadu jadi satu menjadikan penganan ini unik.', 'Meskipun terlihat kering dan keras, saat masuk ke dalam mulut, brem akan meleleh dengan cepat bersamaan dengan munculnya sensasi dingin di lidah. Selain rasanya yang unik, rupanya brem memiliki banyak manfaat untuk tubuh. Apa saja? Simak penjelasannya di bawah ini ya!', ' ADVERTISEMENT ', ' SCROLL TO CONTINUE WITH CONTENT ', 'Sebagai produk atau makanan fermentasi, brem memiliki banyak khasiat. Telah diulas di berbagai buku sains dan kesehatan, berikut detikJatim rangkum manfaat brem Madiun.', 'Fermentasi brem bisa mengenalkan bakteri yang bermanfaat kepada sistem pencernaan sehingga dapat membantu melancarkan pencernaan. Bakteri baik ini akan membantu menyerap dan memecah makanan di dalam usus.', 'Dengan memakan brem, kadar patogen penyebab penyakit juga akan berkurang. Selain itu, kekebalan tubuh dan penyerapan nutrisi makanan akan menjadi lebih baik.', 'Kandungan alkohol yang terdapat di dalam brem bisa membuat aliran darah dalam tubuh menjadi lancar. Sehingga risiko penyakit yang berkaitan dengan aliran darah seperti stroke dan serangan jantung dapat berkurang. Timbunan lemak dan plak pada pembuluh darah juga dapat dibersihkan dengan kandungan yang ada di dalam brem.', 'Saat dikonsumsi dengan tidak berlebihan, kandungan alkohol dalam brem akan melancarkan aliran darah. Hal ini disebabkan fungsi arteri darah yang meningkat. Sehingga hormon metabolisme dalam tubuh akan diproduksi lebih optimal.', 'Dehidro epiandosteron diketahui sangat baik untuk melancarkan darah. Sehingga, masalah pembekuan darah yang sering dialami terutama oleh orang berusia lanjut dapat berkurang. Selain itu, kadar asam di dalam darah juga dapat berkurang.', 'Jika dikonsumsi dalam jumlah yang sesuai, risiko munculnya jerawat yang mengganggu penampilan juga dapat dikurangi. Hal ini dikarenakan kandungan dalam brem dapat mempercepat regenerasi sel kulit mati, serta memproduksi sel-sel kulit sehat yang baru.', 'Kandungan zat gula alami dalam brem menjadi alasan kenapa makanan ini dapat menjadi sumber tenaga. Jika merasa lelah, penganan ini dapat dicoba untuk mengembalikan stamina.', 'Kolesterol dalam tubuh harus dijaga kadarnya karena menjadi penyebab berbagai penyakit mematikan. Dengan mengonsumsi brem, kadar kolesterol jahat dalam tubuh dapat berkurang sehingga risiko penyakit seperti stroke, serangan jantung, dan diabetes bisa diminimalisasi.', '', 'Artikel ini ditulis oleh Ardian Dwi Kurnia, peserta Magang Bersertifikat Kampus Merdeka di detikcom.']   \n",
       "1  ['Tidak sedikit peserta BPJS Kesehatan yang ingin mengajukan pindah faskes dikarenakan kondisi tertentu. Sebagai salah satu panduan, berikut akan dipaparkan tata cara dan syarat pindah faskes BPJS Kesehatan.', 'Secara umum, faskes adalah akronim dari fasilitas kesehatan. Saat masyarakat mendaftarkan diri sebagai peserta BPJS Kesehatan, biasanya akan dihadapkan pada pilihan untuk memilih faskes terdekat yang ada di sekitar wilayah tempat tinggal.', 'Namun, tidak jarang ada sebagian dari mereka yang memutuskan untuk pindah faskes BPJS Kesehatan dikarenakan alasan tertentu. Terkait dengan hal ini, Badan Penyelenggara Jaminan Sosial (BPJS) Kesehatan memberikan kesempatan bagi peserta untuk mengajukan pemindahan faskes mereka.', ' ADVERTISEMENT ', ' SCROLL TO CONTINUE WITH CONTENT ', 'Lantas bagaimana tata cara dan syarat pindah faskes BPJS Kesehatan? Bagi detikers yang ingin mengetahui informasinya, detikJogja telah merangkum penjelasannya secara lengkap. Berikut tata cara dan syarat pindah faskes BPJS Kesehatan.', 'Sebelum mengetahui tentang syarat dan cara pindah faskes BPJS Kesehatan, perlu bagi detikers untuk memahami terkait apa itu yang dimaksud dengan faskes. Menurut Peraturan Menteri Kesehatan Republik Indonesia Nomor 71 Tahun 2013 tentang Pelayanan Kesehatan pada Jaminan Kesehatan Nasional, fasilitas kesehatan atau yang dikenal sebagai istilah faskes adalah fasilitas pelayanan kesehatan yang ditawarkan untuk menyelenggarakan upaya pelayanan kesehatan perseorangan.', 'Faskes ini dihadirkan oleh pemerintah untuk masyarakat sebagai upaya promotif, preventif, kuratif, hingga rehabilitatif di bidang kesehatan. Secara umum faskes terdiri dari pelayanan kesehatan tingkat pertama dan rujukan.', 'Kemudian pelayanan kesehatan tingkat pertama dapat diartikan sebagai pelayanan kesehatan perorangan yang bersifat primer atau non spesialistik. Biasanya pelayanan kesehatan tingkat pertama termasuk dalam pelayanan rawat jalan maupun inap.', 'Berbeda dengan pelayanan kesehatan rujukan tingkat lanjutan yang dapat dimaknai sebagai pelayanan kesehatan perorangan yang bersifat spesialistik maupun sub spesialistik. Berbeda dengan pelayanan kesehatan tingkat pertama, pada pelayanan kesehatan rujukan tingkat lanjutan tersedia rawat jalan tingkat lanjutan, rawat inap tingkat lanjutan, hingga rawat inap di ruangan perawatan khusus.', 'Sebagai informasi, fasilitas kesehatan atau faskes BPJS Kesehatan dapat dipilih oleh peserta sesuai dengan wilayah domisili masing-masing. Namun, hanya faskes tingkat pertama saja yang dapat dipilih dan dilakukan perubahan.', 'Berdasarkan informasi yang dibagikan melalui Panduan Layanan Bagi Peserta Jaminan Kesehatan Nasional Kartu Indonesia Sehat (JKN-KIS) yang diterbitkan secara resmi oleh BPJS Kesehatan RI, terdapat sejumlah syarat untuk melakukan perubahan faskes. Berikut uraiannya:', 'Apabila peserta ingin melakukan perubahan faskes kurang dari tiga bulan, maka terdapat syarat-syarat yang harus dipenuhi. Berikut beberapa di antaranya:', 'Lantas bagaimana cara pindah faskes BPJS Kesehatan? Mengenai hal ini, terdapat empat cara yang bisa dilakukan oleh peserta apabila ingin mengajukan pemindahan faskes BPJS Kesehatan. Berikut akan diuraikan beberapa caranya:', 'Cara pindah faskes BPJS Kesehatan yang pertama dengan menghubungi layanan resmi BPJS Kesehatan bernama Pandawa. Kanal layanan ini tersedia di WhatsApp dan melayani secara online dalam 24 jam. Berikut cara pindah faskes BPJS Kesehatan melalui Pandawa:', 'Selanjutnya terkait proses pemindahan faskes BPJS Kesehatan juga dapat dilakukan oleh peserta melalui layanan Call Center 165 BPJS Kesehatan. Berikut langkah-langkah yang bisa dilakukan:', 'Kemudian ada cara pindah faskes BPJS Kesehatan yang juga dapat dilakukan secara online. Cara tersebut dapat dilakukan melalui aplikasi JKN Mobile. Merujuk dari laman resmi IPB University, ikuti langkah-langkah berikut untuk mengubah faskes tingkat pertama melalui JKN Mobile:', 'Langkah selanjutnya untuk mengubah faskes BPJS Kesehatan adalah dengan mengunjungi kantor BPJS Kesehatan terdekat secara langsung. Sebelum berangkat menuju lokasi, pastikan peserta untuk menyiapkan dokumen yang diperlukan. Misalnya saja yang telah diuraikan dalam syarat-syarat sebelumnya.', 'Kemudian ikuti langkah-langkah berikut untuk pindah faskes BPJS Kesehatan di kantornya secara langsung:', 'Demikian penjelasan mengenai tata cara dan syarat pindah faskes BPJS Kesehatan. Semoga informasi ini membantu.']   \n",
       "2                                                                                                                                                                                                                                                                                                                                                                                                                                                                                                                                                                                                                                                                                                                                                                                                                                                                                                                                                                                                                                                                                              ['Ada banyak ikan jenis air tawar yang umum dikonsumsi masyarakat Indonesia, salah satunya adalah ikan patin. Ikan yang satu ini disebut mengandung vitamin dan protein tinggi, sehingga sangat baik untuk kesehatan.', 'Sedikit informasi, ikan patin (Pangasius sp) dapat ditemukan di sungai-sungai besar. Ikan yang juga bisa hidup di air payau ini sudah banyak dibudidayakan oleh masyarakat.', 'Dalam buku Rantai Pasok Produk Perikanan oleh Zuriat, dkk, ikan patin punya bentuk tubuh agak pipih dan tidak memiliki sisik. Panjang tubuh ikan patin dapat mencapai 120 cm.', ' ADVERTISEMENT ', ' SCROLL TO CONTINUE WITH CONTENT ', 'Penasaran, apa saja manfaat mengkonsumsi ikan patin untuk kesehatan? Simak penjelasannya dalam artikel ini.', 'Ikan patin merupakan salah satu jenis ikan air tawar yang kaya akan nutrisi, seperti vitamin, mineral, dan zat besi. Mengutip situs Your Everyday Fish, berikut kandungan nutrisi pada 100 gram ikan patin:', 'Rutin mengkonsumsi ikan patin ternyata dapat memberikan sejumlah khasiat bagi tubuh, lho. Daripada penasaran, berikut sejumlah manfaat ikan patin untuk kesehatan.', 'Ikan patin merupakan sumber protein tanpa lemak yang baik untuk tubuh. Dengan mengkonsumsi ikan patin secara rutin, hal ini dapat membantu pertumbuhan dan perbaikan otot. Namun, jangan lupa untuk diimbangi dengan olahraga rutin serta menjaga pola makan sehat.', 'Apakah detikers tengah menjalani program diet? Jika iya, cobalah masukkan ikan patin sebagai menu diet harian. Sebab, patin termasuk jenis ikan yang rendah kalori dan mengandung sedikit lemak jenuh, sehingga baik dikonsumsi bagi orang yang sedang menurunkan berat badan.', 'Manfaat lain dari ikan patin adalah dapat menjaga kesehatan tulang. Hal ini berkat kandungan kalsium, protein, dan vitamin B12 yang mampu mencegah kerusakan tulang sekaligus membantu dalam pembentukan dan pemeliharaan jaringan tulang.', 'Mengkonsumsi ikan patin secara rutin diyakini dapat mencegah kolesterol tinggi. Sebab, ikan patin kaya akan asam lemak omega-3, terutama EPA dan DHA.', 'Asam lemak tersebut dikenal memiliki manfaat bagi kesehatan jantung karena dapat menurunkan kadar kolesterol jahat (LDL) dalam darah, sehingga turut mengurangi risiko penyakit jantung dan gangguan kardiovaskular.', 'Selain dapat mencegah kolesterol, kandungan omega-3 pada ikan patin juga dapat meningkatkan fungsi otak. Bagi anak-anak, mengkonsumsi ikan patin sangat baik karena dapat meningkatkan kecerdasan dan memori otak.', 'Sedangkan bagi orang dewasa dan lansia, ikan patin dapat mencegah sejumlah penyakit yang dapat menyerang otak, seperti demensia dan alzheimer.', 'Ikan patin termasuk jenis ikan yang mengandung antioksidan tinggi. Soalnya, ikan patin mengandung vitamin seperti vitamin D dan vitamin B12 yang bertindak sebagai antioksidan di dalam tubuh.', 'Manfaat yang terakhir dari ikan patin adalah dapat meredakan tekanan darah tinggi atau hipertensi. Soalnya, ikan patin mengandung arginine yang diyakini mampu melebarkan pembuluh darah, sehingga dapat menurunkan tekanan darah sekaligus mengurangi risiko penyakit akibat hipertensi.', 'Agar bisa mencukupi kebutuhan nutrisi sehari-hari, kombinasikan menu ikan patin dengan berbagai sayuran dan buah-buahan. Selain itu, imbangi juga dengan rutin berolahraga setiap hari agar bisa merasakan manfaatnya.', 'Itu dia tujuh manfaat ikan patin untuk kesehatan. Semoga artikel ini dapat menambah informasi detikers.']   \n",
       "3                                                                                                                                                                                                                                                                                                                                                                                                                                                                                                                                                                                                                                                                                                                                                                                                                                                                                                                                                                                                                                                                                                                                                                                                                                                                                                                                                                                                                                                                                                                                                                                                                                                                                                                                                        ['BPJS Kesehatan adalah Lembaga yang dikelola pemerintah untuk memberikan jaminan kesehatan kepada masyarakat.', 'Nantinya peserta aktif BPJS Kesehatan akan mendapatkan akses layanan kesehatan di rumah sakit atau fasilitas kesehatan yang bekerjasama dengan BPJS Kesehatan.', 'Namun berapa kali kita bisa menggunakan BPJS dalam satu bulan? Berikut penjelasan lengkapnya.', '     ADVERTISEMENT   ', '     SCROLL TO CONTINUE WITH CONTENT   ', 'Biaya berobat dan layanan kesehatan lainnya akan disubsidi BPJS Kesehatan jika orang tersebut merupakan peserta BPJS. Ini juga berlaku untuk fasilitas kesehatan (faskes) yang tersedia. Adapun faskes yang tersedia mulai dari tingkat pertama hingga lanjutan, berikut penjelasannya.', 'Merupakan tempat pelayanan pertama yang harus didatangi pasien BPJS jika ingin berobat. Faskes I meliputi puskesmas, klinik, atau dokter umum.', 'Faskes I juga termasuk FKTP milik TNI/Polri, rumah sakit kelas D Pratama atau yang setara, dan fasilitas kesehatan penunjang seperti apotek dan laboratorium.', 'Peserta dapat mengakses Faskes II setelah mendapatkan rujukan dari faskes tingkat 1. Faskes II meliputi perawatan dokter spesialis pada berbagai bidang medis.', 'Faskes Lanjutan atau FKTL merupakan perawatan tertinggi yang tersedia bagi peserta BPJS Kesehatan. Peserta di FKTL menerima perawatan lanjutan dari dokter subspesialis, baik di rumah sakit umum, rumah sakit khusus, maupun klinik utama.', 'Pada tingkat ini, perbedaan fasilitas kesehatan sangat penting karena memungkinkan peserta mendapatkan akses ke tenaga medis dengan keahlian spesifik di bidang tertentu.', 'Sebelumnya, untuk mengakses faskes II dan lanjutan, peserta BPJS akan menggunakan sistem rujukan melalui faskes tingkat sebelumnya. Oleh karena itu, pasien BPJS diwajibkan mendatangi Faskes I terlebih dahulu.', 'Kemudian setiap peserta BPJS terdaftar pada Faskes I di daerahnya masing-masing. Dan jika berada di Faskes I daerahnya, peserta BPJS Kesehatan dapat berobat sesuai kebutuhan dengan BPJS Kesehatan kapan saja.', 'Akan tetapi lain jika peserta mengunjungi Faskes I di tempat lain, peserta hanya bisa menggunakan BPJS kesehatan sebanyak tiga kali dalam sebulan jika mengakses Faskes I yang bukan tempat terdaftarnya.', 'Oleh karena itu, jika peserta BPJS akan pindah atau menempati tempat tinggal lain dalam jangka waktu yang lumayan lama, lebih baik memindahkan lokasi Faskes I yang telah terdaftar. Ini bisa dilakukan secara online atau mengunjungi kantor BPJS setempat.', 'Berikut adalah langkah-langkah yang bisa dilakukan untuk berobat atau mengakses layanan kesehatan pada Faskes tingkat I.', 'Itu dia ulasan mengenai BPJS Kesehatan yang bisa digunakan setiap saat dan tiga kali sebulan jika Faskes tingkat 1 berbeda dengan yang didaftarkan. Semoga bermanfaat.']   \n",
       "4                                                                                                                                                                                                                                                                                                                                                                                                                                                                                                                                                                                                                                                                                                                                                                                                                                                                                                                                                                                                                                                                                                                                                                                                                                                                                                                                                                                                                                                                                                                                                                                                                                                                                                                                                                                                                                                                                                                                                                                                                                                                                                                                                                  ['Mayat pria berinisial DK alias Devoy ditemukan membusuk dalam toren di Pondok Aren, Tangerang Selatan, membuat air warga terkontaminasi. Petugas Puskesmas Pondok Aren mengecek kesehatan warga yang menggunakan air itu.', 'Petugas Puskesmas Pondok Aren dr Faris Hilman mengatakan pemeriksaan dilakukan secara umum. Sebanyak tiga orang diperiksa dari dua rumah berbeda.', '\"Kondisi secara umum warga yang air di rumahnya terkontaminasi mayat yang ditemukan beberapa hari lalu. Dari pernyataan warga, tidak ada untuk konsumsi minum dari toren tersebut. Jadi alhamdulillah jauh lebih aman, dan risikonya jadi minimal,\" ujar dr Faris kepada detikcom di Gang Samid Sian, Pondok Aren, Tangerang Selatan, Kamis (30/5/2024).', ' ADVERTISEMENT ', ' SCROLL TO CONTINUE WITH CONTENT ', 'Faris melanjutkan potensi warga terkena penyakit karena air terkontaminasi bisa saja terjadi. Namun warga yang telah diperiksa mengaku tidak mengalami keluhan apa pun sampai saat ini.', '\"Iya, karena itu adalah air yang terkontaminasi, penggunaan air tercemar sama seperti itu. Mungkin masih bisa berisiko untuk gangguan di kulit, cuma sejauh ini dalam tiga hari tidak menggunakan air itu lagi nggak ada keluhan apa-apa,\" jelas dia.', '\"Jadi aman ya, untuk kondisi lain ada yang buat kumur-kumur, itu akan dipantau dilihat apakah ada keluhan kurang lebih seminggu ke depan,\" sambungnya.', 'Faris menyebut sisa warga yang belum diperiksa sebanyak 10 orang. Kebetulan ketika petugas Puskesmas datang, penghuni rumah kebanyakan sedang beraktivitas di luar.', '\"Ini tadi kami berkomunikasi dengan tiga orang. Karena warga lainnya masih aktivitas. Itu dari dua rumah. Satu rumah kosong ditinggal kerja,\" ucapnya.', 'Lantas bagaimana dengan pemeriksaan warga lainnya? Faris menuturkan warga yang belum diperiksa bisa datang ke puskesmas, termasuk jika mereka yang sudah diperiksa tiba-tiba ada keluhan dalam beberapa waktu ke depan.', '\"Kalau untuk pemeriksaan, tergantung kebutuhan, tergantung kondisi masyarakat. Jadi kami di puskesmas akan standby 24 jam untuk UGD-nya. Misalkan ada keluhan, bisa ke puskesmas untuk diperiksa lebih lanjut,\" ungkapnya.', '\"Memang kalau kita ke sini bisa, tapi semua peralatan yang lebih lengkap ada di puskesmas. Kalau untuk lebih lanjut, mending ke puskesmas,\" tandas dia.', '', \"Simak Video 'Fakta-fakta Penemuan Mayat dalam Toren di Tangsel':\", '', '[Gambas:Video 20detik]', '']   \n",
       "\n",
       "  Klasifikasi Berita  \n",
       "0           Non-Hoax  \n",
       "1           Non-Hoax  \n",
       "2           Non-Hoax  \n",
       "3           Non-Hoax  \n",
       "4           Non-Hoax  "
      ]
     },
     "execution_count": 58,
     "metadata": {},
     "output_type": "execute_result"
    }
   ],
   "source": [
    "print(df_nonhoax_kesehatan.shape)\n",
    "df_nonhoax_kesehatan.head()"
   ]
  },
  {
   "cell_type": "code",
   "execution_count": 59,
   "metadata": {},
   "outputs": [
    {
     "name": "stdout",
     "output_type": "stream",
     "text": [
      "(12608, 5)\n"
     ]
    },
    {
     "data": {
      "text/html": [
       "<div>\n",
       "<style scoped>\n",
       "    .dataframe tbody tr th:only-of-type {\n",
       "        vertical-align: middle;\n",
       "    }\n",
       "\n",
       "    .dataframe tbody tr th {\n",
       "        vertical-align: top;\n",
       "    }\n",
       "\n",
       "    .dataframe thead th {\n",
       "        text-align: right;\n",
       "    }\n",
       "</style>\n",
       "<table border=\"1\" class=\"dataframe\">\n",
       "  <thead>\n",
       "    <tr style=\"text-align: right;\">\n",
       "      <th></th>\n",
       "      <th>Title</th>\n",
       "      <th>Link</th>\n",
       "      <th>Time</th>\n",
       "      <th>Narasi</th>\n",
       "      <th>Klasifikasi Berita</th>\n",
       "    </tr>\n",
       "  </thead>\n",
       "  <tbody>\n",
       "    <tr>\n",
       "      <th>0</th>\n",
       "      <td>Pakar soal Tim Sinkronisasi: Prabowo Ingin Transisi Pemerintahan Mulus</td>\n",
       "      <td>https://news.detik.com/pemilu/d-7369735/pakar-soal-tim-sinkronisasi-prabowo-ingin-transisi-pemerintahan-mulus</td>\n",
       "      <td>Minggu, 02 Jun 2024 10:57 WIB</td>\n",
       "      <td>['Direktur Parameter Politik Indonesia (PPI) Adi Prayitno memandang pembentukan Gugus Tugas Sinkronisasi Prabowo-Gibran merupakan upaya mempercepat proses sinkronisasi program di pemerintahan selanjutnya. Adi menilai hal ini sesuai dengan visi Prabowo-Gibran yang hendak melanjutkan program-program pemerintahan Presiden Joko Widodo (Jokowi).', '\"Sepertinya sebagai upaya untuk mempercepat pemerintahan Prabowo di masa mendatang. Tim sinkronisasi itu logikanya menyinkronkan program Jokowi dengan program Prabowo yang usung keberlanjutan,\" kata Adi kepada wartawan, Minggu (2/6/2024).', 'Menurut Adi, tim sinkronisasi tersebut dibuat untuk mematangkan persiapan Prabowo dan Gibran menuju era pemerintahannya. Dengan begitu, Prabowo dan Gibran dianggap tak perlu banyak melakukan penyesuaian usai dilantik.', '  ADVERTISEMENT  ', '  SCROLL TO CONTINUE WITH CONTENT  ', '\"Itu artinya, tim sinkronisasi dipersiapkan mematangkan segala persiapan Prabowo memerintah 5 tahun mendatang. Pas dilantik 20 Oktober Prabowo tinggal gaspol tak perlu lagi penyesuaian,\" ujarnya.', '\"Tim transisi ini sebagai persiapan peralihan pemerintahan dari Jokowi ke Prabowo. Segala sesuatunya pasti dimatangkan agar segala sesuatunya tak mulai dari awal,\" lanjut Adi.', 'Adi menganggap langkah Prabowo sebagai presiden terpilih membentuk tim sinkronisasi itu bagus dalam rangka menyelaraskan kebijakan. Dia menilai Prabowo menghendaki pemerintahannya langsung tancap gas setelah masa jabatan Jokowi berakhir. \"Sangat bagus untuk menyelaraskan kebijakan yang sudah dilakukan Jokowi dengan Prabowo, karena keduanya mengusung keberlanjutan. Dan pastinya ingin memastikan transisi pemerintahan mulus dan langsung tinggal landas,\" ujar Adi.', 'Diketahui, gugas tugas ini dikomandoi oleh Sufmi Dasco Ahmad yang menjabat Ketua Harian DPP Gerindra sekaligus Wakil Ketua DPR.', '\"Ini adalah Tim Gugus Tugas Sinkronisasi Pemerintahan Prabowo-Gibran yang diminta Presiden terpilih untuk melakukan sinkronisasi dengan kementerian-kementerian untuk mempersiapkan proses pemerintahan Prabowo-Gibran setelah beliau dilantik menjadi Presiden Republik Indonesia pada tanggal 20 Oktober,\" kata Sekjen Gerindra Ahmad Muzani usai menggelar pertemuan dengan Menkeu Sri Mulyani di kantor Kemenkeu, Jakarta Pusat, Jumat (31/5).', 'Muzani memperkenalkan jajaran Tim Gugus Tugas Sinkronisasi yang bertemu dengan Sri Mulyani. Tak hanya bertemu jajaran Kemenkeu, Gugus tugas ini juga berencana bertemu dengan kementerian lainnya.', 'Berikut ini daftar Tim Gugus Tugas Sinkronisasi Prabowo-Gibran:', 'Ketua Tim Gugus Tugas Sinkronisasi Prabowo Gibran: Sufmi Dasco Ahmad', 'Wakil Ketua: Ahmad Muzani', 'Bidang Keuangan: Thomas Djiwandono (Tommy Djiwandono)', 'Anggota: Budi Djiwandono, Sugiono, Prasetyo Hadi', '', 'Simak juga Video: Bahasan Prabowo dan Presiden Ukraina Saat Bertemu di Singapura', '', '[Gambas:Video 20detik]', '']</td>\n",
       "      <td>Non-Hoax</td>\n",
       "    </tr>\n",
       "    <tr>\n",
       "      <th>1</th>\n",
       "      <td>HIPMI Harap Pejabat Sektor Energi di Pemerintahan Prabowo Paham Tren Global</td>\n",
       "      <td>https://news.detik.com/pemilu/d-7369463/hipmi-harap-pejabat-sektor-energi-di-pemerintahan-prabowo-paham-tren-global</td>\n",
       "      <td>Minggu, 02 Jun 2024 00:56 WIB</td>\n",
       "      <td>['Presiden Indonesia terpilih 2024-2029, Prabowo Subianto, diharapkan dapat memanfaatkan sumber daya alam (SDA) yang tersedia. Sehingga, program kampanye yang dicanangkan Prabowo bisa terealisasi.', 'Sekretaris Jenderal Badan Pengurus Pusat Himpunan Pengusaha Muda Indonesia (BPP HIPMI), Anggawira mengatakan ketidakpastian global seperti sekarang ini menimbulkan masalah dari sisi energi. Sehingga, Indonesia, kata Anggawira, harus punya kemandirian domestik.', '\"Jadi (Indonesia) harus punya kemandirian domestik,\" kata Anggawira dalam keterangannya, Minggu (2/6/2024).', '  ADVERTISEMENT  ', '  SCROLL TO CONTINUE WITH CONTENT  ', 'Anggawira menambahkan kunci industrialisasi dan hilirisasi itu ketersediaan energi. Ketersediaan energinya,jelas Anggawira, harus adaptif dan affordable karena biaya energi jadi biaya dominan membangun industri.', '\"Jadi sebenarnya ketika pemerintah concern mampu lakukan terobosan dan penghematan, misalnya ada sumber LNG (gas alam cair) bagus tapi kenapa 20 tahun terakhir pembangunan jaringan gas nggak pernah dieksekusi komprehensif. Padahal kalau dilakukan kita akan menghemat subsidi LPG yang makin bengkak. Jadi saya rasa itu strategi juga,\" ucap Anggawira.', 'Anggawira menilai Indonesia sangat potensial mewujudkan kemandirian energi. Sebab Indonesia kaya akan SDA seperti minyak bumi dan panas bumi. Namun pemerintah mesti memanfaatkan ketersediaan SDA dengan baik.', '\"Sebenarnya kalau dari sisi energi, kita ini boleh dibilang punya berbagai macam sumber daya untuk membangun kemandiriannya, hanya tinggal mampu nggak pemerintah mengakselerasi potensi yang dimiliki SDA kita karena tentu pilihan-pilihan ini sangat bergantung pada kapasitas pimpinan seperti menterinya,\" ujar Anggawira.', 'Oleh karena itu, Anggawira berharap Prabowo menempatkan individu yang kompeten di bidang energi. Individu tersebut wajib memahami perkembangan isu global.', '\"Jadi memang ketika kita bicara pejabat dan pengambil kebijakan di sektor energi harapannya benar-benar orang yang memahami komprehensif tren global juga secara keilmuan dan bisnis,\" ujar Anggawira.', 'Anggawira juga berharap individu itu punya keberanian mengambil keputusan berat sekaligus berinovasi. \"Karena kalau nggak ada keputusan dan resiko diambil dengan cepat kita akan ketinggalan,\" lanjut Anggawira.', 'Diketahui, salah satu program kampanye PrabowoSubianto berjanji akan menciptakan bahan bakarB100yang bersumber darisingkonghinggatebu. Cita-cita mulia ini bertujuan agar Indonesia tak mengimpor BBM Solar dari luar negeri.', 'Anggawira berpesan perlunya riset yang memadai. Salah satunya guna memastikan kesesuaian antara bahan bakar alternatif dengan mesin yang dipakai.', '\"Pak Prabowo kan bicara soal peningkatan B30 hingga B100. Itu kan tentunya harus ada RnD nya (riset dan pengembangan) dan disesuaikan dengan mesinnya. Jangan sampai kita bisa produksi minyak sampai B100 dengan sawit dan etanol tapi cocok nggak dengan mesin-mesinnya? Itu PR-nya,\" ucap Anggawira.', 'Anggawira mengatakan Prabowo menegaskan komitmennya untuk membawa Indonesia menuju swasembada energi terbarukan yang bersumber dari tanaman seperti kelapa sawit, tebu hingga singkong yang tumbuh subur di tanah air. Prabowo mengatakan bahwa energi terbarukan yang bersumber dari tanaman sangat baik karena tidak membuat polusi sekaligus mengurangi ketergantungan Indonesia terhadap energi fosil yang tidak ramah lingkungan.', 'Prabowo, kata Anggawira, menyampaikan dalam beberapa tahun ke depan, Indonesia mampu mengubah BBM jenis biodiesel seluruhnya berbahan baku dari kelapa sawit yang bertujuan untuk menghentikan impor bahan bakar dari luar negeri.', '']</td>\n",
       "      <td>Non-Hoax</td>\n",
       "    </tr>\n",
       "    <tr>\n",
       "      <th>2</th>\n",
       "      <td>Dasco Jadi Ketua Gugus Tugas Sinkronisasi Pemerintahan Prabowo-Gibran</td>\n",
       "      <td>https://news.detik.com/detiktv/d-7367264/dasco-jadi-ketua-gugus-tugas-sinkronisasi-pemerintahan-prabowo-gibran</td>\n",
       "      <td>Jumat, 31 Mei  2024 14:29 WIB</td>\n",
       "      <td>['Ketua Harian Partai Gerindra, Sufmi Dasco Ahmad dipilih menjadi Ketua Tim Gugus Tugas Sinkronisasi Pemerintahan Prabowo-Gibran. Tim', 'untuk menyelaraskan RAPBN 2025 yang disusun pemerintahan saat ini dengan program kerja Prabowo-Gibran.']</td>\n",
       "      <td>Non-Hoax</td>\n",
       "    </tr>\n",
       "    <tr>\n",
       "      <th>3</th>\n",
       "      <td>Arahan Jokowi ke Sri Mulyani soal Transisi ke Pemerintahan Prabowo</td>\n",
       "      <td>https://news.detik.com/detiktv/d-7367337/arahan-jokowi-ke-sri-mulyani-soal-transisi-ke-pemerintahan-prabowo</td>\n",
       "      <td>Jumat, 31 Mei  2024 14:55 WIB</td>\n",
       "      <td>['Menteri Keuangan (Menkeu) Sri Mulyani mengatakan Presiden Joko Widodo (Jokowi) mengetahui pertemuan dirinya dengan Tim Gugus Tugas Sinkronisasi Pemerintahan Prabowo-Gibran. Sri Mulyani mengaku mendapat tugas untuk membahas transisi ke pemerintahan Prabowo-Gibran.']</td>\n",
       "      <td>Non-Hoax</td>\n",
       "    </tr>\n",
       "    <tr>\n",
       "      <th>4</th>\n",
       "      <td>Elite Gerindra Temui Menkeu, Bahas Transisi ke Pemerintahan Prabowo-Gibran</td>\n",
       "      <td>https://news.detik.com/detiktv/d-7367179/elite-gerindra-temui-menkeu-bahas-transisi-ke-pemerintahan-prabowo-gibran</td>\n",
       "      <td>Jumat, 31 Mei  2024 13:45 WIB</td>\n",
       "      <td>['Jajaran Partai Gerindra bertemu dengan Menteri Keuangan Sri Mulyani di Kementerian Keuangan, Jakpus. Pertemuan terkait dengan pembahasan masa transisi ke pemerintahan Prabowo Subianto-Gibran Rakabuming Raka.']</td>\n",
       "      <td>Non-Hoax</td>\n",
       "    </tr>\n",
       "  </tbody>\n",
       "</table>\n",
       "</div>"
      ],
      "text/plain": [
       "                                                                         Title  \\\n",
       "0       Pakar soal Tim Sinkronisasi: Prabowo Ingin Transisi Pemerintahan Mulus   \n",
       "1  HIPMI Harap Pejabat Sektor Energi di Pemerintahan Prabowo Paham Tren Global   \n",
       "2        Dasco Jadi Ketua Gugus Tugas Sinkronisasi Pemerintahan Prabowo-Gibran   \n",
       "3           Arahan Jokowi ke Sri Mulyani soal Transisi ke Pemerintahan Prabowo   \n",
       "4   Elite Gerindra Temui Menkeu, Bahas Transisi ke Pemerintahan Prabowo-Gibran   \n",
       "\n",
       "                                                                                                                  Link  \\\n",
       "0        https://news.detik.com/pemilu/d-7369735/pakar-soal-tim-sinkronisasi-prabowo-ingin-transisi-pemerintahan-mulus   \n",
       "1  https://news.detik.com/pemilu/d-7369463/hipmi-harap-pejabat-sektor-energi-di-pemerintahan-prabowo-paham-tren-global   \n",
       "2       https://news.detik.com/detiktv/d-7367264/dasco-jadi-ketua-gugus-tugas-sinkronisasi-pemerintahan-prabowo-gibran   \n",
       "3          https://news.detik.com/detiktv/d-7367337/arahan-jokowi-ke-sri-mulyani-soal-transisi-ke-pemerintahan-prabowo   \n",
       "4   https://news.detik.com/detiktv/d-7367179/elite-gerindra-temui-menkeu-bahas-transisi-ke-pemerintahan-prabowo-gibran   \n",
       "\n",
       "                            Time  \\\n",
       "0  Minggu, 02 Jun 2024 10:57 WIB   \n",
       "1  Minggu, 02 Jun 2024 00:56 WIB   \n",
       "2  Jumat, 31 Mei  2024 14:29 WIB   \n",
       "3  Jumat, 31 Mei  2024 14:55 WIB   \n",
       "4  Jumat, 31 Mei  2024 13:45 WIB   \n",
       "\n",
       "                                                                                                                                                                                                                                                                                                                                                                                                                                                                                                                                                                                                                                                                                                                                                                                                                                                                                                                                                                                                                                                                                                                                                                                                                                                                                                                                                                                                                                                                                                                                                                                                                                                                                                                                                                                                                                                                                                                                                                                                                                                                                                                                                                                                                                                                                                                                                                                                                                                                                                                                                                                                                                                                                                                                                                                                                                                                                                                                                                                                                                                                                                                                                                                                                                                                                                                                                                                                                                                                                                                                                                                                                                                                                                                                                                                      Narasi  \\\n",
       "0                                                                                                                                                                                                                                                                                                                                                                                                                                                                                                                                                                                                                                                                                                                                                                                            ['Direktur Parameter Politik Indonesia (PPI) Adi Prayitno memandang pembentukan Gugus Tugas Sinkronisasi Prabowo-Gibran merupakan upaya mempercepat proses sinkronisasi program di pemerintahan selanjutnya. Adi menilai hal ini sesuai dengan visi Prabowo-Gibran yang hendak melanjutkan program-program pemerintahan Presiden Joko Widodo (Jokowi).', '\"Sepertinya sebagai upaya untuk mempercepat pemerintahan Prabowo di masa mendatang. Tim sinkronisasi itu logikanya menyinkronkan program Jokowi dengan program Prabowo yang usung keberlanjutan,\" kata Adi kepada wartawan, Minggu (2/6/2024).', 'Menurut Adi, tim sinkronisasi tersebut dibuat untuk mematangkan persiapan Prabowo dan Gibran menuju era pemerintahannya. Dengan begitu, Prabowo dan Gibran dianggap tak perlu banyak melakukan penyesuaian usai dilantik.', '  ADVERTISEMENT  ', '  SCROLL TO CONTINUE WITH CONTENT  ', '\"Itu artinya, tim sinkronisasi dipersiapkan mematangkan segala persiapan Prabowo memerintah 5 tahun mendatang. Pas dilantik 20 Oktober Prabowo tinggal gaspol tak perlu lagi penyesuaian,\" ujarnya.', '\"Tim transisi ini sebagai persiapan peralihan pemerintahan dari Jokowi ke Prabowo. Segala sesuatunya pasti dimatangkan agar segala sesuatunya tak mulai dari awal,\" lanjut Adi.', 'Adi menganggap langkah Prabowo sebagai presiden terpilih membentuk tim sinkronisasi itu bagus dalam rangka menyelaraskan kebijakan. Dia menilai Prabowo menghendaki pemerintahannya langsung tancap gas setelah masa jabatan Jokowi berakhir. \"Sangat bagus untuk menyelaraskan kebijakan yang sudah dilakukan Jokowi dengan Prabowo, karena keduanya mengusung keberlanjutan. Dan pastinya ingin memastikan transisi pemerintahan mulus dan langsung tinggal landas,\" ujar Adi.', 'Diketahui, gugas tugas ini dikomandoi oleh Sufmi Dasco Ahmad yang menjabat Ketua Harian DPP Gerindra sekaligus Wakil Ketua DPR.', '\"Ini adalah Tim Gugus Tugas Sinkronisasi Pemerintahan Prabowo-Gibran yang diminta Presiden terpilih untuk melakukan sinkronisasi dengan kementerian-kementerian untuk mempersiapkan proses pemerintahan Prabowo-Gibran setelah beliau dilantik menjadi Presiden Republik Indonesia pada tanggal 20 Oktober,\" kata Sekjen Gerindra Ahmad Muzani usai menggelar pertemuan dengan Menkeu Sri Mulyani di kantor Kemenkeu, Jakarta Pusat, Jumat (31/5).', 'Muzani memperkenalkan jajaran Tim Gugus Tugas Sinkronisasi yang bertemu dengan Sri Mulyani. Tak hanya bertemu jajaran Kemenkeu, Gugus tugas ini juga berencana bertemu dengan kementerian lainnya.', 'Berikut ini daftar Tim Gugus Tugas Sinkronisasi Prabowo-Gibran:', 'Ketua Tim Gugus Tugas Sinkronisasi Prabowo Gibran: Sufmi Dasco Ahmad', 'Wakil Ketua: Ahmad Muzani', 'Bidang Keuangan: Thomas Djiwandono (Tommy Djiwandono)', 'Anggota: Budi Djiwandono, Sugiono, Prasetyo Hadi', '', 'Simak juga Video: Bahasan Prabowo dan Presiden Ukraina Saat Bertemu di Singapura', '', '[Gambas:Video 20detik]', '']   \n",
       "1  ['Presiden Indonesia terpilih 2024-2029, Prabowo Subianto, diharapkan dapat memanfaatkan sumber daya alam (SDA) yang tersedia. Sehingga, program kampanye yang dicanangkan Prabowo bisa terealisasi.', 'Sekretaris Jenderal Badan Pengurus Pusat Himpunan Pengusaha Muda Indonesia (BPP HIPMI), Anggawira mengatakan ketidakpastian global seperti sekarang ini menimbulkan masalah dari sisi energi. Sehingga, Indonesia, kata Anggawira, harus punya kemandirian domestik.', '\"Jadi (Indonesia) harus punya kemandirian domestik,\" kata Anggawira dalam keterangannya, Minggu (2/6/2024).', '  ADVERTISEMENT  ', '  SCROLL TO CONTINUE WITH CONTENT  ', 'Anggawira menambahkan kunci industrialisasi dan hilirisasi itu ketersediaan energi. Ketersediaan energinya,jelas Anggawira, harus adaptif dan affordable karena biaya energi jadi biaya dominan membangun industri.', '\"Jadi sebenarnya ketika pemerintah concern mampu lakukan terobosan dan penghematan, misalnya ada sumber LNG (gas alam cair) bagus tapi kenapa 20 tahun terakhir pembangunan jaringan gas nggak pernah dieksekusi komprehensif. Padahal kalau dilakukan kita akan menghemat subsidi LPG yang makin bengkak. Jadi saya rasa itu strategi juga,\" ucap Anggawira.', 'Anggawira menilai Indonesia sangat potensial mewujudkan kemandirian energi. Sebab Indonesia kaya akan SDA seperti minyak bumi dan panas bumi. Namun pemerintah mesti memanfaatkan ketersediaan SDA dengan baik.', '\"Sebenarnya kalau dari sisi energi, kita ini boleh dibilang punya berbagai macam sumber daya untuk membangun kemandiriannya, hanya tinggal mampu nggak pemerintah mengakselerasi potensi yang dimiliki SDA kita karena tentu pilihan-pilihan ini sangat bergantung pada kapasitas pimpinan seperti menterinya,\" ujar Anggawira.', 'Oleh karena itu, Anggawira berharap Prabowo menempatkan individu yang kompeten di bidang energi. Individu tersebut wajib memahami perkembangan isu global.', '\"Jadi memang ketika kita bicara pejabat dan pengambil kebijakan di sektor energi harapannya benar-benar orang yang memahami komprehensif tren global juga secara keilmuan dan bisnis,\" ujar Anggawira.', 'Anggawira juga berharap individu itu punya keberanian mengambil keputusan berat sekaligus berinovasi. \"Karena kalau nggak ada keputusan dan resiko diambil dengan cepat kita akan ketinggalan,\" lanjut Anggawira.', 'Diketahui, salah satu program kampanye PrabowoSubianto berjanji akan menciptakan bahan bakarB100yang bersumber darisingkonghinggatebu. Cita-cita mulia ini bertujuan agar Indonesia tak mengimpor BBM Solar dari luar negeri.', 'Anggawira berpesan perlunya riset yang memadai. Salah satunya guna memastikan kesesuaian antara bahan bakar alternatif dengan mesin yang dipakai.', '\"Pak Prabowo kan bicara soal peningkatan B30 hingga B100. Itu kan tentunya harus ada RnD nya (riset dan pengembangan) dan disesuaikan dengan mesinnya. Jangan sampai kita bisa produksi minyak sampai B100 dengan sawit dan etanol tapi cocok nggak dengan mesin-mesinnya? Itu PR-nya,\" ucap Anggawira.', 'Anggawira mengatakan Prabowo menegaskan komitmennya untuk membawa Indonesia menuju swasembada energi terbarukan yang bersumber dari tanaman seperti kelapa sawit, tebu hingga singkong yang tumbuh subur di tanah air. Prabowo mengatakan bahwa energi terbarukan yang bersumber dari tanaman sangat baik karena tidak membuat polusi sekaligus mengurangi ketergantungan Indonesia terhadap energi fosil yang tidak ramah lingkungan.', 'Prabowo, kata Anggawira, menyampaikan dalam beberapa tahun ke depan, Indonesia mampu mengubah BBM jenis biodiesel seluruhnya berbahan baku dari kelapa sawit yang bertujuan untuk menghentikan impor bahan bakar dari luar negeri.', '']   \n",
       "2                                                                                                                                                                                                                                                                                                                                                                                                                                                                                                                                                                                                                                                                                                                                                                                                                                                                                                                                                                                                                                                                                                                                                                                                                                                                                                                                                                                                                                                                                                                                                                                                                                                                                                                                                                                                                                                                                                                                                                                                                                                                                                                                                                                                                                                                                                                                                                                                                                                                                                                                                                                                                                                                                                                                                                                                                                                                                                                                                                                                                                                                                                                                                                                                                                                                                                                                                                                                                                                                                                                                          ['Ketua Harian Partai Gerindra, Sufmi Dasco Ahmad dipilih menjadi Ketua Tim Gugus Tugas Sinkronisasi Pemerintahan Prabowo-Gibran. Tim', 'untuk menyelaraskan RAPBN 2025 yang disusun pemerintahan saat ini dengan program kerja Prabowo-Gibran.']   \n",
       "3                                                                                                                                                                                                                                                                                                                                                                                                                                                                                                                                                                                                                                                                                                                                                                                                                                                                                                                                                                                                                                                                                                                                                                                                                                                                                                                                                                                                                                                                                                                                                                                                                                                                                                                                                                                                                                                                                                                                                                                                                                                                                                                                                                                                                                                                                                                                                                                                                                                                                                                                                                                                                                                                                                                                                                                                                                                                                                                                                                                                                                                                                                                                                                                                                                                                                                                                                                                                                                                                                                                ['Menteri Keuangan (Menkeu) Sri Mulyani mengatakan Presiden Joko Widodo (Jokowi) mengetahui pertemuan dirinya dengan Tim Gugus Tugas Sinkronisasi Pemerintahan Prabowo-Gibran. Sri Mulyani mengaku mendapat tugas untuk membahas transisi ke pemerintahan Prabowo-Gibran.']   \n",
       "4                                                                                                                                                                                                                                                                                                                                                                                                                                                                                                                                                                                                                                                                                                                                                                                                                                                                                                                                                                                                                                                                                                                                                                                                                                                                                                                                                                                                                                                                                                                                                                                                                                                                                                                                                                                                                                                                                                                                                                                                                                                                                                                                                                                                                                                                                                                                                                                                                                                                                                                                                                                                                                                                                                                                                                                                                                                                                                                                                                                                                                                                                                                                                                                                                                                                                                                                                                                                                                                                                                                                                                        ['Jajaran Partai Gerindra bertemu dengan Menteri Keuangan Sri Mulyani di Kementerian Keuangan, Jakpus. Pertemuan terkait dengan pembahasan masa transisi ke pemerintahan Prabowo Subianto-Gibran Rakabuming Raka.']   \n",
       "\n",
       "  Klasifikasi Berita  \n",
       "0           Non-Hoax  \n",
       "1           Non-Hoax  \n",
       "2           Non-Hoax  \n",
       "3           Non-Hoax  \n",
       "4           Non-Hoax  "
      ]
     },
     "execution_count": 59,
     "metadata": {},
     "output_type": "execute_result"
    }
   ],
   "source": [
    "print(df_nonhoax_PP.shape)\n",
    "df_nonhoax_PP.head()"
   ]
  },
  {
   "cell_type": "code",
   "execution_count": 60,
   "metadata": {},
   "outputs": [
    {
     "data": {
      "text/plain": [
       "Title                   0\n",
       "Link                    0\n",
       "Time                    0\n",
       "Narasi                129\n",
       "Klasifikasi Berita      0\n",
       "dtype: int64"
      ]
     },
     "execution_count": 60,
     "metadata": {},
     "output_type": "execute_result"
    }
   ],
   "source": [
    "df_nonhoax_kesehatan.isna().sum()"
   ]
  },
  {
   "cell_type": "code",
   "execution_count": 61,
   "metadata": {},
   "outputs": [
    {
     "data": {
      "text/plain": [
       "Title                   0\n",
       "Link                    0\n",
       "Time                    0\n",
       "Narasi                106\n",
       "Klasifikasi Berita      0\n",
       "dtype: int64"
      ]
     },
     "execution_count": 61,
     "metadata": {},
     "output_type": "execute_result"
    }
   ],
   "source": [
    "df_nonhoax_PP.isna().sum()"
   ]
  },
  {
   "cell_type": "code",
   "execution_count": 62,
   "metadata": {},
   "outputs": [
    {
     "data": {
      "text/html": [
       "<div>\n",
       "<style scoped>\n",
       "    .dataframe tbody tr th:only-of-type {\n",
       "        vertical-align: middle;\n",
       "    }\n",
       "\n",
       "    .dataframe tbody tr th {\n",
       "        vertical-align: top;\n",
       "    }\n",
       "\n",
       "    .dataframe thead th {\n",
       "        text-align: right;\n",
       "    }\n",
       "</style>\n",
       "<table border=\"1\" class=\"dataframe\">\n",
       "  <thead>\n",
       "    <tr style=\"text-align: right;\">\n",
       "      <th></th>\n",
       "      <th>Title</th>\n",
       "      <th>Link</th>\n",
       "      <th>Time</th>\n",
       "      <th>Narasi</th>\n",
       "      <th>Klasifikasi Berita</th>\n",
       "    </tr>\n",
       "  </thead>\n",
       "  <tbody>\n",
       "    <tr>\n",
       "      <th>0</th>\n",
       "      <td>Pakar soal Tim Sinkronisasi: Prabowo Ingin Transisi Pemerintahan Mulus</td>\n",
       "      <td>https://news.detik.com/pemilu/d-7369735/pakar-soal-tim-sinkronisasi-prabowo-ingin-transisi-pemerintahan-mulus</td>\n",
       "      <td>Minggu, 02 Jun 2024 10:57 WIB</td>\n",
       "      <td>['Direktur Parameter Politik Indonesia (PPI) Adi Prayitno memandang pembentukan Gugus Tugas Sinkronisasi Prabowo-Gibran merupakan upaya mempercepat proses sinkronisasi program di pemerintahan selanjutnya. Adi menilai hal ini sesuai dengan visi Prabowo-Gibran yang hendak melanjutkan program-program pemerintahan Presiden Joko Widodo (Jokowi).', '\"Sepertinya sebagai upaya untuk mempercepat pemerintahan Prabowo di masa mendatang. Tim sinkronisasi itu logikanya menyinkronkan program Jokowi dengan program Prabowo yang usung keberlanjutan,\" kata Adi kepada wartawan, Minggu (2/6/2024).', 'Menurut Adi, tim sinkronisasi tersebut dibuat untuk mematangkan persiapan Prabowo dan Gibran menuju era pemerintahannya. Dengan begitu, Prabowo dan Gibran dianggap tak perlu banyak melakukan penyesuaian usai dilantik.', '  ADVERTISEMENT  ', '  SCROLL TO CONTINUE WITH CONTENT  ', '\"Itu artinya, tim sinkronisasi dipersiapkan mematangkan segala persiapan Prabowo memerintah 5 tahun mendatang. Pas dilantik 20 Oktober Prabowo tinggal gaspol tak perlu lagi penyesuaian,\" ujarnya.', '\"Tim transisi ini sebagai persiapan peralihan pemerintahan dari Jokowi ke Prabowo. Segala sesuatunya pasti dimatangkan agar segala sesuatunya tak mulai dari awal,\" lanjut Adi.', 'Adi menganggap langkah Prabowo sebagai presiden terpilih membentuk tim sinkronisasi itu bagus dalam rangka menyelaraskan kebijakan. Dia menilai Prabowo menghendaki pemerintahannya langsung tancap gas setelah masa jabatan Jokowi berakhir. \"Sangat bagus untuk menyelaraskan kebijakan yang sudah dilakukan Jokowi dengan Prabowo, karena keduanya mengusung keberlanjutan. Dan pastinya ingin memastikan transisi pemerintahan mulus dan langsung tinggal landas,\" ujar Adi.', 'Diketahui, gugas tugas ini dikomandoi oleh Sufmi Dasco Ahmad yang menjabat Ketua Harian DPP Gerindra sekaligus Wakil Ketua DPR.', '\"Ini adalah Tim Gugus Tugas Sinkronisasi Pemerintahan Prabowo-Gibran yang diminta Presiden terpilih untuk melakukan sinkronisasi dengan kementerian-kementerian untuk mempersiapkan proses pemerintahan Prabowo-Gibran setelah beliau dilantik menjadi Presiden Republik Indonesia pada tanggal 20 Oktober,\" kata Sekjen Gerindra Ahmad Muzani usai menggelar pertemuan dengan Menkeu Sri Mulyani di kantor Kemenkeu, Jakarta Pusat, Jumat (31/5).', 'Muzani memperkenalkan jajaran Tim Gugus Tugas Sinkronisasi yang bertemu dengan Sri Mulyani. Tak hanya bertemu jajaran Kemenkeu, Gugus tugas ini juga berencana bertemu dengan kementerian lainnya.', 'Berikut ini daftar Tim Gugus Tugas Sinkronisasi Prabowo-Gibran:', 'Ketua Tim Gugus Tugas Sinkronisasi Prabowo Gibran: Sufmi Dasco Ahmad', 'Wakil Ketua: Ahmad Muzani', 'Bidang Keuangan: Thomas Djiwandono (Tommy Djiwandono)', 'Anggota: Budi Djiwandono, Sugiono, Prasetyo Hadi', '', 'Simak juga Video: Bahasan Prabowo dan Presiden Ukraina Saat Bertemu di Singapura', '', '[Gambas:Video 20detik]', '']</td>\n",
       "      <td>Non-Hoax</td>\n",
       "    </tr>\n",
       "    <tr>\n",
       "      <th>1</th>\n",
       "      <td>HIPMI Harap Pejabat Sektor Energi di Pemerintahan Prabowo Paham Tren Global</td>\n",
       "      <td>https://news.detik.com/pemilu/d-7369463/hipmi-harap-pejabat-sektor-energi-di-pemerintahan-prabowo-paham-tren-global</td>\n",
       "      <td>Minggu, 02 Jun 2024 00:56 WIB</td>\n",
       "      <td>['Presiden Indonesia terpilih 2024-2029, Prabowo Subianto, diharapkan dapat memanfaatkan sumber daya alam (SDA) yang tersedia. Sehingga, program kampanye yang dicanangkan Prabowo bisa terealisasi.', 'Sekretaris Jenderal Badan Pengurus Pusat Himpunan Pengusaha Muda Indonesia (BPP HIPMI), Anggawira mengatakan ketidakpastian global seperti sekarang ini menimbulkan masalah dari sisi energi. Sehingga, Indonesia, kata Anggawira, harus punya kemandirian domestik.', '\"Jadi (Indonesia) harus punya kemandirian domestik,\" kata Anggawira dalam keterangannya, Minggu (2/6/2024).', '  ADVERTISEMENT  ', '  SCROLL TO CONTINUE WITH CONTENT  ', 'Anggawira menambahkan kunci industrialisasi dan hilirisasi itu ketersediaan energi. Ketersediaan energinya,jelas Anggawira, harus adaptif dan affordable karena biaya energi jadi biaya dominan membangun industri.', '\"Jadi sebenarnya ketika pemerintah concern mampu lakukan terobosan dan penghematan, misalnya ada sumber LNG (gas alam cair) bagus tapi kenapa 20 tahun terakhir pembangunan jaringan gas nggak pernah dieksekusi komprehensif. Padahal kalau dilakukan kita akan menghemat subsidi LPG yang makin bengkak. Jadi saya rasa itu strategi juga,\" ucap Anggawira.', 'Anggawira menilai Indonesia sangat potensial mewujudkan kemandirian energi. Sebab Indonesia kaya akan SDA seperti minyak bumi dan panas bumi. Namun pemerintah mesti memanfaatkan ketersediaan SDA dengan baik.', '\"Sebenarnya kalau dari sisi energi, kita ini boleh dibilang punya berbagai macam sumber daya untuk membangun kemandiriannya, hanya tinggal mampu nggak pemerintah mengakselerasi potensi yang dimiliki SDA kita karena tentu pilihan-pilihan ini sangat bergantung pada kapasitas pimpinan seperti menterinya,\" ujar Anggawira.', 'Oleh karena itu, Anggawira berharap Prabowo menempatkan individu yang kompeten di bidang energi. Individu tersebut wajib memahami perkembangan isu global.', '\"Jadi memang ketika kita bicara pejabat dan pengambil kebijakan di sektor energi harapannya benar-benar orang yang memahami komprehensif tren global juga secara keilmuan dan bisnis,\" ujar Anggawira.', 'Anggawira juga berharap individu itu punya keberanian mengambil keputusan berat sekaligus berinovasi. \"Karena kalau nggak ada keputusan dan resiko diambil dengan cepat kita akan ketinggalan,\" lanjut Anggawira.', 'Diketahui, salah satu program kampanye PrabowoSubianto berjanji akan menciptakan bahan bakarB100yang bersumber darisingkonghinggatebu. Cita-cita mulia ini bertujuan agar Indonesia tak mengimpor BBM Solar dari luar negeri.', 'Anggawira berpesan perlunya riset yang memadai. Salah satunya guna memastikan kesesuaian antara bahan bakar alternatif dengan mesin yang dipakai.', '\"Pak Prabowo kan bicara soal peningkatan B30 hingga B100. Itu kan tentunya harus ada RnD nya (riset dan pengembangan) dan disesuaikan dengan mesinnya. Jangan sampai kita bisa produksi minyak sampai B100 dengan sawit dan etanol tapi cocok nggak dengan mesin-mesinnya? Itu PR-nya,\" ucap Anggawira.', 'Anggawira mengatakan Prabowo menegaskan komitmennya untuk membawa Indonesia menuju swasembada energi terbarukan yang bersumber dari tanaman seperti kelapa sawit, tebu hingga singkong yang tumbuh subur di tanah air. Prabowo mengatakan bahwa energi terbarukan yang bersumber dari tanaman sangat baik karena tidak membuat polusi sekaligus mengurangi ketergantungan Indonesia terhadap energi fosil yang tidak ramah lingkungan.', 'Prabowo, kata Anggawira, menyampaikan dalam beberapa tahun ke depan, Indonesia mampu mengubah BBM jenis biodiesel seluruhnya berbahan baku dari kelapa sawit yang bertujuan untuk menghentikan impor bahan bakar dari luar negeri.', '']</td>\n",
       "      <td>Non-Hoax</td>\n",
       "    </tr>\n",
       "    <tr>\n",
       "      <th>2</th>\n",
       "      <td>Dasco Jadi Ketua Gugus Tugas Sinkronisasi Pemerintahan Prabowo-Gibran</td>\n",
       "      <td>https://news.detik.com/detiktv/d-7367264/dasco-jadi-ketua-gugus-tugas-sinkronisasi-pemerintahan-prabowo-gibran</td>\n",
       "      <td>Jumat, 31 Mei  2024 14:29 WIB</td>\n",
       "      <td>['Ketua Harian Partai Gerindra, Sufmi Dasco Ahmad dipilih menjadi Ketua Tim Gugus Tugas Sinkronisasi Pemerintahan Prabowo-Gibran. Tim', 'untuk menyelaraskan RAPBN 2025 yang disusun pemerintahan saat ini dengan program kerja Prabowo-Gibran.']</td>\n",
       "      <td>Non-Hoax</td>\n",
       "    </tr>\n",
       "    <tr>\n",
       "      <th>3</th>\n",
       "      <td>Arahan Jokowi ke Sri Mulyani soal Transisi ke Pemerintahan Prabowo</td>\n",
       "      <td>https://news.detik.com/detiktv/d-7367337/arahan-jokowi-ke-sri-mulyani-soal-transisi-ke-pemerintahan-prabowo</td>\n",
       "      <td>Jumat, 31 Mei  2024 14:55 WIB</td>\n",
       "      <td>['Menteri Keuangan (Menkeu) Sri Mulyani mengatakan Presiden Joko Widodo (Jokowi) mengetahui pertemuan dirinya dengan Tim Gugus Tugas Sinkronisasi Pemerintahan Prabowo-Gibran. Sri Mulyani mengaku mendapat tugas untuk membahas transisi ke pemerintahan Prabowo-Gibran.']</td>\n",
       "      <td>Non-Hoax</td>\n",
       "    </tr>\n",
       "    <tr>\n",
       "      <th>4</th>\n",
       "      <td>Elite Gerindra Temui Menkeu, Bahas Transisi ke Pemerintahan Prabowo-Gibran</td>\n",
       "      <td>https://news.detik.com/detiktv/d-7367179/elite-gerindra-temui-menkeu-bahas-transisi-ke-pemerintahan-prabowo-gibran</td>\n",
       "      <td>Jumat, 31 Mei  2024 13:45 WIB</td>\n",
       "      <td>['Jajaran Partai Gerindra bertemu dengan Menteri Keuangan Sri Mulyani di Kementerian Keuangan, Jakpus. Pertemuan terkait dengan pembahasan masa transisi ke pemerintahan Prabowo Subianto-Gibran Rakabuming Raka.']</td>\n",
       "      <td>Non-Hoax</td>\n",
       "    </tr>\n",
       "    <tr>\n",
       "      <th>...</th>\n",
       "      <td>...</td>\n",
       "      <td>...</td>\n",
       "      <td>...</td>\n",
       "      <td>...</td>\n",
       "      <td>...</td>\n",
       "    </tr>\n",
       "    <tr>\n",
       "      <th>7941</th>\n",
       "      <td>Pertemuan di PAN Bahas Koalisi Besar? Jokowi: Yang Bicara Itu Ketua Partai</td>\n",
       "      <td>https://news.detik.com/pemilu/d-6651366/pertemuan-di-pan-bahas-koalisi-besar-jokowi-yang-bicara-itu-ketua-partai</td>\n",
       "      <td>Minggu, 02 Apr 2023 14:37 WIB</td>\n",
       "      <td>['Presiden Joko Widodo (Jokowi) menjelaskan pembicaraan para ketua umum pro pemerintahan dan dirinya di Kantor DPP PAN. Ia menyebut pembicaraan koalisi besar hanya diutarakan oleh pemimpin partai.', '\"Ya saya senang para ketua partai bisa bertemu, bisa silaturahmi dan ini atas undangan dari Ketua PAN Pak Zulkifli Hasan terhadap semua partai yang ada di pemerintah dalam rangka membicarakan hal-hal yang berkaitan dengan komitmen kebangsaan dan juga keberlanjutan pembangunan ke depan. Arahnya ke sana,\" kata Jokowi di Kantor DPP PAN, Warung Buncit, Jakarta Selatan, Minggu (2/4/2023).', 'Jokowi menyebut untuk urusan wacana munculnya gabungan KIB (Koalisi Indonesia Bersatu) dan KKIR (Koalisi Kebangkitan Indonesia Raya) biarlah menjadi pembicaraan partai. Jokowi menegaskan posisinya hanya mendengarkan.', ' ADVERTISEMENT ', ' SCROLL TO CONTINUE WITH CONTENT ', '\"Nanti ditanyakan (wacana gabungan KIB dan Gerindra-PKB), urusan itu ditanyakan kepada ketua-ketua partai atau gabungan partai yang sudah ada. Jangan ditanyakan kepada saya,\" ujar Jokowi.', 'Ia menyebut dalam pertemuan tertutup pembicaraan koalisi besar hanya dilakukan oleh ketum partai. Ia hanya mendengarkan.', '\"Yang berbicara itu ketua-ketua partai. Saya bagian mendengarkan saja,\" tutur Jokowi.', 'Untuk diketahui, para ketua umum partai politik yang hadir di acara PAN memang yang mewakili dua koalisi. Mereka yang hadir adalah Ketum Golkar Airlangga Hartarto, Ketum PAN Zulkifli Hasan dan Plt Ketum PPP Mardiono yang tergabung dalam KIB. Sementara itu, Ketum Gerindra Prabowo Subianto dan Ketum PKB Muhaimin Iskandar yang hadir saat ini tergabung dalam KKIR. PDIP yang diundang PAN tidak hadir karena ketua umum mereka, Megawati Soekarnoputri, disebut tengah bepergian.', 'Satu-satunya partai pro Jokowi yang tidak diundang dalam acara PAN ialah Partai NasDem. Waketum NasDem Ahmad Ali menduga pertemuan di markas PAN membahas koalisi besar.', '\"Saya menganggap bahwa pertemuan ini bukan pertemuan koalisi pemerintah karena NasDem kan koalisi pemerintah. Artinya, paling tidak sampai hari ini NasDem itu menjadi bagian daripada koalisi pemerintah,\" ujar Ali saat dihubungi hari ini.', '\"Kalau kemudian pertemuan hari ini kami tidak diundang ya kami berpikir positif aja, hari ini pertemuan KIB dan KKIR, bisa jadi membentuk \\'koalisi besar\\',\" imbuh dia.', '', \"Simak Video 'Jokowi soal Pilpres: Jangan Presiden Itu Diikut-ikutkan':\", '', '[Gambas:Video 20detik]', '']</td>\n",
       "      <td>Non-Hoax</td>\n",
       "    </tr>\n",
       "    <tr>\n",
       "      <th>7942</th>\n",
       "      <td>PPP Dukung Ganjar Capres, Golkar Ingatkan soal Kesepakatan KIB</td>\n",
       "      <td>https://news.detik.com/pemilu/d-6714205/ppp-dukung-ganjar-capres-golkar-ingatkan-soal-kesepakatan-kib</td>\n",
       "      <td>Rabu, 10 Mei  2023 21:06 WIB</td>\n",
       "      <td>['Kepala Bappilu Presiden Partai Golkar, Nusron Wahid, menanggapi Partai Persatuan Pembangunan (PPP) yang telah mendeklarasikan dukungannya kepada Ganjar Pranowo sebagai calon wakil presiden. Nusron mengingatkan PPP yang masih tergabung bersama Koalisi Indonesia Bersatu (KIB) tapi mendukung calon presiden Ganjar Pranowo.', \"Hal itu disampaikan Nusron dalam acara Adu Perspektif kolaborasi detikcom dengan Total Politik dengan tema 'Berebut Kursi Nomor Dua', Rabu (10/5/2023). Host awalnya bertanya mengenai perasaan Golkar mengenai keputusan politik PPP tersebut.\", '\"Politik kok pakai hati, yang nggak ada perih, biasa, itu berarti realitas politik,\" kata Nusron.', ' ADVERTISEMENT ', ' SCROLL TO CONTINUE WITH CONTENT ', 'Nusron mengatakan Golkar menghormati pilihan PPP. Namun dia mengingatkan bahwa PPP masih terikat dengan Golkar dan PAN di dalam KIB.', '\"Kita hormati pilihan politiknya PPP tapi ya tetap kita sampaikan kamu sudah punya tanda tangan di sini juga lho, kamu masak mau poligami, sementara dalam pemilu nggak ada poligami,\" jelas Nusron.', \"Harusnya, kata Nusron, PPP bercerai dulu dengan KIB. Baru setelahnya 'menikah' dengan PDIP untuk mendukung Ganjar.\", '\"Wong sudah tanda tangan di sini, udah teken surat di sini. Kok tanda tangan di sana kan, berarti itu kan poligami. Harusnya kan cerai dulu baru kemudian masa iddah, baru (nikah). Ini poligami, ya tapi karena kita masih punya poligami ya siapa tahu di sana kawin juga,\" jelasnya.', 'Namun demikian, Nusron menekankan bahwa Golkar menghormati pilihan PPP. Dia lantas menyinggung PPP yang merupakan partai Islam.', '\"Tapi kita hormati, karena memang ya gimana, wong memang ya boleh-boleh saja bersikap begitu kan,\" kata dia.']</td>\n",
       "      <td>Non-Hoax</td>\n",
       "    </tr>\n",
       "    <tr>\n",
       "      <th>7943</th>\n",
       "      <td>Unggahan Bobby di IG: Salaman dengan Ganjar, Dengarkan Prabowo Pidato</td>\n",
       "      <td>https://news.detik.com/pemilu/d-6822412/unggahan-bobby-di-ig-salaman-dengan-ganjar-dengarkan-prabowo-pidato</td>\n",
       "      <td>Jumat, 14 Jul 2023 13:09 WIB</td>\n",
       "      <td>['Wali Kota Medan Bobby Nasution menghadiri Rakernas XVI Asosiasi Pemerintah Kota Seluruh Indonesia (Apeksi) di Makassar. Momen saat dia menghadiri acara itu pun diunggahnya di Instagram miliknya.', 'Dilihat detikSumut, Jumat (14/7/2023), ada lima foto yang diunggah Bobby ke Instagram, termasuk kehadiran bakal calon presiden (bacapres) ke acara tersebut. Dari tiga bacapres yang saat ini sudah mendapatkan tiket untuk maju, hanya foto dua bacapres yang diunggah Bobby. Foto dua bacapres itu yakni Ganjar Pranowo dan Prabowo Subianto.', 'Dalam unggahannya, Bobby memperlihatkan momen saat dirinya bersalaman dengan Ganjar. Sementara di foto lainnya, Bobby memperlihatkan momen saat dirinya mendengarkan paparan dari Prabowo.', ' ADVERTISEMENT ', ' SCROLL TO CONTINUE WITH CONTENT ', 'Dalam unggahannya itu, Bobby tidak menyinggung soal bacapres yang hadir. Dia hanya bercerita soal adanya rekomendasi kepada pemerintah pusat dari kegiatan tersebut.', '\"Komisariat Wilayah (Komwil) I APEKSI khususnya Pemko Medan berharap, Rekomendasi-rekomendasi Rakernas XVI 2023, dapat disampaikan oleh DPP APEKSI kepada Kementerian, Lembaga terkait, serta kepada Presiden RI, Bapak @jokowi,\" tulis Bobby dalam unggahannya itu.', 'Baca di sini.', '', \"Simak juga 'Gaduh! Soal Bobby Dukung Begal Ditembak Mati':\", '', '[Gambas:Video 20detik]', '']</td>\n",
       "      <td>Non-Hoax</td>\n",
       "    </tr>\n",
       "    <tr>\n",
       "      <th>7944</th>\n",
       "      <td>PDIP Tegaskan Ada Rencana Pertemuan Megawati-Prabowo: Sekjen Sedang Atur</td>\n",
       "      <td>https://news.detik.com/pemilu/d-6822461/pdip-tegaskan-ada-rencana-pertemuan-megawati-prabowo-sekjen-sedang-atur</td>\n",
       "      <td>Jumat, 14 Jul 2023 13:35 WIB</td>\n",
       "      <td>['Wasekjen PDIP Sadarestuwati menanggapi Gerindra yang tengah menunggu jadwal Ketum Megawati Soekarnoputri untuk pertemuan dengan Prabowo Subianto. Sadarestu menegaskan rencana pertemuan kedua tokoh tersebut memang ada.', '\"Saya belum mendapatkan informasi pastinya kapan Ibu Ketua Umum akan menerima Pak Prabowo. Yang pasti rencana untuk bertemu memang ada,\" kata Sadarestu dikonfirmasi, Jumat (14/7/2023).', 'Sadarestu mengatakan Sekjen PDIP Hasto Kristiyanto tengah mengatur jadwal yang tepat. Ia menyebut Megawati tengah memiliki jadwal yang padat, salah satunya terkait dengan tugas di BRIN maupun BPIP.', ' ADVERTISEMENT ', ' SCROLL TO CONTINUE WITH CONTENT ', '\"Hanya Pak Sekjen sedang mengatur waktunya karena sebagaimana diketahui bahwa Ibu Ketua Umum jadwalnya memang sangat padat terkait dengan tugas-tugas beliau baik di BPIP maupun di BRIN,\" tutur Sadarestu.', '\"Jadi sabar saja nanti pada saatnya pasti diberi tahu,\" sambungnya.', 'Partai Gerindra sebelumnya menyatakan menyesuaikan waktu Megawati Soekarnoputri soal rencana pertemuan dengan Ketum mereka, Prabowo Subianto. Gerindra mengatakan Prabowo standby kapanpun.', '\"Pak Prabowo stanby saja kapan luangnya waktu Bu Mega,\" kata Ketua DPP Gerindra, Habiburokhman saat dihubungi, Selasa (11/7/2023).', '\"Kami paham Bu Mega punya banyak kesibukan, terlebih menjelang pemilu begini,\" lanjutnya.', 'Habiburokhman menuturkan Prabowo dan Gerindra menghormati Megawati. Gerindra kata Habiburokhman juga tidak mematok waktu rencana pertemuan kedua Ketum tersebut.', '\"Pak Prabowo dan Gerindra sangat menghormati Bu Mega dan kami tidak dalam posisi mematok waktu kapan,\" ujarnya.', '', \"Simak Video 'Muzani: Meski Pilihan Politik Berbeda, Prabowo Perlu Bertemu Megawati':\", '', '[Gambas:Video 20detik]', '']</td>\n",
       "      <td>Non-Hoax</td>\n",
       "    </tr>\n",
       "    <tr>\n",
       "      <th>7945</th>\n",
       "      <td>Nusron Singgung Penunggang Isu Munaslub Golkar Demi Capres Tertentu</td>\n",
       "      <td>https://news.detik.com/pemilu/d-6822195/nusron-singgung-penunggang-isu-munaslub-golkar-demi-capres-tertentu</td>\n",
       "      <td>Jumat, 14 Jul 2023 11:07 WIB</td>\n",
       "      <td>['Ketua Bappilu Partai Golkar Nusron Wahid mengungkapkan ada pihak yang menunggangi Partai Golkar untuk kendaraan bakal calon presiden (capres) tertentu. Menurut Nusron, pihak ini memanfaatkan isu wacana Musyawarah Nasional Luar Biasa (Munaslub) Golkar.', '\"Yang menunggangi ya orang yang mau menggunakan kendaraan Golkar untuk proses pencapresan yang bersangkutan. Kira-kira begitu. Atau pihak pihak tertentu yang sedang berusaha bergaining kepada calon presiden tertentu,\" kata Nusron Wahib menjawab pertanyaan siapa di balik wacana Munaslub Golkar di Hotel Merlynn Park, Jakarta Pusat, Kamis (13/7/2023).', 'Namun, anggota Komisi VI DPR RI enggan menyebut siapa yang menunggangi Partai Golkar untuk bakal capres tertentu. Padahal, kata Nusron, Partai Golkar fokus menghadapi Pilpres 2024 namun diterpa wacana Munaslub.', ' ADVERTISEMENT ', ' SCROLL TO CONTINUE WITH CONTENT ', '\"Soal siapa yang menunggangi itu nggak penting, pokoknya yang penting ini momennya momen yang tidak pas,\" ujar Nusron.', 'Lebih jauh soal arah pencapresan Partai Golkar, Nusron Wahid mengatakan partai berlambang beringin itu masih berdialog dengan sejumlah pihak. Baginya, belum waktunya untuk melakukan evaluasi atau Munaslub karena pencapresan yang dilakukan Partai Golkar.', '\"Prosesnya kan masih bergulir ya. Soal masalah pencapresan ini masih berkomunikasi kanan-kiri sehingga belum waktunya untuk melakukan proses evaluasi itu,\" ucap Nusron Wahid.', '\"Kecuali kalau nanti sudah gagal total itu baru melakukan proses evaluasi. Pintu masuknya ada di evaluasi. Evaluasi kan kalau sudah ada hasil, ini kan waktunya sedang proses. Tinggal kita lihat nanti hasilnya bagaimana,\" imbuhnya.', '', \"Simak juga 'Saat Gerindra Berharap Golkar Merapat Dukung Prabowo Capres':\", '', '[Gambas:Video 20detik]', '']</td>\n",
       "      <td>Non-Hoax</td>\n",
       "    </tr>\n",
       "  </tbody>\n",
       "</table>\n",
       "<p>12502 rows × 5 columns</p>\n",
       "</div>"
      ],
      "text/plain": [
       "                                                                            Title  \\\n",
       "0          Pakar soal Tim Sinkronisasi: Prabowo Ingin Transisi Pemerintahan Mulus   \n",
       "1     HIPMI Harap Pejabat Sektor Energi di Pemerintahan Prabowo Paham Tren Global   \n",
       "2           Dasco Jadi Ketua Gugus Tugas Sinkronisasi Pemerintahan Prabowo-Gibran   \n",
       "3              Arahan Jokowi ke Sri Mulyani soal Transisi ke Pemerintahan Prabowo   \n",
       "4      Elite Gerindra Temui Menkeu, Bahas Transisi ke Pemerintahan Prabowo-Gibran   \n",
       "...                                                                           ...   \n",
       "7941   Pertemuan di PAN Bahas Koalisi Besar? Jokowi: Yang Bicara Itu Ketua Partai   \n",
       "7942               PPP Dukung Ganjar Capres, Golkar Ingatkan soal Kesepakatan KIB   \n",
       "7943        Unggahan Bobby di IG: Salaman dengan Ganjar, Dengarkan Prabowo Pidato   \n",
       "7944     PDIP Tegaskan Ada Rencana Pertemuan Megawati-Prabowo: Sekjen Sedang Atur   \n",
       "7945          Nusron Singgung Penunggang Isu Munaslub Golkar Demi Capres Tertentu   \n",
       "\n",
       "                                                                                                                     Link  \\\n",
       "0           https://news.detik.com/pemilu/d-7369735/pakar-soal-tim-sinkronisasi-prabowo-ingin-transisi-pemerintahan-mulus   \n",
       "1     https://news.detik.com/pemilu/d-7369463/hipmi-harap-pejabat-sektor-energi-di-pemerintahan-prabowo-paham-tren-global   \n",
       "2          https://news.detik.com/detiktv/d-7367264/dasco-jadi-ketua-gugus-tugas-sinkronisasi-pemerintahan-prabowo-gibran   \n",
       "3             https://news.detik.com/detiktv/d-7367337/arahan-jokowi-ke-sri-mulyani-soal-transisi-ke-pemerintahan-prabowo   \n",
       "4      https://news.detik.com/detiktv/d-7367179/elite-gerindra-temui-menkeu-bahas-transisi-ke-pemerintahan-prabowo-gibran   \n",
       "...                                                                                                                   ...   \n",
       "7941     https://news.detik.com/pemilu/d-6651366/pertemuan-di-pan-bahas-koalisi-besar-jokowi-yang-bicara-itu-ketua-partai   \n",
       "7942                https://news.detik.com/pemilu/d-6714205/ppp-dukung-ganjar-capres-golkar-ingatkan-soal-kesepakatan-kib   \n",
       "7943          https://news.detik.com/pemilu/d-6822412/unggahan-bobby-di-ig-salaman-dengan-ganjar-dengarkan-prabowo-pidato   \n",
       "7944      https://news.detik.com/pemilu/d-6822461/pdip-tegaskan-ada-rencana-pertemuan-megawati-prabowo-sekjen-sedang-atur   \n",
       "7945          https://news.detik.com/pemilu/d-6822195/nusron-singgung-penunggang-isu-munaslub-golkar-demi-capres-tertentu   \n",
       "\n",
       "                               Time  \\\n",
       "0     Minggu, 02 Jun 2024 10:57 WIB   \n",
       "1     Minggu, 02 Jun 2024 00:56 WIB   \n",
       "2     Jumat, 31 Mei  2024 14:29 WIB   \n",
       "3     Jumat, 31 Mei  2024 14:55 WIB   \n",
       "4     Jumat, 31 Mei  2024 13:45 WIB   \n",
       "...                             ...   \n",
       "7941  Minggu, 02 Apr 2023 14:37 WIB   \n",
       "7942   Rabu, 10 Mei  2023 21:06 WIB   \n",
       "7943   Jumat, 14 Jul 2023 13:09 WIB   \n",
       "7944   Jumat, 14 Jul 2023 13:35 WIB   \n",
       "7945   Jumat, 14 Jul 2023 11:07 WIB   \n",
       "\n",
       "                                                                                                                                                                                                                                                                                                                                                                                                                                                                                                                                                                                                                                                                                                                                                                                                                                                                                                                                                                                                                                                                                                                                                                                                                                                                                                                                                                                                                                                                                                                                                                                                                                                                                                                                                                                                                                                                                                                                                                                                                                                                                                                                                                                                                                                                                                                                                                                                                                                                                                                                                                                                                                                                                                                                                                                                                                                                                                                                                                                                                                                                                                                                                                                                                                                                                                                                                                                                                                                                                                                                                                                                                                                                                                                                                                                         Narasi  \\\n",
       "0                                                                                                                                                                                                                                                                                                                                                                                                                                                                                                                                                                                                                                                                                                                                                                                               ['Direktur Parameter Politik Indonesia (PPI) Adi Prayitno memandang pembentukan Gugus Tugas Sinkronisasi Prabowo-Gibran merupakan upaya mempercepat proses sinkronisasi program di pemerintahan selanjutnya. Adi menilai hal ini sesuai dengan visi Prabowo-Gibran yang hendak melanjutkan program-program pemerintahan Presiden Joko Widodo (Jokowi).', '\"Sepertinya sebagai upaya untuk mempercepat pemerintahan Prabowo di masa mendatang. Tim sinkronisasi itu logikanya menyinkronkan program Jokowi dengan program Prabowo yang usung keberlanjutan,\" kata Adi kepada wartawan, Minggu (2/6/2024).', 'Menurut Adi, tim sinkronisasi tersebut dibuat untuk mematangkan persiapan Prabowo dan Gibran menuju era pemerintahannya. Dengan begitu, Prabowo dan Gibran dianggap tak perlu banyak melakukan penyesuaian usai dilantik.', '  ADVERTISEMENT  ', '  SCROLL TO CONTINUE WITH CONTENT  ', '\"Itu artinya, tim sinkronisasi dipersiapkan mematangkan segala persiapan Prabowo memerintah 5 tahun mendatang. Pas dilantik 20 Oktober Prabowo tinggal gaspol tak perlu lagi penyesuaian,\" ujarnya.', '\"Tim transisi ini sebagai persiapan peralihan pemerintahan dari Jokowi ke Prabowo. Segala sesuatunya pasti dimatangkan agar segala sesuatunya tak mulai dari awal,\" lanjut Adi.', 'Adi menganggap langkah Prabowo sebagai presiden terpilih membentuk tim sinkronisasi itu bagus dalam rangka menyelaraskan kebijakan. Dia menilai Prabowo menghendaki pemerintahannya langsung tancap gas setelah masa jabatan Jokowi berakhir. \"Sangat bagus untuk menyelaraskan kebijakan yang sudah dilakukan Jokowi dengan Prabowo, karena keduanya mengusung keberlanjutan. Dan pastinya ingin memastikan transisi pemerintahan mulus dan langsung tinggal landas,\" ujar Adi.', 'Diketahui, gugas tugas ini dikomandoi oleh Sufmi Dasco Ahmad yang menjabat Ketua Harian DPP Gerindra sekaligus Wakil Ketua DPR.', '\"Ini adalah Tim Gugus Tugas Sinkronisasi Pemerintahan Prabowo-Gibran yang diminta Presiden terpilih untuk melakukan sinkronisasi dengan kementerian-kementerian untuk mempersiapkan proses pemerintahan Prabowo-Gibran setelah beliau dilantik menjadi Presiden Republik Indonesia pada tanggal 20 Oktober,\" kata Sekjen Gerindra Ahmad Muzani usai menggelar pertemuan dengan Menkeu Sri Mulyani di kantor Kemenkeu, Jakarta Pusat, Jumat (31/5).', 'Muzani memperkenalkan jajaran Tim Gugus Tugas Sinkronisasi yang bertemu dengan Sri Mulyani. Tak hanya bertemu jajaran Kemenkeu, Gugus tugas ini juga berencana bertemu dengan kementerian lainnya.', 'Berikut ini daftar Tim Gugus Tugas Sinkronisasi Prabowo-Gibran:', 'Ketua Tim Gugus Tugas Sinkronisasi Prabowo Gibran: Sufmi Dasco Ahmad', 'Wakil Ketua: Ahmad Muzani', 'Bidang Keuangan: Thomas Djiwandono (Tommy Djiwandono)', 'Anggota: Budi Djiwandono, Sugiono, Prasetyo Hadi', '', 'Simak juga Video: Bahasan Prabowo dan Presiden Ukraina Saat Bertemu di Singapura', '', '[Gambas:Video 20detik]', '']   \n",
       "1     ['Presiden Indonesia terpilih 2024-2029, Prabowo Subianto, diharapkan dapat memanfaatkan sumber daya alam (SDA) yang tersedia. Sehingga, program kampanye yang dicanangkan Prabowo bisa terealisasi.', 'Sekretaris Jenderal Badan Pengurus Pusat Himpunan Pengusaha Muda Indonesia (BPP HIPMI), Anggawira mengatakan ketidakpastian global seperti sekarang ini menimbulkan masalah dari sisi energi. Sehingga, Indonesia, kata Anggawira, harus punya kemandirian domestik.', '\"Jadi (Indonesia) harus punya kemandirian domestik,\" kata Anggawira dalam keterangannya, Minggu (2/6/2024).', '  ADVERTISEMENT  ', '  SCROLL TO CONTINUE WITH CONTENT  ', 'Anggawira menambahkan kunci industrialisasi dan hilirisasi itu ketersediaan energi. Ketersediaan energinya,jelas Anggawira, harus adaptif dan affordable karena biaya energi jadi biaya dominan membangun industri.', '\"Jadi sebenarnya ketika pemerintah concern mampu lakukan terobosan dan penghematan, misalnya ada sumber LNG (gas alam cair) bagus tapi kenapa 20 tahun terakhir pembangunan jaringan gas nggak pernah dieksekusi komprehensif. Padahal kalau dilakukan kita akan menghemat subsidi LPG yang makin bengkak. Jadi saya rasa itu strategi juga,\" ucap Anggawira.', 'Anggawira menilai Indonesia sangat potensial mewujudkan kemandirian energi. Sebab Indonesia kaya akan SDA seperti minyak bumi dan panas bumi. Namun pemerintah mesti memanfaatkan ketersediaan SDA dengan baik.', '\"Sebenarnya kalau dari sisi energi, kita ini boleh dibilang punya berbagai macam sumber daya untuk membangun kemandiriannya, hanya tinggal mampu nggak pemerintah mengakselerasi potensi yang dimiliki SDA kita karena tentu pilihan-pilihan ini sangat bergantung pada kapasitas pimpinan seperti menterinya,\" ujar Anggawira.', 'Oleh karena itu, Anggawira berharap Prabowo menempatkan individu yang kompeten di bidang energi. Individu tersebut wajib memahami perkembangan isu global.', '\"Jadi memang ketika kita bicara pejabat dan pengambil kebijakan di sektor energi harapannya benar-benar orang yang memahami komprehensif tren global juga secara keilmuan dan bisnis,\" ujar Anggawira.', 'Anggawira juga berharap individu itu punya keberanian mengambil keputusan berat sekaligus berinovasi. \"Karena kalau nggak ada keputusan dan resiko diambil dengan cepat kita akan ketinggalan,\" lanjut Anggawira.', 'Diketahui, salah satu program kampanye PrabowoSubianto berjanji akan menciptakan bahan bakarB100yang bersumber darisingkonghinggatebu. Cita-cita mulia ini bertujuan agar Indonesia tak mengimpor BBM Solar dari luar negeri.', 'Anggawira berpesan perlunya riset yang memadai. Salah satunya guna memastikan kesesuaian antara bahan bakar alternatif dengan mesin yang dipakai.', '\"Pak Prabowo kan bicara soal peningkatan B30 hingga B100. Itu kan tentunya harus ada RnD nya (riset dan pengembangan) dan disesuaikan dengan mesinnya. Jangan sampai kita bisa produksi minyak sampai B100 dengan sawit dan etanol tapi cocok nggak dengan mesin-mesinnya? Itu PR-nya,\" ucap Anggawira.', 'Anggawira mengatakan Prabowo menegaskan komitmennya untuk membawa Indonesia menuju swasembada energi terbarukan yang bersumber dari tanaman seperti kelapa sawit, tebu hingga singkong yang tumbuh subur di tanah air. Prabowo mengatakan bahwa energi terbarukan yang bersumber dari tanaman sangat baik karena tidak membuat polusi sekaligus mengurangi ketergantungan Indonesia terhadap energi fosil yang tidak ramah lingkungan.', 'Prabowo, kata Anggawira, menyampaikan dalam beberapa tahun ke depan, Indonesia mampu mengubah BBM jenis biodiesel seluruhnya berbahan baku dari kelapa sawit yang bertujuan untuk menghentikan impor bahan bakar dari luar negeri.', '']   \n",
       "2                                                                                                                                                                                                                                                                                                                                                                                                                                                                                                                                                                                                                                                                                                                                                                                                                                                                                                                                                                                                                                                                                                                                                                                                                                                                                                                                                                                                                                                                                                                                                                                                                                                                                                                                                                                                                                                                                                                                                                                                                                                                                                                                                                                                                                                                                                                                                                                                                                                                                                                                                                                                                                                                                                                                                                                                                                                                                                                                                                                                                                                                                                                                                                                                                                                                                                                                                                                                                                                                                                                                             ['Ketua Harian Partai Gerindra, Sufmi Dasco Ahmad dipilih menjadi Ketua Tim Gugus Tugas Sinkronisasi Pemerintahan Prabowo-Gibran. Tim', 'untuk menyelaraskan RAPBN 2025 yang disusun pemerintahan saat ini dengan program kerja Prabowo-Gibran.']   \n",
       "3                                                                                                                                                                                                                                                                                                                                                                                                                                                                                                                                                                                                                                                                                                                                                                                                                                                                                                                                                                                                                                                                                                                                                                                                                                                                                                                                                                                                                                                                                                                                                                                                                                                                                                                                                                                                                                                                                                                                                                                                                                                                                                                                                                                                                                                                                                                                                                                                                                                                                                                                                                                                                                                                                                                                                                                                                                                                                                                                                                                                                                                                                                                                                                                                                                                                                                                                                                                                                                                                                                                   ['Menteri Keuangan (Menkeu) Sri Mulyani mengatakan Presiden Joko Widodo (Jokowi) mengetahui pertemuan dirinya dengan Tim Gugus Tugas Sinkronisasi Pemerintahan Prabowo-Gibran. Sri Mulyani mengaku mendapat tugas untuk membahas transisi ke pemerintahan Prabowo-Gibran.']   \n",
       "4                                                                                                                                                                                                                                                                                                                                                                                                                                                                                                                                                                                                                                                                                                                                                                                                                                                                                                                                                                                                                                                                                                                                                                                                                                                                                                                                                                                                                                                                                                                                                                                                                                                                                                                                                                                                                                                                                                                                                                                                                                                                                                                                                                                                                                                                                                                                                                                                                                                                                                                                                                                                                                                                                                                                                                                                                                                                                                                                                                                                                                                                                                                                                                                                                                                                                                                                                                                                                                                                                                                                                                           ['Jajaran Partai Gerindra bertemu dengan Menteri Keuangan Sri Mulyani di Kementerian Keuangan, Jakpus. Pertemuan terkait dengan pembahasan masa transisi ke pemerintahan Prabowo Subianto-Gibran Rakabuming Raka.']   \n",
       "...                                                                                                                                                                                                                                                                                                                                                                                                                                                                                                                                                                                                                                                                                                                                                                                                                                                                                                                                                                                                                                                                                                                                                                                                                                                                                                                                                                                                                                                                                                                                                                                                                                                                                                                                                                                                                                                                                                                                                                                                                                                                                                                                                                                                                                                                                                                                                                                                                                                                                                                                                                                                                                                                                                                                                                                                                                                                                                                                                                                                                                                                                                                                                                                                                                                                                                                                                                                                                                                                                                                                                                                                                                                                                                                                                                                         ...   \n",
       "7941                                                                                                                                                                                                                                                                                                                                                                                                                                                                                                                                                                                                                                                                                                                                                                                                                                                                                                                                                                                                                                                                                                                                                                                                                                                 ['Presiden Joko Widodo (Jokowi) menjelaskan pembicaraan para ketua umum pro pemerintahan dan dirinya di Kantor DPP PAN. Ia menyebut pembicaraan koalisi besar hanya diutarakan oleh pemimpin partai.', '\"Ya saya senang para ketua partai bisa bertemu, bisa silaturahmi dan ini atas undangan dari Ketua PAN Pak Zulkifli Hasan terhadap semua partai yang ada di pemerintah dalam rangka membicarakan hal-hal yang berkaitan dengan komitmen kebangsaan dan juga keberlanjutan pembangunan ke depan. Arahnya ke sana,\" kata Jokowi di Kantor DPP PAN, Warung Buncit, Jakarta Selatan, Minggu (2/4/2023).', 'Jokowi menyebut untuk urusan wacana munculnya gabungan KIB (Koalisi Indonesia Bersatu) dan KKIR (Koalisi Kebangkitan Indonesia Raya) biarlah menjadi pembicaraan partai. Jokowi menegaskan posisinya hanya mendengarkan.', ' ADVERTISEMENT ', ' SCROLL TO CONTINUE WITH CONTENT ', '\"Nanti ditanyakan (wacana gabungan KIB dan Gerindra-PKB), urusan itu ditanyakan kepada ketua-ketua partai atau gabungan partai yang sudah ada. Jangan ditanyakan kepada saya,\" ujar Jokowi.', 'Ia menyebut dalam pertemuan tertutup pembicaraan koalisi besar hanya dilakukan oleh ketum partai. Ia hanya mendengarkan.', '\"Yang berbicara itu ketua-ketua partai. Saya bagian mendengarkan saja,\" tutur Jokowi.', 'Untuk diketahui, para ketua umum partai politik yang hadir di acara PAN memang yang mewakili dua koalisi. Mereka yang hadir adalah Ketum Golkar Airlangga Hartarto, Ketum PAN Zulkifli Hasan dan Plt Ketum PPP Mardiono yang tergabung dalam KIB. Sementara itu, Ketum Gerindra Prabowo Subianto dan Ketum PKB Muhaimin Iskandar yang hadir saat ini tergabung dalam KKIR. PDIP yang diundang PAN tidak hadir karena ketua umum mereka, Megawati Soekarnoputri, disebut tengah bepergian.', 'Satu-satunya partai pro Jokowi yang tidak diundang dalam acara PAN ialah Partai NasDem. Waketum NasDem Ahmad Ali menduga pertemuan di markas PAN membahas koalisi besar.', '\"Saya menganggap bahwa pertemuan ini bukan pertemuan koalisi pemerintah karena NasDem kan koalisi pemerintah. Artinya, paling tidak sampai hari ini NasDem itu menjadi bagian daripada koalisi pemerintah,\" ujar Ali saat dihubungi hari ini.', '\"Kalau kemudian pertemuan hari ini kami tidak diundang ya kami berpikir positif aja, hari ini pertemuan KIB dan KKIR, bisa jadi membentuk \\'koalisi besar\\',\" imbuh dia.', '', \"Simak Video 'Jokowi soal Pilpres: Jangan Presiden Itu Diikut-ikutkan':\", '', '[Gambas:Video 20detik]', '']   \n",
       "7942                                                                                                                                                                                                                                                                                                                                                                                                                                                                                                                                                                                                                                                                                                                                                                                                                                                                                                                                                                                                                                                                                                                                                                                                                                                                                                                                                                                                                                                                                                                                                                                                                                                                                                                                                                                                                                                                                                                                                                                                                   ['Kepala Bappilu Presiden Partai Golkar, Nusron Wahid, menanggapi Partai Persatuan Pembangunan (PPP) yang telah mendeklarasikan dukungannya kepada Ganjar Pranowo sebagai calon wakil presiden. Nusron mengingatkan PPP yang masih tergabung bersama Koalisi Indonesia Bersatu (KIB) tapi mendukung calon presiden Ganjar Pranowo.', \"Hal itu disampaikan Nusron dalam acara Adu Perspektif kolaborasi detikcom dengan Total Politik dengan tema 'Berebut Kursi Nomor Dua', Rabu (10/5/2023). Host awalnya bertanya mengenai perasaan Golkar mengenai keputusan politik PPP tersebut.\", '\"Politik kok pakai hati, yang nggak ada perih, biasa, itu berarti realitas politik,\" kata Nusron.', ' ADVERTISEMENT ', ' SCROLL TO CONTINUE WITH CONTENT ', 'Nusron mengatakan Golkar menghormati pilihan PPP. Namun dia mengingatkan bahwa PPP masih terikat dengan Golkar dan PAN di dalam KIB.', '\"Kita hormati pilihan politiknya PPP tapi ya tetap kita sampaikan kamu sudah punya tanda tangan di sini juga lho, kamu masak mau poligami, sementara dalam pemilu nggak ada poligami,\" jelas Nusron.', \"Harusnya, kata Nusron, PPP bercerai dulu dengan KIB. Baru setelahnya 'menikah' dengan PDIP untuk mendukung Ganjar.\", '\"Wong sudah tanda tangan di sini, udah teken surat di sini. Kok tanda tangan di sana kan, berarti itu kan poligami. Harusnya kan cerai dulu baru kemudian masa iddah, baru (nikah). Ini poligami, ya tapi karena kita masih punya poligami ya siapa tahu di sana kawin juga,\" jelasnya.', 'Namun demikian, Nusron menekankan bahwa Golkar menghormati pilihan PPP. Dia lantas menyinggung PPP yang merupakan partai Islam.', '\"Tapi kita hormati, karena memang ya gimana, wong memang ya boleh-boleh saja bersikap begitu kan,\" kata dia.']   \n",
       "7943                                                                                                                                                                                                                                                                                                                                                                                                                                                                                                                                                                                                                                                                                                                                                                                                                                                                                                                                                                                                                                                                                                                                                                                                                                                                                                                                                                                                                                                                                                                                                                                                                                                                                                                                                                                                                                                                                                                                                                                                                                                                                                                                                                                                                                                                                                                                                                                                       ['Wali Kota Medan Bobby Nasution menghadiri Rakernas XVI Asosiasi Pemerintah Kota Seluruh Indonesia (Apeksi) di Makassar. Momen saat dia menghadiri acara itu pun diunggahnya di Instagram miliknya.', 'Dilihat detikSumut, Jumat (14/7/2023), ada lima foto yang diunggah Bobby ke Instagram, termasuk kehadiran bakal calon presiden (bacapres) ke acara tersebut. Dari tiga bacapres yang saat ini sudah mendapatkan tiket untuk maju, hanya foto dua bacapres yang diunggah Bobby. Foto dua bacapres itu yakni Ganjar Pranowo dan Prabowo Subianto.', 'Dalam unggahannya, Bobby memperlihatkan momen saat dirinya bersalaman dengan Ganjar. Sementara di foto lainnya, Bobby memperlihatkan momen saat dirinya mendengarkan paparan dari Prabowo.', ' ADVERTISEMENT ', ' SCROLL TO CONTINUE WITH CONTENT ', 'Dalam unggahannya itu, Bobby tidak menyinggung soal bacapres yang hadir. Dia hanya bercerita soal adanya rekomendasi kepada pemerintah pusat dari kegiatan tersebut.', '\"Komisariat Wilayah (Komwil) I APEKSI khususnya Pemko Medan berharap, Rekomendasi-rekomendasi Rakernas XVI 2023, dapat disampaikan oleh DPP APEKSI kepada Kementerian, Lembaga terkait, serta kepada Presiden RI, Bapak @jokowi,\" tulis Bobby dalam unggahannya itu.', 'Baca di sini.', '', \"Simak juga 'Gaduh! Soal Bobby Dukung Begal Ditembak Mati':\", '', '[Gambas:Video 20detik]', '']   \n",
       "7944                                                                                                                                                                                                                                                                                                                                                                                                                                                                                                                                                                                                                                                                                                                                                                                                                                                                                                                                                                                                                                                                                                                                                                                                                                                                                                                                                                                                                                                                                                                                                                                                                                                                                                                                                                                                                                                                                                                                                    ['Wasekjen PDIP Sadarestuwati menanggapi Gerindra yang tengah menunggu jadwal Ketum Megawati Soekarnoputri untuk pertemuan dengan Prabowo Subianto. Sadarestu menegaskan rencana pertemuan kedua tokoh tersebut memang ada.', '\"Saya belum mendapatkan informasi pastinya kapan Ibu Ketua Umum akan menerima Pak Prabowo. Yang pasti rencana untuk bertemu memang ada,\" kata Sadarestu dikonfirmasi, Jumat (14/7/2023).', 'Sadarestu mengatakan Sekjen PDIP Hasto Kristiyanto tengah mengatur jadwal yang tepat. Ia menyebut Megawati tengah memiliki jadwal yang padat, salah satunya terkait dengan tugas di BRIN maupun BPIP.', ' ADVERTISEMENT ', ' SCROLL TO CONTINUE WITH CONTENT ', '\"Hanya Pak Sekjen sedang mengatur waktunya karena sebagaimana diketahui bahwa Ibu Ketua Umum jadwalnya memang sangat padat terkait dengan tugas-tugas beliau baik di BPIP maupun di BRIN,\" tutur Sadarestu.', '\"Jadi sabar saja nanti pada saatnya pasti diberi tahu,\" sambungnya.', 'Partai Gerindra sebelumnya menyatakan menyesuaikan waktu Megawati Soekarnoputri soal rencana pertemuan dengan Ketum mereka, Prabowo Subianto. Gerindra mengatakan Prabowo standby kapanpun.', '\"Pak Prabowo stanby saja kapan luangnya waktu Bu Mega,\" kata Ketua DPP Gerindra, Habiburokhman saat dihubungi, Selasa (11/7/2023).', '\"Kami paham Bu Mega punya banyak kesibukan, terlebih menjelang pemilu begini,\" lanjutnya.', 'Habiburokhman menuturkan Prabowo dan Gerindra menghormati Megawati. Gerindra kata Habiburokhman juga tidak mematok waktu rencana pertemuan kedua Ketum tersebut.', '\"Pak Prabowo dan Gerindra sangat menghormati Bu Mega dan kami tidak dalam posisi mematok waktu kapan,\" ujarnya.', '', \"Simak Video 'Muzani: Meski Pilihan Politik Berbeda, Prabowo Perlu Bertemu Megawati':\", '', '[Gambas:Video 20detik]', '']   \n",
       "7945                                                                                                                                                                                                                                                                                                                                                                                                                                                                                                                                                                                                                                                                                                                                                                                                                                                                                                                                                                                                                                                                                                                                                                                                                                                                                                                                                                                                                                                                                                                                                                                                                                                                                                                                                                                                                                                                                                                                  ['Ketua Bappilu Partai Golkar Nusron Wahid mengungkapkan ada pihak yang menunggangi Partai Golkar untuk kendaraan bakal calon presiden (capres) tertentu. Menurut Nusron, pihak ini memanfaatkan isu wacana Musyawarah Nasional Luar Biasa (Munaslub) Golkar.', '\"Yang menunggangi ya orang yang mau menggunakan kendaraan Golkar untuk proses pencapresan yang bersangkutan. Kira-kira begitu. Atau pihak pihak tertentu yang sedang berusaha bergaining kepada calon presiden tertentu,\" kata Nusron Wahib menjawab pertanyaan siapa di balik wacana Munaslub Golkar di Hotel Merlynn Park, Jakarta Pusat, Kamis (13/7/2023).', 'Namun, anggota Komisi VI DPR RI enggan menyebut siapa yang menunggangi Partai Golkar untuk bakal capres tertentu. Padahal, kata Nusron, Partai Golkar fokus menghadapi Pilpres 2024 namun diterpa wacana Munaslub.', ' ADVERTISEMENT ', ' SCROLL TO CONTINUE WITH CONTENT ', '\"Soal siapa yang menunggangi itu nggak penting, pokoknya yang penting ini momennya momen yang tidak pas,\" ujar Nusron.', 'Lebih jauh soal arah pencapresan Partai Golkar, Nusron Wahid mengatakan partai berlambang beringin itu masih berdialog dengan sejumlah pihak. Baginya, belum waktunya untuk melakukan evaluasi atau Munaslub karena pencapresan yang dilakukan Partai Golkar.', '\"Prosesnya kan masih bergulir ya. Soal masalah pencapresan ini masih berkomunikasi kanan-kiri sehingga belum waktunya untuk melakukan proses evaluasi itu,\" ucap Nusron Wahid.', '\"Kecuali kalau nanti sudah gagal total itu baru melakukan proses evaluasi. Pintu masuknya ada di evaluasi. Evaluasi kan kalau sudah ada hasil, ini kan waktunya sedang proses. Tinggal kita lihat nanti hasilnya bagaimana,\" imbuhnya.', '', \"Simak juga 'Saat Gerindra Berharap Golkar Merapat Dukung Prabowo Capres':\", '', '[Gambas:Video 20detik]', '']   \n",
       "\n",
       "     Klasifikasi Berita  \n",
       "0              Non-Hoax  \n",
       "1              Non-Hoax  \n",
       "2              Non-Hoax  \n",
       "3              Non-Hoax  \n",
       "4              Non-Hoax  \n",
       "...                 ...  \n",
       "7941           Non-Hoax  \n",
       "7942           Non-Hoax  \n",
       "7943           Non-Hoax  \n",
       "7944           Non-Hoax  \n",
       "7945           Non-Hoax  \n",
       "\n",
       "[12502 rows x 5 columns]"
      ]
     },
     "execution_count": 62,
     "metadata": {},
     "output_type": "execute_result"
    }
   ],
   "source": [
    "df_nonhoax_kesehatan.dropna()\n",
    "df_nonhoax_PP.dropna()"
   ]
  },
  {
   "cell_type": "code",
   "execution_count": 63,
   "metadata": {},
   "outputs": [],
   "source": [
    "def preprocess_time_column(df):\n",
    "    df['Time'] = df['Time'].str.replace(r'^[^,]*,\\s', '', regex=True)\n",
    "    \n",
    "    df['Time'] = df['Time'].str.replace(r'\\s\\d{2}:\\d{2}\\sWIB$', '', regex=True)\n",
    "\n",
    "    df['Time'] = df['Time'].str.replace(r'\\b\\d{2}\\b\\s', '', regex=True)\n",
    "    \n",
    "    df['Time'] = df['Time'].str.replace(r'\\s+', ' ', regex=True)\n",
    "    \n",
    "    return df"
   ]
  },
  {
   "cell_type": "code",
   "execution_count": 64,
   "metadata": {},
   "outputs": [],
   "source": [
    "df_nonhoax_kesehatan = preprocess_time_column(df_nonhoax_kesehatan)\n",
    "df_nonhoax_PP = preprocess_time_column(df_nonhoax_PP)"
   ]
  },
  {
   "cell_type": "code",
   "execution_count": 65,
   "metadata": {},
   "outputs": [
    {
     "data": {
      "text/plain": [
       "Mei 2024    744\n",
       "Apr 2024    480\n",
       "Mar 2024    454\n",
       "Feb 2024    358\n",
       "Jan 2024    309\n",
       "Des 2023    298\n",
       "Okt 2023    298\n",
       "Nov 2023    247\n",
       "Jun 2023    216\n",
       "Jul 2023    211\n",
       "Nov 2022    167\n",
       "Mei 2023    164\n",
       "Feb 2023    156\n",
       "Okt 2022    156\n",
       "Sep 2022    152\n",
       "Sep 2023    148\n",
       "Agu 2023    148\n",
       "Jan 2023    146\n",
       "Agu 2022    131\n",
       "Apr 2023    130\n",
       "Mar 2023    128\n",
       "Des 2022    118\n",
       "Jul 2022    100\n",
       "Jun 2024      7\n",
       "Jun 2022      1\n",
       "Name: Time, dtype: int64"
      ]
     },
     "execution_count": 65,
     "metadata": {},
     "output_type": "execute_result"
    }
   ],
   "source": [
    "df_nonhoax_kesehatan['Time'].value_counts()"
   ]
  },
  {
   "cell_type": "code",
   "execution_count": 66,
   "metadata": {},
   "outputs": [
    {
     "data": {
      "text/plain": [
       "Jan 2024    1433\n",
       "Feb 2024    1330\n",
       "Des 2023    1327\n",
       "Okt 2023    1001\n",
       "Apr 2024     997\n",
       "Nov 2023     974\n",
       "Mar 2024     907\n",
       "Mei 2024     872\n",
       "Sep 2023     844\n",
       "Agu 2023     780\n",
       "Jul 2023     516\n",
       "Jun 2023     425\n",
       "Mei 2023     406\n",
       "Apr 2023     147\n",
       "Feb 2023     131\n",
       "Jan 2023     129\n",
       "Mar 2023     112\n",
       "Jun 2024      88\n",
       "Des 2022      74\n",
       "Nov 2022      58\n",
       "Okt 2022      31\n",
       "Sep 2022      15\n",
       "Agu 2022       5\n",
       "Jul 2022       5\n",
       "Jun 2022       1\n",
       "Name: Time, dtype: int64"
      ]
     },
     "execution_count": 66,
     "metadata": {},
     "output_type": "execute_result"
    }
   ],
   "source": [
    "df_nonhoax_PP['Time'].value_counts()"
   ]
  },
  {
   "cell_type": "code",
   "execution_count": 67,
   "metadata": {},
   "outputs": [],
   "source": [
    "def stratified_sampling(dataframe, total_samples):\n",
    "    # Pastikan indeks DataFrame unik dan reset indeks\n",
    "    dataframe = dataframe.reset_index(drop=True)\n",
    "    \n",
    "    # Mengelompokkan DataFrame berdasarkan kolom 'Time' untuk membentuk strata\n",
    "    strata = dataframe.groupby('Time')\n",
    "    \n",
    "    # Menghitung alokasi awal sampel menggunakan pembulatan ke bawah (floor)\n",
    "    samples_per_strata = {name: int(np.floor(len(group) / len(dataframe) * total_samples))\n",
    "                          for name, group in strata}\n",
    "    \n",
    "    # Menghitung total sampel yang telah dialokasikan sejauh ini\n",
    "    total_assigned_samples = sum(samples_per_strata.values())\n",
    "    \n",
    "    # Menghitung jumlah sampel yang tersisa untuk didistribusikan\n",
    "    remaining_samples = total_samples - total_assigned_samples\n",
    "    \n",
    "    # Menyortir strata berdasarkan proporsi terbesar ke terkecil\n",
    "    strata_keys = sorted(strata.groups.keys(), \n",
    "                         key=lambda x: len(strata.groups[x]) / len(dataframe), \n",
    "                         reverse=True)\n",
    "    \n",
    "    # Distribusikan sisa sampel secara proporsional ke strata terbesar terlebih dahulu\n",
    "    for i in range(remaining_samples):\n",
    "        samples_per_strata[strata_keys[i % len(strata_keys)]] += 1\n",
    "    \n",
    "    # Debug: Mencetak jumlah sampel yang dialokasikan untuk setiap strata\n",
    "    print(f\"Distribusi Sampel: {samples_per_strata}\")\n",
    "    print(f\"Total Sampel Ditugaskan: {sum(samples_per_strata.values())}\")\n",
    "    \n",
    "    # Mengumpulkan sampel dari setiap strata\n",
    "    sampled_dfs = [strata.get_group(name).sample(n=samples_per_strata[name], random_state=128)\n",
    "                   for name in strata_keys]\n",
    "    \n",
    "    # Menggabungkan semua sampel menjadi satu DataFrame\n",
    "    df_stratified = pd.concat(sampled_dfs).reset_index(drop=True)\n",
    "    \n",
    "    # Pastikan jumlah total sampel sesuai dengan total_samples\n",
    "    df_stratified = df_stratified.sample(n=total_samples, random_state=128).reset_index(drop=True)\n",
    "\n",
    "    return df_stratified"
   ]
  },
  {
   "cell_type": "code",
   "execution_count": 68,
   "metadata": {},
   "outputs": [
    {
     "name": "stdout",
     "output_type": "stream",
     "text": [
      "Distribusi Sampel: {'Agu 2022': 25, 'Agu 2023': 28, 'Apr 2023': 25, 'Apr 2024': 93, 'Des 2022': 22, 'Des 2023': 58, 'Feb 2023': 30, 'Feb 2024': 69, 'Jan 2023': 28, 'Jan 2024': 60, 'Jul 2022': 19, 'Jul 2023': 41, 'Jun 2022': 0, 'Jun 2023': 42, 'Jun 2024': 1, 'Mar 2023': 24, 'Mar 2024': 88, 'Mei 2023': 31, 'Mei 2024': 144, 'Nov 2022': 32, 'Nov 2023': 48, 'Okt 2022': 30, 'Okt 2023': 58, 'Sep 2022': 29, 'Sep 2023': 28}\n",
      "Total Sampel Ditugaskan: 1053\n",
      "Distribusi Sampel: {'Agu 2022': 1, 'Agu 2023': 199, 'Apr 2023': 38, 'Apr 2024': 254, 'Des 2022': 18, 'Des 2023': 338, 'Feb 2023': 34, 'Feb 2024': 339, 'Jan 2023': 32, 'Jan 2024': 365, 'Jul 2022': 1, 'Jul 2023': 132, 'Jun 2022': 0, 'Jun 2023': 109, 'Jun 2024': 22, 'Mar 2023': 28, 'Mar 2024': 231, 'Mei 2023': 104, 'Mei 2024': 223, 'Nov 2022': 14, 'Nov 2023': 248, 'Okt 2022': 7, 'Okt 2023': 255, 'Sep 2022': 3, 'Sep 2023': 215}\n",
      "Total Sampel Ditugaskan: 3210\n"
     ]
    }
   ],
   "source": [
    "df_nonhoax_kesehatan = stratified_sampling(df_nonhoax_kesehatan, 1053)\n",
    "df_nonhoax_PP = stratified_sampling(df_nonhoax_PP, 3210)"
   ]
  },
  {
   "cell_type": "code",
   "execution_count": 69,
   "metadata": {},
   "outputs": [
    {
     "name": "stdout",
     "output_type": "stream",
     "text": [
      "\n",
      "Jumlah total sampel yang dihasilkan: 1053\n",
      "\n",
      "Jumlah total sampel yang dihasilkan: 3210\n"
     ]
    }
   ],
   "source": [
    "print(\"\\nJumlah total sampel yang dihasilkan:\", len(df_nonhoax_kesehatan))\n",
    "print(\"\\nJumlah total sampel yang dihasilkan:\", len(df_nonhoax_PP))"
   ]
  },
  {
   "cell_type": "code",
   "execution_count": 70,
   "metadata": {},
   "outputs": [
    {
     "name": "stdout",
     "output_type": "stream",
     "text": [
      "(1053, 5)\n",
      "(3210, 5)\n"
     ]
    }
   ],
   "source": [
    "print(df_nonhoax_kesehatan.shape)\n",
    "print(df_nonhoax_PP.shape)"
   ]
  },
  {
   "cell_type": "markdown",
   "metadata": {},
   "source": [
    "### Ambil Kolom yang Diperlukan"
   ]
  },
  {
   "cell_type": "code",
   "execution_count": 71,
   "metadata": {},
   "outputs": [],
   "source": [
    "df_nonhoax_kesehatan = df_nonhoax_kesehatan[['Narasi', 'Klasifikasi Berita']]\n",
    "df_nonhoax_PP = df_nonhoax_PP[['Narasi', 'Klasifikasi Berita']]"
   ]
  },
  {
   "cell_type": "markdown",
   "metadata": {},
   "source": [
    "### Bersihkan noise 'ADVERTISEMENT' & 'SCROLL TO CONTINUE', dan bagian akhir pada teks"
   ]
  },
  {
   "cell_type": "code",
   "execution_count": 72,
   "metadata": {},
   "outputs": [],
   "source": [
    "df_nonhoax_kesehatan['Narasi'] = df_nonhoax_kesehatan['Narasi'].astype(str)\n",
    "df_nonhoax_PP['Narasi'] = df_nonhoax_PP['Narasi'].astype(str)"
   ]
  },
  {
   "cell_type": "code",
   "execution_count": 73,
   "metadata": {},
   "outputs": [],
   "source": [
    "def clean_noise(text):\n",
    "    # Hapus noise awal, seperti link, kemungkinan hashtag, dan teks tambahan diakhir narasi\n",
    "    text = re.sub(r'http[s]?://\\S+|www\\.\\S+|#\\S+', ' ', text)\n",
    "    text = re.sub(r'[^\\x00-\\x7F]', ' ', text)\n",
    "    text = re.sub(r\"'Simak.*\", '', text)\n",
    "    text = re.sub(r'\"Simak.*', '', text)\n",
    "    text = re.sub(r\"'Baca halaman.*\", '', text)\n",
    "    text = re.sub(r'\\[Gambas:.*', '', text)\n",
    "    text = re.sub(r'Lihat juga.*', '', text)\n",
    "    text = re.sub(r'Lihat video.*', '', text)\n",
    "    text = re.sub(r'Lihat Video.*', '', text)\n",
    "    text = re.sub(r\"'Artikel.*\", '', text)\n",
    "    text = re.sub(r'\"Artikel.*', '', text)\n",
    "    text = re.sub(r\"'NEXT:.*\", '', text)\n",
    "    text = re.sub(r'\"NEXT:.*', '', text)\n",
    "    text = re.sub(r\" {4}Halaman.*\", '', text)\n",
    "    text = text.strip()\n",
    "    return text\n",
    "\n",
    "df_nonhoax_kesehatan['Narasi'] = df_nonhoax_kesehatan['Narasi'].apply(clean_noise)\n",
    "df_nonhoax_PP['Narasi'] = df_nonhoax_PP['Narasi'].apply(clean_noise)\n",
    "\n",
    "patterns = [\n",
    "    r'ADVERTISEMENT',\n",
    "    r'SCROLL TO CONTINUE WITH CONTENT'\n",
    "]\n",
    "\n",
    "# Fungsi untuk menghapus pola noise\n",
    "def remove_patterns(text, patterns):\n",
    "    for pattern in patterns:\n",
    "        text = re.sub(pattern, '', text)\n",
    "        \n",
    "    return text\n",
    "\n",
    "# Terapkan penghapusan pola noise\n",
    "df_nonhoax_kesehatan['Narasi'] = df_nonhoax_kesehatan['Narasi'].apply(lambda x: remove_patterns(x, patterns))\n",
    "df_nonhoax_PP['Narasi'] = df_nonhoax_PP['Narasi'].apply(lambda x: remove_patterns(x, patterns))"
   ]
  },
  {
   "cell_type": "code",
   "execution_count": 74,
   "metadata": {},
   "outputs": [],
   "source": [
    "pd.set_option('display.max_colwidth', None)"
   ]
  },
  {
   "cell_type": "code",
   "execution_count": 75,
   "metadata": {},
   "outputs": [
    {
     "data": {
      "text/html": [
       "<div>\n",
       "<style scoped>\n",
       "    .dataframe tbody tr th:only-of-type {\n",
       "        vertical-align: middle;\n",
       "    }\n",
       "\n",
       "    .dataframe tbody tr th {\n",
       "        vertical-align: top;\n",
       "    }\n",
       "\n",
       "    .dataframe thead th {\n",
       "        text-align: right;\n",
       "    }\n",
       "</style>\n",
       "<table border=\"1\" class=\"dataframe\">\n",
       "  <thead>\n",
       "    <tr style=\"text-align: right;\">\n",
       "      <th></th>\n",
       "      <th>Narasi</th>\n",
       "      <th>Klasifikasi Berita</th>\n",
       "    </tr>\n",
       "  </thead>\n",
       "  <tbody>\n",
       "    <tr>\n",
       "      <th>0</th>\n",
       "      <td>['Seorang di Aceh Timur, Aceh, RA (76) kembali membakar kantor pemerintah di daerah tersebut. Setelah minggu lalu Dinas Sosial (Dinsos) menjadi sasaran, RA kali ini diduga membakar Dinas Kesehatan (Dinkes).', '\"Pelaku diduga membakar kantor Dinkes siang tadi sekitar pukul 13.00 WIB saat warga sedang melaksanakan salat Jumat,\" kata Kapolsek Idi Rayeuk AKP Teuku Syahril kepada wartawan, Jumat (22/12/2023).', 'Berdasarkan keterangan pegawai Dinkes, kata Syahril, RA awalnya datang ke kantor tersebut sekitar pukul 09.00 WIB pagi tadi. Dua jam berselang, RA disebut masuk ke ruangan pelayanan kesehatan untuk meminta sumbangan.', '  ', '  ', 'Pegawai disebut memberikan sumbangan seikhlasnya namun RA tidak terima. Dia lalu disebut marah-marah ke pegawai dan mengancam akan membakar kantor tersebut.', '\"Dia kemudian datang kembali ke pelayanan kesehatan dengan membawa 2 jeriken diduga berisi BBM dan menyiram ke ruang tersebut. Dia diduga melakukan pembakaran,\" jelas Syahril.', 'RA sudah diamankan polisi untuk dimintai keterangan. Polisi juga akan memeriksa kejiwaan pelaku.', 'Sebelumnya, kantor Dinas Sosial Aceh Timur, Aceh diduga dibakar seorang pria berinisial RA (76). Pelaku ditangkap polisi tak lama usai kejadian.', 'Informasi diperoleh detikSumut, api diketahui membakar pintu masuk kantor tersebut pada Rabu (13/12/2023) malam. Petugas jaga di kantor disebut mencoba melakukan pemadaman setelah beberapa saat api menyala.', 'Polisi yang mendapatkan informasi adanya kebakaran tersebut meluncur ke lokasi dan menghubungi petugas pemadam kebakaran. Sejumlah armada pemadam dikerahkan ke lokasi untuk menjinakkan api.', '\"Alhamdulillah 20 menit kemudian, api berhasil dipadamkan,\" kata Kapolsek Idi Rayeuk AKP Teuku Syahril kepada wartawan.']</td>\n",
       "      <td>Non-Hoax</td>\n",
       "    </tr>\n",
       "    <tr>\n",
       "      <th>1</th>\n",
       "      <td>['Begadang merupakan satu kebiasaan yang kerap dilakukan sebagian orang baik untuk bekerja, nonton bola dan lainnya. Namun, kebiasaan begadang terlalu sering memiliki risiko kesehatan.']</td>\n",
       "      <td>Non-Hoax</td>\n",
       "    </tr>\n",
       "    <tr>\n",
       "      <th>2</th>\n",
       "      <td>['Keluarga Carlo Saba mengatakan Carlo tidak mengetahui ada yang salah dengan jantungnya. Sebab, selama ini Carlo selalu mengira bahwa dirinya memiliki gangguan pernapasan.', '  ', '  ']</td>\n",
       "      <td>Non-Hoax</td>\n",
       "    </tr>\n",
       "    <tr>\n",
       "      <th>3</th>\n",
       "      <td>['Kabupaten Klaten menyimpan deretan objek wisata mata air atau umbul. Namun, ada satu yang unik yang bahkan didatangi Sultan hingga tamu luar negeri untuk terapi.', 'Adalah Umbul Brintik yang secara formal sebagai satu-satunya yang ditetapkan Bupati Klaten sebagai umbul terapi kesehatan. Secara geografis tempat ini berbeda dengan objek wisata umbul lainnya yang ada di sisi utara Kabupaten Klaten. Umbul ini terletak di Desa Malang Jiwan, Kecamatan Kebonarum, wilayah selatan Kabupaten Klaten.', 'Umbul utama di kawasan objek wisata Umbul Brintik terletak di sisi paling barat. Posisinya paling tinggi dengan kedalaman sekitar 1,5 meter. Airnya jernih dengan bebatuan andesit di dasarnya, dan ini yang disebut membuat umbul ini dijadikan khusus terapi kesehatan.', '  ', '  ', 'Bagi pengunjung wanita, tenang saja, terdapat kolam khusus wanita dengan kedalaman yang lebih dangkal. Sedangkan di sisi kolam wanita, terdapat dua kolam untuk dewasa dan anak dengan tampilan kolam modern berkeramik.', 'Di sisi utara juga ada dua kolam khusus anak bernuansa modern dengan wahana bermainnya. Total ada enam kolam di bawah teduhnya pepohonan dan panorama asri pedesaan itu.', 'Jika traveler berkunjung ke destinasi yang satu ini, jangan kaget jika bertemu para lansia atau orang dengan kursi roda. Ya, karena konsep Umbul Brintik sebenarnya untuk terapi kesehatan.', '\"Dulunya umbul ini kan sejak lama ramai untuk sesirih, menyepi. Nah tahun 2017 ketika ada BUMdes dengan Dana Desa, akhirnya otak-atik kan orang butuh sehat sehingga konsepnya wisata terapi yang jadi satu-satunya mungkin di Indonesia,\" papar Kades Malang Jiwan, Suprianto, dikutip dari detikJateng Rabu (13/12/2023).', 'Dikatakan Suprianto, meskipun ada enam kolam sebenarnya semua untuk terapi kesehatan karena kandungan airnya sangat bagus untuk kesehatan. Baik kandungan mineral maupun pH.', '\"Kita sudah lab airnya, pH nya 8,2, mineralnya luar biasa, kadar oksigennya tinggi. Bahkan seorang profesor dari UGM mengelab airnya hasil TDS (total dissolved solid) di sini 40, artinya bisa langsung minum sebenarnya dengan debit 90 liter per detik,\" tutur Suprianto.', 'Umbul itu, sambung Suprianto, dikembangkan dengan Dana Desa sejak tahun 2017 sampai sekarang sudah menyerap sekitar Rp 2 miliar. Jumlah pengunjung terus naik tetapi sempat jatuh karena pandemi COVID-19.', '\"Sempat terpuruk saat pandemi COVID tetapi dua tahun ini mulai membaik. Sekarang pengunjung harian bisa 500, dan Sabtu 1.000 dan Minggu bisa 2.000 orang dari berbagai daerah, dari Medan pernah dari Papua juga ada,\" lanjut Suprianto.', 'Bulan November lalu, ungkap Suprianto, juga kedatangan Profesor Huang Zeiwei dan Profesor Xu Li dari Zhejiang Medical University. Keduanya mengambil sampel air dan menyatakan luar biasa.', '\"Bilang luar biasa kok ada air seperti ini. Selain itu artis seperti Yati Pesek dan Waljinah juga sering ke sini, kita juga dapat sertifikat dari RS Bethesda dan kerja sama dengan RSUP Dr Sardjito, juga dengan komunitas anak pengidap kanker untuk lokasi terapi,\" kata Suprianto.', 'Bahkan menariknya, dulunya terdapat investor dari Singapura yang ingin membeli air umbul setiap hari. Tetapi tawaran itu ditolaknya karena mendapat nasihat Sri Sultan Hamengku Buwono X, Gubernur DIY.', '\"Sri Sultan sering ke sini, saya sharing dengan beliau dan dibilang ojo pisan-pisan adol banyu (jangan sekali-kali jual air) jadi saya tidak berani. Juga Gusti Tedjo Wulan Solo juga pernah ke sini,\" imbuh Suprianto.', 'Letaknya tak jauh dari pusat kota Klaten, yakni sekitar lima kilometer. Untuk sampai ke sumber air alami itu, traveler bisa memilih jalur jalan Jogja-Solo.', 'Sesampainya di simpang tiga bekas PG Gondang Winangun, traveler perlu belok ke jalan raya ke arah Kecamatan Kemalang. Tiba di simpang tiga Pasar Basin, kendaraan tinggal mengambil ke kanan sejauh 100 meter sampai simpang tiga PTPN Kebonarum.', 'Dari simpang tiga itu belok ke kiri, kemudian lurus ke arah Kecamatan Karangnongko. Di tepi jalan raya traveler akan bertemu gapura Desa Wisata Malang Jiwan dan lurus ke kanan sekitar 200 meter Umbul Brintik ada di tepi jalan.', 'Area parkir mobil dan motor yang luas disediakan di dekat loket masuk. Harga tiket masuk hanya Rp 10.000 sudah free biaya parkir dengan jam buka mulai pukul 04.30 WIB sampai 17.30 WIB.']</td>\n",
       "      <td>Non-Hoax</td>\n",
       "    </tr>\n",
       "    <tr>\n",
       "      <th>4</th>\n",
       "      <td>['Growtheum Capital Partners (GCP) menggandeng Mitra Plumbon Healthcare Group (MPHG) sebuah grup rumah sakit multispesialisasi di Jawa Barat.', 'Saat ini MPGH mengoperasikan 4 rumah sakit dengan kapasitas 1.200 tempat tidur. CEO MPHG Festus Andrianto Susilo menjelaskan kerja sama ini bertujuan untuk ekspansi penawaran layanan kesehatan MPHG yang berkualitas dan terjangkau, termasuk kalangan pasien BPJS Kesehatan yang kini layanannya terbatas.', 'Dia menyebut kerja sama ini diharapkan bisa terus memperluas akses layanan kesehatan swasta yang berkualitas di seluruh Indonesia.', '        ', '        ', '\"Growtheum adalah investor berpengalaman dengan riwayat terbukti dalam menumbuhkan dan membangun rumah sakit di Asia Tenggara. Melalui kerjasama ini, kami berharap untuk memperluas akses untuk layanan kesehatan swasta berkualitas ke seluruh komunitas Indonesia. Dengan memanfaatkan pengetahuan MPHG dan sumber daya GCP, kami berkomitmen untuk terus mendorong kepesatan perkembangan layanan kesehatan Indonesia secara berlanjut,\" kata dia dalam siaran pers, Senin (24/7/2023).', 'Partner di GCP Choo Koon Po menambahkan MPHG menyadari pentingnya memberikan layanan kesehatan yang berkualitas kepada semua kalangan masyarakat, termasuk kalangan yang ditanggung oleh BPJS Kesehatan. \"Fokus GCP adalah untuk membangun pusat-pusat keunggulan dan memperluas cakupan di beberapa wilayah utama yang belum memiliki layanan memadai, untuk memperkuat nama dan posisi Mitra Plumbon sebagai pemimpin di sektor kesehatan swasta yang berfokus pada BPJS di Indonesia,\" ujar dia.', '\"MPHG bangga atas kesepakatan kerja sama ini dengan GCP. Kemitraan ini meningkatkan kemampuan kami, mempercepat rencana ekspansi kami, dan memperkuat kepemimpinan kami di pasar,\" kata Ketua MPHG Saraswati Gondotesna.', 'Senior Managing Director GCP Kusnadi Pradinata menjelaskan dengan kerja sama ini diharapkan akan berdampak untuk industri kesehatan dan bisa terus melayani masyarakat Indonesia. Managing Partner GCP Amit Kunal menyebut kemitraan antara GCP dan MPHG menandai langkah signifikan untuk meningkatkan investasi infrastruktur kesehatan Indonesia dan memenuhi kebutuhan kesehatan masyarakat Indonesia yang terus bertumbuh.', '\"Melalui persatuan ilmu dan sumber daya kami, kedua organisasi berkomitmen untuk memberikan layanan kesehatan yang berkualitas, mudah diakses, dan berkontribusi pada perkembangan berkelanjutan infrastruktur kesehatan di Indonesia,\" ujarnya.', '']</td>\n",
       "      <td>Non-Hoax</td>\n",
       "    </tr>\n",
       "    <tr>\n",
       "      <th>5</th>\n",
       "      <td>['Riset terbaru yang dilakukan di Amerika Serikat membuktikan bahwa ChatGPT mampu mendiagnosis kesehatan dengan tepat. Kira-kira seberapa akurat ChatGPT mampu mendiagnosis kesehatan?', 'Dilansir dari detikINET, dalam riset yang melibatkan 2.000 orang dewasa di Amerika tersebut, sebanyak 52% telah memberikan gejala-gejala penyakit mereka kepada sistem AI seperti ChatGPT. Dari jumlah itu, sebagian besar mengatakan bahwa ChatGPT menjawabnya dengan benar.', '\"Lebih dari separuh responden (52%) menyatakan bahwa mereka telah memberikan daftar gejala mereka kepada model bahasa besar (LLM) seperti ChatGPT untuk mendapatkan diagnosis,\" kata perusahaan yang melakukan survei tersebut, UserTesting.', '  ', '  ', '\"Dari mereka, 81% telah mendapatkan diagnosis dari LLM, dan ketika ditanya tentang diagnosis mereka setelah berkonsultasi dengan dokter, 84% mengatakan bahwa diagnosis tersebut akurat,\" lanjutnya.', 'Dari penelitian tersebut, dapat dinilai bahwa orang-orang Amerika Serikat percaya dengan teknologi AI. Meskipun hampir setengah dari orang Inggris dan sepertiga dari orang Australia mengatakan bahwa mereka tidak mempercayai AI untuk tugas-tugas yang berhubungan dengan kesehatan. Di Amerika sendiri, hanya 6% orang yang setuju.', 'Melansir dari Forbes, Jumat (5/1/2024) sebagian besar orang Amerika mencari solusi perawatan kesehatan di luar pengaturan dokter-pasien dan rumah sakit tradisional.', 'Tercatat sebanyak 26 juta orang tidak memiliki asuransi kesehatan. Sementara mereka yang memiliki asuransi kesehatan, biasanya merasa kesulitan karena biaya tambahan yang mahal atau kesulitan untuk membuat janji temu. Sehingga tak heran orang-orang Amerika lebih memilih alternatif lain yang dinilai lebih menarik.', 'Ditambah lagi, banyak daerah pedesaan dan pusat kota di Amerika Serikat yang mungkin sama sekali tidak memiliki pilihan perawatan kesehatan lokal dan nyaman terlepas dari status asuransi Anda.', '\"Meningkatnya prevalensi gurun perawatan kesehatan atau bahkan kurangnya akses biasa di Amerika berarti bahwa AI akan dimasukkan ke dalam perjalanan perawatan kesehatan untuk memberikan perawatan pada skala yang kita butuhkan seiring bertambahnya usia negara ini,\" kata Lija Hogan, yang memimpin strategi penelitian di UserTesting.', 'Terlepas dari itu semua, Hogan menilai pilihan terbaik mungkin adalah kolaborasi dari dokter sungguhan dan Ai yang saling bekerjasama. Menurutnya, dokter dan pasien perlu mencari tahu bersama bagaimana AI dapat memainkan peran terbaik dalam perjalanan perawatan kesehatan.', '\"Ini berarti kita harus mencari tahu pagar pembatas yang tepat untuk memastikan orang-orang mendapatkan saran berkualitas tinggi dalam konteks yang tepat dan bagaimana menghubungkan pasien dengan penyedia layanan kesehatan,\" ujarnya.', 'Sayangnya hingga saat ini sistem yang terhubung dan tanpa batas dari para profesional medis dan AI yang terlatih di bidang kesehatan masih belum terwujud.']</td>\n",
       "      <td>Non-Hoax</td>\n",
       "    </tr>\n",
       "    <tr>\n",
       "      <th>6</th>\n",
       "      <td>['Makanan memiliki pengaruh yang sangat besar terhadap kesehatan jantung. Pasalnya, beberapa jenis makanan tertentu dapat memicu kondisi yang bisa meningkatkan risiko penyakit jantung.', 'Misalnya, makanan berlemak dapat menyebabkan tekanan darah tinggi yang memengaruhi kesehatan otot jantung serta pembuluh darah. Contoh lain, makanan yang tinggi gula dapat menyebabkan diabetes yang juga meningkatkan risiko penyakit jantung.', 'Karenanya, penting mengonsumsi makanan sehat untuk jantung dan menjadikan makanan tersebut bagian dari pola asupan sehari-hari.', '  ', '  ', 'Sayuran hijau seperti bayam, selada, dan kale memiliki kandungan vitamin, mineral, dan antioksidan yang tinggi. Tak hanya itu, sayuran-sayuran tersebut juga kaya akan vitamin K yang dapat memelihara kesehatan pembuluh darah. Sejumlah studi juga menemukan sayuran hijau dapat membantu menurunkan tekanan darah, sehingga mencegah risiko hipertensi dan penyakit jantung.', 'Dikutip dari Healthline, gandum utuh adalah gandum yang masih memiliki bagian lengkap mulai dari kulit (bekatul atau bran), endosperm, dan bagian inti (germ). Adapun jenis makanan yang tergolong gandum utuh di antaranya nasi coklat, oats, gandum hitam (rye), gandum kuda (buckwheat), quinoa, dan barley.', 'Gandum utuh memiliki sejumlah manfaat bagi kesehatan jantung. Misalnya, menurunkan risiko penyakit kardiovaskular. Hal itu menjadi alasan mengapa gandum utuh disarankan sebagai pengganti nasi untuk pengidap diabetes.', 'Sementara dalam jurnal yang dipublikasikan di American Heart Association, mengonsumsi gandum utuh terbukti dapat mencegah risiko penyakit jantung koroner, stroke, serta sindrom metabolik.', 'Buah beri-berian seperti stroberi, blackberi, blueberi, dan raspberi sejak lama dikenal karena efek antioksidan yang dimilikinya. Zat tersebut memiliki peran besar dalam mencegah peradangan yang bisa memicu munculnya penyakit jantung. Beri-berian juga mengandung senyawa antosianin yang dapat mengurangi risiko penyakit arteri koroner seperti serangan jantung dan hipertensi.', 'Mengonsumsi alpukat dapat membantu mengurangi tingkat kolesterol dalam tubuh. Sebagaimana diketahui, kolesterol tinggi merupakan salah satu faktor yang dapat meningkatkan risiko penyakit kardiovaskular, termasuk penyakit jantung.', 'Sebuah studi menyebutkan mengonsumsi dua buah alpukat setiap hari dapat menurunkan risiko penyakit kardiovaskular hingga 16 persen, dan risiko penyakit jantung koroner hingga 21 persen.', 'Alpukat juga kaya akan potasium yang dapat membantu menurunkan tekanan darah.', 'Berbagai jenis kacang-kacangan, seperti walnut dan almond, merupakan sumber makanan yang kaya akan nutrisi, mineral, vitamin, dan serat yang membuat menjadi makanan yang sehat untuk jantung.', 'Walnut misalnya, kacang ini kaya akan serat, serta makronutrien seperti magnesium, manganese, dan tembaga. Studi juga mengungkapkan mengonsumsi walnut setiap hari dapat melindungi dari risiko penyakit kardiovaskular dan menurunkan tingkat kolesterol jahat (low-density lipoprotein/LDL) dalam tubuh.', 'Sementara, kacang almond mengandung banyak vitamin dan mineral yang penting untuk kesehatan jantung. Almond juga tinggi serat dan lemak tak jenuh, dua nutrisi penting yang dibutuhkan untuk mencegah risiko penyakit jantung.', 'Tak hanya jadi camilan lezat, cokelat hitam atau dark chocolate ternyata juga baik dikonsumsi untuk menjaga kesehatan jantung. Dikutip dari laman Healthline, cokelat hitam kaya akan senyawa antioksidan seperti flavonoid yang dapat menunjang kesehatan jantung.', 'Studi juga menunjukkan mengonsumsi cokelat hitam dalam jumlah tertentu (tidak lebih dari 6 kali dalam seminggu) dapat mengurangi risiko penyakit jantung koroner, stroke, hingga diabetes. Namun perlu diingat, cokelat hitam juga mengandung gula dan kalori yang tinggi, sehingga konsumsinya tetap harus dibatasi.', \"Ikan salmon merupakan salah satu 'superfood' yang baik untuk kesehatan jantung. Sebab, daging ikan salmon mengandung omega-3 yang tinggi, otomatis bisa mengurangi risiko gangguan irama detak jantung (aritmia) dan menurunkan tekanan darah.\", 'Tak hanya itu, ikan salmon juga disebut dapat menurunkan kadar trigliserida dalam tubuh, serta meredakan peradangan.', 'Ubi jalar, atau yang dalam bahasa Inggris disebut sweet potato, merupakan alternatif pengganti karbohidrat yang baik untuk kesehatan jantung. Ubi jalar adalah makanan dengan indeks glikemik rendah, sehingga cocok dikonsumsi oleh orang-orang yang memiliki risiko gula darah tinggi dan diabetes.', 'Selain itu, ubi jalar juga kaya akan vitamin A, serat, dan likopen yang dapat mengurangi risiko penyakit jantung koroner.', 'Penasaran kenapa minyak olive menjadi pilihan utama berbagai masakan di negara barat? Ternyata, minyak olive memiliki kandungan antioksidan yang dapat meredakan peradangan dalam tubuh dan menurunkan risiko penyakit kronis.', 'Tak hanya itu, minyak olive memiliki kandungan lemak tak jenuh yang baik untuk menjaga kesehatan jantung. Tidak heran jika orang-orang di negara barat selalu menggunakan minyak olive untuk memasak.']</td>\n",
       "      <td>Non-Hoax</td>\n",
       "    </tr>\n",
       "    <tr>\n",
       "      <th>7</th>\n",
       "      <td>['Rumput laut biasanya digunakan dalam masakan Jepang. Sebagai makanan yang bisa dimakan, rumput laut sering disebut sebagai makanan super.', 'Hal ini karena manfaat kesehatan yang didapat dari sayuran hijau tersebut. Ada mineral, antioksidan, serta vitamin A, C, E, dan B12. Yuk, ketahui berbagai jenis rumput laut yang biasanya dipakai dalam masakan.', 'Ada banyak jenis rumput laut yang biasanya dipakai untuk hidangan masakan. Ada nori, kombu, hingga selada laut.', '  ', '  ', 'Nori adalah rumput laut berwarna merah keunguan yang berubah menjadi hijau tua saat dikeringkan. Mengutip Master Class, untuk menjadi nori yang kering, rumput ini dipanggang dan ditekan agar menjadi lembaran.', 'Biasanya, restoran Jepang akan menggunakan nori untuk membungkus sushi dan onigiri. Selain berbentuk lembaran, ada juga nori yang dibuat menjadi bubuk. Nori jenis ini biasanya digunakan sebagai bumbu untuk masakan tradisional Jepang.', 'Kombu menjadi salah satu rumput laut yang paling populer di Asia Timur. Pulau terbesar di Jepang, Hokkaido merupakan salah satu penghasil kombu terbesar. Meski begitu, kombu juga banyak ditemukan di sepanjang pantai California.', 'Kombu menjadi bahan utama dashi, yaitu kaldu sup bagi banyak masakan Jepang, seperti miso soup dan ramen. Rumput laut ini juga digunakan untuk membuat teh Jepang yang disebut dengan kombucha.', 'Hutan rumput laut laminaria menyediakan spesies rumput laut bernama Wakame. Wakame dikenal juga sebagai mustard laut,', 'Tak hanya kombu, rumput laut berwarna hijau tua ini juga sering digunakan untuk membuat miso soup. Rasanya halus seperti sutra dan merupakan sumber asam lemak omega-3 yang baik.', 'Dulse adalah rumput laut kemerahan yang ada di perairan dingin Atlantik Utara dan Samudra Pasifik. Rumput laut ini tumbuh menempel pada bebatuan.', 'Dulse biasanya dijual dalam bentuk serpihan kering, diparut atau digiling menjadi bubuk. Biasanya, dulse digunakan dalam sup, dipanggang menjadi keripik dan digunakan sebagai bumbu daging.', 'Hijiki adalah rumput laut berwarna coklat yang berubah menjadi hitam saat dikeringkan. Tumbuhan ini diambil di garis pantai berbatu China, Jepang, dan Korea.', 'Setelah dipanen dari laut, Hijiki direbus dan dikeringkan. Seringkali, rumput laut ini dimasak dengan tumisan atau disajikan dengan ikan.', 'Menurut Tasting Table, selada laut dikenal dengan nama Ulva Lactuca. Bentuk dan warnanya memang mirip dengan sayuran selada.', 'Selada laut disajikan dalam kondisi segar atau kering. Cita rasanya agak berbeda, selada laut segar rasanya asin dan agak pedas dengan aroma segar seperti rumput. Sementara selada laut kering rasanya begitu pekat.', 'Irish moss adalah alga ungu dan merah yang berasal dari garis pantai Atlantik di Amerika Serikat dan Eropa. Jenis rumput laut ni menyerupai pohon mini dengan cabang-cabang yang menyebar dari batangnya.', 'Irish mosh bisa digunakan sebagai pengental makanan. Sehingga, biasanya rumput laut i digunakan untuk membuat puding dan mengentalkan kaldu.', 'Arame merupakan rumput laut yang populer lainnya dimasukkan ke dalam makanan. Sebab, rumput laut ini memiliki nilai gizi yang tinggi dengan rasa agak manis.', 'Arame berbentuk untaian panjang berwarna coklat yang menyerupai pasta kering. Menurur Fitday, rumput laut ini kaya akan serat, kalsium, zat besi, yodium, magnesium, dan vitamin A.', 'Tak hanya memiliki cita rasa yang enak, rumput laut mempunyai sejumlah manfaat kesehatan. Mengutip Healthline, berikut beberapa di antaranya:', 'Rumput laut mengandung banyak serat dan tidak mengandung kalori. Hal ini dapat membantu membuat rasa kenyang lebih lama, sehingga menunda rasa lapar.', 'Pada tahun 2040, sebanyak 642 juta orang di dunia diperkirakan menderita diabetes tipe 1 atau tipe 2. Rumput laut menjadi fokus penelitian untuk membantu orang-orang yang berisiko terkena diabetes.', 'Sebuah penelitian selama 8 minggu melibatkan 60 orang Jepang. Hasilnya, zat dalam rumput laut coklat bisa membantu meningkatkan kontrol gula darah.', 'Rumput laut merupakan sumber serat yang sangat baik dan dikenal bisa meningkatkan kesehatan usus. Jumlah seratnya sekitar 25%-75% dari berat rumput laut kering, lebih tinggi dari kandungan serat pada kebanyakan buah dan sayur.', 'Serat bisa digunakan sebagai sumber makanan bagi bakteri di usus besar. Gula yang ditemukan dalam rumput laut terbukti meningkatkan pertumbuhan bakteri baik di usus.', 'Radikal bebas berlebih dianggap sebagai penyebab dari beberapa penyakit, seperti jantung dan diabetes. Antioksidan dapat membuat radikal bebas menjadi kurang reaktif.', 'Rumput laut mengandung antioksidan vitamin A, C, dan E, serta senyawa tumbuhan yang bermanfaat seperti flavonoid dan karotenoid. Kedua senyawa tersebut terbukti melindungi sel-sel tubuh dari kerusakan akibat radikal bebas.', 'Kelenjar tiroid melepaskan hormon tiroid sesuai dengan jumlah kebutuhan tubuh. Sehingga, kelenjar ini menjamin pertumbuhan dan perkembangan yang normal.', 'Tak hanya itu, kelenjar tiroid juga mengatur sejumlah fungsi homeostasis tubuh dalam upaya mempertahankan metabolisme tubuh yang normal. Untuk membuat hormon, tiroid bergantung pada yodium.', 'Tanpa yodium yang cukup, maka tubuh bisa mengalami gejala seperti perubahan berat badan, kelelahan, atau pembengkakan leher seiring berjalannya waktu. Rumput laut mempunyai kemampuan dalam menyerap yodium dalam jumlah terkonsentrasi dari laut. Kandungan yodiumnya bervariasi, tergantung pada jenis, tempat tumbuh, dan cara pengolahan rumput laut.', 'Itulah beberapa jenis rumput laut yang populer dimakan beserta manfaat mengkonsumsinya. Apa rumput laut termasuk makanan favoritmu?']</td>\n",
       "      <td>Non-Hoax</td>\n",
       "    </tr>\n",
       "    <tr>\n",
       "      <th>8</th>\n",
       "      <td>['Kini, peserta BPJS Kesehatan tidak perlu datang pagi-pagi hanya untuk mengambil antrean untuk berobat. Sekarang, Anda dapat mengambil antrean BPJS Kesehatan secara online.', 'Dengan adanya antrean online BPJS Kesehatan, Anda bisa mendapatkan pelayanan kesehatan dengan mudah tanpa menimbulkan kerumunan di fasilitas kesehatan.', 'Secara umum, untuk mendapatkan antrean faskes BPJS Kesehatan secara online dapat dilakukan dengan 2 cara, yaitu melalui aplikasi Mobile JKN dan website. Berikut merupakan cara untuk mendapatkan antrean online BPJS Kesehatan, yaitu:', '        ', '        ', '1. Buka aplikasi Mobile JKN, login menggunakan email atau nomor BPJS serta password yang didaftarkan sebelumnya.', '2. Pilih menu \"Pendaftaran Pelayanan.\"', '3. Pilih Poli yang akan dituju (jika perlu dirujuk ke rumah sakit, Anda dapat memilih menu antrean).', '4. Nomor antrean akan diterima secara otomatis.', '1. Buka laman antrean.bpjs-kesehatan.go.id/antrean-faskes/  '2. Masukan username, password dan kode captcha.', '3. Setelah masuk, maka menu dashboard akan ditampilkan.', '4. Pilihlah menu console box.', '5. Klik tombol open pada console box tersebut, maka akan tampil halaman console box yakni Peserta BPJS dan Non Peserta BPJS.', '6. Untuk melakukan pengambilan nomor antrean peserta BPJS, pilihlah menu BPJS (bagi peserta BPJS).', '7. Masukkan nomor peserta BPJS atau NIK peserta, kemudian pilihlah poli yang akan dituju.', '8. Klik lanjutkan untuk mengambil nomor antrean pasien.', '9. Nomor antrean akan muncul, peserta dapat mencetak nomor antrean faskes BPJS untuk dibawa ke faskes untuk memperoleh pengobatan.', 'Demikian cara untuk mendapatkan antrean BPJS Kesehatan secara online.', '', '</td>\n",
       "      <td>Non-Hoax</td>\n",
       "    </tr>\n",
       "    <tr>\n",
       "      <th>9</th>\n",
       "      <td>['Menjelang bulan Ramadhan, pasti kamu akan menemukan banyak toko buah yang mulai menjual kurma. Pada umumnya, buah tersebut dijual dalam bentuk kemasan kotak atau secara eceran.', 'Perlu diketahui, kurma adalah salah satu buah yang memiliki banyak manfaat untuk kesehatan tubuh. Dalam agama Islam, Nabi Muhammad SAW bahkan menganjurkan agar umatnya berbuka puasa dengan buah kurma karena bisa membawa berkah.', 'Lantas apa saja sih manfaat buah kurma dan apa saja jenis-jenis kurma yang umum dikonsumsi? Simak pembahasannya secara lengkap dalam artikel ini yuk.', '  ', '  ', 'Kurma adalah salah satu buah yang memiliki ciri khas unik. Meski warnanya cenderung coklat kehitaman, namun rasanya lembut dan manis. Rasa manis dari kurma juga unik, lho. Jika kamu mencicipi kurma, pasti akan merasakan perbedaan manisnya buah kurma dengan rasa manis yang ada di gula pasir.', 'Dilansir situs Kementerian Kesehatan, di dalam 100 gram kurma terkandung sekitar 280 kalori dan aneka nutrisi lainnya, seperti:', 'Tak hanya itu, kurma juga mengandung asam folat, vitamin B, vitamin K, mangan, antioksidan, lutein, dan flavonoid. Maka jangan heran kalau kurma disebut sebagai buah yang punya banyak manfaat untuk kesehatan.', 'Ada sejumlah manfaat yang didapat jika kamu rutin mengkonsumsi kurma. Biar nggak penasaran, simak sembilan manfaat kurma untuk kesehatan tubuh di bawah ini.', 'Mengutip situs Kementerian Kesehatan, kurma dapat membantu melancarkan pencernaan. Sebab, kurma mengandung serat pangan yang baik untuk melancarkan pencernaan ketika buang air besar.', 'Selain itu, kurma juga mengandung asam amino yang bermanfaat untuk menstimulasi pencernaan makanan. Hal ini membuat nutrisi lebih cepat diserap oleh sistem pencernaan, lalu nutrisi tersebut akan disalurkan ke seluruh tubuh.', 'Manfaat kurma berikutnya yakni dapat menjaga kesehatan tulang. Soalnya, kurma mengandung mineral seperti fosfor, kalium, kalsium, dan magnesium yang bermanfaat untuk menjaga kesehatan dan kekuatan tulang.', 'Kandungan antioksidan di dalam kurma ternyata dapat memperkuat kekebalan tubuh, sehingga kita tidak mudah terserang penyakit dan virus. Hal ini disebabkan oleh kandungan antioksidan yang berfungsi untuk mencegah peradangan serta radikal bebas.', 'Ada tiga jenis antioksidan yang paling potensial di dalam kurma, yaitu:', 'Anemia adalah suatu kondisi di mana tubuh mengalami penurunan jumlah sel darah merah. Untuk mengatasi hal tersebut, detikers bisa rutin mengkonsumsi kurma, karena terdapat kandungan zat besi yang membantu pembentukan sel darah merah di tubuh.', 'Manfaat kurma selanjutnya adalah dapat menjaga kesehatan bagi ibu hamil dan janinnya. Sebab, kurma mengandung banyak nutrisi yang penting untuk kesehatan ibu hamil serta sang janin, seperti vitamin, protein, mineral, serat, karbohidrat, dan antioksidan.', 'Selain menjaga kesehatan ibu hamil dan janin, kurma juga dapat melancarkan proses persalinan, lho. Dari hasil penelitian oleh Jordan University of Science and Technology, disebutkan kalau rutin makan kurma muda pada ibu hamil dapat melancarkan proses persalinan.', 'Selain itu, dengan tercukupinya asupan nutrisi karena mengkonsumsi kurma, hal ini dapat mencegah terjadinya masalah kesehatan pada bayi, seperti cacat bawaan lahir, kelahiran prematur, atau terlahir dengan berat badan rendah.', 'Dilansir situs Healthline, kurma juga bermanfaat untuk menjaga kesehatan dan meningkatkan fungsi otak. Dengan rutin menyantap kurma, hal ini dapat membantu menurunkan inflamasi di otak dan mencegah risiko terkena Alzheimer.', 'Meskipun rasanya manis, namun kurma dapat menstabilkan kadar gula darah di dalam tubuh. Dijelaskan dalam buku Mengais Berkah di Bumi Sang Rasul oleh Ahmad Hawassy, makan kurma muda secara rutin dapat menjaga kadar gula darah tetap normal. Sebab, kandungan gula pada kurma muda jauh lebih sedikit daripada kurma tua.', 'Kurma mengandung karbohidrat dan gula yang bersifat mengenyangkan. Apabila kamu makan kurma saat berbuka puasa, hal tersebut membuat perut terasa lebih cepat kenyang.', 'Nah, cara tersebut juga dapat membantu menurunkan berat badan. Soalnya, detikers tidak perlu mengkonsumsi makanan dalam jumlah banyak, karena sudah merasa kenyang akibat makan kurma.', 'Ada banyak sekali jenis-jenis kurma yang dijual di pasaran. Mengutip buku Kurma Khasiat dan Olahannya oleh Suyanti Satuhu, berikut adalah jenis-jenis kurma dari Timur Tengah dan Afrika.', 'Adapun jenis-jenis kurma yang banyak beredar di Indonesia, yakni sebagai berikut:', 'Nah, itu dia sembilan manfaat kurma untuk kesehatan tubuh beserta jenis-jenisnya. Jangan ragu untuk mengkonsumsi kurma ya, karena buah yang satu ini memiliki segudang manfaat untuk kesehatan.']</td>\n",
       "      <td>Non-Hoax</td>\n",
       "    </tr>\n",
       "  </tbody>\n",
       "</table>\n",
       "</div>"
      ],
      "text/plain": [
       "                                                                                                                                                                                                                                                                                                                                                                                                                                                                                                                                                                                                                                                                                                                                                                                                                                                                                                                                                                                                                                                                                                                                                                                                                                                                                                                                                                                                                                                                                                                                                                                                                                                                                                                                                                                                                                                                                                                                                                                                                                                                                                                                                                                                                                                                                                                                                                                                                                                                                                                                                                                                                                                                                                                                                                                                                                                                                                                                                                                                                                                                                                                                                                                                                                                                                                                                                                                                                                                                                                                                                                                                                                                                                                                                                                                                                                                                                                                                                                                                                                                                                                                                                                                                                                                                                                                                                                                                                                                                                                                                                                                                                                                                                                                                                                                                                                                                                                                                                                                                                                                                                                                                                                                                                                                                                                                                                                                                                                                                                                                                                                                                                                                                                                                                                                                                                                              Narasi  \\\n",
       "0                                                                                                                                                                                                                                                                                                                                                                                                                                                                                                                                                                                                                                                                                                                                                                                                                                                                                                                                                                                                                                                                                                                                                                                                                                                                                                                                                                                                                                                                                                                                                                                                                                                                                                                                                                                                                                                                                                                                                                                                                                                                                                                                                                                                                                                                                                                                                                                                                                                                                                                                                                                                                                                                                                                                                                                                                                                                                                                                                                                                                                                                                                                                                                                                                                                                                                                                                                                                                                                                                                                                                                                                                                                                                                                                                                                                                                                                                                                                                                                                                         ['Seorang di Aceh Timur, Aceh, RA (76) kembali membakar kantor pemerintah di daerah tersebut. Setelah minggu lalu Dinas Sosial (Dinsos) menjadi sasaran, RA kali ini diduga membakar Dinas Kesehatan (Dinkes).', '\"Pelaku diduga membakar kantor Dinkes siang tadi sekitar pukul 13.00 WIB saat warga sedang melaksanakan salat Jumat,\" kata Kapolsek Idi Rayeuk AKP Teuku Syahril kepada wartawan, Jumat (22/12/2023).', 'Berdasarkan keterangan pegawai Dinkes, kata Syahril, RA awalnya datang ke kantor tersebut sekitar pukul 09.00 WIB pagi tadi. Dua jam berselang, RA disebut masuk ke ruangan pelayanan kesehatan untuk meminta sumbangan.', '  ', '  ', 'Pegawai disebut memberikan sumbangan seikhlasnya namun RA tidak terima. Dia lalu disebut marah-marah ke pegawai dan mengancam akan membakar kantor tersebut.', '\"Dia kemudian datang kembali ke pelayanan kesehatan dengan membawa 2 jeriken diduga berisi BBM dan menyiram ke ruang tersebut. Dia diduga melakukan pembakaran,\" jelas Syahril.', 'RA sudah diamankan polisi untuk dimintai keterangan. Polisi juga akan memeriksa kejiwaan pelaku.', 'Sebelumnya, kantor Dinas Sosial Aceh Timur, Aceh diduga dibakar seorang pria berinisial RA (76). Pelaku ditangkap polisi tak lama usai kejadian.', 'Informasi diperoleh detikSumut, api diketahui membakar pintu masuk kantor tersebut pada Rabu (13/12/2023) malam. Petugas jaga di kantor disebut mencoba melakukan pemadaman setelah beberapa saat api menyala.', 'Polisi yang mendapatkan informasi adanya kebakaran tersebut meluncur ke lokasi dan menghubungi petugas pemadam kebakaran. Sejumlah armada pemadam dikerahkan ke lokasi untuk menjinakkan api.', '\"Alhamdulillah 20 menit kemudian, api berhasil dipadamkan,\" kata Kapolsek Idi Rayeuk AKP Teuku Syahril kepada wartawan.']   \n",
       "1                                                                                                                                                                                                                                                                                                                                                                                                                                                                                                                                                                                                                                                                                                                                                                                                                                                                                                                                                                                                                                                                                                                                                                                                                                                                                                                                                                                                                                                                                                                                                                                                                                                                                                                                                                                                                                                                                                                                                                                                                                                                                                                                                                                                                                                                                                                                                                                                                                                                                                                                                                                                                                                                                                                                                                                                                                                                                                                                                                                                                                                                                                                                                                                                                                                                                                                                                                                                                                                                                                                                                                                                                                                                                                                                                                                                                                                                                                                                                                                                                                                                                                                                                                                                                                                                                                                                                                                                                                                                                                                                                                                                                                                                                                                                                                                                                                                                                                                                                                                                                                                                                                                                                                                                                                                                                                                                                                                                                                                                                                                                                                                                                                                         ['Begadang merupakan satu kebiasaan yang kerap dilakukan sebagian orang baik untuk bekerja, nonton bola dan lainnya. Namun, kebiasaan begadang terlalu sering memiliki risiko kesehatan.']   \n",
       "2                                                                                                                                                                                                                                                                                                                                                                                                                                                                                                                                                                                                                                                                                                                                                                                                                                                                                                                                                                                                                                                                                                                                                                                                                                                                                                                                                                                                                                                                                                                                                                                                                                                                                                                                                                                                                                                                                                                                                                                                                                                                                                                                                                                                                                                                                                                                                                                                                                                                                                                                                                                                                                                                                                                                                                                                                                                                                                                                                                                                                                                                                                                                                                                                                                                                                                                                                                                                                                                                                                                                                                                                                                                                                                                                                                                                                                                                                                                                                                                                                                                                                                                                                                                                                                                                                                                                                                                                                                                                                                                                                                                                                                                                                                                                                                                                                                                                                                                                                                                                                                                                                                                                                                                                                                                                                                                                                                                                                                                                                                                                                                                                                                                         ['Keluarga Carlo Saba mengatakan Carlo tidak mengetahui ada yang salah dengan jantungnya. Sebab, selama ini Carlo selalu mengira bahwa dirinya memiliki gangguan pernapasan.', '  ', '  ']   \n",
       "3                                                                                                                                                                                                                                                                                                                                                                                                                                                                                                                                                                                                                                                                                                                                                                                                                                                                                                                                                                                                                                                                                                                                                                                                                                                                                                                                                                                    ['Kabupaten Klaten menyimpan deretan objek wisata mata air atau umbul. Namun, ada satu yang unik yang bahkan didatangi Sultan hingga tamu luar negeri untuk terapi.', 'Adalah Umbul Brintik yang secara formal sebagai satu-satunya yang ditetapkan Bupati Klaten sebagai umbul terapi kesehatan. Secara geografis tempat ini berbeda dengan objek wisata umbul lainnya yang ada di sisi utara Kabupaten Klaten. Umbul ini terletak di Desa Malang Jiwan, Kecamatan Kebonarum, wilayah selatan Kabupaten Klaten.', 'Umbul utama di kawasan objek wisata Umbul Brintik terletak di sisi paling barat. Posisinya paling tinggi dengan kedalaman sekitar 1,5 meter. Airnya jernih dengan bebatuan andesit di dasarnya, dan ini yang disebut membuat umbul ini dijadikan khusus terapi kesehatan.', '  ', '  ', 'Bagi pengunjung wanita, tenang saja, terdapat kolam khusus wanita dengan kedalaman yang lebih dangkal. Sedangkan di sisi kolam wanita, terdapat dua kolam untuk dewasa dan anak dengan tampilan kolam modern berkeramik.', 'Di sisi utara juga ada dua kolam khusus anak bernuansa modern dengan wahana bermainnya. Total ada enam kolam di bawah teduhnya pepohonan dan panorama asri pedesaan itu.', 'Jika traveler berkunjung ke destinasi yang satu ini, jangan kaget jika bertemu para lansia atau orang dengan kursi roda. Ya, karena konsep Umbul Brintik sebenarnya untuk terapi kesehatan.', '\"Dulunya umbul ini kan sejak lama ramai untuk sesirih, menyepi. Nah tahun 2017 ketika ada BUMdes dengan Dana Desa, akhirnya otak-atik kan orang butuh sehat sehingga konsepnya wisata terapi yang jadi satu-satunya mungkin di Indonesia,\" papar Kades Malang Jiwan, Suprianto, dikutip dari detikJateng Rabu (13/12/2023).', 'Dikatakan Suprianto, meskipun ada enam kolam sebenarnya semua untuk terapi kesehatan karena kandungan airnya sangat bagus untuk kesehatan. Baik kandungan mineral maupun pH.', '\"Kita sudah lab airnya, pH nya 8,2, mineralnya luar biasa, kadar oksigennya tinggi. Bahkan seorang profesor dari UGM mengelab airnya hasil TDS (total dissolved solid) di sini 40, artinya bisa langsung minum sebenarnya dengan debit 90 liter per detik,\" tutur Suprianto.', 'Umbul itu, sambung Suprianto, dikembangkan dengan Dana Desa sejak tahun 2017 sampai sekarang sudah menyerap sekitar Rp 2 miliar. Jumlah pengunjung terus naik tetapi sempat jatuh karena pandemi COVID-19.', '\"Sempat terpuruk saat pandemi COVID tetapi dua tahun ini mulai membaik. Sekarang pengunjung harian bisa 500, dan Sabtu 1.000 dan Minggu bisa 2.000 orang dari berbagai daerah, dari Medan pernah dari Papua juga ada,\" lanjut Suprianto.', 'Bulan November lalu, ungkap Suprianto, juga kedatangan Profesor Huang Zeiwei dan Profesor Xu Li dari Zhejiang Medical University. Keduanya mengambil sampel air dan menyatakan luar biasa.', '\"Bilang luar biasa kok ada air seperti ini. Selain itu artis seperti Yati Pesek dan Waljinah juga sering ke sini, kita juga dapat sertifikat dari RS Bethesda dan kerja sama dengan RSUP Dr Sardjito, juga dengan komunitas anak pengidap kanker untuk lokasi terapi,\" kata Suprianto.', 'Bahkan menariknya, dulunya terdapat investor dari Singapura yang ingin membeli air umbul setiap hari. Tetapi tawaran itu ditolaknya karena mendapat nasihat Sri Sultan Hamengku Buwono X, Gubernur DIY.', '\"Sri Sultan sering ke sini, saya sharing dengan beliau dan dibilang ojo pisan-pisan adol banyu (jangan sekali-kali jual air) jadi saya tidak berani. Juga Gusti Tedjo Wulan Solo juga pernah ke sini,\" imbuh Suprianto.', 'Letaknya tak jauh dari pusat kota Klaten, yakni sekitar lima kilometer. Untuk sampai ke sumber air alami itu, traveler bisa memilih jalur jalan Jogja-Solo.', 'Sesampainya di simpang tiga bekas PG Gondang Winangun, traveler perlu belok ke jalan raya ke arah Kecamatan Kemalang. Tiba di simpang tiga Pasar Basin, kendaraan tinggal mengambil ke kanan sejauh 100 meter sampai simpang tiga PTPN Kebonarum.', 'Dari simpang tiga itu belok ke kiri, kemudian lurus ke arah Kecamatan Karangnongko. Di tepi jalan raya traveler akan bertemu gapura Desa Wisata Malang Jiwan dan lurus ke kanan sekitar 200 meter Umbul Brintik ada di tepi jalan.', 'Area parkir mobil dan motor yang luas disediakan di dekat loket masuk. Harga tiket masuk hanya Rp 10.000 sudah free biaya parkir dengan jam buka mulai pukul 04.30 WIB sampai 17.30 WIB.']   \n",
       "4                                                                                                                                                                                                                                                                                                                                                                                                                                                                                                                                                                                                                                                                                                                                                                                                                                                                                                                                                                                                                                                                                                                                                                                                                                                                                                                                                                                                                                                                                                                                                                                                                                                                                                                                                                                                                                                                                                                                                                                                                                                                                                                                                                                                                                                                                                                                                                                                                                                                                                                                                                                                                                                                                                                                                                                                                                                                                                                                                                                                                                                                                                                                                                                                                                                                                        ['Growtheum Capital Partners (GCP) menggandeng Mitra Plumbon Healthcare Group (MPHG) sebuah grup rumah sakit multispesialisasi di Jawa Barat.', 'Saat ini MPGH mengoperasikan 4 rumah sakit dengan kapasitas 1.200 tempat tidur. CEO MPHG Festus Andrianto Susilo menjelaskan kerja sama ini bertujuan untuk ekspansi penawaran layanan kesehatan MPHG yang berkualitas dan terjangkau, termasuk kalangan pasien BPJS Kesehatan yang kini layanannya terbatas.', 'Dia menyebut kerja sama ini diharapkan bisa terus memperluas akses layanan kesehatan swasta yang berkualitas di seluruh Indonesia.', '        ', '        ', '\"Growtheum adalah investor berpengalaman dengan riwayat terbukti dalam menumbuhkan dan membangun rumah sakit di Asia Tenggara. Melalui kerjasama ini, kami berharap untuk memperluas akses untuk layanan kesehatan swasta berkualitas ke seluruh komunitas Indonesia. Dengan memanfaatkan pengetahuan MPHG dan sumber daya GCP, kami berkomitmen untuk terus mendorong kepesatan perkembangan layanan kesehatan Indonesia secara berlanjut,\" kata dia dalam siaran pers, Senin (24/7/2023).', 'Partner di GCP Choo Koon Po menambahkan MPHG menyadari pentingnya memberikan layanan kesehatan yang berkualitas kepada semua kalangan masyarakat, termasuk kalangan yang ditanggung oleh BPJS Kesehatan. \"Fokus GCP adalah untuk membangun pusat-pusat keunggulan dan memperluas cakupan di beberapa wilayah utama yang belum memiliki layanan memadai, untuk memperkuat nama dan posisi Mitra Plumbon sebagai pemimpin di sektor kesehatan swasta yang berfokus pada BPJS di Indonesia,\" ujar dia.', '\"MPHG bangga atas kesepakatan kerja sama ini dengan GCP. Kemitraan ini meningkatkan kemampuan kami, mempercepat rencana ekspansi kami, dan memperkuat kepemimpinan kami di pasar,\" kata Ketua MPHG Saraswati Gondotesna.', 'Senior Managing Director GCP Kusnadi Pradinata menjelaskan dengan kerja sama ini diharapkan akan berdampak untuk industri kesehatan dan bisa terus melayani masyarakat Indonesia. Managing Partner GCP Amit Kunal menyebut kemitraan antara GCP dan MPHG menandai langkah signifikan untuk meningkatkan investasi infrastruktur kesehatan Indonesia dan memenuhi kebutuhan kesehatan masyarakat Indonesia yang terus bertumbuh.', '\"Melalui persatuan ilmu dan sumber daya kami, kedua organisasi berkomitmen untuk memberikan layanan kesehatan yang berkualitas, mudah diakses, dan berkontribusi pada perkembangan berkelanjutan infrastruktur kesehatan di Indonesia,\" ujarnya.', '']   \n",
       "5                                                                                                                                                                                                                                                                                                                                                                                                                                                                                                                                                                                                                                                                                                                                                                                                                                                                                                                                                                                                                                                                                                                                                                                                                                                                                                                                                                                                                                                                                                                                                                                                                                                                                                                                                                                                                                                                                                                                                                                                                                                                                                                                                                                                                                                                                                                                                                                                                                                                                                                                                                                                                                                                                                                                                                                                   ['Riset terbaru yang dilakukan di Amerika Serikat membuktikan bahwa ChatGPT mampu mendiagnosis kesehatan dengan tepat. Kira-kira seberapa akurat ChatGPT mampu mendiagnosis kesehatan?', 'Dilansir dari detikINET, dalam riset yang melibatkan 2.000 orang dewasa di Amerika tersebut, sebanyak 52% telah memberikan gejala-gejala penyakit mereka kepada sistem AI seperti ChatGPT. Dari jumlah itu, sebagian besar mengatakan bahwa ChatGPT menjawabnya dengan benar.', '\"Lebih dari separuh responden (52%) menyatakan bahwa mereka telah memberikan daftar gejala mereka kepada model bahasa besar (LLM) seperti ChatGPT untuk mendapatkan diagnosis,\" kata perusahaan yang melakukan survei tersebut, UserTesting.', '  ', '  ', '\"Dari mereka, 81% telah mendapatkan diagnosis dari LLM, dan ketika ditanya tentang diagnosis mereka setelah berkonsultasi dengan dokter, 84% mengatakan bahwa diagnosis tersebut akurat,\" lanjutnya.', 'Dari penelitian tersebut, dapat dinilai bahwa orang-orang Amerika Serikat percaya dengan teknologi AI. Meskipun hampir setengah dari orang Inggris dan sepertiga dari orang Australia mengatakan bahwa mereka tidak mempercayai AI untuk tugas-tugas yang berhubungan dengan kesehatan. Di Amerika sendiri, hanya 6% orang yang setuju.', 'Melansir dari Forbes, Jumat (5/1/2024) sebagian besar orang Amerika mencari solusi perawatan kesehatan di luar pengaturan dokter-pasien dan rumah sakit tradisional.', 'Tercatat sebanyak 26 juta orang tidak memiliki asuransi kesehatan. Sementara mereka yang memiliki asuransi kesehatan, biasanya merasa kesulitan karena biaya tambahan yang mahal atau kesulitan untuk membuat janji temu. Sehingga tak heran orang-orang Amerika lebih memilih alternatif lain yang dinilai lebih menarik.', 'Ditambah lagi, banyak daerah pedesaan dan pusat kota di Amerika Serikat yang mungkin sama sekali tidak memiliki pilihan perawatan kesehatan lokal dan nyaman terlepas dari status asuransi Anda.', '\"Meningkatnya prevalensi gurun perawatan kesehatan atau bahkan kurangnya akses biasa di Amerika berarti bahwa AI akan dimasukkan ke dalam perjalanan perawatan kesehatan untuk memberikan perawatan pada skala yang kita butuhkan seiring bertambahnya usia negara ini,\" kata Lija Hogan, yang memimpin strategi penelitian di UserTesting.', 'Terlepas dari itu semua, Hogan menilai pilihan terbaik mungkin adalah kolaborasi dari dokter sungguhan dan Ai yang saling bekerjasama. Menurutnya, dokter dan pasien perlu mencari tahu bersama bagaimana AI dapat memainkan peran terbaik dalam perjalanan perawatan kesehatan.', '\"Ini berarti kita harus mencari tahu pagar pembatas yang tepat untuk memastikan orang-orang mendapatkan saran berkualitas tinggi dalam konteks yang tepat dan bagaimana menghubungkan pasien dengan penyedia layanan kesehatan,\" ujarnya.', 'Sayangnya hingga saat ini sistem yang terhubung dan tanpa batas dari para profesional medis dan AI yang terlatih di bidang kesehatan masih belum terwujud.']   \n",
       "6                                                                                                                                                                                                                                                                                                                                                                                                                                                                                                                                                                                      ['Makanan memiliki pengaruh yang sangat besar terhadap kesehatan jantung. Pasalnya, beberapa jenis makanan tertentu dapat memicu kondisi yang bisa meningkatkan risiko penyakit jantung.', 'Misalnya, makanan berlemak dapat menyebabkan tekanan darah tinggi yang memengaruhi kesehatan otot jantung serta pembuluh darah. Contoh lain, makanan yang tinggi gula dapat menyebabkan diabetes yang juga meningkatkan risiko penyakit jantung.', 'Karenanya, penting mengonsumsi makanan sehat untuk jantung dan menjadikan makanan tersebut bagian dari pola asupan sehari-hari.', '  ', '  ', 'Sayuran hijau seperti bayam, selada, dan kale memiliki kandungan vitamin, mineral, dan antioksidan yang tinggi. Tak hanya itu, sayuran-sayuran tersebut juga kaya akan vitamin K yang dapat memelihara kesehatan pembuluh darah. Sejumlah studi juga menemukan sayuran hijau dapat membantu menurunkan tekanan darah, sehingga mencegah risiko hipertensi dan penyakit jantung.', 'Dikutip dari Healthline, gandum utuh adalah gandum yang masih memiliki bagian lengkap mulai dari kulit (bekatul atau bran), endosperm, dan bagian inti (germ). Adapun jenis makanan yang tergolong gandum utuh di antaranya nasi coklat, oats, gandum hitam (rye), gandum kuda (buckwheat), quinoa, dan barley.', 'Gandum utuh memiliki sejumlah manfaat bagi kesehatan jantung. Misalnya, menurunkan risiko penyakit kardiovaskular. Hal itu menjadi alasan mengapa gandum utuh disarankan sebagai pengganti nasi untuk pengidap diabetes.', 'Sementara dalam jurnal yang dipublikasikan di American Heart Association, mengonsumsi gandum utuh terbukti dapat mencegah risiko penyakit jantung koroner, stroke, serta sindrom metabolik.', 'Buah beri-berian seperti stroberi, blackberi, blueberi, dan raspberi sejak lama dikenal karena efek antioksidan yang dimilikinya. Zat tersebut memiliki peran besar dalam mencegah peradangan yang bisa memicu munculnya penyakit jantung. Beri-berian juga mengandung senyawa antosianin yang dapat mengurangi risiko penyakit arteri koroner seperti serangan jantung dan hipertensi.', 'Mengonsumsi alpukat dapat membantu mengurangi tingkat kolesterol dalam tubuh. Sebagaimana diketahui, kolesterol tinggi merupakan salah satu faktor yang dapat meningkatkan risiko penyakit kardiovaskular, termasuk penyakit jantung.', 'Sebuah studi menyebutkan mengonsumsi dua buah alpukat setiap hari dapat menurunkan risiko penyakit kardiovaskular hingga 16 persen, dan risiko penyakit jantung koroner hingga 21 persen.', 'Alpukat juga kaya akan potasium yang dapat membantu menurunkan tekanan darah.', 'Berbagai jenis kacang-kacangan, seperti walnut dan almond, merupakan sumber makanan yang kaya akan nutrisi, mineral, vitamin, dan serat yang membuat menjadi makanan yang sehat untuk jantung.', 'Walnut misalnya, kacang ini kaya akan serat, serta makronutrien seperti magnesium, manganese, dan tembaga. Studi juga mengungkapkan mengonsumsi walnut setiap hari dapat melindungi dari risiko penyakit kardiovaskular dan menurunkan tingkat kolesterol jahat (low-density lipoprotein/LDL) dalam tubuh.', 'Sementara, kacang almond mengandung banyak vitamin dan mineral yang penting untuk kesehatan jantung. Almond juga tinggi serat dan lemak tak jenuh, dua nutrisi penting yang dibutuhkan untuk mencegah risiko penyakit jantung.', 'Tak hanya jadi camilan lezat, cokelat hitam atau dark chocolate ternyata juga baik dikonsumsi untuk menjaga kesehatan jantung. Dikutip dari laman Healthline, cokelat hitam kaya akan senyawa antioksidan seperti flavonoid yang dapat menunjang kesehatan jantung.', 'Studi juga menunjukkan mengonsumsi cokelat hitam dalam jumlah tertentu (tidak lebih dari 6 kali dalam seminggu) dapat mengurangi risiko penyakit jantung koroner, stroke, hingga diabetes. Namun perlu diingat, cokelat hitam juga mengandung gula dan kalori yang tinggi, sehingga konsumsinya tetap harus dibatasi.', \"Ikan salmon merupakan salah satu 'superfood' yang baik untuk kesehatan jantung. Sebab, daging ikan salmon mengandung omega-3 yang tinggi, otomatis bisa mengurangi risiko gangguan irama detak jantung (aritmia) dan menurunkan tekanan darah.\", 'Tak hanya itu, ikan salmon juga disebut dapat menurunkan kadar trigliserida dalam tubuh, serta meredakan peradangan.', 'Ubi jalar, atau yang dalam bahasa Inggris disebut sweet potato, merupakan alternatif pengganti karbohidrat yang baik untuk kesehatan jantung. Ubi jalar adalah makanan dengan indeks glikemik rendah, sehingga cocok dikonsumsi oleh orang-orang yang memiliki risiko gula darah tinggi dan diabetes.', 'Selain itu, ubi jalar juga kaya akan vitamin A, serat, dan likopen yang dapat mengurangi risiko penyakit jantung koroner.', 'Penasaran kenapa minyak olive menjadi pilihan utama berbagai masakan di negara barat? Ternyata, minyak olive memiliki kandungan antioksidan yang dapat meredakan peradangan dalam tubuh dan menurunkan risiko penyakit kronis.', 'Tak hanya itu, minyak olive memiliki kandungan lemak tak jenuh yang baik untuk menjaga kesehatan jantung. Tidak heran jika orang-orang di negara barat selalu menggunakan minyak olive untuk memasak.']   \n",
       "7  ['Rumput laut biasanya digunakan dalam masakan Jepang. Sebagai makanan yang bisa dimakan, rumput laut sering disebut sebagai makanan super.', 'Hal ini karena manfaat kesehatan yang didapat dari sayuran hijau tersebut. Ada mineral, antioksidan, serta vitamin A, C, E, dan B12. Yuk, ketahui berbagai jenis rumput laut yang biasanya dipakai dalam masakan.', 'Ada banyak jenis rumput laut yang biasanya dipakai untuk hidangan masakan. Ada nori, kombu, hingga selada laut.', '  ', '  ', 'Nori adalah rumput laut berwarna merah keunguan yang berubah menjadi hijau tua saat dikeringkan. Mengutip Master Class, untuk menjadi nori yang kering, rumput ini dipanggang dan ditekan agar menjadi lembaran.', 'Biasanya, restoran Jepang akan menggunakan nori untuk membungkus sushi dan onigiri. Selain berbentuk lembaran, ada juga nori yang dibuat menjadi bubuk. Nori jenis ini biasanya digunakan sebagai bumbu untuk masakan tradisional Jepang.', 'Kombu menjadi salah satu rumput laut yang paling populer di Asia Timur. Pulau terbesar di Jepang, Hokkaido merupakan salah satu penghasil kombu terbesar. Meski begitu, kombu juga banyak ditemukan di sepanjang pantai California.', 'Kombu menjadi bahan utama dashi, yaitu kaldu sup bagi banyak masakan Jepang, seperti miso soup dan ramen. Rumput laut ini juga digunakan untuk membuat teh Jepang yang disebut dengan kombucha.', 'Hutan rumput laut laminaria menyediakan spesies rumput laut bernama Wakame. Wakame dikenal juga sebagai mustard laut,', 'Tak hanya kombu, rumput laut berwarna hijau tua ini juga sering digunakan untuk membuat miso soup. Rasanya halus seperti sutra dan merupakan sumber asam lemak omega-3 yang baik.', 'Dulse adalah rumput laut kemerahan yang ada di perairan dingin Atlantik Utara dan Samudra Pasifik. Rumput laut ini tumbuh menempel pada bebatuan.', 'Dulse biasanya dijual dalam bentuk serpihan kering, diparut atau digiling menjadi bubuk. Biasanya, dulse digunakan dalam sup, dipanggang menjadi keripik dan digunakan sebagai bumbu daging.', 'Hijiki adalah rumput laut berwarna coklat yang berubah menjadi hitam saat dikeringkan. Tumbuhan ini diambil di garis pantai berbatu China, Jepang, dan Korea.', 'Setelah dipanen dari laut, Hijiki direbus dan dikeringkan. Seringkali, rumput laut ini dimasak dengan tumisan atau disajikan dengan ikan.', 'Menurut Tasting Table, selada laut dikenal dengan nama Ulva Lactuca. Bentuk dan warnanya memang mirip dengan sayuran selada.', 'Selada laut disajikan dalam kondisi segar atau kering. Cita rasanya agak berbeda, selada laut segar rasanya asin dan agak pedas dengan aroma segar seperti rumput. Sementara selada laut kering rasanya begitu pekat.', 'Irish moss adalah alga ungu dan merah yang berasal dari garis pantai Atlantik di Amerika Serikat dan Eropa. Jenis rumput laut ni menyerupai pohon mini dengan cabang-cabang yang menyebar dari batangnya.', 'Irish mosh bisa digunakan sebagai pengental makanan. Sehingga, biasanya rumput laut i digunakan untuk membuat puding dan mengentalkan kaldu.', 'Arame merupakan rumput laut yang populer lainnya dimasukkan ke dalam makanan. Sebab, rumput laut ini memiliki nilai gizi yang tinggi dengan rasa agak manis.', 'Arame berbentuk untaian panjang berwarna coklat yang menyerupai pasta kering. Menurur Fitday, rumput laut ini kaya akan serat, kalsium, zat besi, yodium, magnesium, dan vitamin A.', 'Tak hanya memiliki cita rasa yang enak, rumput laut mempunyai sejumlah manfaat kesehatan. Mengutip Healthline, berikut beberapa di antaranya:', 'Rumput laut mengandung banyak serat dan tidak mengandung kalori. Hal ini dapat membantu membuat rasa kenyang lebih lama, sehingga menunda rasa lapar.', 'Pada tahun 2040, sebanyak 642 juta orang di dunia diperkirakan menderita diabetes tipe 1 atau tipe 2. Rumput laut menjadi fokus penelitian untuk membantu orang-orang yang berisiko terkena diabetes.', 'Sebuah penelitian selama 8 minggu melibatkan 60 orang Jepang. Hasilnya, zat dalam rumput laut coklat bisa membantu meningkatkan kontrol gula darah.', 'Rumput laut merupakan sumber serat yang sangat baik dan dikenal bisa meningkatkan kesehatan usus. Jumlah seratnya sekitar 25%-75% dari berat rumput laut kering, lebih tinggi dari kandungan serat pada kebanyakan buah dan sayur.', 'Serat bisa digunakan sebagai sumber makanan bagi bakteri di usus besar. Gula yang ditemukan dalam rumput laut terbukti meningkatkan pertumbuhan bakteri baik di usus.', 'Radikal bebas berlebih dianggap sebagai penyebab dari beberapa penyakit, seperti jantung dan diabetes. Antioksidan dapat membuat radikal bebas menjadi kurang reaktif.', 'Rumput laut mengandung antioksidan vitamin A, C, dan E, serta senyawa tumbuhan yang bermanfaat seperti flavonoid dan karotenoid. Kedua senyawa tersebut terbukti melindungi sel-sel tubuh dari kerusakan akibat radikal bebas.', 'Kelenjar tiroid melepaskan hormon tiroid sesuai dengan jumlah kebutuhan tubuh. Sehingga, kelenjar ini menjamin pertumbuhan dan perkembangan yang normal.', 'Tak hanya itu, kelenjar tiroid juga mengatur sejumlah fungsi homeostasis tubuh dalam upaya mempertahankan metabolisme tubuh yang normal. Untuk membuat hormon, tiroid bergantung pada yodium.', 'Tanpa yodium yang cukup, maka tubuh bisa mengalami gejala seperti perubahan berat badan, kelelahan, atau pembengkakan leher seiring berjalannya waktu. Rumput laut mempunyai kemampuan dalam menyerap yodium dalam jumlah terkonsentrasi dari laut. Kandungan yodiumnya bervariasi, tergantung pada jenis, tempat tumbuh, dan cara pengolahan rumput laut.', 'Itulah beberapa jenis rumput laut yang populer dimakan beserta manfaat mengkonsumsinya. Apa rumput laut termasuk makanan favoritmu?']   \n",
       "8                                                                                                                                                                                                                                                                                                                                                                                                                                                                                                                                                                                                                                                                                                                                                                                                                                                                                                                                                                                                                                                                                                                                                                                                                                                                                                                                                                                                                                                                                                                                                                                                                                                                                                                                                                                                                                                                                                                                                                                                                                                                                                                                                                                                                                                                                                                                                                                                                                                                                                                                                                                                                                                                                                                                                                                                                                                                                                                                                                                                                                                                                                                                                                                                                                                                                                                                                                                                                                                                                                                                                                                                                                                                                                                                                                                                                                                                                                                                                                                                                                                                              ['Kini, peserta BPJS Kesehatan tidak perlu datang pagi-pagi hanya untuk mengambil antrean untuk berobat. Sekarang, Anda dapat mengambil antrean BPJS Kesehatan secara online.', 'Dengan adanya antrean online BPJS Kesehatan, Anda bisa mendapatkan pelayanan kesehatan dengan mudah tanpa menimbulkan kerumunan di fasilitas kesehatan.', 'Secara umum, untuk mendapatkan antrean faskes BPJS Kesehatan secara online dapat dilakukan dengan 2 cara, yaitu melalui aplikasi Mobile JKN dan website. Berikut merupakan cara untuk mendapatkan antrean online BPJS Kesehatan, yaitu:', '        ', '        ', '1. Buka aplikasi Mobile JKN, login menggunakan email atau nomor BPJS serta password yang didaftarkan sebelumnya.', '2. Pilih menu \"Pendaftaran Pelayanan.\"', '3. Pilih Poli yang akan dituju (jika perlu dirujuk ke rumah sakit, Anda dapat memilih menu antrean).', '4. Nomor antrean akan diterima secara otomatis.', '1. Buka laman antrean.bpjs-kesehatan.go.id/antrean-faskes/  '2. Masukan username, password dan kode captcha.', '3. Setelah masuk, maka menu dashboard akan ditampilkan.', '4. Pilihlah menu console box.', '5. Klik tombol open pada console box tersebut, maka akan tampil halaman console box yakni Peserta BPJS dan Non Peserta BPJS.', '6. Untuk melakukan pengambilan nomor antrean peserta BPJS, pilihlah menu BPJS (bagi peserta BPJS).', '7. Masukkan nomor peserta BPJS atau NIK peserta, kemudian pilihlah poli yang akan dituju.', '8. Klik lanjutkan untuk mengambil nomor antrean pasien.', '9. Nomor antrean akan muncul, peserta dapat mencetak nomor antrean faskes BPJS untuk dibawa ke faskes untuk memperoleh pengobatan.', 'Demikian cara untuk mendapatkan antrean BPJS Kesehatan secara online.', '', '   \n",
       "9                                                                                                                                                                                                                                                                                                                                                                                                                                                                                                                                                                                                                                                                                                                                                                                                                                                                                                                                                                     ['Menjelang bulan Ramadhan, pasti kamu akan menemukan banyak toko buah yang mulai menjual kurma. Pada umumnya, buah tersebut dijual dalam bentuk kemasan kotak atau secara eceran.', 'Perlu diketahui, kurma adalah salah satu buah yang memiliki banyak manfaat untuk kesehatan tubuh. Dalam agama Islam, Nabi Muhammad SAW bahkan menganjurkan agar umatnya berbuka puasa dengan buah kurma karena bisa membawa berkah.', 'Lantas apa saja sih manfaat buah kurma dan apa saja jenis-jenis kurma yang umum dikonsumsi? Simak pembahasannya secara lengkap dalam artikel ini yuk.', '  ', '  ', 'Kurma adalah salah satu buah yang memiliki ciri khas unik. Meski warnanya cenderung coklat kehitaman, namun rasanya lembut dan manis. Rasa manis dari kurma juga unik, lho. Jika kamu mencicipi kurma, pasti akan merasakan perbedaan manisnya buah kurma dengan rasa manis yang ada di gula pasir.', 'Dilansir situs Kementerian Kesehatan, di dalam 100 gram kurma terkandung sekitar 280 kalori dan aneka nutrisi lainnya, seperti:', 'Tak hanya itu, kurma juga mengandung asam folat, vitamin B, vitamin K, mangan, antioksidan, lutein, dan flavonoid. Maka jangan heran kalau kurma disebut sebagai buah yang punya banyak manfaat untuk kesehatan.', 'Ada sejumlah manfaat yang didapat jika kamu rutin mengkonsumsi kurma. Biar nggak penasaran, simak sembilan manfaat kurma untuk kesehatan tubuh di bawah ini.', 'Mengutip situs Kementerian Kesehatan, kurma dapat membantu melancarkan pencernaan. Sebab, kurma mengandung serat pangan yang baik untuk melancarkan pencernaan ketika buang air besar.', 'Selain itu, kurma juga mengandung asam amino yang bermanfaat untuk menstimulasi pencernaan makanan. Hal ini membuat nutrisi lebih cepat diserap oleh sistem pencernaan, lalu nutrisi tersebut akan disalurkan ke seluruh tubuh.', 'Manfaat kurma berikutnya yakni dapat menjaga kesehatan tulang. Soalnya, kurma mengandung mineral seperti fosfor, kalium, kalsium, dan magnesium yang bermanfaat untuk menjaga kesehatan dan kekuatan tulang.', 'Kandungan antioksidan di dalam kurma ternyata dapat memperkuat kekebalan tubuh, sehingga kita tidak mudah terserang penyakit dan virus. Hal ini disebabkan oleh kandungan antioksidan yang berfungsi untuk mencegah peradangan serta radikal bebas.', 'Ada tiga jenis antioksidan yang paling potensial di dalam kurma, yaitu:', 'Anemia adalah suatu kondisi di mana tubuh mengalami penurunan jumlah sel darah merah. Untuk mengatasi hal tersebut, detikers bisa rutin mengkonsumsi kurma, karena terdapat kandungan zat besi yang membantu pembentukan sel darah merah di tubuh.', 'Manfaat kurma selanjutnya adalah dapat menjaga kesehatan bagi ibu hamil dan janinnya. Sebab, kurma mengandung banyak nutrisi yang penting untuk kesehatan ibu hamil serta sang janin, seperti vitamin, protein, mineral, serat, karbohidrat, dan antioksidan.', 'Selain menjaga kesehatan ibu hamil dan janin, kurma juga dapat melancarkan proses persalinan, lho. Dari hasil penelitian oleh Jordan University of Science and Technology, disebutkan kalau rutin makan kurma muda pada ibu hamil dapat melancarkan proses persalinan.', 'Selain itu, dengan tercukupinya asupan nutrisi karena mengkonsumsi kurma, hal ini dapat mencegah terjadinya masalah kesehatan pada bayi, seperti cacat bawaan lahir, kelahiran prematur, atau terlahir dengan berat badan rendah.', 'Dilansir situs Healthline, kurma juga bermanfaat untuk menjaga kesehatan dan meningkatkan fungsi otak. Dengan rutin menyantap kurma, hal ini dapat membantu menurunkan inflamasi di otak dan mencegah risiko terkena Alzheimer.', 'Meskipun rasanya manis, namun kurma dapat menstabilkan kadar gula darah di dalam tubuh. Dijelaskan dalam buku Mengais Berkah di Bumi Sang Rasul oleh Ahmad Hawassy, makan kurma muda secara rutin dapat menjaga kadar gula darah tetap normal. Sebab, kandungan gula pada kurma muda jauh lebih sedikit daripada kurma tua.', 'Kurma mengandung karbohidrat dan gula yang bersifat mengenyangkan. Apabila kamu makan kurma saat berbuka puasa, hal tersebut membuat perut terasa lebih cepat kenyang.', 'Nah, cara tersebut juga dapat membantu menurunkan berat badan. Soalnya, detikers tidak perlu mengkonsumsi makanan dalam jumlah banyak, karena sudah merasa kenyang akibat makan kurma.', 'Ada banyak sekali jenis-jenis kurma yang dijual di pasaran. Mengutip buku Kurma Khasiat dan Olahannya oleh Suyanti Satuhu, berikut adalah jenis-jenis kurma dari Timur Tengah dan Afrika.', 'Adapun jenis-jenis kurma yang banyak beredar di Indonesia, yakni sebagai berikut:', 'Nah, itu dia sembilan manfaat kurma untuk kesehatan tubuh beserta jenis-jenisnya. Jangan ragu untuk mengkonsumsi kurma ya, karena buah yang satu ini memiliki segudang manfaat untuk kesehatan.']   \n",
       "\n",
       "  Klasifikasi Berita  \n",
       "0           Non-Hoax  \n",
       "1           Non-Hoax  \n",
       "2           Non-Hoax  \n",
       "3           Non-Hoax  \n",
       "4           Non-Hoax  \n",
       "5           Non-Hoax  \n",
       "6           Non-Hoax  \n",
       "7           Non-Hoax  \n",
       "8           Non-Hoax  \n",
       "9           Non-Hoax  "
      ]
     },
     "execution_count": 75,
     "metadata": {},
     "output_type": "execute_result"
    }
   ],
   "source": [
    "df_nonhoax_kesehatan.head(10)"
   ]
  },
  {
   "cell_type": "code",
   "execution_count": 76,
   "metadata": {},
   "outputs": [],
   "source": [
    "df_nonhoax_kesehatan.to_csv('result1_kesehatan.csv', index=False)\n",
    "df_nonhoax_PP.to_csv('result1_PP.csv', index=False)"
   ]
  },
  {
   "cell_type": "markdown",
   "metadata": {},
   "source": [
    "### Case Folding"
   ]
  },
  {
   "cell_type": "code",
   "execution_count": 77,
   "metadata": {},
   "outputs": [],
   "source": [
    "def lower_text(text):\n",
    "    text = text.lower()\n",
    "\n",
    "    return text\n",
    "\n",
    "df_nonhoax_kesehatan['Narasi'] = df_nonhoax_kesehatan['Narasi'].apply(lower_text)\n",
    "df_nonhoax_PP['Narasi'] = df_nonhoax_PP['Narasi'].apply(lower_text)"
   ]
  },
  {
   "cell_type": "code",
   "execution_count": 78,
   "metadata": {},
   "outputs": [],
   "source": [
    "df_nonhoax_kesehatan.to_csv('result2_kesehatan.csv', index=False)\n",
    "df_nonhoax_PP.to_csv('result2_PP.csv', index=False)"
   ]
  },
  {
   "cell_type": "markdown",
   "metadata": {},
   "source": [
    "### Punctuation Removal"
   ]
  },
  {
   "cell_type": "code",
   "execution_count": 79,
   "metadata": {},
   "outputs": [],
   "source": [
    "def punct_removal(text):\n",
    "    text = re.sub(r'[^\\w\\s]|_', ' ', text)\n",
    "\n",
    "    return text.strip()\n",
    "\n",
    "df_nonhoax_kesehatan['Narasi'] = df_nonhoax_kesehatan['Narasi'].apply(punct_removal)\n",
    "df_nonhoax_PP['Narasi'] = df_nonhoax_PP['Narasi'].apply(punct_removal)"
   ]
  },
  {
   "cell_type": "code",
   "execution_count": 80,
   "metadata": {},
   "outputs": [],
   "source": [
    "df_nonhoax_kesehatan.to_csv('result3_kesehatan.csv', index=False)\n",
    "df_nonhoax_PP.to_csv('result3_PP.csv', index=False)"
   ]
  },
  {
   "cell_type": "markdown",
   "metadata": {},
   "source": [
    "## Melihat pengaruh stopword terhadap data hoax"
   ]
  },
  {
   "cell_type": "markdown",
   "metadata": {},
   "source": [
    "### Number Removal Saja"
   ]
  },
  {
   "cell_type": "code",
   "execution_count": 81,
   "metadata": {},
   "outputs": [],
   "source": [
    "def remove_digits(text):\n",
    "    text = re.sub(r'\\d+', '', text)\n",
    "\n",
    "    text = re.sub(r'\\s+', ' ', text)\n",
    "\n",
    "    return text"
   ]
  },
  {
   "cell_type": "code",
   "execution_count": 82,
   "metadata": {},
   "outputs": [],
   "source": [
    "df_nonhoax_PP['Narasi_with_stopwords'] = df_nonhoax_PP['Narasi'].apply(remove_digits)\n",
    "df_nonhoax_kesehatan['Narasi_with_stopwords'] = df_nonhoax_kesehatan['Narasi'].apply(remove_digits)"
   ]
  },
  {
   "cell_type": "markdown",
   "metadata": {},
   "source": [
    "### Stopword & Number Removal"
   ]
  },
  {
   "cell_type": "code",
   "execution_count": 83,
   "metadata": {},
   "outputs": [],
   "source": [
    "def remove_stopwords_digits(text):\n",
    "    text = re.sub(r'\\d+', '', text)\n",
    "    words = word_tokenize(text)\n",
    "\n",
    "    # Menghapus stopword\n",
    "    stop_words_nltk = stopwords.words('indonesian')\n",
    "    filter_words = [word for word in words if word not in stop_words_nltk]\n",
    "\n",
    "    new_text = ' '.join(filter_words)\n",
    "\n",
    "    new_text = re.sub(r'\\bx\\w{0,3}\\b', ' ', new_text)\n",
    "    new_text = re.sub(r'\\s+', ' ', new_text)\n",
    "\n",
    "    return new_text"
   ]
  },
  {
   "cell_type": "code",
   "execution_count": 84,
   "metadata": {},
   "outputs": [],
   "source": [
    "df_nonhoax_PP['Narasi'] = df_nonhoax_PP['Narasi'].apply(remove_stopwords_digits)\n",
    "df_nonhoax_kesehatan['Narasi'] = df_nonhoax_kesehatan['Narasi'].apply(remove_stopwords_digits)"
   ]
  },
  {
   "cell_type": "code",
   "execution_count": 85,
   "metadata": {},
   "outputs": [
    {
     "data": {
      "text/plain": [
       "Narasi                   0\n",
       "Klasifikasi Berita       0\n",
       "Narasi_with_stopwords    0\n",
       "dtype: int64"
      ]
     },
     "execution_count": 85,
     "metadata": {},
     "output_type": "execute_result"
    }
   ],
   "source": [
    "df_nonhoax_kesehatan.isna().sum()\n",
    "df_nonhoax_PP.isna().sum()"
   ]
  },
  {
   "cell_type": "code",
   "execution_count": 86,
   "metadata": {},
   "outputs": [],
   "source": [
    "df_show_nonhoax_kesehatan = df_nonhoax_kesehatan[df_nonhoax_kesehatan['Narasi'].apply(lambda x: len(x) < 10)]\n",
    "df_show_nonhoax_PP = df_nonhoax_PP[df_nonhoax_PP['Narasi'].apply(lambda x: len(x) < 10)]"
   ]
  },
  {
   "cell_type": "code",
   "execution_count": 87,
   "metadata": {},
   "outputs": [
    {
     "data": {
      "text/html": [
       "<div>\n",
       "<style scoped>\n",
       "    .dataframe tbody tr th:only-of-type {\n",
       "        vertical-align: middle;\n",
       "    }\n",
       "\n",
       "    .dataframe tbody tr th {\n",
       "        vertical-align: top;\n",
       "    }\n",
       "\n",
       "    .dataframe thead th {\n",
       "        text-align: right;\n",
       "    }\n",
       "</style>\n",
       "<table border=\"1\" class=\"dataframe\">\n",
       "  <thead>\n",
       "    <tr style=\"text-align: right;\">\n",
       "      <th></th>\n",
       "      <th>Narasi</th>\n",
       "      <th>Klasifikasi Berita</th>\n",
       "      <th>Narasi_with_stopwords</th>\n",
       "    </tr>\n",
       "  </thead>\n",
       "  <tbody>\n",
       "    <tr>\n",
       "      <th>25</th>\n",
       "      <td>nan</td>\n",
       "      <td>Non-Hoax</td>\n",
       "      <td>nan</td>\n",
       "    </tr>\n",
       "    <tr>\n",
       "      <th>86</th>\n",
       "      <td>nan</td>\n",
       "      <td>Non-Hoax</td>\n",
       "      <td>nan</td>\n",
       "    </tr>\n",
       "    <tr>\n",
       "      <th>107</th>\n",
       "      <td>nan</td>\n",
       "      <td>Non-Hoax</td>\n",
       "      <td>nan</td>\n",
       "    </tr>\n",
       "    <tr>\n",
       "      <th>108</th>\n",
       "      <td>nan</td>\n",
       "      <td>Non-Hoax</td>\n",
       "      <td>nan</td>\n",
       "    </tr>\n",
       "    <tr>\n",
       "      <th>176</th>\n",
       "      <td>nan</td>\n",
       "      <td>Non-Hoax</td>\n",
       "      <td>nan</td>\n",
       "    </tr>\n",
       "    <tr>\n",
       "      <th>203</th>\n",
       "      <td></td>\n",
       "      <td>Non-Hoax</td>\n",
       "      <td></td>\n",
       "    </tr>\n",
       "    <tr>\n",
       "      <th>233</th>\n",
       "      <td>nan</td>\n",
       "      <td>Non-Hoax</td>\n",
       "      <td>nan</td>\n",
       "    </tr>\n",
       "    <tr>\n",
       "      <th>298</th>\n",
       "      <td>nan</td>\n",
       "      <td>Non-Hoax</td>\n",
       "      <td>nan</td>\n",
       "    </tr>\n",
       "    <tr>\n",
       "      <th>306</th>\n",
       "      <td>nan</td>\n",
       "      <td>Non-Hoax</td>\n",
       "      <td>nan</td>\n",
       "    </tr>\n",
       "    <tr>\n",
       "      <th>323</th>\n",
       "      <td>nan</td>\n",
       "      <td>Non-Hoax</td>\n",
       "      <td>nan</td>\n",
       "    </tr>\n",
       "    <tr>\n",
       "      <th>368</th>\n",
       "      <td>nan</td>\n",
       "      <td>Non-Hoax</td>\n",
       "      <td>nan</td>\n",
       "    </tr>\n",
       "    <tr>\n",
       "      <th>436</th>\n",
       "      <td>nan</td>\n",
       "      <td>Non-Hoax</td>\n",
       "      <td>nan</td>\n",
       "    </tr>\n",
       "    <tr>\n",
       "      <th>493</th>\n",
       "      <td>nan</td>\n",
       "      <td>Non-Hoax</td>\n",
       "      <td>nan</td>\n",
       "    </tr>\n",
       "    <tr>\n",
       "      <th>504</th>\n",
       "      <td>nan</td>\n",
       "      <td>Non-Hoax</td>\n",
       "      <td>nan</td>\n",
       "    </tr>\n",
       "    <tr>\n",
       "      <th>509</th>\n",
       "      <td>nan</td>\n",
       "      <td>Non-Hoax</td>\n",
       "      <td>nan</td>\n",
       "    </tr>\n",
       "    <tr>\n",
       "      <th>514</th>\n",
       "      <td>nan</td>\n",
       "      <td>Non-Hoax</td>\n",
       "      <td>nan</td>\n",
       "    </tr>\n",
       "    <tr>\n",
       "      <th>527</th>\n",
       "      <td>nan</td>\n",
       "      <td>Non-Hoax</td>\n",
       "      <td>nan</td>\n",
       "    </tr>\n",
       "    <tr>\n",
       "      <th>531</th>\n",
       "      <td>nan</td>\n",
       "      <td>Non-Hoax</td>\n",
       "      <td>nan</td>\n",
       "    </tr>\n",
       "    <tr>\n",
       "      <th>535</th>\n",
       "      <td>nan</td>\n",
       "      <td>Non-Hoax</td>\n",
       "      <td>nan</td>\n",
       "    </tr>\n",
       "    <tr>\n",
       "      <th>600</th>\n",
       "      <td>nan</td>\n",
       "      <td>Non-Hoax</td>\n",
       "      <td>nan</td>\n",
       "    </tr>\n",
       "    <tr>\n",
       "      <th>647</th>\n",
       "      <td>nan</td>\n",
       "      <td>Non-Hoax</td>\n",
       "      <td>nan</td>\n",
       "    </tr>\n",
       "    <tr>\n",
       "      <th>709</th>\n",
       "      <td>nan</td>\n",
       "      <td>Non-Hoax</td>\n",
       "      <td>nan</td>\n",
       "    </tr>\n",
       "    <tr>\n",
       "      <th>790</th>\n",
       "      <td>nan</td>\n",
       "      <td>Non-Hoax</td>\n",
       "      <td>nan</td>\n",
       "    </tr>\n",
       "    <tr>\n",
       "      <th>801</th>\n",
       "      <td>nan</td>\n",
       "      <td>Non-Hoax</td>\n",
       "      <td>nan</td>\n",
       "    </tr>\n",
       "    <tr>\n",
       "      <th>961</th>\n",
       "      <td>nan</td>\n",
       "      <td>Non-Hoax</td>\n",
       "      <td>nan</td>\n",
       "    </tr>\n",
       "  </tbody>\n",
       "</table>\n",
       "</div>"
      ],
      "text/plain": [
       "    Narasi Klasifikasi Berita Narasi_with_stopwords\n",
       "25     nan           Non-Hoax                   nan\n",
       "86     nan           Non-Hoax                   nan\n",
       "107    nan           Non-Hoax                   nan\n",
       "108    nan           Non-Hoax                   nan\n",
       "176    nan           Non-Hoax                   nan\n",
       "203                  Non-Hoax                      \n",
       "233    nan           Non-Hoax                   nan\n",
       "298    nan           Non-Hoax                   nan\n",
       "306    nan           Non-Hoax                   nan\n",
       "323    nan           Non-Hoax                   nan\n",
       "368    nan           Non-Hoax                   nan\n",
       "436    nan           Non-Hoax                   nan\n",
       "493    nan           Non-Hoax                   nan\n",
       "504    nan           Non-Hoax                   nan\n",
       "509    nan           Non-Hoax                   nan\n",
       "514    nan           Non-Hoax                   nan\n",
       "527    nan           Non-Hoax                   nan\n",
       "531    nan           Non-Hoax                   nan\n",
       "535    nan           Non-Hoax                   nan\n",
       "600    nan           Non-Hoax                   nan\n",
       "647    nan           Non-Hoax                   nan\n",
       "709    nan           Non-Hoax                   nan\n",
       "790    nan           Non-Hoax                   nan\n",
       "801    nan           Non-Hoax                   nan\n",
       "961    nan           Non-Hoax                   nan"
      ]
     },
     "execution_count": 87,
     "metadata": {},
     "output_type": "execute_result"
    }
   ],
   "source": [
    "df_show_nonhoax_kesehatan"
   ]
  },
  {
   "cell_type": "code",
   "execution_count": 88,
   "metadata": {},
   "outputs": [
    {
     "data": {
      "text/html": [
       "<div>\n",
       "<style scoped>\n",
       "    .dataframe tbody tr th:only-of-type {\n",
       "        vertical-align: middle;\n",
       "    }\n",
       "\n",
       "    .dataframe tbody tr th {\n",
       "        vertical-align: top;\n",
       "    }\n",
       "\n",
       "    .dataframe thead th {\n",
       "        text-align: right;\n",
       "    }\n",
       "</style>\n",
       "<table border=\"1\" class=\"dataframe\">\n",
       "  <thead>\n",
       "    <tr style=\"text-align: right;\">\n",
       "      <th></th>\n",
       "      <th>Narasi</th>\n",
       "      <th>Klasifikasi Berita</th>\n",
       "      <th>Narasi_with_stopwords</th>\n",
       "    </tr>\n",
       "  </thead>\n",
       "  <tbody>\n",
       "    <tr>\n",
       "      <th>113</th>\n",
       "      <td></td>\n",
       "      <td>Non-Hoax</td>\n",
       "      <td></td>\n",
       "    </tr>\n",
       "    <tr>\n",
       "      <th>136</th>\n",
       "      <td>nan</td>\n",
       "      <td>Non-Hoax</td>\n",
       "      <td>nan</td>\n",
       "    </tr>\n",
       "    <tr>\n",
       "      <th>154</th>\n",
       "      <td>nan</td>\n",
       "      <td>Non-Hoax</td>\n",
       "      <td>nan</td>\n",
       "    </tr>\n",
       "    <tr>\n",
       "      <th>344</th>\n",
       "      <td></td>\n",
       "      <td>Non-Hoax</td>\n",
       "      <td></td>\n",
       "    </tr>\n",
       "    <tr>\n",
       "      <th>455</th>\n",
       "      <td>nan</td>\n",
       "      <td>Non-Hoax</td>\n",
       "      <td>nan</td>\n",
       "    </tr>\n",
       "    <tr>\n",
       "      <th>494</th>\n",
       "      <td></td>\n",
       "      <td>Non-Hoax</td>\n",
       "      <td></td>\n",
       "    </tr>\n",
       "    <tr>\n",
       "      <th>707</th>\n",
       "      <td>nan</td>\n",
       "      <td>Non-Hoax</td>\n",
       "      <td>nan</td>\n",
       "    </tr>\n",
       "    <tr>\n",
       "      <th>768</th>\n",
       "      <td>nan</td>\n",
       "      <td>Non-Hoax</td>\n",
       "      <td>nan</td>\n",
       "    </tr>\n",
       "    <tr>\n",
       "      <th>807</th>\n",
       "      <td>nan</td>\n",
       "      <td>Non-Hoax</td>\n",
       "      <td>nan</td>\n",
       "    </tr>\n",
       "    <tr>\n",
       "      <th>861</th>\n",
       "      <td>nan</td>\n",
       "      <td>Non-Hoax</td>\n",
       "      <td>nan</td>\n",
       "    </tr>\n",
       "    <tr>\n",
       "      <th>979</th>\n",
       "      <td>nan</td>\n",
       "      <td>Non-Hoax</td>\n",
       "      <td>nan</td>\n",
       "    </tr>\n",
       "    <tr>\n",
       "      <th>1443</th>\n",
       "      <td>nan</td>\n",
       "      <td>Non-Hoax</td>\n",
       "      <td>nan</td>\n",
       "    </tr>\n",
       "    <tr>\n",
       "      <th>1445</th>\n",
       "      <td>nan</td>\n",
       "      <td>Non-Hoax</td>\n",
       "      <td>nan</td>\n",
       "    </tr>\n",
       "    <tr>\n",
       "      <th>1604</th>\n",
       "      <td>nan</td>\n",
       "      <td>Non-Hoax</td>\n",
       "      <td>nan</td>\n",
       "    </tr>\n",
       "    <tr>\n",
       "      <th>1650</th>\n",
       "      <td>nan</td>\n",
       "      <td>Non-Hoax</td>\n",
       "      <td>nan</td>\n",
       "    </tr>\n",
       "    <tr>\n",
       "      <th>1683</th>\n",
       "      <td>nan</td>\n",
       "      <td>Non-Hoax</td>\n",
       "      <td>nan</td>\n",
       "    </tr>\n",
       "    <tr>\n",
       "      <th>1697</th>\n",
       "      <td></td>\n",
       "      <td>Non-Hoax</td>\n",
       "      <td></td>\n",
       "    </tr>\n",
       "    <tr>\n",
       "      <th>1700</th>\n",
       "      <td>nan</td>\n",
       "      <td>Non-Hoax</td>\n",
       "      <td>nan</td>\n",
       "    </tr>\n",
       "    <tr>\n",
       "      <th>1825</th>\n",
       "      <td>nan</td>\n",
       "      <td>Non-Hoax</td>\n",
       "      <td>nan</td>\n",
       "    </tr>\n",
       "    <tr>\n",
       "      <th>1844</th>\n",
       "      <td>nan</td>\n",
       "      <td>Non-Hoax</td>\n",
       "      <td>nan</td>\n",
       "    </tr>\n",
       "    <tr>\n",
       "      <th>2195</th>\n",
       "      <td>nan</td>\n",
       "      <td>Non-Hoax</td>\n",
       "      <td>nan</td>\n",
       "    </tr>\n",
       "    <tr>\n",
       "      <th>2799</th>\n",
       "      <td>nan</td>\n",
       "      <td>Non-Hoax</td>\n",
       "      <td>nan</td>\n",
       "    </tr>\n",
       "    <tr>\n",
       "      <th>2825</th>\n",
       "      <td></td>\n",
       "      <td>Non-Hoax</td>\n",
       "      <td></td>\n",
       "    </tr>\n",
       "    <tr>\n",
       "      <th>2885</th>\n",
       "      <td>nan</td>\n",
       "      <td>Non-Hoax</td>\n",
       "      <td>nan</td>\n",
       "    </tr>\n",
       "    <tr>\n",
       "      <th>3002</th>\n",
       "      <td>nan</td>\n",
       "      <td>Non-Hoax</td>\n",
       "      <td>nan</td>\n",
       "    </tr>\n",
       "    <tr>\n",
       "      <th>3019</th>\n",
       "      <td>nan</td>\n",
       "      <td>Non-Hoax</td>\n",
       "      <td>nan</td>\n",
       "    </tr>\n",
       "    <tr>\n",
       "      <th>3055</th>\n",
       "      <td>nan</td>\n",
       "      <td>Non-Hoax</td>\n",
       "      <td>nan</td>\n",
       "    </tr>\n",
       "    <tr>\n",
       "      <th>3178</th>\n",
       "      <td>nan</td>\n",
       "      <td>Non-Hoax</td>\n",
       "      <td>nan</td>\n",
       "    </tr>\n",
       "  </tbody>\n",
       "</table>\n",
       "</div>"
      ],
      "text/plain": [
       "     Narasi Klasifikasi Berita Narasi_with_stopwords\n",
       "113                   Non-Hoax                      \n",
       "136     nan           Non-Hoax                   nan\n",
       "154     nan           Non-Hoax                   nan\n",
       "344                   Non-Hoax                      \n",
       "455     nan           Non-Hoax                   nan\n",
       "494                   Non-Hoax                      \n",
       "707     nan           Non-Hoax                   nan\n",
       "768     nan           Non-Hoax                   nan\n",
       "807     nan           Non-Hoax                   nan\n",
       "861     nan           Non-Hoax                   nan\n",
       "979     nan           Non-Hoax                   nan\n",
       "1443    nan           Non-Hoax                   nan\n",
       "1445    nan           Non-Hoax                   nan\n",
       "1604    nan           Non-Hoax                   nan\n",
       "1650    nan           Non-Hoax                   nan\n",
       "1683    nan           Non-Hoax                   nan\n",
       "1697                  Non-Hoax                      \n",
       "1700    nan           Non-Hoax                   nan\n",
       "1825    nan           Non-Hoax                   nan\n",
       "1844    nan           Non-Hoax                   nan\n",
       "2195    nan           Non-Hoax                   nan\n",
       "2799    nan           Non-Hoax                   nan\n",
       "2825                  Non-Hoax                      \n",
       "2885    nan           Non-Hoax                   nan\n",
       "3002    nan           Non-Hoax                   nan\n",
       "3019    nan           Non-Hoax                   nan\n",
       "3055    nan           Non-Hoax                   nan\n",
       "3178    nan           Non-Hoax                   nan"
      ]
     },
     "execution_count": 88,
     "metadata": {},
     "output_type": "execute_result"
    }
   ],
   "source": [
    "df_show_nonhoax_PP"
   ]
  },
  {
   "cell_type": "code",
   "execution_count": 89,
   "metadata": {},
   "outputs": [],
   "source": [
    "df_nonhoax_kesehatan = df_nonhoax_kesehatan[df_nonhoax_kesehatan['Narasi'].apply(lambda x: len(x) > 10)]\n",
    "df_nonhoax_PP = df_nonhoax_PP[df_nonhoax_PP['Narasi'].apply(lambda x: len(x) > 10)]"
   ]
  },
  {
   "cell_type": "code",
   "execution_count": 90,
   "metadata": {},
   "outputs": [
    {
     "name": "stdout",
     "output_type": "stream",
     "text": [
      "(1028, 3)\n",
      "(3182, 3)\n"
     ]
    }
   ],
   "source": [
    "print(df_nonhoax_kesehatan.shape)\n",
    "print(df_nonhoax_PP.shape)"
   ]
  },
  {
   "cell_type": "markdown",
   "metadata": {},
   "source": [
    "### Ekstrak keyword tiap narasi"
   ]
  },
  {
   "cell_type": "code",
   "execution_count": 91,
   "metadata": {},
   "outputs": [],
   "source": [
    "from sklearn.feature_extraction.text import TfidfVectorizer"
   ]
  },
  {
   "cell_type": "code",
   "execution_count": 92,
   "metadata": {},
   "outputs": [],
   "source": [
    "def extract_top_keywords_from_corpus(texts, top_n=20):\n",
    "    # Inisialisasi TF-IDF Vectorizer\n",
    "    vectorizer = TfidfVectorizer()\n",
    "    \n",
    "    # Fit dan transformasi teks ke matriks TF-IDF\n",
    "    tfidf_matrix = vectorizer.fit_transform(texts)\n",
    "    \n",
    "    # Mendapatkan daftar fitur (kata-kata) yang dihasilkan oleh TF-IDF Vectorizer\n",
    "    feature_names = vectorizer.get_feature_names_out()\n",
    "    \n",
    "    # Fungsi untuk mengambil kata kunci dan bobot dari satu dokumen\n",
    "    def get_top_keywords_with_scores_for_doc(doc_idx):\n",
    "        tfidf_scores = tfidf_matrix[doc_idx].toarray()[0]\n",
    "        # Mendapatkan indeks dari kata-kata dengan skor tertinggi\n",
    "        top_indices = tfidf_scores.argsort()[::-1][:top_n]\n",
    "        # Mengambil kata kunci dan bobot mereka\n",
    "        keywords_and_scores = [(feature_names[i], tfidf_scores[i]) for i in top_indices]\n",
    "        return keywords_and_scores\n",
    "    \n",
    "    # Mengambil kata kunci dan bobot untuk setiap dokumen\n",
    "    top_keywords_and_scores_list = [get_top_keywords_with_scores_for_doc(i) for i in range(tfidf_matrix.shape[0])]\n",
    "    \n",
    "    return top_keywords_and_scores_list"
   ]
  },
  {
   "cell_type": "code",
   "execution_count": 93,
   "metadata": {},
   "outputs": [],
   "source": [
    "df_nonhoax_PP['all_keywords_with_scores_with_sw'] = extract_top_keywords_from_corpus(df_nonhoax_PP['Narasi_with_stopwords'].tolist())\n",
    "df_nonhoax_PP['all_keywords_with_scores_without_sw'] = extract_top_keywords_from_corpus(df_nonhoax_PP['Narasi'].tolist())"
   ]
  },
  {
   "cell_type": "code",
   "execution_count": 94,
   "metadata": {},
   "outputs": [],
   "source": [
    "df_nonhoax_kesehatan['all_keywords_with_scores_with_sw'] = extract_top_keywords_from_corpus(df_nonhoax_kesehatan['Narasi_with_stopwords'].tolist())\n",
    "df_nonhoax_kesehatan['all_keywords_with_scores_without_sw'] = extract_top_keywords_from_corpus(df_nonhoax_kesehatan['Narasi'].tolist())"
   ]
  },
  {
   "cell_type": "markdown",
   "metadata": {},
   "source": [
    "### Save untuk narasi yang memiliki stopword"
   ]
  },
  {
   "cell_type": "code",
   "execution_count": 95,
   "metadata": {},
   "outputs": [],
   "source": [
    "df_nonhoax_PP_sw = df_nonhoax_PP.drop(columns=['Narasi', 'all_keywords_with_scores_with_sw', 'all_keywords_with_scores_without_sw'])\n",
    "df_nonhoax_kesehatan_sw = df_nonhoax_kesehatan.drop(columns=['Narasi', 'all_keywords_with_scores_with_sw', 'all_keywords_with_scores_without_sw'])"
   ]
  },
  {
   "cell_type": "code",
   "execution_count": 96,
   "metadata": {},
   "outputs": [],
   "source": [
    "df_nonhoax_PP_sw = df_nonhoax_PP_sw.reindex(columns=['Narasi_with_stopwords', 'Klasifikasi Berita'])\n",
    "df_nonhoax_kesehatan_sw = df_nonhoax_kesehatan_sw.reindex(columns=['Narasi_with_stopwords', 'Klasifikasi Berita'])"
   ]
  },
  {
   "cell_type": "code",
   "execution_count": 97,
   "metadata": {},
   "outputs": [],
   "source": [
    "df_nonhoax_PP_sw.to_csv('data_with_stopwords_PP_non.csv', index=False)\n",
    "df_nonhoax_kesehatan_sw.to_csv('data_with_stopwords_Kesehatan_non.csv', index=False)"
   ]
  },
  {
   "cell_type": "markdown",
   "metadata": {},
   "source": [
    "### Save untuk narasi tanpa stopword"
   ]
  },
  {
   "cell_type": "code",
   "execution_count": 98,
   "metadata": {},
   "outputs": [],
   "source": [
    "df_nonhoax_PP = df_nonhoax_PP.drop(columns=['Narasi_with_stopwords', 'all_keywords_with_scores_with_sw', 'all_keywords_with_scores_without_sw'])\n",
    "df_nonhoax_kesehatan = df_nonhoax_kesehatan.drop(columns=['Narasi_with_stopwords', 'all_keywords_with_scores_with_sw', 'all_keywords_with_scores_without_sw'])"
   ]
  },
  {
   "cell_type": "code",
   "execution_count": 99,
   "metadata": {},
   "outputs": [],
   "source": [
    "df_nonhoax_kesehatan.to_csv('endresult_non_kesehatan.csv', index=False)\n",
    "df_nonhoax_PP.to_csv('endresult_non_PP.csv', index=False)"
   ]
  },
  {
   "cell_type": "markdown",
   "metadata": {},
   "source": [
    "### Melihat kata-kata yang tidak ada pada KBBI pada masing-masing kalimat"
   ]
  },
  {
   "cell_type": "code",
   "execution_count": 100,
   "metadata": {},
   "outputs": [],
   "source": [
    "from Sastrawi.Stemmer.StemmerFactory import StemmerFactory\n",
    "\n",
    "factory = StemmerFactory()\n",
    "stemmer = factory.create_stemmer()"
   ]
  },
  {
   "cell_type": "code",
   "execution_count": 101,
   "metadata": {},
   "outputs": [],
   "source": [
    "def baca_kamus(file_path):\n",
    "    with open(file_path, 'r', encoding='utf-8') as file:\n",
    "        kamus = set(file.read().splitlines())\n",
    "    return kamus\n",
    "\n",
    "def cek_kata(teks, kamus):\n",
    "    # Tokenisasi teks menjadi kata-kata\n",
    "    kata_kata = teks.split()\n",
    "    # Temukan kata-kata yang tidak ada dalam kamus\n",
    "    typo = [kata for kata in kata_kata if stemmer.stem(kata.lower()) not in kamus]\n",
    "    return typo"
   ]
  },
  {
   "cell_type": "code",
   "execution_count": 102,
   "metadata": {},
   "outputs": [],
   "source": [
    "# https://github.com/damzaky/kumpulan-kata-bahasa-indonesia-KBBI\n",
    "kamus_kata = baca_kamus(r'../Cleaning Hoax Data/list_1.0.0.txt')"
   ]
  },
  {
   "cell_type": "code",
   "execution_count": 103,
   "metadata": {},
   "outputs": [],
   "source": [
    "df_nonhoax_PP['word_not_in_kbbi'] = df_nonhoax_PP['Narasi'].apply(lambda x: cek_kata(x, kamus_kata))\n",
    "df_nonhoax_kesehatan['word_not_in_kbbi'] = df_nonhoax_kesehatan['Narasi'].apply(lambda x: cek_kata(x, kamus_kata))"
   ]
  },
  {
   "cell_type": "code",
   "execution_count": 104,
   "metadata": {},
   "outputs": [],
   "source": [
    "df_nonhoax_PP.to_csv('resultcekword_not_in_kbbi_PP_non.csv', index=False)\n",
    "df_nonhoax_kesehatan.to_csv('resultcekword_not_in_kbbi_Kesehatan_non.csv', index=False)"
   ]
  },
  {
   "cell_type": "markdown",
   "metadata": {},
   "source": [
    "### Hitung banyaknya frekuensi kata yang tidak ada di KBBI"
   ]
  },
  {
   "cell_type": "code",
   "execution_count": 105,
   "metadata": {},
   "outputs": [],
   "source": [
    "from collections import Counter\n",
    "\n",
    "def hitung_frekuensi_word_not_in_kbbi(df):\n",
    "    counter = Counter()\n",
    "    for typo_list in df['word_not_in_kbbi']:\n",
    "        counter.update(typo_list)\n",
    "    return counter"
   ]
  },
  {
   "cell_type": "code",
   "execution_count": 106,
   "metadata": {},
   "outputs": [],
   "source": [
    "# Hitung frekuensi word_not_in_kbbi dalam dataframe\n",
    "frekuensi_not_kbbi_non_PP = hitung_frekuensi_word_not_in_kbbi(df_nonhoax_PP)\n",
    "frekuensi_not_kbbi_non_Kesehatan = hitung_frekuensi_word_not_in_kbbi(df_nonhoax_kesehatan)"
   ]
  },
  {
   "cell_type": "code",
   "execution_count": 107,
   "metadata": {},
   "outputs": [
    {
     "data": {
      "text/html": [
       "<div>\n",
       "<style scoped>\n",
       "    .dataframe tbody tr th:only-of-type {\n",
       "        vertical-align: middle;\n",
       "    }\n",
       "\n",
       "    .dataframe tbody tr th {\n",
       "        vertical-align: top;\n",
       "    }\n",
       "\n",
       "    .dataframe thead th {\n",
       "        text-align: right;\n",
       "    }\n",
       "</style>\n",
       "<table border=\"1\" class=\"dataframe\">\n",
       "  <thead>\n",
       "    <tr style=\"text-align: right;\">\n",
       "      <th></th>\n",
       "      <th>word_not_in_kbbi</th>\n",
       "      <th>Frekuensi</th>\n",
       "    </tr>\n",
       "  </thead>\n",
       "  <tbody>\n",
       "    <tr>\n",
       "      <th>0</th>\n",
       "      <td>prabowo</td>\n",
       "      <td>5418</td>\n",
       "    </tr>\n",
       "    <tr>\n",
       "      <th>1</th>\n",
       "      <td>gibran</td>\n",
       "      <td>3122</td>\n",
       "    </tr>\n",
       "    <tr>\n",
       "      <th>2</th>\n",
       "      <td>jokowi</td>\n",
       "      <td>3121</td>\n",
       "    </tr>\n",
       "    <tr>\n",
       "      <th>3</th>\n",
       "      <td>anies</td>\n",
       "      <td>2279</td>\n",
       "    </tr>\n",
       "    <tr>\n",
       "      <th>4</th>\n",
       "      <td>pdip</td>\n",
       "      <td>1723</td>\n",
       "    </tr>\n",
       "  </tbody>\n",
       "</table>\n",
       "</div>"
      ],
      "text/plain": [
       "  word_not_in_kbbi  Frekuensi\n",
       "0          prabowo       5418\n",
       "1           gibran       3122\n",
       "2           jokowi       3121\n",
       "3            anies       2279\n",
       "4             pdip       1723"
      ]
     },
     "execution_count": 107,
     "metadata": {},
     "output_type": "execute_result"
    }
   ],
   "source": [
    "df_frekuensi_not_kbbi_non_PP = pd.DataFrame(list(frekuensi_not_kbbi_non_PP.items()), columns=['word_not_in_kbbi', 'Frekuensi']).sort_values(by=['Frekuensi'], ascending=False, ignore_index=True)\n",
    "df_frekuensi_not_kbbi_non_PP.head()"
   ]
  },
  {
   "cell_type": "code",
   "execution_count": 108,
   "metadata": {},
   "outputs": [
    {
     "data": {
      "text/html": [
       "<div>\n",
       "<style scoped>\n",
       "    .dataframe tbody tr th:only-of-type {\n",
       "        vertical-align: middle;\n",
       "    }\n",
       "\n",
       "    .dataframe tbody tr th {\n",
       "        vertical-align: top;\n",
       "    }\n",
       "\n",
       "    .dataframe thead th {\n",
       "        text-align: right;\n",
       "    }\n",
       "</style>\n",
       "<table border=\"1\" class=\"dataframe\">\n",
       "  <thead>\n",
       "    <tr style=\"text-align: right;\">\n",
       "      <th></th>\n",
       "      <th>word_not_in_kbbi</th>\n",
       "      <th>Frekuensi</th>\n",
       "    </tr>\n",
       "  </thead>\n",
       "  <tbody>\n",
       "    <tr>\n",
       "      <th>0</th>\n",
       "      <td>dr</td>\n",
       "      <td>417</td>\n",
       "    </tr>\n",
       "    <tr>\n",
       "      <th>1</th>\n",
       "      <td>covid</td>\n",
       "      <td>249</td>\n",
       "    </tr>\n",
       "    <tr>\n",
       "      <th>2</th>\n",
       "      <td>kris</td>\n",
       "      <td>155</td>\n",
       "    </tr>\n",
       "    <tr>\n",
       "      <th>3</th>\n",
       "      <td>of</td>\n",
       "      <td>143</td>\n",
       "    </tr>\n",
       "    <tr>\n",
       "      <th>4</th>\n",
       "      <td>who</td>\n",
       "      <td>140</td>\n",
       "    </tr>\n",
       "  </tbody>\n",
       "</table>\n",
       "</div>"
      ],
      "text/plain": [
       "  word_not_in_kbbi  Frekuensi\n",
       "0               dr        417\n",
       "1            covid        249\n",
       "2             kris        155\n",
       "3               of        143\n",
       "4              who        140"
      ]
     },
     "execution_count": 108,
     "metadata": {},
     "output_type": "execute_result"
    }
   ],
   "source": [
    "df_frekuensi_not_kbbi_non_Kesehatan = pd.DataFrame(list(frekuensi_not_kbbi_non_Kesehatan.items()), columns=['word_not_in_kbbi', 'Frekuensi']).sort_values(by=['Frekuensi'], ascending=False, ignore_index=True)\n",
    "df_frekuensi_not_kbbi_non_Kesehatan.head()"
   ]
  },
  {
   "cell_type": "code",
   "execution_count": 109,
   "metadata": {},
   "outputs": [],
   "source": [
    "df_frekuensi_not_kbbi_non_PP.to_csv('result_freq_not_kbbi_non_PP.csv', index=False)\n",
    "df_frekuensi_not_kbbi_non_Kesehatan.to_csv('result_freq_not_kbbi_non_Kesehatan.csv', index=False)"
   ]
  }
 ],
 "metadata": {
  "kernelspec": {
   "display_name": "Python 3",
   "language": "python",
   "name": "python3"
  },
  "language_info": {
   "codemirror_mode": {
    "name": "ipython",
    "version": 3
   },
   "file_extension": ".py",
   "mimetype": "text/x-python",
   "name": "python",
   "nbconvert_exporter": "python",
   "pygments_lexer": "ipython3",
   "version": "3.11.2"
  }
 },
 "nbformat": 4,
 "nbformat_minor": 2
}
