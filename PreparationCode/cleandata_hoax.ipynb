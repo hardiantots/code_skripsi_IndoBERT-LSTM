{
 "cells": [
  {
   "cell_type": "code",
   "execution_count": 1,
   "metadata": {},
   "outputs": [],
   "source": [
    "import pandas as pd\n",
    "import regex as re\n",
    "from nltk.corpus import stopwords\n",
    "from nltk.tokenize import word_tokenize"
   ]
  },
  {
   "cell_type": "code",
   "execution_count": 2,
   "metadata": {},
   "outputs": [],
   "source": [
    "df_hoaxPP = pd.read_csv(r'../PrepareHoaxData/filteredPP_manual.csv', encoding='ISO-8859-1')\n",
    "df_hoaxKesehatan = pd.read_csv(r'../PrepareHoaxData/filteredKesehatan_manual.csv', encoding='ISO-8859-1')"
   ]
  },
  {
   "cell_type": "code",
   "execution_count": 3,
   "metadata": {},
   "outputs": [],
   "source": [
    "df_hoaxPP['Klasifikasi Berita'] = 'Hoax'\n",
    "df_hoaxKesehatan['Klasifikasi Berita'] = 'Hoax'"
   ]
  },
  {
   "cell_type": "code",
   "execution_count": 4,
   "metadata": {},
   "outputs": [
    {
     "data": {
      "text/html": [
       "<div>\n",
       "<style scoped>\n",
       "    .dataframe tbody tr th:only-of-type {\n",
       "        vertical-align: middle;\n",
       "    }\n",
       "\n",
       "    .dataframe tbody tr th {\n",
       "        vertical-align: top;\n",
       "    }\n",
       "\n",
       "    .dataframe thead th {\n",
       "        text-align: right;\n",
       "    }\n",
       "</style>\n",
       "<table border=\"1\" class=\"dataframe\">\n",
       "  <thead>\n",
       "    <tr style=\"text-align: right;\">\n",
       "      <th></th>\n",
       "      <th>id</th>\n",
       "      <th>authors</th>\n",
       "      <th>status</th>\n",
       "      <th>classification</th>\n",
       "      <th>title</th>\n",
       "      <th>content</th>\n",
       "      <th>references</th>\n",
       "      <th>tanggal</th>\n",
       "      <th>conclusion</th>\n",
       "      <th>Predict_PP</th>\n",
       "      <th>Klasifikasi Berita</th>\n",
       "    </tr>\n",
       "  </thead>\n",
       "  <tbody>\n",
       "    <tr>\n",
       "      <th>0</th>\n",
       "      <td>20305</td>\n",
       "      <td>36</td>\n",
       "      <td>Salah</td>\n",
       "      <td>Manipulated Content</td>\n",
       "      <td>[SALAH] Mobil Presiden Jokowi Parkir di depan ...</td>\n",
       "      <td>BAPAK JOKOWI MEMANG HARUS DATANG LANGSUNG KEPO...</td>\n",
       "      <td>https://turnbackhoax.id/2024/05/31/salah-mobil...</td>\n",
       "      <td>5/31/2024</td>\n",
       "      <td>Faktanya, foto mobil Presiden Jokowi  itu di d...</td>\n",
       "      <td>Politik &amp; Pemerintahan</td>\n",
       "      <td>Hoax</td>\n",
       "    </tr>\n",
       "    <tr>\n",
       "      <th>1</th>\n",
       "      <td>20296</td>\n",
       "      <td>36</td>\n",
       "      <td>Salah</td>\n",
       "      <td>Manipulated Content</td>\n",
       "      <td>[SALAH] USU Kepung Kantor Prabowo Imbas Kenaik...</td>\n",
       "      <td>ISTANA MENCEK4MM!! GILIRAN USU KEPUNG KANTOR P...</td>\n",
       "      <td>[1] https://medan.viva.co.id/sumut/5485-uang-u...</td>\n",
       "      <td>5/31/2024</td>\n",
       "      <td>Unggahan video sebuah akun youtube dengan klai...</td>\n",
       "      <td>Politik &amp; Pemerintahan</td>\n",
       "      <td>Hoax</td>\n",
       "    </tr>\n",
       "    <tr>\n",
       "      <th>2</th>\n",
       "      <td>20289</td>\n",
       "      <td>36</td>\n",
       "      <td>Salah</td>\n",
       "      <td>Manipulated Content</td>\n",
       "      <td>[SALAH] Sri Mulyani Berhasil Bongkar Korupsi B...</td>\n",
       "      <td>DHUAARR!! SRIMUL BERHASIL BONGKAR KORUPSI BESA...</td>\n",
       "      <td>https://www.youtube.com/shorts/wefBMbyQa5Q</td>\n",
       "      <td>5/31/2024</td>\n",
       "      <td>Unggahan video sebuah akun youtube dengan klai...</td>\n",
       "      <td>Politik &amp; Pemerintahan</td>\n",
       "      <td>Hoax</td>\n",
       "    </tr>\n",
       "    <tr>\n",
       "      <th>3</th>\n",
       "      <td>20288</td>\n",
       "      <td>36</td>\n",
       "      <td>Salah</td>\n",
       "      <td>Misleading Content</td>\n",
       "      <td>[SALAH] MPR Batalkan Pelantikan Gibran, Prabow...</td>\n",
       "      <td>DHUAARRâ¼ï¸MPR BATALKAN PELANTIKAN GIBRAN, P...</td>\n",
       "      <td>[1] https://rmol.id/hukum/read/2024/05/02/6189...</td>\n",
       "      <td>5/31/2024</td>\n",
       "      <td>Unggahan video sebuah akun youtube dengan klai...</td>\n",
       "      <td>Politik &amp; Pemerintahan</td>\n",
       "      <td>Hoax</td>\n",
       "    </tr>\n",
       "    <tr>\n",
       "      <th>4</th>\n",
       "      <td>20287</td>\n",
       "      <td>36</td>\n",
       "      <td>Salah</td>\n",
       "      <td>Manipulated Content</td>\n",
       "      <td>[SALAH] AHY Nekat Bongkar Semua Korupsi di Lin...</td>\n",
       "      <td>RAPAT ISTANA RICUH!! AHY SENEKAT INI BONGKAR S...</td>\n",
       "      <td>[1] https://www.westjavatoday.com/kabulkan-per...</td>\n",
       "      <td>5/31/2024</td>\n",
       "      <td>Unggahan video sebuah akun youtube dengan klai...</td>\n",
       "      <td>Politik &amp; Pemerintahan</td>\n",
       "      <td>Hoax</td>\n",
       "    </tr>\n",
       "  </tbody>\n",
       "</table>\n",
       "</div>"
      ],
      "text/plain": [
       "      id authors status       classification  \\\n",
       "0  20305      36  Salah  Manipulated Content   \n",
       "1  20296      36  Salah  Manipulated Content   \n",
       "2  20289      36  Salah  Manipulated Content   \n",
       "3  20288      36  Salah   Misleading Content   \n",
       "4  20287      36  Salah  Manipulated Content   \n",
       "\n",
       "                                               title  \\\n",
       "0  [SALAH] Mobil Presiden Jokowi Parkir di depan ...   \n",
       "1  [SALAH] USU Kepung Kantor Prabowo Imbas Kenaik...   \n",
       "2  [SALAH] Sri Mulyani Berhasil Bongkar Korupsi B...   \n",
       "3  [SALAH] MPR Batalkan Pelantikan Gibran, Prabow...   \n",
       "4  [SALAH] AHY Nekat Bongkar Semua Korupsi di Lin...   \n",
       "\n",
       "                                             content  \\\n",
       "0  BAPAK JOKOWI MEMANG HARUS DATANG LANGSUNG KEPO...   \n",
       "1  ISTANA MENCEK4MM!! GILIRAN USU KEPUNG KANTOR P...   \n",
       "2  DHUAARR!! SRIMUL BERHASIL BONGKAR KORUPSI BESA...   \n",
       "3  DHUAARRâ¼ï¸MPR BATALKAN PELANTIKAN GIBRAN, P...   \n",
       "4  RAPAT ISTANA RICUH!! AHY SENEKAT INI BONGKAR S...   \n",
       "\n",
       "                                          references    tanggal  \\\n",
       "0  https://turnbackhoax.id/2024/05/31/salah-mobil...  5/31/2024   \n",
       "1  [1] https://medan.viva.co.id/sumut/5485-uang-u...  5/31/2024   \n",
       "2         https://www.youtube.com/shorts/wefBMbyQa5Q  5/31/2024   \n",
       "3  [1] https://rmol.id/hukum/read/2024/05/02/6189...  5/31/2024   \n",
       "4  [1] https://www.westjavatoday.com/kabulkan-per...  5/31/2024   \n",
       "\n",
       "                                          conclusion              Predict_PP  \\\n",
       "0  Faktanya, foto mobil Presiden Jokowi  itu di d...  Politik & Pemerintahan   \n",
       "1  Unggahan video sebuah akun youtube dengan klai...  Politik & Pemerintahan   \n",
       "2  Unggahan video sebuah akun youtube dengan klai...  Politik & Pemerintahan   \n",
       "3  Unggahan video sebuah akun youtube dengan klai...  Politik & Pemerintahan   \n",
       "4  Unggahan video sebuah akun youtube dengan klai...  Politik & Pemerintahan   \n",
       "\n",
       "  Klasifikasi Berita  \n",
       "0               Hoax  \n",
       "1               Hoax  \n",
       "2               Hoax  \n",
       "3               Hoax  \n",
       "4               Hoax  "
      ]
     },
     "execution_count": 4,
     "metadata": {},
     "output_type": "execute_result"
    }
   ],
   "source": [
    "df_hoaxPP.head()"
   ]
  },
  {
   "cell_type": "code",
   "execution_count": 5,
   "metadata": {},
   "outputs": [
    {
     "data": {
      "text/html": [
       "<div>\n",
       "<style scoped>\n",
       "    .dataframe tbody tr th:only-of-type {\n",
       "        vertical-align: middle;\n",
       "    }\n",
       "\n",
       "    .dataframe tbody tr th {\n",
       "        vertical-align: top;\n",
       "    }\n",
       "\n",
       "    .dataframe thead th {\n",
       "        text-align: right;\n",
       "    }\n",
       "</style>\n",
       "<table border=\"1\" class=\"dataframe\">\n",
       "  <thead>\n",
       "    <tr style=\"text-align: right;\">\n",
       "      <th></th>\n",
       "      <th>id</th>\n",
       "      <th>authors</th>\n",
       "      <th>status</th>\n",
       "      <th>classification</th>\n",
       "      <th>title</th>\n",
       "      <th>content</th>\n",
       "      <th>references</th>\n",
       "      <th>tanggal</th>\n",
       "      <th>conclusion</th>\n",
       "      <th>Predict_Kesehatan</th>\n",
       "      <th>Klasifikasi Berita</th>\n",
       "    </tr>\n",
       "  </thead>\n",
       "  <tbody>\n",
       "    <tr>\n",
       "      <th>0</th>\n",
       "      <td>20334</td>\n",
       "      <td>36</td>\n",
       "      <td>Salah</td>\n",
       "      <td>Misleading Content</td>\n",
       "      <td>[SALAH] Penerima Vaksin COVID-19 mRNA akan Men...</td>\n",
       "      <td>âProf. Dolores Cahill, University college Du...</td>\n",
       "      <td>https://turnbackhoax.id/2024/06/03/salah-pener...</td>\n",
       "      <td>6/3/2024</td>\n",
       "      <td>Konten yang menyesatkan. Tidak ada bukti ilmia...</td>\n",
       "      <td>Kesehatan</td>\n",
       "      <td>Hoax</td>\n",
       "    </tr>\n",
       "    <tr>\n",
       "      <th>1</th>\n",
       "      <td>20275</td>\n",
       "      <td>36</td>\n",
       "      <td>Salah</td>\n",
       "      <td>Misleading Content</td>\n",
       "      <td>[SALAH] PEMBAYARAN BPJS BERDASARKAN GAJI</td>\n",
       "      <td>\"Ini konsep apaan ? \\nPembayaran iuran pelayan...</td>\n",
       "      <td>https://www.suara.com/bisnis/2024/05/16/102809...</td>\n",
       "      <td>5/31/2024</td>\n",
       "      <td>Faktanya, perhitungan baru perihal iuran BPJS ...</td>\n",
       "      <td>Kesehatan</td>\n",
       "      <td>Hoax</td>\n",
       "    </tr>\n",
       "    <tr>\n",
       "      <th>2</th>\n",
       "      <td>20261</td>\n",
       "      <td>36</td>\n",
       "      <td>Salah</td>\n",
       "      <td>Misleading Content</td>\n",
       "      <td>[PENIPUAN]: âDokter Tirta Menjelaskan Metode...</td>\n",
       "      <td>Dokter Tirta Menjelaskan Metode Menurunkan Be...</td>\n",
       "      <td>https://www.instagram.com/reel/C68QiMcOxcf/?ig...</td>\n",
       "      <td>5/31/2024</td>\n",
       "      <td>Hasil periksa fakta Yudho Ardi\\r\\n\\r\\nInformas...</td>\n",
       "      <td>Kesehatan</td>\n",
       "      <td>Hoax</td>\n",
       "    </tr>\n",
       "    <tr>\n",
       "      <th>3</th>\n",
       "      <td>20247</td>\n",
       "      <td>36</td>\n",
       "      <td>Salah</td>\n",
       "      <td>Impostor Content</td>\n",
       "      <td>[SALAH] RS Sri Ratu Medan Resmi Tutup Setelah ...</td>\n",
       "      <td>âCemana menurut klen we para netizen:scream:...</td>\n",
       "      <td>https://www.instagram.com/reel/C7V7J6cO329/  (...</td>\n",
       "      <td>5/30/2024</td>\n",
       "      <td>Hasil periksa fakta Moch. Marcellodiansyah\\r\\n...</td>\n",
       "      <td>Kesehatan</td>\n",
       "      <td>Hoax</td>\n",
       "    </tr>\n",
       "    <tr>\n",
       "      <th>4</th>\n",
       "      <td>20241</td>\n",
       "      <td>36</td>\n",
       "      <td>Salah</td>\n",
       "      <td>Fabricated Content</td>\n",
       "      <td>[SALAH] Mandi di Tiga Waktu Tertentu Bisa Meny...</td>\n",
       "      <td>Mandi pada tiga waktu ini ternyata dapat berak...</td>\n",
       "      <td>https://cekfakta.tempo.co/fakta/2925/keliru-ko...</td>\n",
       "      <td>5/30/2024</td>\n",
       "      <td>Klaim yang mengatakan mandi di tiga waktu tert...</td>\n",
       "      <td>Kesehatan</td>\n",
       "      <td>Hoax</td>\n",
       "    </tr>\n",
       "  </tbody>\n",
       "</table>\n",
       "</div>"
      ],
      "text/plain": [
       "      id authors status      classification  \\\n",
       "0  20334      36  Salah  Misleading Content   \n",
       "1  20275      36  Salah  Misleading Content   \n",
       "2  20261      36  Salah  Misleading Content   \n",
       "3  20247      36  Salah    Impostor Content   \n",
       "4  20241      36  Salah  Fabricated Content   \n",
       "\n",
       "                                               title  \\\n",
       "0  [SALAH] Penerima Vaksin COVID-19 mRNA akan Men...   \n",
       "1          [SALAH] PEMBAYARAN BPJS BERDASARKAN GAJI    \n",
       "2  [PENIPUAN]: âDokter Tirta Menjelaskan Metode...   \n",
       "3  [SALAH] RS Sri Ratu Medan Resmi Tutup Setelah ...   \n",
       "4  [SALAH] Mandi di Tiga Waktu Tertentu Bisa Meny...   \n",
       "\n",
       "                                             content  \\\n",
       "0  âProf. Dolores Cahill, University college Du...   \n",
       "1  \"Ini konsep apaan ? \\nPembayaran iuran pelayan...   \n",
       "2   Dokter Tirta Menjelaskan Metode Menurunkan Be...   \n",
       "3  âCemana menurut klen we para netizen:scream:...   \n",
       "4  Mandi pada tiga waktu ini ternyata dapat berak...   \n",
       "\n",
       "                                          references    tanggal  \\\n",
       "0  https://turnbackhoax.id/2024/06/03/salah-pener...   6/3/2024   \n",
       "1  https://www.suara.com/bisnis/2024/05/16/102809...  5/31/2024   \n",
       "2  https://www.instagram.com/reel/C68QiMcOxcf/?ig...  5/31/2024   \n",
       "3  https://www.instagram.com/reel/C7V7J6cO329/  (...  5/30/2024   \n",
       "4  https://cekfakta.tempo.co/fakta/2925/keliru-ko...  5/30/2024   \n",
       "\n",
       "                                          conclusion Predict_Kesehatan  \\\n",
       "0  Konten yang menyesatkan. Tidak ada bukti ilmia...         Kesehatan   \n",
       "1  Faktanya, perhitungan baru perihal iuran BPJS ...         Kesehatan   \n",
       "2  Hasil periksa fakta Yudho Ardi\\r\\n\\r\\nInformas...         Kesehatan   \n",
       "3  Hasil periksa fakta Moch. Marcellodiansyah\\r\\n...         Kesehatan   \n",
       "4  Klaim yang mengatakan mandi di tiga waktu tert...         Kesehatan   \n",
       "\n",
       "  Klasifikasi Berita  \n",
       "0               Hoax  \n",
       "1               Hoax  \n",
       "2               Hoax  \n",
       "3               Hoax  \n",
       "4               Hoax  "
      ]
     },
     "execution_count": 5,
     "metadata": {},
     "output_type": "execute_result"
    }
   ],
   "source": [
    "df_hoaxKesehatan.head()"
   ]
  },
  {
   "cell_type": "code",
   "execution_count": 6,
   "metadata": {},
   "outputs": [
    {
     "data": {
      "text/plain": [
       "Salah    3390\n",
       "FALSE       8\n",
       "Name: status, dtype: int64"
      ]
     },
     "execution_count": 6,
     "metadata": {},
     "output_type": "execute_result"
    }
   ],
   "source": [
    "df_hoaxPP['status'].value_counts()"
   ]
  },
  {
   "cell_type": "code",
   "execution_count": 7,
   "metadata": {},
   "outputs": [
    {
     "data": {
      "text/plain": [
       "Misleading Content     1443\n",
       "Manipulated Content     976\n",
       "False Context           544\n",
       "Fabricated Content      206\n",
       "Impostor Content         91\n",
       "False Connection         86\n",
       "Satire                   36\n",
       "Name: classification, dtype: int64"
      ]
     },
     "execution_count": 7,
     "metadata": {},
     "output_type": "execute_result"
    }
   ],
   "source": [
    "df_hoaxPP['classification'].value_counts()"
   ]
  },
  {
   "cell_type": "code",
   "execution_count": 8,
   "metadata": {},
   "outputs": [
    {
     "data": {
      "text/plain": [
       "Salah    1068\n",
       "FALSE       4\n",
       "Name: status, dtype: int64"
      ]
     },
     "execution_count": 8,
     "metadata": {},
     "output_type": "execute_result"
    }
   ],
   "source": [
    "df_hoaxKesehatan['status'].value_counts()"
   ]
  },
  {
   "cell_type": "code",
   "execution_count": 9,
   "metadata": {},
   "outputs": [
    {
     "data": {
      "text/plain": [
       "Misleading Content     729\n",
       "False Context          128\n",
       "Fabricated Content     111\n",
       "Manipulated Content     58\n",
       "Impostor Content        16\n",
       "False Connection        16\n",
       "Satire                  11\n",
       "Name: classification, dtype: int64"
      ]
     },
     "execution_count": 9,
     "metadata": {},
     "output_type": "execute_result"
    }
   ],
   "source": [
    "df_hoaxKesehatan['classification'].value_counts()"
   ]
  },
  {
   "cell_type": "markdown",
   "metadata": {},
   "source": [
    "### Hilangkan Kategori yang tidak diperlukan (Impostor Content, False Connection, Satire, Clarification)"
   ]
  },
  {
   "cell_type": "code",
   "execution_count": 10,
   "metadata": {},
   "outputs": [],
   "source": [
    "df_hoaxKesehatan = df_hoaxKesehatan[~df_hoaxKesehatan['classification'].isin(['Impostor Content', 'False Connection', 'Satire'])]\n",
    "df_hoaxPP = df_hoaxPP[~df_hoaxPP['classification'].isin(['Impostor Content', 'False Connection', 'Satire'])]"
   ]
  },
  {
   "cell_type": "code",
   "execution_count": 11,
   "metadata": {},
   "outputs": [
    {
     "name": "stdout",
     "output_type": "stream",
     "text": [
      "(1029, 11)\n"
     ]
    },
    {
     "data": {
      "text/plain": [
       "Misleading Content     729\n",
       "False Context          128\n",
       "Fabricated Content     111\n",
       "Manipulated Content     58\n",
       "Name: classification, dtype: int64"
      ]
     },
     "execution_count": 11,
     "metadata": {},
     "output_type": "execute_result"
    }
   ],
   "source": [
    "print(df_hoaxKesehatan.shape)\n",
    "df_hoaxKesehatan['classification'].value_counts()"
   ]
  },
  {
   "cell_type": "code",
   "execution_count": 12,
   "metadata": {},
   "outputs": [
    {
     "name": "stdout",
     "output_type": "stream",
     "text": [
      "(3185, 11)\n"
     ]
    },
    {
     "data": {
      "text/plain": [
       "Misleading Content     1443\n",
       "Manipulated Content     976\n",
       "False Context           544\n",
       "Fabricated Content      206\n",
       "Name: classification, dtype: int64"
      ]
     },
     "execution_count": 12,
     "metadata": {},
     "output_type": "execute_result"
    }
   ],
   "source": [
    "print(df_hoaxPP.shape)\n",
    "df_hoaxPP['classification'].value_counts()"
   ]
  },
  {
   "cell_type": "markdown",
   "metadata": {},
   "source": [
    "### Convert dataframe hoax hanya menyisakan kolom 'content', dan 'Klasifikasi Berita'"
   ]
  },
  {
   "cell_type": "code",
   "execution_count": 47,
   "metadata": {},
   "outputs": [],
   "source": [
    "df_hoaxPP = df_hoaxPP[['content', 'Klasifikasi Berita']]\n",
    "df_hoaxKesehatan = df_hoaxKesehatan[['content', 'Klasifikasi Berita']]"
   ]
  },
  {
   "cell_type": "code",
   "execution_count": 48,
   "metadata": {},
   "outputs": [],
   "source": [
    "df_hoaxPP['content'] = df_hoaxPP['content'].astype(str)\n",
    "df_hoaxKesehatan['content'] = df_hoaxKesehatan['content'].astype(str)"
   ]
  },
  {
   "cell_type": "markdown",
   "metadata": {},
   "source": [
    "### Bersihkan Noise karakter non-ASCII, kata 'NARASI:' & ':(jenis emoticon):, new line(\\n & \\r), spasi awal & akhir teks, link, dan hastag"
   ]
  },
  {
   "cell_type": "code",
   "execution_count": 49,
   "metadata": {},
   "outputs": [],
   "source": [
    "def noise_remove(text):\n",
    "    text = re.sub(r'[^\\x00-\\x7F]', ' ', text)\n",
    "    text = text.replace('\\n', ' ').replace('\\r', ' ')\n",
    "    text = re.sub(r'http[s]?://\\S+|www\\.\\S+|#\\S+', ' ', text)\n",
    "    text = re.sub('NARASI:', ' ', text, flags=re.IGNORECASE)\n",
    "    text = re.sub(r':\\w+?:', ' ', text)\n",
    "    text = re.sub(r'\\s+', ' ', text)\n",
    "\n",
    "    return text.strip()"
   ]
  },
  {
   "cell_type": "code",
   "execution_count": 50,
   "metadata": {},
   "outputs": [],
   "source": [
    "df_hoaxPP['content'] = df_hoaxPP['content'].apply(noise_remove)\n",
    "df_hoaxKesehatan['content'] = df_hoaxKesehatan['content'].apply(noise_remove)"
   ]
  },
  {
   "cell_type": "code",
   "execution_count": 51,
   "metadata": {},
   "outputs": [],
   "source": [
    "df_hoaxPP.to_csv('result1_PP.csv', index=False)\n",
    "df_hoaxKesehatan.to_csv('result1_Kesehatan.csv', index=False)"
   ]
  },
  {
   "cell_type": "markdown",
   "metadata": {},
   "source": [
    "### Case Folding"
   ]
  },
  {
   "cell_type": "code",
   "execution_count": 52,
   "metadata": {},
   "outputs": [],
   "source": [
    "def lower_text(text):\n",
    "    text = text.lower()\n",
    "\n",
    "    return text\n",
    "\n",
    "df_hoaxPP['content'] = df_hoaxPP['content'].apply(lower_text)\n",
    "df_hoaxKesehatan['content'] = df_hoaxKesehatan['content'].apply(lower_text)"
   ]
  },
  {
   "cell_type": "code",
   "execution_count": 53,
   "metadata": {},
   "outputs": [],
   "source": [
    "df_hoaxPP.to_csv('result2_PP.csv', index=False)\n",
    "df_hoaxKesehatan.to_csv('result2_Kesehatan.csv', index=False)"
   ]
  },
  {
   "cell_type": "markdown",
   "metadata": {},
   "source": [
    "### Punctuation Removal"
   ]
  },
  {
   "cell_type": "code",
   "execution_count": 54,
   "metadata": {},
   "outputs": [],
   "source": [
    "def punct_removal(text):\n",
    "    text = re.sub(r'[^\\w\\s]|_', ' ', text)\n",
    "    text = re.sub(r'\\s+', ' ', text)\n",
    "\n",
    "    return text\n",
    "\n",
    "df_hoaxPP['content'] = df_hoaxPP['content'].apply(punct_removal)\n",
    "df_hoaxKesehatan['content'] = df_hoaxKesehatan['content'].apply(punct_removal)"
   ]
  },
  {
   "cell_type": "code",
   "execution_count": 55,
   "metadata": {},
   "outputs": [],
   "source": [
    "df_hoaxPP.to_csv('result3_PP.csv', index=False)\n",
    "df_hoaxKesehatan.to_csv('result3_Kesehatan.csv', index=False)"
   ]
  },
  {
   "cell_type": "markdown",
   "metadata": {},
   "source": [
    "### Melihat kata-kata yang tidak ada pada KBBI pada masing-masing kalimat"
   ]
  },
  {
   "cell_type": "code",
   "execution_count": 56,
   "metadata": {},
   "outputs": [],
   "source": [
    "from Sastrawi.Stemmer.StemmerFactory import StemmerFactory\n",
    "\n",
    "factory = StemmerFactory()\n",
    "stemmer = factory.create_stemmer()"
   ]
  },
  {
   "cell_type": "code",
   "execution_count": 57,
   "metadata": {},
   "outputs": [],
   "source": [
    "def baca_kamus(file_path):\n",
    "    with open(file_path, 'r', encoding='utf-8') as file:\n",
    "        kamus = set(file.read().splitlines())\n",
    "    return kamus\n",
    "\n",
    "def cek_kata(teks, kamus):\n",
    "    # Tokenisasi teks menjadi kata-kata\n",
    "    kata_kata = teks.split()\n",
    "    # Temukan kata-kata yang tidak ada dalam kamus\n",
    "    kata_not_in_kbbi = [kata for kata in kata_kata if stemmer.stem(kata.lower()) not in kamus]\n",
    "    return kata_not_in_kbbi"
   ]
  },
  {
   "cell_type": "code",
   "execution_count": 58,
   "metadata": {},
   "outputs": [],
   "source": [
    "# https://github.com/damzaky/kumpulan-kata-bahasa-indonesia-KBBI\n",
    "kamus_kata = baca_kamus('list_1.0.0.txt')"
   ]
  },
  {
   "cell_type": "code",
   "execution_count": 59,
   "metadata": {},
   "outputs": [],
   "source": [
    "df_hoaxPP['word_not_in_kbbi'] = df_hoaxPP['content'].apply(lambda x: cek_kata(x, kamus_kata))\n",
    "df_hoaxKesehatan['word_not_in_kbbi'] = df_hoaxKesehatan['content'].apply(lambda x: cek_kata(x, kamus_kata))"
   ]
  },
  {
   "cell_type": "code",
   "execution_count": 60,
   "metadata": {},
   "outputs": [],
   "source": [
    "df_hoaxPP.to_csv('resultcekword_not_in_kbbi_PP.csv', index=False)\n",
    "df_hoaxKesehatan.to_csv('resultcekword_not_in_kbbi_Kesehatan.csv', index=False)"
   ]
  },
  {
   "cell_type": "markdown",
   "metadata": {},
   "source": [
    "### Hitung banyaknya frekuensi kata yang tidak ada dalam KBBI"
   ]
  },
  {
   "cell_type": "code",
   "execution_count": 61,
   "metadata": {},
   "outputs": [],
   "source": [
    "from collections import Counter\n",
    "\n",
    "def hitung_frekuensi_word_not_in_kbbi(df):\n",
    "    counter = Counter()\n",
    "    for typo_list in df['word_not_in_kbbi']:\n",
    "        counter.update(typo_list)\n",
    "    return counter"
   ]
  },
  {
   "cell_type": "code",
   "execution_count": 62,
   "metadata": {},
   "outputs": [],
   "source": [
    "# Hitung frekuensi word_not_in_kbbi dalam dataframe\n",
    "frekuensi_not_kbbi_PP = hitung_frekuensi_word_not_in_kbbi(df_hoaxPP)\n",
    "frekuensi_not_kbbi_Kesehatan = hitung_frekuensi_word_not_in_kbbi(df_hoaxKesehatan)"
   ]
  },
  {
   "cell_type": "code",
   "execution_count": 63,
   "metadata": {},
   "outputs": [
    {
     "data": {
      "text/html": [
       "<div>\n",
       "<style scoped>\n",
       "    .dataframe tbody tr th:only-of-type {\n",
       "        vertical-align: middle;\n",
       "    }\n",
       "\n",
       "    .dataframe tbody tr th {\n",
       "        vertical-align: top;\n",
       "    }\n",
       "\n",
       "    .dataframe thead th {\n",
       "        text-align: right;\n",
       "    }\n",
       "</style>\n",
       "<table border=\"1\" class=\"dataframe\">\n",
       "  <thead>\n",
       "    <tr style=\"text-align: right;\">\n",
       "      <th></th>\n",
       "      <th>word_not_in_kbbi</th>\n",
       "      <th>Frekuensi</th>\n",
       "    </tr>\n",
       "  </thead>\n",
       "  <tbody>\n",
       "    <tr>\n",
       "      <th>0</th>\n",
       "      <td>jokowi</td>\n",
       "      <td>857</td>\n",
       "    </tr>\n",
       "    <tr>\n",
       "      <th>1</th>\n",
       "      <td>anies</td>\n",
       "      <td>594</td>\n",
       "    </tr>\n",
       "    <tr>\n",
       "      <th>2</th>\n",
       "      <td>prabowo</td>\n",
       "      <td>429</td>\n",
       "    </tr>\n",
       "    <tr>\n",
       "      <th>3</th>\n",
       "      <td>1</td>\n",
       "      <td>317</td>\n",
       "    </tr>\n",
       "    <tr>\n",
       "      <th>4</th>\n",
       "      <td>2</td>\n",
       "      <td>298</td>\n",
       "    </tr>\n",
       "  </tbody>\n",
       "</table>\n",
       "</div>"
      ],
      "text/plain": [
       "  word_not_in_kbbi  Frekuensi\n",
       "0           jokowi        857\n",
       "1            anies        594\n",
       "2          prabowo        429\n",
       "3                1        317\n",
       "4                2        298"
      ]
     },
     "execution_count": 63,
     "metadata": {},
     "output_type": "execute_result"
    }
   ],
   "source": [
    "df_frekuensi_not_kbbi_PP = pd.DataFrame(list(frekuensi_not_kbbi_PP.items()), columns=['word_not_in_kbbi', 'Frekuensi']).sort_values(by=['Frekuensi'], ascending=False, ignore_index=True)\n",
    "df_frekuensi_not_kbbi_PP.head()"
   ]
  },
  {
   "cell_type": "code",
   "execution_count": 64,
   "metadata": {},
   "outputs": [
    {
     "data": {
      "text/html": [
       "<div>\n",
       "<style scoped>\n",
       "    .dataframe tbody tr th:only-of-type {\n",
       "        vertical-align: middle;\n",
       "    }\n",
       "\n",
       "    .dataframe tbody tr th {\n",
       "        vertical-align: top;\n",
       "    }\n",
       "\n",
       "    .dataframe thead th {\n",
       "        text-align: right;\n",
       "    }\n",
       "</style>\n",
       "<table border=\"1\" class=\"dataframe\">\n",
       "  <thead>\n",
       "    <tr style=\"text-align: right;\">\n",
       "      <th></th>\n",
       "      <th>word_not_in_kbbi</th>\n",
       "      <th>Frekuensi</th>\n",
       "    </tr>\n",
       "  </thead>\n",
       "  <tbody>\n",
       "    <tr>\n",
       "      <th>0</th>\n",
       "      <td>covid</td>\n",
       "      <td>495</td>\n",
       "    </tr>\n",
       "    <tr>\n",
       "      <th>1</th>\n",
       "      <td>19</td>\n",
       "      <td>340</td>\n",
       "    </tr>\n",
       "    <tr>\n",
       "      <th>2</th>\n",
       "      <td>1</td>\n",
       "      <td>271</td>\n",
       "    </tr>\n",
       "    <tr>\n",
       "      <th>3</th>\n",
       "      <td>2</td>\n",
       "      <td>238</td>\n",
       "    </tr>\n",
       "    <tr>\n",
       "      <th>4</th>\n",
       "      <td>dr</td>\n",
       "      <td>206</td>\n",
       "    </tr>\n",
       "  </tbody>\n",
       "</table>\n",
       "</div>"
      ],
      "text/plain": [
       "  word_not_in_kbbi  Frekuensi\n",
       "0            covid        495\n",
       "1               19        340\n",
       "2                1        271\n",
       "3                2        238\n",
       "4               dr        206"
      ]
     },
     "execution_count": 64,
     "metadata": {},
     "output_type": "execute_result"
    }
   ],
   "source": [
    "df_frekuensi_not_kbbi_Kesehatan = pd.DataFrame(list(frekuensi_not_kbbi_Kesehatan.items()), columns=['word_not_in_kbbi', 'Frekuensi']).sort_values(by=['Frekuensi'], ascending=False, ignore_index=True)\n",
    "df_frekuensi_not_kbbi_Kesehatan.head()"
   ]
  },
  {
   "cell_type": "code",
   "execution_count": 65,
   "metadata": {},
   "outputs": [],
   "source": [
    "df_frekuensi_not_kbbi_PP.to_csv('result_freq_not_kbbi_PP.csv', index=False)\n",
    "df_frekuensi_not_kbbi_Kesehatan.to_csv('result_freq_not_kbbi_Kesehatan.csv', index=False)"
   ]
  },
  {
   "cell_type": "markdown",
   "metadata": {},
   "source": [
    "## Melihat pengaruh stopword terhadap data hoax"
   ]
  },
  {
   "cell_type": "markdown",
   "metadata": {},
   "source": [
    "### Hanya Number Removal"
   ]
  },
  {
   "cell_type": "code",
   "execution_count": 66,
   "metadata": {},
   "outputs": [],
   "source": [
    "df_hoaxPP = df_hoaxPP.drop(columns=['word_not_in_kbbi'])\n",
    "df_hoaxKesehatan = df_hoaxKesehatan.drop(columns=['word_not_in_kbbi'])"
   ]
  },
  {
   "cell_type": "code",
   "execution_count": 67,
   "metadata": {},
   "outputs": [
    {
     "data": {
      "text/html": [
       "<div>\n",
       "<style scoped>\n",
       "    .dataframe tbody tr th:only-of-type {\n",
       "        vertical-align: middle;\n",
       "    }\n",
       "\n",
       "    .dataframe tbody tr th {\n",
       "        vertical-align: top;\n",
       "    }\n",
       "\n",
       "    .dataframe thead th {\n",
       "        text-align: right;\n",
       "    }\n",
       "</style>\n",
       "<table border=\"1\" class=\"dataframe\">\n",
       "  <thead>\n",
       "    <tr style=\"text-align: right;\">\n",
       "      <th></th>\n",
       "      <th>content</th>\n",
       "      <th>Klasifikasi Berita</th>\n",
       "    </tr>\n",
       "  </thead>\n",
       "  <tbody>\n",
       "    <tr>\n",
       "      <th>0</th>\n",
       "      <td>bapak jokowi memang harus datang langsung kepo...</td>\n",
       "      <td>Hoax</td>\n",
       "    </tr>\n",
       "    <tr>\n",
       "      <th>1</th>\n",
       "      <td>istana mencek4mm giliran usu kepung kantor pra...</td>\n",
       "      <td>Hoax</td>\n",
       "    </tr>\n",
       "    <tr>\n",
       "      <th>2</th>\n",
       "      <td>dhuaarr srimul berhasil bongkar korupsi besar ...</td>\n",
       "      <td>Hoax</td>\n",
       "    </tr>\n",
       "    <tr>\n",
       "      <th>3</th>\n",
       "      <td>dhuaarr mpr batalkan pelantikan gibran prabowo...</td>\n",
       "      <td>Hoax</td>\n",
       "    </tr>\n",
       "    <tr>\n",
       "      <th>4</th>\n",
       "      <td>rapat istana ricuh ahy senekat ini bongkar smu...</td>\n",
       "      <td>Hoax</td>\n",
       "    </tr>\n",
       "  </tbody>\n",
       "</table>\n",
       "</div>"
      ],
      "text/plain": [
       "                                             content Klasifikasi Berita\n",
       "0  bapak jokowi memang harus datang langsung kepo...               Hoax\n",
       "1  istana mencek4mm giliran usu kepung kantor pra...               Hoax\n",
       "2  dhuaarr srimul berhasil bongkar korupsi besar ...               Hoax\n",
       "3  dhuaarr mpr batalkan pelantikan gibran prabowo...               Hoax\n",
       "4  rapat istana ricuh ahy senekat ini bongkar smu...               Hoax"
      ]
     },
     "execution_count": 67,
     "metadata": {},
     "output_type": "execute_result"
    }
   ],
   "source": [
    "df_hoaxPP.head()"
   ]
  },
  {
   "cell_type": "code",
   "execution_count": 68,
   "metadata": {},
   "outputs": [
    {
     "data": {
      "text/html": [
       "<div>\n",
       "<style scoped>\n",
       "    .dataframe tbody tr th:only-of-type {\n",
       "        vertical-align: middle;\n",
       "    }\n",
       "\n",
       "    .dataframe tbody tr th {\n",
       "        vertical-align: top;\n",
       "    }\n",
       "\n",
       "    .dataframe thead th {\n",
       "        text-align: right;\n",
       "    }\n",
       "</style>\n",
       "<table border=\"1\" class=\"dataframe\">\n",
       "  <thead>\n",
       "    <tr style=\"text-align: right;\">\n",
       "      <th></th>\n",
       "      <th>content</th>\n",
       "      <th>Klasifikasi Berita</th>\n",
       "    </tr>\n",
       "  </thead>\n",
       "  <tbody>\n",
       "    <tr>\n",
       "      <th>0</th>\n",
       "      <td>prof dolores cahill university college dublin ...</td>\n",
       "      <td>Hoax</td>\n",
       "    </tr>\n",
       "    <tr>\n",
       "      <th>1</th>\n",
       "      <td>ini konsep apaan pembayaran iuran pelayanan k...</td>\n",
       "      <td>Hoax</td>\n",
       "    </tr>\n",
       "    <tr>\n",
       "      <th>2</th>\n",
       "      <td>dokter tirta menjelaskan metode menurunkan ber...</td>\n",
       "      <td>Hoax</td>\n",
       "    </tr>\n",
       "    <tr>\n",
       "      <th>4</th>\n",
       "      <td>mandi pada tiga waktu ini ternyata dapat berak...</td>\n",
       "      <td>Hoax</td>\n",
       "    </tr>\n",
       "    <tr>\n",
       "      <th>5</th>\n",
       "      <td>info paniai news pada hari ini minggu tanggal ...</td>\n",
       "      <td>Hoax</td>\n",
       "    </tr>\n",
       "  </tbody>\n",
       "</table>\n",
       "</div>"
      ],
      "text/plain": [
       "                                             content Klasifikasi Berita\n",
       "0  prof dolores cahill university college dublin ...               Hoax\n",
       "1   ini konsep apaan pembayaran iuran pelayanan k...               Hoax\n",
       "2  dokter tirta menjelaskan metode menurunkan ber...               Hoax\n",
       "4  mandi pada tiga waktu ini ternyata dapat berak...               Hoax\n",
       "5  info paniai news pada hari ini minggu tanggal ...               Hoax"
      ]
     },
     "execution_count": 68,
     "metadata": {},
     "output_type": "execute_result"
    }
   ],
   "source": [
    "df_hoaxKesehatan.head()"
   ]
  },
  {
   "cell_type": "code",
   "execution_count": 69,
   "metadata": {},
   "outputs": [],
   "source": [
    "def remove_digits(text):\n",
    "    text = re.sub(r'\\d+', '', text)\n",
    "\n",
    "    text = re.sub(r'\\s+', ' ', text)\n",
    "\n",
    "    return text"
   ]
  },
  {
   "cell_type": "markdown",
   "metadata": {},
   "source": [
    "### Stopword & Number Removal"
   ]
  },
  {
   "cell_type": "code",
   "execution_count": 70,
   "metadata": {},
   "outputs": [],
   "source": [
    "def remove_stopwords_digits(text):\n",
    "    text = re.sub(r'\\d+', '', text)\n",
    "    words = word_tokenize(text)\n",
    "\n",
    "    # Menghapus stopword\n",
    "    stop_words_nltk = stopwords.words('indonesian')\n",
    "    filter_words = [word for word in words if word not in stop_words_nltk]\n",
    "\n",
    "    new_text = ' '.join(filter_words)\n",
    "\n",
    "    new_text = re.sub(r'\\s+', ' ', new_text)\n",
    "\n",
    "    return new_text.strip()"
   ]
  },
  {
   "cell_type": "code",
   "execution_count": 71,
   "metadata": {},
   "outputs": [],
   "source": [
    "df_hoaxPP['content_with_stopwords'] = df_hoaxPP['content'].apply(remove_digits)\n",
    "df_hoaxKesehatan['content_with_stopwords'] = df_hoaxKesehatan['content'].apply(remove_digits)"
   ]
  },
  {
   "cell_type": "code",
   "execution_count": 72,
   "metadata": {},
   "outputs": [],
   "source": [
    "df_hoaxPP['content'] = df_hoaxPP['content'].apply(remove_stopwords_digits)\n",
    "df_hoaxKesehatan['content'] = df_hoaxKesehatan['content'].apply(remove_stopwords_digits)"
   ]
  },
  {
   "cell_type": "markdown",
   "metadata": {},
   "source": [
    "### Ekstrak keyword tiap narasi"
   ]
  },
  {
   "cell_type": "code",
   "execution_count": 73,
   "metadata": {},
   "outputs": [],
   "source": [
    "from sklearn.feature_extraction.text import TfidfVectorizer"
   ]
  },
  {
   "cell_type": "code",
   "execution_count": 74,
   "metadata": {},
   "outputs": [],
   "source": [
    "def extract_top_keywords_from_corpus(texts, top_n=20):\n",
    "    # Inisialisasi TF-IDF Vectorizer\n",
    "    vectorizer = TfidfVectorizer()\n",
    "    \n",
    "    # Fit dan transformasi teks ke matriks TF-IDF\n",
    "    tfidf_matrix = vectorizer.fit_transform(texts)\n",
    "    \n",
    "    # Mendapatkan daftar fitur (kata-kata) yang dihasilkan oleh TF-IDF Vectorizer\n",
    "    feature_names = vectorizer.get_feature_names_out()\n",
    "    \n",
    "    # Fungsi untuk mengambil kata kunci dan bobot dari satu dokumen\n",
    "    def get_top_keywords_with_scores_for_doc(doc_idx):\n",
    "        tfidf_scores = tfidf_matrix[doc_idx].toarray()[0]\n",
    "        # Mendapatkan indeks dari kata-kata dengan skor tertinggi\n",
    "        top_indices = tfidf_scores.argsort()[::-1][:top_n]\n",
    "        # Mengambil kata kunci dan bobot mereka\n",
    "        keywords_and_scores = [(feature_names[i], tfidf_scores[i]) for i in top_indices]\n",
    "        return keywords_and_scores\n",
    "    \n",
    "    # Mengambil kata kunci dan bobot untuk setiap dokumen\n",
    "    top_keywords_and_scores_list = [get_top_keywords_with_scores_for_doc(i) for i in range(tfidf_matrix.shape[0])]\n",
    "    \n",
    "    return top_keywords_and_scores_list"
   ]
  },
  {
   "cell_type": "code",
   "execution_count": 75,
   "metadata": {},
   "outputs": [],
   "source": [
    "df_hoaxPP['all_keywords_with_scores_with_sw'] = extract_top_keywords_from_corpus(df_hoaxPP['content_with_stopwords'].tolist())\n",
    "df_hoaxPP['all_keywords_with_scores_without_sw'] = extract_top_keywords_from_corpus(df_hoaxPP['content'].tolist())"
   ]
  },
  {
   "cell_type": "code",
   "execution_count": 76,
   "metadata": {},
   "outputs": [],
   "source": [
    "df_hoaxKesehatan['all_keywords_with_scores_with_sw'] = extract_top_keywords_from_corpus(df_hoaxKesehatan['content_with_stopwords'].tolist())\n",
    "df_hoaxKesehatan['all_keywords_with_scores_without_sw'] = extract_top_keywords_from_corpus(df_hoaxKesehatan['content'].tolist())"
   ]
  },
  {
   "cell_type": "code",
   "execution_count": 77,
   "metadata": {},
   "outputs": [],
   "source": [
    "df_hoaxPP.to_csv('diff_stopword_and_not_PP.csv', index=False)\n",
    "df_hoaxKesehatan.to_csv('diff_stopword_and_not_Kesehatan.csv', index=False)"
   ]
  },
  {
   "cell_type": "markdown",
   "metadata": {},
   "source": [
    "### Lihat hasil differencenya"
   ]
  },
  {
   "cell_type": "code",
   "execution_count": 78,
   "metadata": {},
   "outputs": [],
   "source": [
    "df_new_PP = pd.read_csv('diff_stopword_and_not_PP.csv')\n",
    "df_new_Kesehatan = pd.read_csv('diff_stopword_and_not_Kesehatan.csv')"
   ]
  },
  {
   "cell_type": "code",
   "execution_count": 79,
   "metadata": {},
   "outputs": [],
   "source": [
    "pd.set_option('display.max_colwidth', None)"
   ]
  },
  {
   "cell_type": "code",
   "execution_count": 80,
   "metadata": {},
   "outputs": [
    {
     "data": {
      "text/html": [
       "<div>\n",
       "<style scoped>\n",
       "    .dataframe tbody tr th:only-of-type {\n",
       "        vertical-align: middle;\n",
       "    }\n",
       "\n",
       "    .dataframe tbody tr th {\n",
       "        vertical-align: top;\n",
       "    }\n",
       "\n",
       "    .dataframe thead th {\n",
       "        text-align: right;\n",
       "    }\n",
       "</style>\n",
       "<table border=\"1\" class=\"dataframe\">\n",
       "  <thead>\n",
       "    <tr style=\"text-align: right;\">\n",
       "      <th></th>\n",
       "      <th>content</th>\n",
       "      <th>Klasifikasi Berita</th>\n",
       "      <th>content_with_stopwords</th>\n",
       "      <th>all_keywords_with_scores_with_sw</th>\n",
       "      <th>all_keywords_with_scores_without_sw</th>\n",
       "    </tr>\n",
       "  </thead>\n",
       "  <tbody>\n",
       "    <tr>\n",
       "      <th>0</th>\n",
       "      <td>jokowi langsung kepolsek mobil presiden jokowi dgr parkir d polres cirebon bnr kah kpn</td>\n",
       "      <td>Hoax</td>\n",
       "      <td>bapak jokowi memang harus datang langsung kepolsek mobil presiden jokowi dgr parkir d polres cirebon bnr kah kpn</td>\n",
       "      <td>[('kpn', 0.3311945609710771), ('kepolsek', 0.3311945609710771), ('dgr', 0.3311945609710771), ('cirebon', 0.31515707912698454), ('bnr', 0.31515707912698454), ('parkir', 0.27636204837643663), ('polres', 0.26753598521769667), ('kah', 0.24894579207911635), ('jokowi', 0.21345603627163195), ('mobil', 0.19733076772144356), ('datang', 0.19666599077896357), ('bapak', 0.19289615893005066), ('memang', 0.19289615893005066), ('langsung', 0.15713620273266493), ('harus', 0.15665383947399045), ('presiden', 0.12460551997475477), ('iki', 0.0), ('ikrar', 0.0), ('ikn', 0.0), ('iku', 0.0)]</td>\n",
       "      <td>[('kepolsek', 0.35664639201605397), ('dgr', 0.35664639201605397), ('kpn', 0.35664639201605397), ('bnr', 0.3393764524978803), ('cirebon', 0.3393764524978803), ('parkir', 0.2976000788015047), ('polres', 0.2880957452398635), ('kah', 0.26807692219422996), ('jokowi', 0.22985982912012162), ('mobil', 0.21249535661232322), ('langsung', 0.16921189646167603), ('presiden', 0.13418127699313742), ('image', 0.0), ('ikhtiar', 0.0), ('iku', 0.0), ('iman', 0.0), ('ikrar', 0.0), ('ikn', 0.0), ('iklim', 0.0), ('iklas', 0.0)]</td>\n",
       "    </tr>\n",
       "    <tr>\n",
       "      <th>1</th>\n",
       "      <td>istana mencekmm giliran usu kepung kantor prabowo imbas biaya ukt besaran</td>\n",
       "      <td>Hoax</td>\n",
       "      <td>istana mencekmm giliran usu kepung kantor prabowo imbas biaya ukt naik besar besaran</td>\n",
       "      <td>[('usu', 0.36639895394006355), ('mencekmm', 0.3486567647136486), ('imbas', 0.336068481124213), ('ukt', 0.336068481124213), ('kepung', 0.3115810246080017), ('giliran', 0.30058410267138297), ('biaya', 0.2541628676622914), ('besaran', 0.2541628676622914), ('naik', 0.24507706267666127), ('kantor', 0.22299889111743054), ('istana', 0.1961021496442386), ('besar', 0.17689635833815798), ('prabowo', 0.14878006557122855), ('ikhlaaash', 0.0), ('iku', 0.0), ('ikut', 0.0), ('ikutan', 0.0), ('ikutannya', 0.0), ('ikuti', 0.0), ('ika', 0.0)]</td>\n",
       "      <td>[('usu', 0.3843767634762626), ('mencekmm', 0.36576403219387915), ('ukt', 0.3525580891861376), ('imbas', 0.3525580891861376), ('kepung', 0.3268691258846574), ('giliran', 0.31533262662137057), ('biaya', 0.2666336773544891), ('besaran', 0.2666336773544891), ('kantor', 0.23394060246289625), ('istana', 0.20572413971280207), ('prabowo', 0.15608014012892038), ('iku', 0.0), ('hvkvm', 0.0), ('iklim', 0.0), ('ikn', 0.0), ('ikrar', 0.0), ('ikutan', 0.0), ('iklankan', 0.0), ('ikutannya', 0.0), ('ikuti', 0.0)]</td>\n",
       "    </tr>\n",
       "    <tr>\n",
       "      <th>2</th>\n",
       "      <td>dhuaarr srimul berhasil bongkar korupsi besaran jkw istana</td>\n",
       "      <td>Hoax</td>\n",
       "      <td>dhuaarr srimul berhasil bongkar korupsi besar besaran jkw di istana</td>\n",
       "      <td>[('srimul', 0.4440462037717489), ('dhuaarr', 0.43114475630301946), ('bongkar', 0.3358245800012055), ('besaran', 0.3358245800012055), ('berhasil', 0.3109180876125143), ('korupsi', 0.2846544985544083), ('jkw', 0.2846544985544083), ('istana', 0.25910913992799833), ('besar', 0.23373258961489277), ('di', 0.1043358846269065), ('ikrar', 0.0), ('iku', 0.0), ('ikutannya', 0.0), ('ikut', 0.0), ('ikutan', 0.0), ('iklim', 0.0), ('ikuti', 0.0), ('ikutin', 0.0), ('ikutkan', 0.0), ('ikn', 0.0)]</td>\n",
       "      <td>[('srimul', 0.4593486409631877), ('dhuaarr', 0.446002592036565), ('besaran', 0.34739755258639915), ('bongkar', 0.34739755258639915), ('berhasil', 0.32163274853509344), ('korupsi', 0.29446408041411126), ('jkw', 0.29446408041411126), ('istana', 0.2680383939240848), ('iku', 0.0), ('iki', 0.0), ('ikutan', 0.0), ('ikutannya', 0.0), ('ikrar', 0.0), ('ikn', 0.0), ('ikuti', 0.0), ('iklim', 0.0), ('iklas', 0.0), ('iklankan', 0.0), ('iklan', 0.0), ('ikhtiar', 0.0)]</td>\n",
       "    </tr>\n",
       "    <tr>\n",
       "      <th>3</th>\n",
       "      <td>dhuaarr mpr batalkan pelantikan gibran prabowo cari cawapres</td>\n",
       "      <td>Hoax</td>\n",
       "      <td>dhuaarr mpr batalkan pelantikan gibran prabowo harus cari cawapres baru</td>\n",
       "      <td>[('dhuaarr', 0.4254578288146909), ('pelantikan', 0.3986421546249986), ('batalkan', 0.3755086731840878), ('cari', 0.36671373172161226), ('mpr', 0.3409260886850419), ('cawapres', 0.2757095004106836), ('gibran', 0.2306495872836179), ('harus', 0.2259674382393048), ('baru', 0.22460080558568649), ('prabowo', 0.19398963914471506), ('ikn', 0.0), ('iklas', 0.0), ('iklim', 0.0), ('iku', 0.0), ('ikrar', 0.0), ('iklan', 0.0), ('ikut', 0.0), ('ikutan', 0.0), ('ikutannya', 0.0), ('ikuti', 0.0)]</td>\n",
       "      <td>[('dhuaarr', 0.44884782328423245), ('pelantikan', 0.42055792902262057), ('batalkan', 0.3961526599536114), ('cari', 0.386874207275135), ('mpr', 0.35966886126741865), ('cawapres', 0.29086692202347225), ('gibran', 0.2433297924780923), ('prabowo', 0.20465442488713356), ('ikrar', 0.0), ('iklankan', 0.0), ('iklas', 0.0), ('iklim', 0.0), ('ikn', 0.0), ('zur', 0.0), ('iku', 0.0), ('iklan', 0.0), ('ikutannya', 0.0), ('ikuti', 0.0), ('ikutin', 0.0), ('ikutkan', 0.0)]</td>\n",
       "    </tr>\n",
       "    <tr>\n",
       "      <th>4</th>\n",
       "      <td>rapat istana ricuh ahy senekat bongkar smua krupsi lingkaran jkwi</td>\n",
       "      <td>Hoax</td>\n",
       "      <td>rapat istana ricuh ahy senekat ini bongkar smua kasus krupsi di lingkaran jkwi</td>\n",
       "      <td>[('senekat', 0.38774961211974934), ('lingkaran', 0.35565173371893255), ('krupsi', 0.3368756785017471), ('ricuh', 0.31809962328456165), ('smua', 0.3047778001009302), ('jkwi', 0.294444591257429), ('rapat', 0.27078955923029635), ('bongkar', 0.26897334801730355), ('ahy', 0.26082829977599276), ('kasus', 0.23599339628044494), ('istana', 0.20752933828746994), ('ini', 0.09722500815388073), ('di', 0.08356616483029744), ('iklas', 0.0), ('iklim', 0.0), ('ikrar', 0.0), ('iklankan', 0.0), ('iklan', 0.0), ('iku', 0.0), ('ikut', 0.0)]</td>\n",
       "      <td>[('senekat', 0.40253861262896196), ('lingkaran', 0.369216502081479), ('krupsi', 0.3497243169663165), ('ricuh', 0.33023213185115396), ('smua', 0.31640220641883343), ('jkwi', 0.30567488285265615), ('rapat', 0.28111763385415833), ('bongkar', 0.2792321512667676), ('ahy', 0.27077644604780104), ('istana', 0.21544463051131385), ('iklim', 0.0), ('iklan', 0.0), ('iklankan', 0.0), ('iklas', 0.0), ('ikrar', 0.0), ('ikn', 0.0), ('ikhwanul', 0.0), ('iku', 0.0), ('ikutan', 0.0), ('ikutannya', 0.0)]</td>\n",
       "    </tr>\n",
       "  </tbody>\n",
       "</table>\n",
       "</div>"
      ],
      "text/plain": [
       "                                                                                  content  \\\n",
       "0  jokowi langsung kepolsek mobil presiden jokowi dgr parkir d polres cirebon bnr kah kpn   \n",
       "1               istana mencekmm giliran usu kepung kantor prabowo imbas biaya ukt besaran   \n",
       "2                              dhuaarr srimul berhasil bongkar korupsi besaran jkw istana   \n",
       "3                            dhuaarr mpr batalkan pelantikan gibran prabowo cari cawapres   \n",
       "4                       rapat istana ricuh ahy senekat bongkar smua krupsi lingkaran jkwi   \n",
       "\n",
       "  Klasifikasi Berita  \\\n",
       "0               Hoax   \n",
       "1               Hoax   \n",
       "2               Hoax   \n",
       "3               Hoax   \n",
       "4               Hoax   \n",
       "\n",
       "                                                                                              content_with_stopwords  \\\n",
       "0  bapak jokowi memang harus datang langsung kepolsek mobil presiden jokowi dgr parkir d polres cirebon bnr kah kpn    \n",
       "1                               istana mencekmm giliran usu kepung kantor prabowo imbas biaya ukt naik besar besaran   \n",
       "2                                                dhuaarr srimul berhasil bongkar korupsi besar besaran jkw di istana   \n",
       "3                                            dhuaarr mpr batalkan pelantikan gibran prabowo harus cari cawapres baru   \n",
       "4                                     rapat istana ricuh ahy senekat ini bongkar smua kasus krupsi di lingkaran jkwi   \n",
       "\n",
       "                                                                                                                                                                                                                                                                                                                                                                                                                                                                                                                                                                  all_keywords_with_scores_with_sw  \\\n",
       "0  [('kpn', 0.3311945609710771), ('kepolsek', 0.3311945609710771), ('dgr', 0.3311945609710771), ('cirebon', 0.31515707912698454), ('bnr', 0.31515707912698454), ('parkir', 0.27636204837643663), ('polres', 0.26753598521769667), ('kah', 0.24894579207911635), ('jokowi', 0.21345603627163195), ('mobil', 0.19733076772144356), ('datang', 0.19666599077896357), ('bapak', 0.19289615893005066), ('memang', 0.19289615893005066), ('langsung', 0.15713620273266493), ('harus', 0.15665383947399045), ('presiden', 0.12460551997475477), ('iki', 0.0), ('ikrar', 0.0), ('ikn', 0.0), ('iku', 0.0)]   \n",
       "1                                               [('usu', 0.36639895394006355), ('mencekmm', 0.3486567647136486), ('imbas', 0.336068481124213), ('ukt', 0.336068481124213), ('kepung', 0.3115810246080017), ('giliran', 0.30058410267138297), ('biaya', 0.2541628676622914), ('besaran', 0.2541628676622914), ('naik', 0.24507706267666127), ('kantor', 0.22299889111743054), ('istana', 0.1961021496442386), ('besar', 0.17689635833815798), ('prabowo', 0.14878006557122855), ('ikhlaaash', 0.0), ('iku', 0.0), ('ikut', 0.0), ('ikutan', 0.0), ('ikutannya', 0.0), ('ikuti', 0.0), ('ika', 0.0)]   \n",
       "2                                                                                             [('srimul', 0.4440462037717489), ('dhuaarr', 0.43114475630301946), ('bongkar', 0.3358245800012055), ('besaran', 0.3358245800012055), ('berhasil', 0.3109180876125143), ('korupsi', 0.2846544985544083), ('jkw', 0.2846544985544083), ('istana', 0.25910913992799833), ('besar', 0.23373258961489277), ('di', 0.1043358846269065), ('ikrar', 0.0), ('iku', 0.0), ('ikutannya', 0.0), ('ikut', 0.0), ('ikutan', 0.0), ('iklim', 0.0), ('ikuti', 0.0), ('ikutin', 0.0), ('ikutkan', 0.0), ('ikn', 0.0)]   \n",
       "3                                                                                            [('dhuaarr', 0.4254578288146909), ('pelantikan', 0.3986421546249986), ('batalkan', 0.3755086731840878), ('cari', 0.36671373172161226), ('mpr', 0.3409260886850419), ('cawapres', 0.2757095004106836), ('gibran', 0.2306495872836179), ('harus', 0.2259674382393048), ('baru', 0.22460080558568649), ('prabowo', 0.19398963914471506), ('ikn', 0.0), ('iklas', 0.0), ('iklim', 0.0), ('iku', 0.0), ('ikrar', 0.0), ('iklan', 0.0), ('ikut', 0.0), ('ikutan', 0.0), ('ikutannya', 0.0), ('ikuti', 0.0)]   \n",
       "4                                                    [('senekat', 0.38774961211974934), ('lingkaran', 0.35565173371893255), ('krupsi', 0.3368756785017471), ('ricuh', 0.31809962328456165), ('smua', 0.3047778001009302), ('jkwi', 0.294444591257429), ('rapat', 0.27078955923029635), ('bongkar', 0.26897334801730355), ('ahy', 0.26082829977599276), ('kasus', 0.23599339628044494), ('istana', 0.20752933828746994), ('ini', 0.09722500815388073), ('di', 0.08356616483029744), ('iklas', 0.0), ('iklim', 0.0), ('ikrar', 0.0), ('iklankan', 0.0), ('iklan', 0.0), ('iku', 0.0), ('ikut', 0.0)]   \n",
       "\n",
       "                                                                                                                                                                                                                                                                                                                                                                                                                                                                                               all_keywords_with_scores_without_sw  \n",
       "0  [('kepolsek', 0.35664639201605397), ('dgr', 0.35664639201605397), ('kpn', 0.35664639201605397), ('bnr', 0.3393764524978803), ('cirebon', 0.3393764524978803), ('parkir', 0.2976000788015047), ('polres', 0.2880957452398635), ('kah', 0.26807692219422996), ('jokowi', 0.22985982912012162), ('mobil', 0.21249535661232322), ('langsung', 0.16921189646167603), ('presiden', 0.13418127699313742), ('image', 0.0), ('ikhtiar', 0.0), ('iku', 0.0), ('iman', 0.0), ('ikrar', 0.0), ('ikn', 0.0), ('iklim', 0.0), ('iklas', 0.0)]  \n",
       "1           [('usu', 0.3843767634762626), ('mencekmm', 0.36576403219387915), ('ukt', 0.3525580891861376), ('imbas', 0.3525580891861376), ('kepung', 0.3268691258846574), ('giliran', 0.31533262662137057), ('biaya', 0.2666336773544891), ('besaran', 0.2666336773544891), ('kantor', 0.23394060246289625), ('istana', 0.20572413971280207), ('prabowo', 0.15608014012892038), ('iku', 0.0), ('hvkvm', 0.0), ('iklim', 0.0), ('ikn', 0.0), ('ikrar', 0.0), ('ikutan', 0.0), ('iklankan', 0.0), ('ikutannya', 0.0), ('ikuti', 0.0)]  \n",
       "2                                                      [('srimul', 0.4593486409631877), ('dhuaarr', 0.446002592036565), ('besaran', 0.34739755258639915), ('bongkar', 0.34739755258639915), ('berhasil', 0.32163274853509344), ('korupsi', 0.29446408041411126), ('jkw', 0.29446408041411126), ('istana', 0.2680383939240848), ('iku', 0.0), ('iki', 0.0), ('ikutan', 0.0), ('ikutannya', 0.0), ('ikrar', 0.0), ('ikn', 0.0), ('ikuti', 0.0), ('iklim', 0.0), ('iklas', 0.0), ('iklankan', 0.0), ('iklan', 0.0), ('ikhtiar', 0.0)]  \n",
       "3                                                    [('dhuaarr', 0.44884782328423245), ('pelantikan', 0.42055792902262057), ('batalkan', 0.3961526599536114), ('cari', 0.386874207275135), ('mpr', 0.35966886126741865), ('cawapres', 0.29086692202347225), ('gibran', 0.2433297924780923), ('prabowo', 0.20465442488713356), ('ikrar', 0.0), ('iklankan', 0.0), ('iklas', 0.0), ('iklim', 0.0), ('ikn', 0.0), ('zur', 0.0), ('iku', 0.0), ('iklan', 0.0), ('ikutannya', 0.0), ('ikuti', 0.0), ('ikutin', 0.0), ('ikutkan', 0.0)]  \n",
       "4                        [('senekat', 0.40253861262896196), ('lingkaran', 0.369216502081479), ('krupsi', 0.3497243169663165), ('ricuh', 0.33023213185115396), ('smua', 0.31640220641883343), ('jkwi', 0.30567488285265615), ('rapat', 0.28111763385415833), ('bongkar', 0.2792321512667676), ('ahy', 0.27077644604780104), ('istana', 0.21544463051131385), ('iklim', 0.0), ('iklan', 0.0), ('iklankan', 0.0), ('iklas', 0.0), ('ikrar', 0.0), ('ikn', 0.0), ('ikhwanul', 0.0), ('iku', 0.0), ('ikutan', 0.0), ('ikutannya', 0.0)]  "
      ]
     },
     "execution_count": 80,
     "metadata": {},
     "output_type": "execute_result"
    }
   ],
   "source": [
    "df_new_PP.head()"
   ]
  },
  {
   "cell_type": "code",
   "execution_count": 81,
   "metadata": {},
   "outputs": [
    {
     "data": {
      "text/html": [
       "<div>\n",
       "<style scoped>\n",
       "    .dataframe tbody tr th:only-of-type {\n",
       "        vertical-align: middle;\n",
       "    }\n",
       "\n",
       "    .dataframe tbody tr th {\n",
       "        vertical-align: top;\n",
       "    }\n",
       "\n",
       "    .dataframe thead th {\n",
       "        text-align: right;\n",
       "    }\n",
       "</style>\n",
       "<table border=\"1\" class=\"dataframe\">\n",
       "  <thead>\n",
       "    <tr style=\"text-align: right;\">\n",
       "      <th></th>\n",
       "      <th>content</th>\n",
       "      <th>Klasifikasi Berita</th>\n",
       "      <th>content_with_stopwords</th>\n",
       "      <th>all_keywords_with_scores_with_sw</th>\n",
       "      <th>all_keywords_with_scores_without_sw</th>\n",
       "    </tr>\n",
       "  </thead>\n",
       "  <tbody>\n",
       "    <tr>\n",
       "      <th>0</th>\n",
       "      <td>prof dolores cahill university college dublin gelar profesr dlm genetika molekuler dr trinity college dublin gelar phd bidng imunologi dr dublin city university memprediksi org yg vaksin covid mati dlm hnga thn aliansi kebebasan dunia kopenhagen</td>\n",
       "      <td>Hoax</td>\n",
       "      <td>prof dolores cahill university college dublin gelar profesr dlm genetika molekuler dr trinity college dublin gelar phd bidng imunologi dr dublin city university dia memprediksi org yg menggunakan vaksin covid akan mati dlm hnga thn aliansi kebebasan dunia kopenhagen</td>\n",
       "      <td>[('dublin', 0.49075142696963175), ('gelar', 0.2958630780536517), ('college', 0.28578526715391606), ('university', 0.27755109609455336), ('dlm', 0.19539261702835534), ('profesr', 0.16358380898987723), ('trinity', 0.16358380898987723), ('cahill', 0.16358380898987723), ('bidng', 0.16358380898987723), ('molekuler', 0.16358380898987723), ('hnga', 0.16358380898987723), ('imunologi', 0.16358380898987723), ('phd', 0.16358380898987723), ('kopenhagen', 0.16358380898987723), ('memprediksi', 0.15442781801032807), ('dolores', 0.15442781801032807), ('kebebasan', 0.15442781801032807), ('city', 0.14793153902682585), ('aliansi', 0.14793153902682585), ('genetika', 0.14289263357695803)]</td>\n",
       "      <td>[('dublin', 0.4947805829574041), ('gelar', 0.2982921662375856), ('college', 0.28813161472845217), ('university', 0.2798298396687648), ('dlm', 0.19699682496255871), ('kopenhagen', 0.16492686098580137), ('phd', 0.16492686098580137), ('trinity', 0.16492686098580137), ('imunologi', 0.16492686098580137), ('hnga', 0.16492686098580137), ('molekuler', 0.16492686098580137), ('bidng', 0.16492686098580137), ('cahill', 0.16492686098580137), ('profesr', 0.16492686098580137), ('memprediksi', 0.15569569770139097), ('dolores', 0.15569569770139097), ('kebebasan', 0.15569569770139097), ('aliansi', 0.1491460831187928), ('city', 0.1491460831187928), ('genetika', 0.14406580736422608)]</td>\n",
       "    </tr>\n",
       "    <tr>\n",
       "      <th>1</th>\n",
       "      <td>konsep pembayaran iuran pelayanan kesehatan bpjs berdasarkan kualitas pelayanan diterima berdasarkan besaran gaji orang bubarkan bpjs kesehatan</td>\n",
       "      <td>Hoax</td>\n",
       "      <td>ini konsep apaan pembayaran iuran pelayanan kesehatan bpjs kok bukan berdasarkan kualitas pelayanan yang diterima tapi berdasarkan besaran gaji orang kalau seperti ini bubarkan saja bpjs kesehatan</td>\n",
       "      <td>[('pelayanan', 0.3860272660133271), ('berdasarkan', 0.36668033355967833), ('bpjs', 0.3432563293117587), ('bubarkan', 0.24358905390879124), ('apaan', 0.24358905390879124), ('iuran', 0.24358905390879124), ('konsep', 0.22995506901702345), ('gaji', 0.22995506901702345), ('besaran', 0.2202816027901991), ('pembayaran', 0.2127782794549104), ('kesehatan', 0.19772504623243403), ('kualitas', 0.19301363300666355), ('diterima', 0.19301363300666355), ('kok', 0.16146380585466147), ('kalau', 0.1187181724458399), ('ini', 0.11005830828710125), ('saja', 0.10884029498681735), ('bukan', 0.1085359893430414), ('tapi', 0.10763925502352228), ('seperti', 0.10427389426967475)]</td>\n",
       "      <td>[('pelayanan', 0.42135250265261853), ('berdasarkan', 0.4002351383478012), ('bpjs', 0.37466761066009174), ('iuran', 0.26587981347335554), ('bubarkan', 0.26587981347335554), ('gaji', 0.25099818680847635), ('konsep', 0.25099818680847635), ('besaran', 0.24043950465606767), ('pembayaran', 0.232249554505172), ('kesehatan', 0.2158188045304151), ('kualitas', 0.21067625132630927), ('diterima', 0.21067625132630927), ('orang', 0.0861163223376102), ('idul', 0.0), ('ida', 0.0), ('iedul', 0.0), ('idungnya', 0.0), ('ide', 0.0), ('idi', 0.0), ('idr', 0.0)]</td>\n",
       "    </tr>\n",
       "    <tr>\n",
       "      <th>2</th>\n",
       "      <td>dokter tirta metode menurunkan berat badan diet olahraga</td>\n",
       "      <td>Hoax</td>\n",
       "      <td>dokter tirta menjelaskan metode menurunkan berat badan tanpa diet dan olahraga</td>\n",
       "      <td>[('tirta', 0.4302629301659173), ('diet', 0.4061805742667628), ('olahraga', 0.3650115149348138), ('metode', 0.32384245560286484), ('menurunkan', 0.31058897876382574), ('menjelaskan', 0.3067557521700704), ('berat', 0.2602642326429008), ('badan', 0.2523332159990823), ('tanpa', 0.2174219810398124), ('dokter', 0.18513426898952842), ('dan', 0.09089921135674127), ('ier', 0.0), ('iin', 0.0), ('ii', 0.0), ('ih', 0.0), ('igd', 0.0), ('ig', 0.0), ('idi', 0.0), ('iedul', 0.0), ('ijazah', 0.0)]</td>\n",
       "      <td>[('tirta', 0.4665852507097233), ('diet', 0.44046988896904343), ('olahraga', 0.3958253831956235), ('metode', 0.3511808774222035), ('menurunkan', 0.3368085567313786), ('berat', 0.2822354512196388), ('badan', 0.2736349069252185), ('dokter', 0.20076309915458063), ('ikatan', 0.0), ('ikat', 0.0), ('idul', 0.0), ('idr', 0.0), ('iklan', 0.0), ('idiot', 0.0), ('idi', 0.0), ('identity', 0.0), ('identitas', 0.0), ('identifikasi', 0.0), ('identification', 0.0), ('iklim', 0.0)]</td>\n",
       "    </tr>\n",
       "    <tr>\n",
       "      <th>3</th>\n",
       "      <td>mandi berakibat kematian menit ashar magrib isya jam malam kondisi tubuh jantung lemah dipaksakan mandi jam menyebabkan reumatik paru paru basah kematian hindari mandi kondisi stabil jam jam menghindari kematian mendadak</td>\n",
       "      <td>Hoax</td>\n",
       "      <td>mandi pada tiga waktu ini ternyata dapat berakibat kematian hal ini ternyata dikarenakan dalam beberapa waktu menit setelah ashar setelah magrib dan sesudah isya hingga jam malam kondisi tubuh dan jantung dalam keadaan lemah bila dipaksakan untuk mandi pada jam tersebut dapat menyebabkan reumatik paru paru basah bahkan kematian oleh sebab itu hindari mandi dalam kondisi yang kurang stabil serta pada jam jam tersebut untuk menghindari kematian mendadak</td>\n",
       "      <td>[('mandi', 0.35723600874653394), ('jam', 0.35289187990568527), ('kematian', 0.27309983876340854), ('kondisi', 0.1982703221833939), ('paru', 0.1856154094052537), ('pada', 0.17657451535375265), ('waktu', 0.17009990238279454), ('ashar', 0.16702258044791737), ('magrib', 0.16702258044791737), ('dalam', 0.1612670546186058), ('ternyata', 0.16114692297575173), ('reumatik', 0.15767411711645898), ('dipaksakan', 0.15767411711645898), ('isya', 0.15104127682600424), ('tersebut', 0.14925783103716614), ('stabil', 0.14589644619718525), ('dikarenakan', 0.14589644619718525), ('berakibat', 0.1323443501630875), ('basah', 0.1323443501630875), ('sesudah', 0.12991514257527212)]</td>\n",
       "      <td>[('mandi', 0.435458343273107), ('jam', 0.4301630004138068), ('kematian', 0.3328992610609005), ('kondisi', 0.24168466757074517), ('paru', 0.22625876643616907), ('ashar', 0.20359475078183872), ('magrib', 0.20359475078183872), ('dipaksakan', 0.19219929720270468), ('reumatik', 0.19219929720270468), ('isya', 0.1841140942182377), ('stabil', 0.17784272356356265), ('berakibat', 0.1613231870599696), ('basah', 0.1613231870599696), ('lemah', 0.14184253049636858), ('menghindari', 0.14184253049636858), ('hindari', 0.13495345043532184), ('mendadak', 0.12942497712949863), ('malam', 0.12236187393276758), ('menit', 0.11096642035363351), ('jantung', 0.1099443205658976)]</td>\n",
       "    </tr>\n",
       "    <tr>\n",
       "      <th>4</th>\n",
       "      <td>info paniai news minggu tanggal mei jam wit tni usir paksa pasien rumah sakit kabupaten paniai igd ditutup tni polri pasien pulang paksa pasien sakit cari rumah sakit deiyai dogiyai nabire poto tni tutup igd informasi pgi</td>\n",
       "      <td>Hoax</td>\n",
       "      <td>info paniai news pada hari ini minggu tanggal mei jam wit tni usir dengan paksa pasien rumah sakit kabupaten paniai dan igd saat ini telah ditutup oleh tni polri pasien semua pulang paksa pasien sakit ada yang cari rumah sakit deiyai dogiyai nabire poto tni tutup igd demikian informasi sementara pgi ini</td>\n",
       "      <td>[('tni', 0.4197636999653926), ('paniai', 0.3298686062121467), ('igd', 0.28814461631059685), ('paksa', 0.2613793069851611), ('pasien', 0.2395064995920054), ('sakit', 0.20760713244111978), ('poto', 0.16493430310607335), ('deiyai', 0.16493430310607335), ('nabire', 0.16493430310607335), ('dogiyai', 0.16493430310607335), ('pgi', 0.16493430310607335), ('usir', 0.16493430310607335), ('wit', 0.15570272327685633), ('rumah', 0.15265163220119887), ('polri', 0.14915281315101456), ('ditutup', 0.14407230815529842), ('kabupaten', 0.13641154955839518), ('mei', 0.13641154955839518), ('tutup', 0.13068965349258055), ('pulang', 0.12231734081998788)]</td>\n",
       "      <td>[('tni', 0.4346363127097784), ('paniai', 0.3415561533657668), ('igd', 0.2983538442479351), ('paksa', 0.27064021547369105), ('pasien', 0.24799243446081132), ('sakit', 0.21496284348527095), ('usir', 0.1707780766828834), ('nabire', 0.1707780766828834), ('pgi', 0.1707780766828834), ('poto', 0.1707780766828834), ('dogiyai', 0.1707780766828834), ('deiyai', 0.1707780766828834), ('wit', 0.16121941351646943), ('rumah', 0.15806021948665025), ('polri', 0.15443743406967347), ('ditutup', 0.14917692212396755), ('mei', 0.1412447358263142), ('kabupaten', 0.1412447358263142), ('tutup', 0.13532010773684552), ('pulang', 0.12665115635022245)]</td>\n",
       "    </tr>\n",
       "  </tbody>\n",
       "</table>\n",
       "</div>"
      ],
      "text/plain": [
       "                                                                                                                                                                                                                                                 content  \\\n",
       "0  prof dolores cahill university college dublin gelar profesr dlm genetika molekuler dr trinity college dublin gelar phd bidng imunologi dr dublin city university memprediksi org yg vaksin covid mati dlm hnga thn aliansi kebebasan dunia kopenhagen   \n",
       "1                                                                                                        konsep pembayaran iuran pelayanan kesehatan bpjs berdasarkan kualitas pelayanan diterima berdasarkan besaran gaji orang bubarkan bpjs kesehatan   \n",
       "2                                                                                                                                                                                               dokter tirta metode menurunkan berat badan diet olahraga   \n",
       "3                           mandi berakibat kematian menit ashar magrib isya jam malam kondisi tubuh jantung lemah dipaksakan mandi jam menyebabkan reumatik paru paru basah kematian hindari mandi kondisi stabil jam jam menghindari kematian mendadak   \n",
       "4                          info paniai news minggu tanggal mei jam wit tni usir paksa pasien rumah sakit kabupaten paniai igd ditutup tni polri pasien pulang paksa pasien sakit cari rumah sakit deiyai dogiyai nabire poto tni tutup igd informasi pgi   \n",
       "\n",
       "  Klasifikasi Berita  \\\n",
       "0               Hoax   \n",
       "1               Hoax   \n",
       "2               Hoax   \n",
       "3               Hoax   \n",
       "4               Hoax   \n",
       "\n",
       "                                                                                                                                                                                                                                                                                                                                                                                                                                                     content_with_stopwords  \\\n",
       "0                                                                                                                                                                                               prof dolores cahill university college dublin gelar profesr dlm genetika molekuler dr trinity college dublin gelar phd bidng imunologi dr dublin city university dia memprediksi org yg menggunakan vaksin covid akan mati dlm hnga thn aliansi kebebasan dunia kopenhagen    \n",
       "1                                                                                                                                                                                                                                                                     ini konsep apaan pembayaran iuran pelayanan kesehatan bpjs kok bukan berdasarkan kualitas pelayanan yang diterima tapi berdasarkan besaran gaji orang kalau seperti ini bubarkan saja bpjs kesehatan    \n",
       "2                                                                                                                                                                                                                                                                                                                                                                                            dokter tirta menjelaskan metode menurunkan berat badan tanpa diet dan olahraga   \n",
       "3  mandi pada tiga waktu ini ternyata dapat berakibat kematian hal ini ternyata dikarenakan dalam beberapa waktu menit setelah ashar setelah magrib dan sesudah isya hingga jam malam kondisi tubuh dan jantung dalam keadaan lemah bila dipaksakan untuk mandi pada jam tersebut dapat menyebabkan reumatik paru paru basah bahkan kematian oleh sebab itu hindari mandi dalam kondisi yang kurang stabil serta pada jam jam tersebut untuk menghindari kematian mendadak    \n",
       "4                                                                                                                                                         info paniai news pada hari ini minggu tanggal mei jam wit tni usir dengan paksa pasien rumah sakit kabupaten paniai dan igd saat ini telah ditutup oleh tni polri pasien semua pulang paksa pasien sakit ada yang cari rumah sakit deiyai dogiyai nabire poto tni tutup igd demikian informasi sementara pgi ini    \n",
       "\n",
       "                                                                                                                                                                                                                                                                                                                                                                                                                                                                                                                                                                                                                                                                       all_keywords_with_scores_with_sw  \\\n",
       "0  [('dublin', 0.49075142696963175), ('gelar', 0.2958630780536517), ('college', 0.28578526715391606), ('university', 0.27755109609455336), ('dlm', 0.19539261702835534), ('profesr', 0.16358380898987723), ('trinity', 0.16358380898987723), ('cahill', 0.16358380898987723), ('bidng', 0.16358380898987723), ('molekuler', 0.16358380898987723), ('hnga', 0.16358380898987723), ('imunologi', 0.16358380898987723), ('phd', 0.16358380898987723), ('kopenhagen', 0.16358380898987723), ('memprediksi', 0.15442781801032807), ('dolores', 0.15442781801032807), ('kebebasan', 0.15442781801032807), ('city', 0.14793153902682585), ('aliansi', 0.14793153902682585), ('genetika', 0.14289263357695803)]   \n",
       "1                   [('pelayanan', 0.3860272660133271), ('berdasarkan', 0.36668033355967833), ('bpjs', 0.3432563293117587), ('bubarkan', 0.24358905390879124), ('apaan', 0.24358905390879124), ('iuran', 0.24358905390879124), ('konsep', 0.22995506901702345), ('gaji', 0.22995506901702345), ('besaran', 0.2202816027901991), ('pembayaran', 0.2127782794549104), ('kesehatan', 0.19772504623243403), ('kualitas', 0.19301363300666355), ('diterima', 0.19301363300666355), ('kok', 0.16146380585466147), ('kalau', 0.1187181724458399), ('ini', 0.11005830828710125), ('saja', 0.10884029498681735), ('bukan', 0.1085359893430414), ('tapi', 0.10763925502352228), ('seperti', 0.10427389426967475)]   \n",
       "2                                                                                                                                                                                                [('tirta', 0.4302629301659173), ('diet', 0.4061805742667628), ('olahraga', 0.3650115149348138), ('metode', 0.32384245560286484), ('menurunkan', 0.31058897876382574), ('menjelaskan', 0.3067557521700704), ('berat', 0.2602642326429008), ('badan', 0.2523332159990823), ('tanpa', 0.2174219810398124), ('dokter', 0.18513426898952842), ('dan', 0.09089921135674127), ('ier', 0.0), ('iin', 0.0), ('ii', 0.0), ('ih', 0.0), ('igd', 0.0), ('ig', 0.0), ('idi', 0.0), ('iedul', 0.0), ('ijazah', 0.0)]   \n",
       "3               [('mandi', 0.35723600874653394), ('jam', 0.35289187990568527), ('kematian', 0.27309983876340854), ('kondisi', 0.1982703221833939), ('paru', 0.1856154094052537), ('pada', 0.17657451535375265), ('waktu', 0.17009990238279454), ('ashar', 0.16702258044791737), ('magrib', 0.16702258044791737), ('dalam', 0.1612670546186058), ('ternyata', 0.16114692297575173), ('reumatik', 0.15767411711645898), ('dipaksakan', 0.15767411711645898), ('isya', 0.15104127682600424), ('tersebut', 0.14925783103716614), ('stabil', 0.14589644619718525), ('dikarenakan', 0.14589644619718525), ('berakibat', 0.1323443501630875), ('basah', 0.1323443501630875), ('sesudah', 0.12991514257527212)]   \n",
       "4                                         [('tni', 0.4197636999653926), ('paniai', 0.3298686062121467), ('igd', 0.28814461631059685), ('paksa', 0.2613793069851611), ('pasien', 0.2395064995920054), ('sakit', 0.20760713244111978), ('poto', 0.16493430310607335), ('deiyai', 0.16493430310607335), ('nabire', 0.16493430310607335), ('dogiyai', 0.16493430310607335), ('pgi', 0.16493430310607335), ('usir', 0.16493430310607335), ('wit', 0.15570272327685633), ('rumah', 0.15265163220119887), ('polri', 0.14915281315101456), ('ditutup', 0.14407230815529842), ('kabupaten', 0.13641154955839518), ('mei', 0.13641154955839518), ('tutup', 0.13068965349258055), ('pulang', 0.12231734081998788)]   \n",
       "\n",
       "                                                                                                                                                                                                                                                                                                                                                                                                                                                                                                                                                                                                                                                                all_keywords_with_scores_without_sw  \n",
       "0  [('dublin', 0.4947805829574041), ('gelar', 0.2982921662375856), ('college', 0.28813161472845217), ('university', 0.2798298396687648), ('dlm', 0.19699682496255871), ('kopenhagen', 0.16492686098580137), ('phd', 0.16492686098580137), ('trinity', 0.16492686098580137), ('imunologi', 0.16492686098580137), ('hnga', 0.16492686098580137), ('molekuler', 0.16492686098580137), ('bidng', 0.16492686098580137), ('cahill', 0.16492686098580137), ('profesr', 0.16492686098580137), ('memprediksi', 0.15569569770139097), ('dolores', 0.15569569770139097), ('kebebasan', 0.15569569770139097), ('aliansi', 0.1491460831187928), ('city', 0.1491460831187928), ('genetika', 0.14406580736422608)]  \n",
       "1                                                                                                                                [('pelayanan', 0.42135250265261853), ('berdasarkan', 0.4002351383478012), ('bpjs', 0.37466761066009174), ('iuran', 0.26587981347335554), ('bubarkan', 0.26587981347335554), ('gaji', 0.25099818680847635), ('konsep', 0.25099818680847635), ('besaran', 0.24043950465606767), ('pembayaran', 0.232249554505172), ('kesehatan', 0.2158188045304151), ('kualitas', 0.21067625132630927), ('diterima', 0.21067625132630927), ('orang', 0.0861163223376102), ('idul', 0.0), ('ida', 0.0), ('iedul', 0.0), ('idungnya', 0.0), ('ide', 0.0), ('idi', 0.0), ('idr', 0.0)]  \n",
       "2                                                                                                                                                                                                             [('tirta', 0.4665852507097233), ('diet', 0.44046988896904343), ('olahraga', 0.3958253831956235), ('metode', 0.3511808774222035), ('menurunkan', 0.3368085567313786), ('berat', 0.2822354512196388), ('badan', 0.2736349069252185), ('dokter', 0.20076309915458063), ('ikatan', 0.0), ('ikat', 0.0), ('idul', 0.0), ('idr', 0.0), ('iklan', 0.0), ('idiot', 0.0), ('idi', 0.0), ('identity', 0.0), ('identitas', 0.0), ('identifikasi', 0.0), ('identification', 0.0), ('iklim', 0.0)]  \n",
       "3              [('mandi', 0.435458343273107), ('jam', 0.4301630004138068), ('kematian', 0.3328992610609005), ('kondisi', 0.24168466757074517), ('paru', 0.22625876643616907), ('ashar', 0.20359475078183872), ('magrib', 0.20359475078183872), ('dipaksakan', 0.19219929720270468), ('reumatik', 0.19219929720270468), ('isya', 0.1841140942182377), ('stabil', 0.17784272356356265), ('berakibat', 0.1613231870599696), ('basah', 0.1613231870599696), ('lemah', 0.14184253049636858), ('menghindari', 0.14184253049636858), ('hindari', 0.13495345043532184), ('mendadak', 0.12942497712949863), ('malam', 0.12236187393276758), ('menit', 0.11096642035363351), ('jantung', 0.1099443205658976)]  \n",
       "4                                            [('tni', 0.4346363127097784), ('paniai', 0.3415561533657668), ('igd', 0.2983538442479351), ('paksa', 0.27064021547369105), ('pasien', 0.24799243446081132), ('sakit', 0.21496284348527095), ('usir', 0.1707780766828834), ('nabire', 0.1707780766828834), ('pgi', 0.1707780766828834), ('poto', 0.1707780766828834), ('dogiyai', 0.1707780766828834), ('deiyai', 0.1707780766828834), ('wit', 0.16121941351646943), ('rumah', 0.15806021948665025), ('polri', 0.15443743406967347), ('ditutup', 0.14917692212396755), ('mei', 0.1412447358263142), ('kabupaten', 0.1412447358263142), ('tutup', 0.13532010773684552), ('pulang', 0.12665115635022245)]  "
      ]
     },
     "execution_count": 81,
     "metadata": {},
     "output_type": "execute_result"
    }
   ],
   "source": [
    "df_new_Kesehatan.head()"
   ]
  },
  {
   "cell_type": "code",
   "execution_count": 82,
   "metadata": {},
   "outputs": [],
   "source": [
    "df_hoaxPP = df_hoaxPP.drop(columns=['content_with_stopwords', 'all_keywords_with_scores_with_sw', 'all_keywords_with_scores_without_sw'])\n",
    "df_hoaxKesehatan = df_hoaxKesehatan.drop(columns=['content_with_stopwords', 'all_keywords_with_scores_with_sw', 'all_keywords_with_scores_without_sw'])"
   ]
  },
  {
   "cell_type": "code",
   "execution_count": 83,
   "metadata": {},
   "outputs": [],
   "source": [
    "df_hoaxPP.to_csv('endresult_PP.csv', index=False)\n",
    "df_hoaxKesehatan.to_csv('endresult_Kesehatan.csv', index=False)"
   ]
  }
 ],
 "metadata": {
  "kernelspec": {
   "display_name": "Python 3",
   "language": "python",
   "name": "python3"
  },
  "language_info": {
   "codemirror_mode": {
    "name": "ipython",
    "version": 3
   },
   "file_extension": ".py",
   "mimetype": "text/x-python",
   "name": "python",
   "nbconvert_exporter": "python",
   "pygments_lexer": "ipython3",
   "version": "3.11.2"
  }
 },
 "nbformat": 4,
 "nbformat_minor": 2
}
