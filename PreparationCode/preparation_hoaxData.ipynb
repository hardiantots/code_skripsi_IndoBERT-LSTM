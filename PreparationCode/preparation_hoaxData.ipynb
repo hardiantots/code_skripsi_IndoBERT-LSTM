{
 "cells": [
  {
   "cell_type": "code",
   "execution_count": 1,
   "metadata": {},
   "outputs": [],
   "source": [
    "import pandas as pd\n",
    "import re\n",
    "import numpy as np\n",
    "import pickle\n",
    "from nltk.corpus import stopwords\n",
    "from nltk.tokenize import word_tokenize\n",
    "from sklearn.model_selection import train_test_split, GridSearchCV\n",
    "from Sastrawi.Stemmer.StemmerFactory import StemmerFactory\n",
    "from sklearn.preprocessing import LabelEncoder\n",
    "from sklearn.feature_extraction.text import TfidfVectorizer\n",
    "from sklearn.metrics import classification_report, accuracy_score\n",
    "from sklearn.linear_model import LogisticRegression\n",
    "from sklearn.svm import SVC"
   ]
  },
  {
   "cell_type": "markdown",
   "metadata": {},
   "source": [
    "## Test Klasifikasi Judul Teks"
   ]
  },
  {
   "cell_type": "code",
   "execution_count": 2,
   "metadata": {},
   "outputs": [
    {
     "name": "stdout",
     "output_type": "stream",
     "text": [
      "(2948, 5)\n",
      "(2960, 5)\n",
      "(6135, 5)\n"
     ]
    }
   ],
   "source": [
    "df_politik = pd.read_csv(r'../detik_politik.csv').sample(frac=0.371, replace=False, random_state=42)\n",
    "print(df_politik.shape)\n",
    "\n",
    "df_pemerintahan = pd.read_csv(r'../detik_pemerintahan.csv').sample(frac=0.371, replace=False, random_state=42)\n",
    "print(df_pemerintahan.shape)\n",
    "\n",
    "df_non_PP = pd.read_csv(r'../detik_kesehatan.csv')\n",
    "print(df_non_PP.shape)"
   ]
  },
  {
   "cell_type": "code",
   "execution_count": 3,
   "metadata": {},
   "outputs": [],
   "source": [
    "df_politik = df_politik.drop_duplicates(subset=['Title'])\n",
    "df_pemerintahan = df_pemerintahan.drop_duplicates(subset=['Title'])\n",
    "df_non_PP = df_non_PP.drop_duplicates(subset=['Title'])"
   ]
  },
  {
   "cell_type": "code",
   "execution_count": 4,
   "metadata": {},
   "outputs": [
    {
     "name": "stdout",
     "output_type": "stream",
     "text": [
      "(2766, 5)\n",
      "(2682, 5)\n",
      "(5447, 5)\n"
     ]
    }
   ],
   "source": [
    "print(df_politik.shape)\n",
    "print(df_pemerintahan.shape)\n",
    "print(df_non_PP.shape)"
   ]
  },
  {
   "cell_type": "code",
   "execution_count": 10,
   "metadata": {},
   "outputs": [],
   "source": [
    "df_politik['Klasifikasi Berita'] = 'Politik & Pemerintahan'\n",
    "df_pemerintahan['Klasifikasi Berita'] = 'Politik & Pemerintahan'\n",
    "df_non_PP['Klasifikasi Berita'] = 'Non PP'"
   ]
  },
  {
   "cell_type": "code",
   "execution_count": 11,
   "metadata": {},
   "outputs": [
    {
     "data": {
      "text/html": [
       "<div>\n",
       "<style scoped>\n",
       "    .dataframe tbody tr th:only-of-type {\n",
       "        vertical-align: middle;\n",
       "    }\n",
       "\n",
       "    .dataframe tbody tr th {\n",
       "        vertical-align: top;\n",
       "    }\n",
       "\n",
       "    .dataframe thead th {\n",
       "        text-align: right;\n",
       "    }\n",
       "</style>\n",
       "<table border=\"1\" class=\"dataframe\">\n",
       "  <thead>\n",
       "    <tr style=\"text-align: right;\">\n",
       "      <th></th>\n",
       "      <th>Title</th>\n",
       "      <th>Link</th>\n",
       "      <th>Time</th>\n",
       "      <th>Narasi</th>\n",
       "      <th>Klasifikasi Berita</th>\n",
       "    </tr>\n",
       "  </thead>\n",
       "  <tbody>\n",
       "    <tr>\n",
       "      <th>0</th>\n",
       "      <td>Cak Imin Pastikan PKB dan PKS Tak Kedepankan P...</td>\n",
       "      <td>https://news.detik.com/detiktv/d-6927477/cak-i...</td>\n",
       "      <td>Selasa, 12 Sep 2023 18:27 WIB</td>\n",
       "      <td>['Ketua Umum PKB Muhaimin Iskandar (Cak Imin) ...</td>\n",
       "      <td>Politik &amp; Pemerintahan</td>\n",
       "    </tr>\n",
       "    <tr>\n",
       "      <th>1</th>\n",
       "      <td>Masuk Tahun Politik, Pembangunan MRT Jakarta D...</td>\n",
       "      <td>https://finance.detik.com/infrastruktur/d-6749...</td>\n",
       "      <td>Rabu, 31 Mei  2023 17:09 WIB</td>\n",
       "      <td>['Direktur Utama PT MRT Jakarta (Perseroda) Tu...</td>\n",
       "      <td>Politik &amp; Pemerintahan</td>\n",
       "    </tr>\n",
       "    <tr>\n",
       "      <th>2</th>\n",
       "      <td>Satire Emil Dardak Ketika Dituduh Jadi Joki Gi...</td>\n",
       "      <td>https://www.detik.com/jatim/berita/d-7165313/s...</td>\n",
       "      <td>Senin, 29 Jan 2024 08:00 WIB</td>\n",
       "      <td>['Emil Dardak sebagai salah satu juru bicara C...</td>\n",
       "      <td>Politik &amp; Pemerintahan</td>\n",
       "    </tr>\n",
       "    <tr>\n",
       "      <th>3</th>\n",
       "      <td>Wanti-wanti JK, Pemerintahan Jokowi Bisa Jatuh...</td>\n",
       "      <td>https://news.detik.com/detiktv/d-7039140/wanti...</td>\n",
       "      <td>Rabu, 15 Nov 2023 21:09 WIB</td>\n",
       "      <td>['Wakil Presiden RI ke-10, Jusuf Kalla menyoro...</td>\n",
       "      <td>Politik &amp; Pemerintahan</td>\n",
       "    </tr>\n",
       "    <tr>\n",
       "      <th>4</th>\n",
       "      <td>Elite TKN: Poster 'Kabinet Indonesia Emas' Pra...</td>\n",
       "      <td>https://news.detik.com/pemilu/d-7202178/elite-...</td>\n",
       "      <td>Selasa, 20 Feb 2024 11:59 WIB</td>\n",
       "      <td>[\"Sekretaris Tim Kampanye Nasional (TKN) Prabo...</td>\n",
       "      <td>Politik &amp; Pemerintahan</td>\n",
       "    </tr>\n",
       "  </tbody>\n",
       "</table>\n",
       "</div>"
      ],
      "text/plain": [
       "                                               Title  \\\n",
       "0  Cak Imin Pastikan PKB dan PKS Tak Kedepankan P...   \n",
       "1  Masuk Tahun Politik, Pembangunan MRT Jakarta D...   \n",
       "2  Satire Emil Dardak Ketika Dituduh Jadi Joki Gi...   \n",
       "3  Wanti-wanti JK, Pemerintahan Jokowi Bisa Jatuh...   \n",
       "4  Elite TKN: Poster 'Kabinet Indonesia Emas' Pra...   \n",
       "\n",
       "                                                Link  \\\n",
       "0  https://news.detik.com/detiktv/d-6927477/cak-i...   \n",
       "1  https://finance.detik.com/infrastruktur/d-6749...   \n",
       "2  https://www.detik.com/jatim/berita/d-7165313/s...   \n",
       "3  https://news.detik.com/detiktv/d-7039140/wanti...   \n",
       "4  https://news.detik.com/pemilu/d-7202178/elite-...   \n",
       "\n",
       "                            Time  \\\n",
       "0  Selasa, 12 Sep 2023 18:27 WIB   \n",
       "1   Rabu, 31 Mei  2023 17:09 WIB   \n",
       "2   Senin, 29 Jan 2024 08:00 WIB   \n",
       "3    Rabu, 15 Nov 2023 21:09 WIB   \n",
       "4  Selasa, 20 Feb 2024 11:59 WIB   \n",
       "\n",
       "                                              Narasi      Klasifikasi Berita  \n",
       "0  ['Ketua Umum PKB Muhaimin Iskandar (Cak Imin) ...  Politik & Pemerintahan  \n",
       "1  ['Direktur Utama PT MRT Jakarta (Perseroda) Tu...  Politik & Pemerintahan  \n",
       "2  ['Emil Dardak sebagai salah satu juru bicara C...  Politik & Pemerintahan  \n",
       "3  ['Wakil Presiden RI ke-10, Jusuf Kalla menyoro...  Politik & Pemerintahan  \n",
       "4  [\"Sekretaris Tim Kampanye Nasional (TKN) Prabo...  Politik & Pemerintahan  "
      ]
     },
     "execution_count": 11,
     "metadata": {},
     "output_type": "execute_result"
    }
   ],
   "source": [
    "df_titlecombine = pd.concat([df_politik, df_pemerintahan, df_non_PP], ignore_index=True)\n",
    "df_titlecombine['Title'] = df_titlecombine['Title'].astype(str)\n",
    "df_titlecombine.head()"
   ]
  },
  {
   "cell_type": "code",
   "execution_count": 12,
   "metadata": {},
   "outputs": [
    {
     "data": {
      "text/plain": [
       "(10895, 5)"
      ]
     },
     "execution_count": 12,
     "metadata": {},
     "output_type": "execute_result"
    }
   ],
   "source": [
    "df_titlecombine.shape"
   ]
  },
  {
   "cell_type": "code",
   "execution_count": 13,
   "metadata": {},
   "outputs": [],
   "source": [
    "def clean_text(text):\n",
    "    # Mengubah teks menjadi lowercase\n",
    "    text = text.lower()\n",
    "\n",
    "    # Menghapus simbol-simbol, tanda baca, dan angka\n",
    "    text = re.sub(r'[^\\w\\s]', '', text)\n",
    "    text = re.sub(r'\\d+', '', text)\n",
    "\n",
    "    # Tokenisasi pada judul berita\n",
    "    words = word_tokenize(text)\n",
    "\n",
    "    # Menghapus stopword\n",
    "    stop_words_nltk = stopwords.words('indonesian')\n",
    "    \n",
    "    filter_words = [word for word in words if word not in stop_words_nltk]\n",
    "\n",
    "    # Proses stemming\n",
    "    stemmer = StemmerFactory().create_stemmer()\n",
    "    stemmed_words = [stemmer.stem(word) for word in filter_words]\n",
    "\n",
    "    cleaned_text = ' '.join(stemmed_words)\n",
    "\n",
    "    return cleaned_text"
   ]
  },
  {
   "cell_type": "code",
   "execution_count": 14,
   "metadata": {},
   "outputs": [
    {
     "data": {
      "text/plain": [
       "Politik & Pemerintahan    5448\n",
       "Non PP                    5447\n",
       "Name: Klasifikasi Berita, dtype: int64"
      ]
     },
     "execution_count": 14,
     "metadata": {},
     "output_type": "execute_result"
    }
   ],
   "source": [
    "df_titlecombine['Klasifikasi Berita'].value_counts()"
   ]
  },
  {
   "cell_type": "code",
   "execution_count": 15,
   "metadata": {},
   "outputs": [],
   "source": [
    "df_titlecombine = df_titlecombine[['Title', 'Klasifikasi Berita']]"
   ]
  },
  {
   "cell_type": "code",
   "execution_count": 16,
   "metadata": {},
   "outputs": [
    {
     "data": {
      "text/html": [
       "<div>\n",
       "<style scoped>\n",
       "    .dataframe tbody tr th:only-of-type {\n",
       "        vertical-align: middle;\n",
       "    }\n",
       "\n",
       "    .dataframe tbody tr th {\n",
       "        vertical-align: top;\n",
       "    }\n",
       "\n",
       "    .dataframe thead th {\n",
       "        text-align: right;\n",
       "    }\n",
       "</style>\n",
       "<table border=\"1\" class=\"dataframe\">\n",
       "  <thead>\n",
       "    <tr style=\"text-align: right;\">\n",
       "      <th></th>\n",
       "      <th>Title</th>\n",
       "      <th>Klasifikasi Berita</th>\n",
       "    </tr>\n",
       "  </thead>\n",
       "  <tbody>\n",
       "    <tr>\n",
       "      <th>0</th>\n",
       "      <td>Cak Imin Pastikan PKB dan PKS Tak Kedepankan P...</td>\n",
       "      <td>Politik &amp; Pemerintahan</td>\n",
       "    </tr>\n",
       "    <tr>\n",
       "      <th>1</th>\n",
       "      <td>Masuk Tahun Politik, Pembangunan MRT Jakarta D...</td>\n",
       "      <td>Politik &amp; Pemerintahan</td>\n",
       "    </tr>\n",
       "    <tr>\n",
       "      <th>2</th>\n",
       "      <td>Satire Emil Dardak Ketika Dituduh Jadi Joki Gi...</td>\n",
       "      <td>Politik &amp; Pemerintahan</td>\n",
       "    </tr>\n",
       "    <tr>\n",
       "      <th>3</th>\n",
       "      <td>Wanti-wanti JK, Pemerintahan Jokowi Bisa Jatuh...</td>\n",
       "      <td>Politik &amp; Pemerintahan</td>\n",
       "    </tr>\n",
       "    <tr>\n",
       "      <th>4</th>\n",
       "      <td>Elite TKN: Poster 'Kabinet Indonesia Emas' Pra...</td>\n",
       "      <td>Politik &amp; Pemerintahan</td>\n",
       "    </tr>\n",
       "  </tbody>\n",
       "</table>\n",
       "</div>"
      ],
      "text/plain": [
       "                                               Title      Klasifikasi Berita\n",
       "0  Cak Imin Pastikan PKB dan PKS Tak Kedepankan P...  Politik & Pemerintahan\n",
       "1  Masuk Tahun Politik, Pembangunan MRT Jakarta D...  Politik & Pemerintahan\n",
       "2  Satire Emil Dardak Ketika Dituduh Jadi Joki Gi...  Politik & Pemerintahan\n",
       "3  Wanti-wanti JK, Pemerintahan Jokowi Bisa Jatuh...  Politik & Pemerintahan\n",
       "4  Elite TKN: Poster 'Kabinet Indonesia Emas' Pra...  Politik & Pemerintahan"
      ]
     },
     "execution_count": 16,
     "metadata": {},
     "output_type": "execute_result"
    }
   ],
   "source": [
    "df_titlecombine.head()"
   ]
  },
  {
   "cell_type": "code",
   "execution_count": 17,
   "metadata": {},
   "outputs": [
    {
     "data": {
      "text/html": [
       "<div>\n",
       "<style scoped>\n",
       "    .dataframe tbody tr th:only-of-type {\n",
       "        vertical-align: middle;\n",
       "    }\n",
       "\n",
       "    .dataframe tbody tr th {\n",
       "        vertical-align: top;\n",
       "    }\n",
       "\n",
       "    .dataframe thead th {\n",
       "        text-align: right;\n",
       "    }\n",
       "</style>\n",
       "<table border=\"1\" class=\"dataframe\">\n",
       "  <thead>\n",
       "    <tr style=\"text-align: right;\">\n",
       "      <th></th>\n",
       "      <th>Title</th>\n",
       "      <th>Klasifikasi Berita</th>\n",
       "    </tr>\n",
       "  </thead>\n",
       "  <tbody>\n",
       "    <tr>\n",
       "      <th>0</th>\n",
       "      <td>cak imin pasti pkb pks depan politik identitas</td>\n",
       "      <td>Politik &amp; Pemerintahan</td>\n",
       "    </tr>\n",
       "    <tr>\n",
       "      <th>1</th>\n",
       "      <td>masuk politik bangun mrt jakarta jamin jalan</td>\n",
       "      <td>Politik &amp; Pemerintahan</td>\n",
       "    </tr>\n",
       "    <tr>\n",
       "      <th>2</th>\n",
       "      <td>satire emil dardak tuduh joki gibran debat caw...</td>\n",
       "      <td>Politik &amp; Pemerintahan</td>\n",
       "    </tr>\n",
       "    <tr>\n",
       "      <th>3</th>\n",
       "      <td>wantiwanti jk perintah jokowi jatuh krisis pol...</td>\n",
       "      <td>Politik &amp; Pemerintahan</td>\n",
       "    </tr>\n",
       "    <tr>\n",
       "      <th>4</th>\n",
       "      <td>elite tkn poster kabinet indonesia emas prabow...</td>\n",
       "      <td>Politik &amp; Pemerintahan</td>\n",
       "    </tr>\n",
       "    <tr>\n",
       "      <th>5</th>\n",
       "      <td>ajak raffinagita lampung zulhasputri raya poli...</td>\n",
       "      <td>Politik &amp; Pemerintahan</td>\n",
       "    </tr>\n",
       "    <tr>\n",
       "      <th>6</th>\n",
       "      <td>tkn prabowo proporsional debat serang personal</td>\n",
       "      <td>Politik &amp; Pemerintahan</td>\n",
       "    </tr>\n",
       "    <tr>\n",
       "      <th>7</th>\n",
       "      <td>ksad tindak cepat prajurit tni langgar netrali...</td>\n",
       "      <td>Politik &amp; Pemerintahan</td>\n",
       "    </tr>\n",
       "    <tr>\n",
       "      <th>8</th>\n",
       "      <td>nasdem tepis denny rumor anies sangka jegal</td>\n",
       "      <td>Politik &amp; Pemerintahan</td>\n",
       "    </tr>\n",
       "    <tr>\n",
       "      <th>9</th>\n",
       "      <td>demokrat pamer lukis sby no justice no peace m...</td>\n",
       "      <td>Politik &amp; Pemerintahan</td>\n",
       "    </tr>\n",
       "  </tbody>\n",
       "</table>\n",
       "</div>"
      ],
      "text/plain": [
       "                                               Title      Klasifikasi Berita\n",
       "0     cak imin pasti pkb pks depan politik identitas  Politik & Pemerintahan\n",
       "1       masuk politik bangun mrt jakarta jamin jalan  Politik & Pemerintahan\n",
       "2  satire emil dardak tuduh joki gibran debat caw...  Politik & Pemerintahan\n",
       "3  wantiwanti jk perintah jokowi jatuh krisis pol...  Politik & Pemerintahan\n",
       "4  elite tkn poster kabinet indonesia emas prabow...  Politik & Pemerintahan\n",
       "5  ajak raffinagita lampung zulhasputri raya poli...  Politik & Pemerintahan\n",
       "6     tkn prabowo proporsional debat serang personal  Politik & Pemerintahan\n",
       "7  ksad tindak cepat prajurit tni langgar netrali...  Politik & Pemerintahan\n",
       "8        nasdem tepis denny rumor anies sangka jegal  Politik & Pemerintahan\n",
       "9  demokrat pamer lukis sby no justice no peace m...  Politik & Pemerintahan"
      ]
     },
     "execution_count": 17,
     "metadata": {},
     "output_type": "execute_result"
    }
   ],
   "source": [
    "# Membersihkan teks pada kolom 'Title'\n",
    "df_titlecombine['Title'] = df_titlecombine['Title'].apply(clean_text)\n",
    "df_titlecombine.head(10)"
   ]
  },
  {
   "cell_type": "code",
   "execution_count": 21,
   "metadata": {},
   "outputs": [],
   "source": [
    "df_titlecombine.to_csv(\"end_resultforpolitik.csv\", index=False)"
   ]
  },
  {
   "cell_type": "code",
   "execution_count": 18,
   "metadata": {},
   "outputs": [],
   "source": [
    "def label_encoding(dataframe, column_name):\n",
    "    # Define the categories for both conditions\n",
    "    categories_condition_1 = {'Non PP': 0, 'Politik & Pemerintahan': 1}\n",
    "    categories_condition_2 = {'Non Kesehatan': 0, 'Kesehatan': 1}\n",
    "    \n",
    "    # Determine the unique values in the column to decide which categories to use\n",
    "    unique_values = set(dataframe[column_name].unique())\n",
    "    \n",
    "    # Check the specific condition to select the appropriate categories\n",
    "    if unique_values.intersection(categories_condition_1.keys()):\n",
    "        categories = categories_condition_1\n",
    "    else:\n",
    "        categories = categories_condition_2\n",
    "    \n",
    "    # Apply the label encoding using the selected categories\n",
    "    dataframe[column_name] = dataframe[column_name].map(categories)\n",
    "    \n",
    "    # Initialize and fit the label encoder\n",
    "    label_encoder = LabelEncoder()\n",
    "    dataframe[column_name] = label_encoder.fit_transform(dataframe[column_name])\n",
    "    \n",
    "    return dataframe\n"
   ]
  },
  {
   "cell_type": "code",
   "execution_count": 19,
   "metadata": {},
   "outputs": [],
   "source": [
    "df_titlecombine = label_encoding(df_titlecombine, 'Klasifikasi Berita')"
   ]
  },
  {
   "cell_type": "code",
   "execution_count": 20,
   "metadata": {},
   "outputs": [
    {
     "data": {
      "text/plain": [
       "1    5448\n",
       "0    5447\n",
       "Name: Klasifikasi Berita, dtype: int64"
      ]
     },
     "execution_count": 20,
     "metadata": {},
     "output_type": "execute_result"
    }
   ],
   "source": [
    "df_titlecombine['Klasifikasi Berita'].value_counts()"
   ]
  },
  {
   "cell_type": "code",
   "execution_count": 34,
   "metadata": {},
   "outputs": [],
   "source": [
    "def vectorizer_data_ML(feature_var, target_var, train_output_path, test_output_path):\n",
    "    # Split data into train and test sets\n",
    "    X_train, X_test, y_train, y_test = train_test_split(feature_var, target_var, test_size=0.2, random_state=42)\n",
    "    \n",
    "    # Print sizes of train and test sets\n",
    "    print(f\"Train set size: {len(X_train)}\")\n",
    "    print(f\"Test set size: {len(X_test)}\")\n",
    "    \n",
    "    # Initialize the TF-IDF vectorizer\n",
    "    vectorizer = TfidfVectorizer(max_features=1000)\n",
    "    \n",
    "    # Fit and transform the train set, transform the test set\n",
    "    X_train_tfidf = vectorizer.fit_transform(X_train)\n",
    "    X_test_tfidf = vectorizer.transform(X_test)\n",
    "    \n",
    "    # Convert the results to dense arrays\n",
    "    X_train_tfidf_dense = X_train_tfidf.toarray()\n",
    "    X_test_tfidf_dense = X_test_tfidf.toarray()\n",
    "    \n",
    "    # Get feature names\n",
    "    feature_names = vectorizer.get_feature_names_out()\n",
    "    \n",
    "    # Function to create a sorted DataFrame of TF-IDF scores\n",
    "    def create_sorted_tfidf_df(tfidf_dense, feature_names):\n",
    "        tfidf_scores = np.sum(tfidf_dense, axis=0)\n",
    "        df_tfidf = pd.DataFrame({'kata': feature_names, 'skor': tfidf_scores})\n",
    "        df_tfidf_sorted = df_tfidf.sort_values(by='skor', ascending=False).reset_index(drop=True)\n",
    "        return df_tfidf_sorted\n",
    "    \n",
    "    # Create sorted DataFrames for train and test sets\n",
    "    df_train_tfidf_sorted = create_sorted_tfidf_df(X_train_tfidf_dense, feature_names)\n",
    "    df_test_tfidf_sorted = create_sorted_tfidf_df(X_test_tfidf_dense, feature_names)\n",
    "    \n",
    "    # Save DataFrames to CSV files\n",
    "    df_train_tfidf_sorted.to_csv(train_output_path, index=False)\n",
    "    df_test_tfidf_sorted.to_csv(test_output_path, index=False)\n",
    "    \n",
    "    # Print a confirmation message\n",
    "    print(f\"TF-IDF results saved to {train_output_path} and {test_output_path}\")\n",
    "\n",
    "    return X_train_tfidf, X_test_tfidf, X_train, X_test, y_train, y_test, vectorizer"
   ]
  },
  {
   "cell_type": "code",
   "execution_count": 35,
   "metadata": {},
   "outputs": [
    {
     "name": "stdout",
     "output_type": "stream",
     "text": [
      "Train set size: 8716\n",
      "Test set size: 2179\n",
      "TF-IDF results saved to train_PP_tfidf.csv and test_PP_tfidf.csv\n"
     ]
    }
   ],
   "source": [
    "X_train_tfidf, X_test_tfidf, X_train, X_test, y_train, y_test, vectorizer = vectorizer_data_ML(df_titlecombine['Title'],\n",
    "                                        df_titlecombine['Klasifikasi Berita'], \"train_PP_tfidf.csv\", \"test_PP_tfidf.csv\")"
   ]
  },
  {
   "cell_type": "markdown",
   "metadata": {},
   "source": [
    "### Train Model dengan data yang ada"
   ]
  },
  {
   "cell_type": "code",
   "execution_count": 72,
   "metadata": {},
   "outputs": [],
   "source": [
    "def modelling_process(X_train_tfidf, y_train, name_model):\n",
    "    # Define the models and their parameter grids\n",
    "    models = {\n",
    "        'Logistic Regression': {\n",
    "            'model': LogisticRegression(),\n",
    "            'params': {\n",
    "                'C': [0.1, 1, 10]\n",
    "            }\n",
    "        },\n",
    "        'Support Vector Machine': {\n",
    "            'model': SVC(kernel='linear'),\n",
    "            'params': {\n",
    "                'C': [0.1, 1, 10]\n",
    "            }\n",
    "        }\n",
    "    }\n",
    "\n",
    "    best_model = None\n",
    "    best_score = 0\n",
    "\n",
    "    for name, config in models.items():\n",
    "        print(f\"Evaluating {name}...\")\n",
    "        grid_search = GridSearchCV(config['model'], config['params'], cv=5, scoring='accuracy')\n",
    "        grid_search.fit(X_train_tfidf, y_train)\n",
    "        \n",
    "        best_params = grid_search.best_params_\n",
    "        best_model = grid_search.best_estimator_\n",
    "        y_pred = best_model.predict(X_test_tfidf)\n",
    "        accuracy = accuracy_score(y_test, y_pred)\n",
    "        \n",
    "        print(f\"Best parameters for {name}: {best_params}\")\n",
    "        print(f\"{name} Accuracy: {accuracy}\")\n",
    "        print(classification_report(y_test, y_pred))\n",
    "        print('\\n')\n",
    "\n",
    "        if accuracy > best_score:\n",
    "            best_score = accuracy\n",
    "            best_model = best_model\n",
    "\n",
    "    print(f\"Best Model: {best_model}\")\n",
    "    print(f\"Best Accuracy: {best_score}\")\n",
    "\n",
    "    # Save the best model to a file\n",
    "    pickle.dump(best_model, open(f'{name_model}.pkl', 'wb'))\n",
    "    print(f\"Best model saved as '{name_model}.pkl'\")"
   ]
  },
  {
   "cell_type": "code",
   "execution_count": 37,
   "metadata": {},
   "outputs": [
    {
     "name": "stdout",
     "output_type": "stream",
     "text": [
      "Evaluating Logistic Regression...\n",
      "Best parameters for Logistic Regression: {'C': 10}\n",
      "Logistic Regression Accuracy: 0.9807251032583754\n",
      "              precision    recall  f1-score   support\n",
      "\n",
      "           0       0.98      0.98      0.98      1057\n",
      "           1       0.98      0.98      0.98      1122\n",
      "\n",
      "    accuracy                           0.98      2179\n",
      "   macro avg       0.98      0.98      0.98      2179\n",
      "weighted avg       0.98      0.98      0.98      2179\n",
      "\n",
      "\n",
      "\n",
      "Evaluating Support Vector Machine...\n",
      "Best parameters for Support Vector Machine: {'C': 1}\n",
      "Support Vector Machine Accuracy: 0.9788893988067922\n",
      "              precision    recall  f1-score   support\n",
      "\n",
      "           0       0.98      0.98      0.98      1057\n",
      "           1       0.98      0.98      0.98      1122\n",
      "\n",
      "    accuracy                           0.98      2179\n",
      "   macro avg       0.98      0.98      0.98      2179\n",
      "weighted avg       0.98      0.98      0.98      2179\n",
      "\n",
      "\n",
      "\n",
      "Best Model: SVC(C=1, kernel='linear')\n",
      "Best Accuracy: 0.9807251032583754\n",
      "Best model saved as 'model_classification_politik.pkl'\n"
     ]
    }
   ],
   "source": [
    "modelling_process(X_train_tfidf, y_train, 'model_classification_politik')"
   ]
  },
  {
   "cell_type": "code",
   "execution_count": 73,
   "metadata": {},
   "outputs": [],
   "source": [
    "def save_model(vectorizer, name_vectorizer):\n",
    "    pickle.dump(vectorizer, open(f\"{name_vectorizer}.pkl\", \"wb\"))"
   ]
  },
  {
   "cell_type": "code",
   "execution_count": 39,
   "metadata": {},
   "outputs": [],
   "source": [
    "save_model(vectorizer, 'vectorizer_politik')"
   ]
  },
  {
   "cell_type": "markdown",
   "metadata": {},
   "source": [
    "### Cleaning Test Data"
   ]
  },
  {
   "cell_type": "code",
   "execution_count": 8,
   "metadata": {},
   "outputs": [
    {
     "name": "stderr",
     "output_type": "stream",
     "text": [
      "C:\\Users\\hardi\\AppData\\Local\\Temp\\ipykernel_13140\\1592305493.py:4: SettingWithCopyWarning: \n",
      "A value is trying to be set on a copy of a slice from a DataFrame.\n",
      "Try using .loc[row_indexer,col_indexer] = value instead\n",
      "\n",
      "See the caveats in the documentation: https://pandas.pydata.org/pandas-docs/stable/user_guide/indexing.html#returning-a-view-versus-a-copy\n",
      "  df_titletest['title'] = df_titletest['title'].str.replace(r'\\[.*?\\] ', '', regex=True)\n",
      "C:\\Users\\hardi\\AppData\\Local\\Temp\\ipykernel_13140\\1592305493.py:6: SettingWithCopyWarning: \n",
      "A value is trying to be set on a copy of a slice from a DataFrame.\n",
      "Try using .loc[row_indexer,col_indexer] = value instead\n",
      "\n",
      "See the caveats in the documentation: https://pandas.pydata.org/pandas-docs/stable/user_guide/indexing.html#returning-a-view-versus-a-copy\n",
      "  df_titletest['title'] = df_titletest['title'].astype(str)\n",
      "C:\\Users\\hardi\\AppData\\Local\\Temp\\ipykernel_13140\\1592305493.py:7: SettingWithCopyWarning: \n",
      "A value is trying to be set on a copy of a slice from a DataFrame.\n",
      "Try using .loc[row_indexer,col_indexer] = value instead\n",
      "\n",
      "See the caveats in the documentation: https://pandas.pydata.org/pandas-docs/stable/user_guide/indexing.html#returning-a-view-versus-a-copy\n",
      "  df_titletest['title'] = df_titletest['title'].apply(clean_text)\n"
     ]
    }
   ],
   "source": [
    "# df_testdata = pd.read_csv(r'../tbhoax_newdata.csv')\n",
    "\n",
    "# df_titletest = df_testdata[['title']]\n",
    "# df_titletest['title'] = df_titletest['title'].str.replace(r'\\[.*?\\] ', '', regex=True)\n",
    "\n",
    "# df_titletest['title'] = df_titletest['title'].astype(str)\n",
    "# df_titletest['title'] = df_titletest['title'].apply(clean_text)\n",
    "# df_titletest.to_csv('endresult_judul.csv', index=False)"
   ]
  },
  {
   "cell_type": "code",
   "execution_count": 71,
   "metadata": {},
   "outputs": [],
   "source": [
    "def load_model(filename_vectorizer, filename_model):\n",
    "    loaded_vectorizer = pickle.load(open(filename_vectorizer, \"rb\"))\n",
    "    loaded_model = pickle.load(open(filename_model, \"rb\"))\n",
    "\n",
    "    return loaded_vectorizer, loaded_model\n",
    "\n",
    "def result_test_data(name_file_vectorizer: str, name_file_model: str, name_label_0: str, name_label_1: str, name_column_predict: str,\n",
    "                     name_file_csv: str):\n",
    "    df_testdata = pd.read_csv(r'../tbhoax_newdata.csv')\n",
    "\n",
    "    df_titletest = df_testdata[['title']]\n",
    "    df_titletest['title'] = df_titletest['title'].str.replace(r'\\[.*?\\] ', '', regex=True)\n",
    "\n",
    "    df_titletest['title'] = df_titletest['title'].astype(str)\n",
    "    df_titletest['title'] = df_titletest['title'].apply(clean_text)\n",
    "\n",
    "    loaded_vectorizer, loaded_model = load_model(name_file_vectorizer, name_file_model)\n",
    "\n",
    "    transformedtest_data = loaded_vectorizer.transform(df_titletest['title'])\n",
    "\n",
    "    test_predictions = loaded_model.predict(transformedtest_data)\n",
    "    print(test_predictions)\n",
    "\n",
    "    label_map_reverse = {1: name_label_1, 0: name_label_0}\n",
    "    predictions_labels = [label_map_reverse[pred] for pred in test_predictions]\n",
    "\n",
    "    df_testdata[name_column_predict] = predictions_labels\n",
    "\n",
    "    print(df_testdata[name_column_predict].value_counts())\n",
    "    df_testdata = df_testdata[df_testdata[name_column_predict] == name_label_1]\n",
    "    print(df_testdata.shape)\n",
    "\n",
    "    return df_testdata.to_csv(name_file_csv, index=False)\n"
   ]
  },
  {
   "cell_type": "code",
   "execution_count": 41,
   "metadata": {},
   "outputs": [
    {
     "name": "stderr",
     "output_type": "stream",
     "text": [
      "C:\\Users\\hardi\\AppData\\Local\\Temp\\ipykernel_18176\\2961557282.py:12: SettingWithCopyWarning: \n",
      "A value is trying to be set on a copy of a slice from a DataFrame.\n",
      "Try using .loc[row_indexer,col_indexer] = value instead\n",
      "\n",
      "See the caveats in the documentation: https://pandas.pydata.org/pandas-docs/stable/user_guide/indexing.html#returning-a-view-versus-a-copy\n",
      "  df_titletest['title'] = df_titletest['title'].str.replace(r'\\[.*?\\] ', '', regex=True)\n",
      "C:\\Users\\hardi\\AppData\\Local\\Temp\\ipykernel_18176\\2961557282.py:14: SettingWithCopyWarning: \n",
      "A value is trying to be set on a copy of a slice from a DataFrame.\n",
      "Try using .loc[row_indexer,col_indexer] = value instead\n",
      "\n",
      "See the caveats in the documentation: https://pandas.pydata.org/pandas-docs/stable/user_guide/indexing.html#returning-a-view-versus-a-copy\n",
      "  df_titletest['title'] = df_titletest['title'].astype(str)\n",
      "C:\\Users\\hardi\\AppData\\Local\\Temp\\ipykernel_18176\\2961557282.py:15: SettingWithCopyWarning: \n",
      "A value is trying to be set on a copy of a slice from a DataFrame.\n",
      "Try using .loc[row_indexer,col_indexer] = value instead\n",
      "\n",
      "See the caveats in the documentation: https://pandas.pydata.org/pandas-docs/stable/user_guide/indexing.html#returning-a-view-versus-a-copy\n",
      "  df_titletest['title'] = df_titletest['title'].apply(clean_text)\n"
     ]
    },
    {
     "name": "stdout",
     "output_type": "stream",
     "text": [
      "[0 0 1 ... 0 1 1]\n",
      "Politik & Pemerintahan    9851\n",
      "Non PP                    2868\n",
      "Name: Predict_PP, dtype: int64\n",
      "(9851, 10)\n"
     ]
    }
   ],
   "source": [
    "result_test_data('vectorizer_politik.pkl', 'model_classification_politik.pkl', 'Non PP', 'Politik & Pemerintahan', 'Predict_PP', 'filteredPP.csv')"
   ]
  },
  {
   "cell_type": "markdown",
   "metadata": {},
   "source": [
    "#### Sama, tapi untuk topik kesehatan"
   ]
  },
  {
   "cell_type": "code",
   "execution_count": 54,
   "metadata": {},
   "outputs": [
    {
     "data": {
      "text/html": [
       "<div>\n",
       "<style scoped>\n",
       "    .dataframe tbody tr th:only-of-type {\n",
       "        vertical-align: middle;\n",
       "    }\n",
       "\n",
       "    .dataframe tbody tr th {\n",
       "        vertical-align: top;\n",
       "    }\n",
       "\n",
       "    .dataframe thead th {\n",
       "        text-align: right;\n",
       "    }\n",
       "</style>\n",
       "<table border=\"1\" class=\"dataframe\">\n",
       "  <thead>\n",
       "    <tr style=\"text-align: right;\">\n",
       "      <th></th>\n",
       "      <th>Title</th>\n",
       "      <th>Klasifikasi Berita</th>\n",
       "    </tr>\n",
       "  </thead>\n",
       "  <tbody>\n",
       "    <tr>\n",
       "      <th>0</th>\n",
       "      <td>7 Manfaat Brem Madiun Bagi Kesehatan Tubuh</td>\n",
       "      <td>Non-Hoax</td>\n",
       "    </tr>\n",
       "    <tr>\n",
       "      <th>1</th>\n",
       "      <td>Tata Cara dan Syarat Pindah Faskes BPJS Kesehatan</td>\n",
       "      <td>Non-Hoax</td>\n",
       "    </tr>\n",
       "    <tr>\n",
       "      <th>2</th>\n",
       "      <td>7 Manfaat Ikan Patin untuk Kesehatan, Salah Sa...</td>\n",
       "      <td>Non-Hoax</td>\n",
       "    </tr>\n",
       "    <tr>\n",
       "      <th>3</th>\n",
       "      <td>Berapa Kali BPJS Kesehatan Dapat Digunakan dal...</td>\n",
       "      <td>Non-Hoax</td>\n",
       "    </tr>\n",
       "    <tr>\n",
       "      <th>4</th>\n",
       "      <td>3 Warga yang Pakai Air dari Toren Berisi Mayat...</td>\n",
       "      <td>Non-Hoax</td>\n",
       "    </tr>\n",
       "  </tbody>\n",
       "</table>\n",
       "</div>"
      ],
      "text/plain": [
       "                                               Title Klasifikasi Berita\n",
       "0         7 Manfaat Brem Madiun Bagi Kesehatan Tubuh           Non-Hoax\n",
       "1  Tata Cara dan Syarat Pindah Faskes BPJS Kesehatan           Non-Hoax\n",
       "2  7 Manfaat Ikan Patin untuk Kesehatan, Salah Sa...           Non-Hoax\n",
       "3  Berapa Kali BPJS Kesehatan Dapat Digunakan dal...           Non-Hoax\n",
       "4  3 Warga yang Pakai Air dari Toren Berisi Mayat...           Non-Hoax"
      ]
     },
     "execution_count": 54,
     "metadata": {},
     "output_type": "execute_result"
    }
   ],
   "source": [
    "df_detik_kesehatan = pd.read_csv(r'../detik_kesehatan.csv')\n",
    "df_detik_kesehatan = df_detik_kesehatan.drop(columns=['Link', 'Time', 'Narasi'])\n",
    "df_detik_kesehatan.head()"
   ]
  },
  {
   "cell_type": "code",
   "execution_count": 55,
   "metadata": {},
   "outputs": [
    {
     "data": {
      "text/html": [
       "<div>\n",
       "<style scoped>\n",
       "    .dataframe tbody tr th:only-of-type {\n",
       "        vertical-align: middle;\n",
       "    }\n",
       "\n",
       "    .dataframe tbody tr th {\n",
       "        vertical-align: top;\n",
       "    }\n",
       "\n",
       "    .dataframe thead th {\n",
       "        text-align: right;\n",
       "    }\n",
       "</style>\n",
       "<table border=\"1\" class=\"dataframe\">\n",
       "  <thead>\n",
       "    <tr style=\"text-align: right;\">\n",
       "      <th></th>\n",
       "      <th>Title</th>\n",
       "      <th>Klasifikasi Berita</th>\n",
       "    </tr>\n",
       "  </thead>\n",
       "  <tbody>\n",
       "    <tr>\n",
       "      <th>0</th>\n",
       "      <td>7 Manfaat Brem Madiun Bagi Kesehatan Tubuh</td>\n",
       "      <td>Kesehatan</td>\n",
       "    </tr>\n",
       "    <tr>\n",
       "      <th>1</th>\n",
       "      <td>Tata Cara dan Syarat Pindah Faskes BPJS Kesehatan</td>\n",
       "      <td>Kesehatan</td>\n",
       "    </tr>\n",
       "    <tr>\n",
       "      <th>2</th>\n",
       "      <td>7 Manfaat Ikan Patin untuk Kesehatan, Salah Sa...</td>\n",
       "      <td>Kesehatan</td>\n",
       "    </tr>\n",
       "    <tr>\n",
       "      <th>3</th>\n",
       "      <td>Berapa Kali BPJS Kesehatan Dapat Digunakan dal...</td>\n",
       "      <td>Kesehatan</td>\n",
       "    </tr>\n",
       "    <tr>\n",
       "      <th>4</th>\n",
       "      <td>3 Warga yang Pakai Air dari Toren Berisi Mayat...</td>\n",
       "      <td>Kesehatan</td>\n",
       "    </tr>\n",
       "  </tbody>\n",
       "</table>\n",
       "</div>"
      ],
      "text/plain": [
       "                                               Title Klasifikasi Berita\n",
       "0         7 Manfaat Brem Madiun Bagi Kesehatan Tubuh          Kesehatan\n",
       "1  Tata Cara dan Syarat Pindah Faskes BPJS Kesehatan          Kesehatan\n",
       "2  7 Manfaat Ikan Patin untuk Kesehatan, Salah Sa...          Kesehatan\n",
       "3  Berapa Kali BPJS Kesehatan Dapat Digunakan dal...          Kesehatan\n",
       "4  3 Warga yang Pakai Air dari Toren Berisi Mayat...          Kesehatan"
      ]
     },
     "execution_count": 55,
     "metadata": {},
     "output_type": "execute_result"
    }
   ],
   "source": [
    "df_detik_kesehatan['Klasifikasi Berita'] = 'Kesehatan'\n",
    "df_detik_kesehatan.head()"
   ]
  },
  {
   "cell_type": "code",
   "execution_count": 56,
   "metadata": {},
   "outputs": [
    {
     "data": {
      "text/plain": [
       "(6135, 2)"
      ]
     },
     "execution_count": 56,
     "metadata": {},
     "output_type": "execute_result"
    }
   ],
   "source": [
    "df_detik_kesehatan.shape"
   ]
  },
  {
   "cell_type": "code",
   "execution_count": 57,
   "metadata": {},
   "outputs": [],
   "source": [
    "df_detik_kesehatan = df_detik_kesehatan.drop_duplicates()"
   ]
  },
  {
   "cell_type": "code",
   "execution_count": 58,
   "metadata": {},
   "outputs": [
    {
     "data": {
      "text/plain": [
       "(5447, 2)"
      ]
     },
     "execution_count": 58,
     "metadata": {},
     "output_type": "execute_result"
    }
   ],
   "source": [
    "df_detik_kesehatan.shape"
   ]
  },
  {
   "cell_type": "code",
   "execution_count": 59,
   "metadata": {},
   "outputs": [
    {
     "name": "stdout",
     "output_type": "stream",
     "text": [
      "(2766, 5)\n",
      "(2682, 5)\n"
     ]
    }
   ],
   "source": [
    "df_politik_non_kesehatan = df_politik\n",
    "print(df_politik_non_kesehatan.shape)\n",
    "\n",
    "df_pemerintahan_non_kesehatan = df_pemerintahan\n",
    "print(df_pemerintahan_non_kesehatan.shape)"
   ]
  },
  {
   "cell_type": "code",
   "execution_count": 60,
   "metadata": {},
   "outputs": [],
   "source": [
    "df_nonkesehatan = pd.concat([df_pemerintahan_non_kesehatan, df_politik_non_kesehatan])\n",
    "df_nonkesehatan['Klasifikasi Berita'] = 'Non Kesehatan'"
   ]
  },
  {
   "cell_type": "code",
   "execution_count": 61,
   "metadata": {},
   "outputs": [],
   "source": [
    "df_nonkesehatan = df_nonkesehatan.drop(columns=['Link', 'Time', 'Narasi'])"
   ]
  },
  {
   "cell_type": "code",
   "execution_count": 62,
   "metadata": {},
   "outputs": [
    {
     "data": {
      "text/html": [
       "<div>\n",
       "<style scoped>\n",
       "    .dataframe tbody tr th:only-of-type {\n",
       "        vertical-align: middle;\n",
       "    }\n",
       "\n",
       "    .dataframe tbody tr th {\n",
       "        vertical-align: top;\n",
       "    }\n",
       "\n",
       "    .dataframe thead th {\n",
       "        text-align: right;\n",
       "    }\n",
       "</style>\n",
       "<table border=\"1\" class=\"dataframe\">\n",
       "  <thead>\n",
       "    <tr style=\"text-align: right;\">\n",
       "      <th></th>\n",
       "      <th>Title</th>\n",
       "      <th>Klasifikasi Berita</th>\n",
       "    </tr>\n",
       "  </thead>\n",
       "  <tbody>\n",
       "    <tr>\n",
       "      <th>2570</th>\n",
       "      <td>Di Sidang MK, Menko PMK Jelaskan Bansos Tak Di...</td>\n",
       "      <td>Non Kesehatan</td>\n",
       "    </tr>\n",
       "    <tr>\n",
       "      <th>3139</th>\n",
       "      <td>Sandiaga Bahagia AHY Jadi Menteri di Kabinet J...</td>\n",
       "      <td>Non Kesehatan</td>\n",
       "    </tr>\n",
       "    <tr>\n",
       "      <th>7139</th>\n",
       "      <td>Rakyat Puas, PDI Perjuangan Terpilih Teratas</td>\n",
       "      <td>Non Kesehatan</td>\n",
       "    </tr>\n",
       "    <tr>\n",
       "      <th>3787</th>\n",
       "      <td>Sempat Diprediksi Turun, Okupansi Hotel di Med...</td>\n",
       "      <td>Non Kesehatan</td>\n",
       "    </tr>\n",
       "    <tr>\n",
       "      <th>7788</th>\n",
       "      <td>Putra Mahkota Saudi-Presiden Iran Teleponan, B...</td>\n",
       "      <td>Non Kesehatan</td>\n",
       "    </tr>\n",
       "  </tbody>\n",
       "</table>\n",
       "</div>"
      ],
      "text/plain": [
       "                                                  Title Klasifikasi Berita\n",
       "2570  Di Sidang MK, Menko PMK Jelaskan Bansos Tak Di...      Non Kesehatan\n",
       "3139  Sandiaga Bahagia AHY Jadi Menteri di Kabinet J...      Non Kesehatan\n",
       "7139       Rakyat Puas, PDI Perjuangan Terpilih Teratas      Non Kesehatan\n",
       "3787  Sempat Diprediksi Turun, Okupansi Hotel di Med...      Non Kesehatan\n",
       "7788  Putra Mahkota Saudi-Presiden Iran Teleponan, B...      Non Kesehatan"
      ]
     },
     "execution_count": 62,
     "metadata": {},
     "output_type": "execute_result"
    }
   ],
   "source": [
    "df_nonkesehatan.head()"
   ]
  },
  {
   "cell_type": "code",
   "execution_count": 63,
   "metadata": {},
   "outputs": [
    {
     "data": {
      "text/html": [
       "<div>\n",
       "<style scoped>\n",
       "    .dataframe tbody tr th:only-of-type {\n",
       "        vertical-align: middle;\n",
       "    }\n",
       "\n",
       "    .dataframe tbody tr th {\n",
       "        vertical-align: top;\n",
       "    }\n",
       "\n",
       "    .dataframe thead th {\n",
       "        text-align: right;\n",
       "    }\n",
       "</style>\n",
       "<table border=\"1\" class=\"dataframe\">\n",
       "  <thead>\n",
       "    <tr style=\"text-align: right;\">\n",
       "      <th></th>\n",
       "      <th>Title</th>\n",
       "      <th>Klasifikasi Berita</th>\n",
       "    </tr>\n",
       "  </thead>\n",
       "  <tbody>\n",
       "    <tr>\n",
       "      <th>0</th>\n",
       "      <td>7 Manfaat Brem Madiun Bagi Kesehatan Tubuh</td>\n",
       "      <td>Kesehatan</td>\n",
       "    </tr>\n",
       "    <tr>\n",
       "      <th>1</th>\n",
       "      <td>Tata Cara dan Syarat Pindah Faskes BPJS Kesehatan</td>\n",
       "      <td>Kesehatan</td>\n",
       "    </tr>\n",
       "    <tr>\n",
       "      <th>2</th>\n",
       "      <td>7 Manfaat Ikan Patin untuk Kesehatan, Salah Sa...</td>\n",
       "      <td>Kesehatan</td>\n",
       "    </tr>\n",
       "    <tr>\n",
       "      <th>3</th>\n",
       "      <td>Berapa Kali BPJS Kesehatan Dapat Digunakan dal...</td>\n",
       "      <td>Kesehatan</td>\n",
       "    </tr>\n",
       "    <tr>\n",
       "      <th>4</th>\n",
       "      <td>3 Warga yang Pakai Air dari Toren Berisi Mayat...</td>\n",
       "      <td>Kesehatan</td>\n",
       "    </tr>\n",
       "  </tbody>\n",
       "</table>\n",
       "</div>"
      ],
      "text/plain": [
       "                                               Title Klasifikasi Berita\n",
       "0         7 Manfaat Brem Madiun Bagi Kesehatan Tubuh          Kesehatan\n",
       "1  Tata Cara dan Syarat Pindah Faskes BPJS Kesehatan          Kesehatan\n",
       "2  7 Manfaat Ikan Patin untuk Kesehatan, Salah Sa...          Kesehatan\n",
       "3  Berapa Kali BPJS Kesehatan Dapat Digunakan dal...          Kesehatan\n",
       "4  3 Warga yang Pakai Air dari Toren Berisi Mayat...          Kesehatan"
      ]
     },
     "execution_count": 63,
     "metadata": {},
     "output_type": "execute_result"
    }
   ],
   "source": [
    "df_combine = pd.concat([df_detik_kesehatan, df_nonkesehatan], ignore_index=True)\n",
    "df_combine['Title'] = df_combine['Title'].astype(str)\n",
    "df_combine.head()"
   ]
  },
  {
   "cell_type": "code",
   "execution_count": 64,
   "metadata": {},
   "outputs": [
    {
     "data": {
      "text/plain": [
       "Non Kesehatan    5448\n",
       "Kesehatan        5447\n",
       "Name: Klasifikasi Berita, dtype: int64"
      ]
     },
     "execution_count": 64,
     "metadata": {},
     "output_type": "execute_result"
    }
   ],
   "source": [
    "df_combine['Klasifikasi Berita'].value_counts()"
   ]
  },
  {
   "cell_type": "code",
   "execution_count": 65,
   "metadata": {},
   "outputs": [
    {
     "data": {
      "text/html": [
       "<div>\n",
       "<style scoped>\n",
       "    .dataframe tbody tr th:only-of-type {\n",
       "        vertical-align: middle;\n",
       "    }\n",
       "\n",
       "    .dataframe tbody tr th {\n",
       "        vertical-align: top;\n",
       "    }\n",
       "\n",
       "    .dataframe thead th {\n",
       "        text-align: right;\n",
       "    }\n",
       "</style>\n",
       "<table border=\"1\" class=\"dataframe\">\n",
       "  <thead>\n",
       "    <tr style=\"text-align: right;\">\n",
       "      <th></th>\n",
       "      <th>Title</th>\n",
       "      <th>Klasifikasi Berita</th>\n",
       "    </tr>\n",
       "  </thead>\n",
       "  <tbody>\n",
       "    <tr>\n",
       "      <th>0</th>\n",
       "      <td>7 Manfaat Brem Madiun Bagi Kesehatan Tubuh</td>\n",
       "      <td>1</td>\n",
       "    </tr>\n",
       "    <tr>\n",
       "      <th>1</th>\n",
       "      <td>Tata Cara dan Syarat Pindah Faskes BPJS Kesehatan</td>\n",
       "      <td>1</td>\n",
       "    </tr>\n",
       "    <tr>\n",
       "      <th>2</th>\n",
       "      <td>7 Manfaat Ikan Patin untuk Kesehatan, Salah Sa...</td>\n",
       "      <td>1</td>\n",
       "    </tr>\n",
       "    <tr>\n",
       "      <th>3</th>\n",
       "      <td>Berapa Kali BPJS Kesehatan Dapat Digunakan dal...</td>\n",
       "      <td>1</td>\n",
       "    </tr>\n",
       "    <tr>\n",
       "      <th>4</th>\n",
       "      <td>3 Warga yang Pakai Air dari Toren Berisi Mayat...</td>\n",
       "      <td>1</td>\n",
       "    </tr>\n",
       "  </tbody>\n",
       "</table>\n",
       "</div>"
      ],
      "text/plain": [
       "                                               Title  Klasifikasi Berita\n",
       "0         7 Manfaat Brem Madiun Bagi Kesehatan Tubuh                   1\n",
       "1  Tata Cara dan Syarat Pindah Faskes BPJS Kesehatan                   1\n",
       "2  7 Manfaat Ikan Patin untuk Kesehatan, Salah Sa...                   1\n",
       "3  Berapa Kali BPJS Kesehatan Dapat Digunakan dal...                   1\n",
       "4  3 Warga yang Pakai Air dari Toren Berisi Mayat...                   1"
      ]
     },
     "execution_count": 65,
     "metadata": {},
     "output_type": "execute_result"
    }
   ],
   "source": [
    "df_combine = label_encoding(df_combine, 'Klasifikasi Berita')\n",
    "df_combine.head()"
   ]
  },
  {
   "cell_type": "code",
   "execution_count": 66,
   "metadata": {},
   "outputs": [
    {
     "data": {
      "text/plain": [
       "0    5448\n",
       "1    5447\n",
       "Name: Klasifikasi Berita, dtype: int64"
      ]
     },
     "execution_count": 66,
     "metadata": {},
     "output_type": "execute_result"
    }
   ],
   "source": [
    "df_combine['Klasifikasi Berita'].value_counts()"
   ]
  },
  {
   "cell_type": "code",
   "execution_count": 67,
   "metadata": {},
   "outputs": [],
   "source": [
    "df_combine['Title'] = df_combine['Title'].astype(str)\n",
    "df_combine['Title'] = df_combine['Title'].apply(clean_text)"
   ]
  },
  {
   "cell_type": "code",
   "execution_count": 74,
   "metadata": {},
   "outputs": [
    {
     "name": "stdout",
     "output_type": "stream",
     "text": [
      "Train set size: 8716\n",
      "Test set size: 2179\n",
      "TF-IDF results saved to train_Kesehatan_tfidf.csv and test_Kesehatan_tfidf.csv\n"
     ]
    }
   ],
   "source": [
    "X_train_tfidf, X_test_tfidf, X_train, X_test, y_train, y_test, vectorizer = vectorizer_data_ML(df_combine['Title'], df_combine['Klasifikasi Berita'], \"train_Kesehatan_tfidf.csv\", \"test_Kesehatan_tfidf.csv\")"
   ]
  },
  {
   "cell_type": "code",
   "execution_count": 75,
   "metadata": {},
   "outputs": [
    {
     "name": "stdout",
     "output_type": "stream",
     "text": [
      "Evaluating Logistic Regression...\n",
      "Best parameters for Logistic Regression: {'C': 1}\n",
      "Logistic Regression Accuracy: 0.9784304726938963\n",
      "              precision    recall  f1-score   support\n",
      "\n",
      "           0       0.98      0.98      0.98      1057\n",
      "           1       0.98      0.98      0.98      1122\n",
      "\n",
      "    accuracy                           0.98      2179\n",
      "   macro avg       0.98      0.98      0.98      2179\n",
      "weighted avg       0.98      0.98      0.98      2179\n",
      "\n",
      "\n",
      "\n",
      "Evaluating Support Vector Machine...\n",
      "Best parameters for Support Vector Machine: {'C': 1}\n",
      "Support Vector Machine Accuracy: 0.9775126204681046\n",
      "              precision    recall  f1-score   support\n",
      "\n",
      "           0       0.98      0.98      0.98      1057\n",
      "           1       0.98      0.98      0.98      1122\n",
      "\n",
      "    accuracy                           0.98      2179\n",
      "   macro avg       0.98      0.98      0.98      2179\n",
      "weighted avg       0.98      0.98      0.98      2179\n",
      "\n",
      "\n",
      "\n",
      "Best Model: SVC(C=1, kernel='linear')\n",
      "Best Accuracy: 0.9784304726938963\n",
      "Best model saved as 'model_classification_kesehatan.pkl'\n"
     ]
    }
   ],
   "source": [
    "modelling_process(X_train_tfidf, y_train, 'model_classification_kesehatan')"
   ]
  },
  {
   "cell_type": "code",
   "execution_count": 76,
   "metadata": {},
   "outputs": [],
   "source": [
    "save_model(vectorizer, 'vectorizer_kesehatan')"
   ]
  },
  {
   "cell_type": "code",
   "execution_count": 77,
   "metadata": {},
   "outputs": [
    {
     "name": "stderr",
     "output_type": "stream",
     "text": [
      "C:\\Users\\hardi\\AppData\\Local\\Temp\\ipykernel_13140\\2961557282.py:12: SettingWithCopyWarning: \n",
      "A value is trying to be set on a copy of a slice from a DataFrame.\n",
      "Try using .loc[row_indexer,col_indexer] = value instead\n",
      "\n",
      "See the caveats in the documentation: https://pandas.pydata.org/pandas-docs/stable/user_guide/indexing.html#returning-a-view-versus-a-copy\n",
      "  df_titletest['title'] = df_titletest['title'].str.replace(r'\\[.*?\\] ', '', regex=True)\n",
      "C:\\Users\\hardi\\AppData\\Local\\Temp\\ipykernel_13140\\2961557282.py:14: SettingWithCopyWarning: \n",
      "A value is trying to be set on a copy of a slice from a DataFrame.\n",
      "Try using .loc[row_indexer,col_indexer] = value instead\n",
      "\n",
      "See the caveats in the documentation: https://pandas.pydata.org/pandas-docs/stable/user_guide/indexing.html#returning-a-view-versus-a-copy\n",
      "  df_titletest['title'] = df_titletest['title'].astype(str)\n",
      "C:\\Users\\hardi\\AppData\\Local\\Temp\\ipykernel_13140\\2961557282.py:15: SettingWithCopyWarning: \n",
      "A value is trying to be set on a copy of a slice from a DataFrame.\n",
      "Try using .loc[row_indexer,col_indexer] = value instead\n",
      "\n",
      "See the caveats in the documentation: https://pandas.pydata.org/pandas-docs/stable/user_guide/indexing.html#returning-a-view-versus-a-copy\n",
      "  df_titletest['title'] = df_titletest['title'].apply(clean_text)\n"
     ]
    },
    {
     "name": "stdout",
     "output_type": "stream",
     "text": [
      "[1 1 1 ... 1 0 0]\n",
      "Non Kesehatan    9887\n",
      "Kesehatan        2832\n",
      "Name: Predict_Kesehatan, dtype: int64\n",
      "(2832, 10)\n"
     ]
    }
   ],
   "source": [
    "result_test_data('vectorizer_kesehatan.pkl', 'model_classification_kesehatan.pkl', 'Non Kesehatan', 'Kesehatan', 'Predict_Kesehatan', 'filteredKesehatan.csv')"
   ]
  }
 ],
 "metadata": {
  "kernelspec": {
   "display_name": "Python 3",
   "language": "python",
   "name": "python3"
  },
  "language_info": {
   "codemirror_mode": {
    "name": "ipython",
    "version": 3
   },
   "file_extension": ".py",
   "mimetype": "text/x-python",
   "name": "python",
   "nbconvert_exporter": "python",
   "pygments_lexer": "ipython3",
   "version": "3.11.2"
  }
 },
 "nbformat": 4,
 "nbformat_minor": 2
}
